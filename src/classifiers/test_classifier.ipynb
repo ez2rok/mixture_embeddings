{
 "cells": [
  {
   "cell_type": "code",
   "execution_count": 1,
   "metadata": {},
   "outputs": [],
   "source": [
    "%load_ext autoreload\n",
    "%autoreload 2"
   ]
  },
  {
   "cell_type": "code",
   "execution_count": 34,
   "metadata": {},
   "outputs": [],
   "source": [
    "import pandas as pd\n",
    "\n",
    "from tqdm import tqdm\n",
    "\n",
    "from geomstats.learning.preprocessing import ToTangentSpace\n",
    "from geomstats.geometry.hyperbolic import Hyperbolic\n",
    "\n",
    "from sklearn.manifold import MDS\n",
    "from sklearn.ensemble import RandomForestClassifier, RandomForestRegressor\n",
    "from sklearn.metrics import f1_score, mean_squared_error\n",
    "from sklearn.preprocessing import LabelEncoder\n",
    "from sklearn.model_selection import RepeatedKFold, RepeatedStratifiedKFold\n",
    "from sklearn.dummy import DummyClassifier, DummyRegressor\n",
    "\n",
    "import plotly.express as px\n",
    "import plotly.graph_objects as go\n",
    "\n",
    "# local files\n",
    "from src.util.data_handling.data_loader import load_dataset\n",
    "from src.classifiers.mlp import MLP\n",
    "\n",
    "from icecream import ic"
   ]
  },
  {
   "cell_type": "code",
   "execution_count": 3,
   "metadata": {},
   "outputs": [],
   "source": [
    "# supress pandas warning\n",
    "# Source: https://stackoverflow.com/questions/20625582/how-to-deal-with-settingwithcopywarning-in-pandas\n",
    "pd.options.mode.chained_assignment = None"
   ]
  },
  {
   "cell_type": "code",
   "execution_count": 4,
   "metadata": {},
   "outputs": [],
   "source": [
    "seed = 43"
   ]
  },
  {
   "attachments": {},
   "cell_type": "markdown",
   "metadata": {},
   "source": [
    "# Load Data"
   ]
  },
  {
   "cell_type": "code",
   "execution_count": 5,
   "metadata": {},
   "outputs": [],
   "source": [
    "data_name = 'ibd'\n",
    "euclidean_embeddings_path = '../../data/processed/mixture_embeddings/{}/cnn_euclidean_128_mixture_embeddings.pickle'.format(data_name)\n",
    "hyperbolic_embeddings_path = '../../data/processed/mixture_embeddings/{}/cnn_hyperbolic_128_mixture_embeddings.pickle'.format(data_name)\n",
    "raw_path = '../../data/interim/ihmp/{}_data.pickle'.format(data_name)\n",
    "metadata_path = '../../data/interim/ihmp/{}_metadata.pickle'.format(data_name)"
   ]
  },
  {
   "cell_type": "code",
   "execution_count": 6,
   "metadata": {},
   "outputs": [],
   "source": [
    "metadata = load_dataset(metadata_path)"
   ]
  },
  {
   "cell_type": "code",
   "execution_count": 7,
   "metadata": {},
   "outputs": [],
   "source": [
    "X_euclidean = load_dataset(euclidean_embeddings_path).astype('float32')\n",
    "X_hyperbolic = load_dataset(hyperbolic_embeddings_path).astype('float32')\n",
    "\n",
    "# X_tangent is data in Euclidean plane tangent to hyperbolic manifold\n",
    "embedding_size = X_hyperbolic.shape[1]\n",
    "hyperbolic = Hyperbolic(dim=embedding_size, default_coords_type='ball') # why do we have the -1 here?\n",
    "to_tangent = ToTangentSpace(geometry=hyperbolic, method='adaptive', epsilon=1e-3)\n",
    "to_tangent.fit(X_hyperbolic)\n",
    "X_tangent = to_tangent.transform(X_hyperbolic).astype('float32')\n",
    "\n",
    "# Multidimensional scaling on X_raw\n",
    "X_raw = load_dataset(raw_path).values\n",
    "dim_red = MDS(n_components=embedding_size, random_state=seed, normalized_stress='auto')\n",
    "X_raw = dim_red.fit_transform(X_raw)\n",
    "X_raw = X_raw.astype('float32')\n",
    "\n",
    "space_to_data = {\n",
    "    'raw': X_raw,\n",
    "    'euclidean': X_euclidean,\n",
    "    'hyperbolic': X_hyperbolic,\n",
    "    'tangent': X_tangent\n",
    "}"
   ]
  },
  {
   "attachments": {},
   "cell_type": "markdown",
   "metadata": {},
   "source": [
    "# Predict"
   ]
  },
  {
   "cell_type": "code",
   "execution_count": 8,
   "metadata": {},
   "outputs": [],
   "source": [
    "def my_f1_score(y_true, y_pred):\n",
    "    return f1_score(y_true, y_pred, average='macro')"
   ]
  },
  {
   "cell_type": "code",
   "execution_count": 35,
   "metadata": {},
   "outputs": [],
   "source": [
    "feature_to_task = {\n",
    "    'diagnosis': 'clf',\n",
    "    'site_name': 'clf',\n",
    "    'sex': 'clf'\n",
    "    }\n",
    "\n",
    "task_to_models = {\n",
    "    'clf': {'rf': RandomForestClassifier(random_state=seed), 'dummy': DummyClassifier()}, # 'mlp': MLP(duration='100ep'), \n",
    "    'reg': {'rf': RandomForestRegressor(random_state=seed), 'dummy': DummyRegressor()}\n",
    "}\n",
    "\n",
    "task_to_metrics = {\n",
    "    'clf': {'f1': my_f1_score},\n",
    "    'ref': {'mse': mean_squared_error}\n",
    "}"
   ]
  },
  {
   "cell_type": "code",
   "execution_count": 36,
   "metadata": {},
   "outputs": [
    {
     "name": "stderr",
     "output_type": "stream",
     "text": [
      "Predict diagnosis: 100%|██████████| 4/4 [00:15<00:00,  3.78s/it]\n",
      "Predict site_name: 100%|██████████| 4/4 [00:15<00:00,  3.86s/it]\n",
      "Predict sex: 100%|██████████| 4/4 [00:15<00:00,  3.77s/it]\n"
     ]
    }
   ],
   "source": [
    "results = []\n",
    "n_splits = 5\n",
    "n_repeats = 5\n",
    "\n",
    "for feature, task in feature_to_task.items():\n",
    "    for space, X in tqdm(space_to_data.items(), desc='Predict {}'.format(feature)):\n",
    "        y = metadata[feature].to_numpy()\n",
    "        \n",
    "        if feature == 'diagnosis':\n",
    "            mask = metadata[feature] == 'nonIBD'\n",
    "            y = y[~mask]\n",
    "            X = X[~mask]\n",
    "                        \n",
    "        if task == 'clf':\n",
    "            encoder = LabelEncoder()\n",
    "            y = encoder.fit_transform(y)\n",
    "            \n",
    "        model_name_to_model = task_to_models[task]\n",
    "        metric_name_to_metric = task_to_metrics[task]\n",
    "            \n",
    "        # split the data\n",
    "        if task == 'clf':\n",
    "            folds = RepeatedStratifiedKFold(n_splits=n_splits, n_repeats=n_repeats, random_state=seed)\n",
    "        else:\n",
    "            folds = RepeatedKFold(n_splits=n_splits, n_repeats=n_repeats, random_state=seed)\n",
    "            \n",
    "        # loop over splits\n",
    "        for split_idx, (train_idx, test_idx) in enumerate(folds.split(X, y)):\n",
    "            X_train, X_test, y_train, y_test = X[train_idx], X[test_idx], y[train_idx], y[test_idx]\n",
    "            \n",
    "            # loop over models\n",
    "            for model_name, model in model_name_to_model.items():\n",
    "                \n",
    "                # fit model and predict\n",
    "                model.fit(X_train, y_train)\n",
    "                y_pred = model.predict(X_test)\n",
    "                \n",
    "                # measure and save metrics\n",
    "                scores = {metric_name: metric(y_test, y_pred) for metric_name, metric in metric_name_to_metric.items()}\n",
    "                results.append({\n",
    "                    'feature': feature,\n",
    "                    'task': task,\n",
    "                    'space': space,\n",
    "                    'model': model_name,\n",
    "                    'split': split_idx,\n",
    "                    } | scores\n",
    "                            )"
   ]
  },
  {
   "cell_type": "code",
   "execution_count": 62,
   "metadata": {},
   "outputs": [
    {
     "data": {
      "text/html": [
       "<div>\n",
       "<style scoped>\n",
       "    .dataframe tbody tr th:only-of-type {\n",
       "        vertical-align: middle;\n",
       "    }\n",
       "\n",
       "    .dataframe tbody tr th {\n",
       "        vertical-align: top;\n",
       "    }\n",
       "\n",
       "    .dataframe thead th {\n",
       "        text-align: right;\n",
       "    }\n",
       "</style>\n",
       "<table border=\"1\" class=\"dataframe\">\n",
       "  <thead>\n",
       "    <tr style=\"text-align: right;\">\n",
       "      <th></th>\n",
       "      <th>feature</th>\n",
       "      <th>task</th>\n",
       "      <th>space</th>\n",
       "      <th>model</th>\n",
       "      <th>split</th>\n",
       "      <th>f1</th>\n",
       "    </tr>\n",
       "  </thead>\n",
       "  <tbody>\n",
       "    <tr>\n",
       "      <th>0</th>\n",
       "      <td>diagnosis</td>\n",
       "      <td>clf</td>\n",
       "      <td>raw</td>\n",
       "      <td>rf</td>\n",
       "      <td>0</td>\n",
       "      <td>0.441176</td>\n",
       "    </tr>\n",
       "    <tr>\n",
       "      <th>1</th>\n",
       "      <td>diagnosis</td>\n",
       "      <td>clf</td>\n",
       "      <td>raw</td>\n",
       "      <td>dummy</td>\n",
       "      <td>0</td>\n",
       "      <td>0.441176</td>\n",
       "    </tr>\n",
       "    <tr>\n",
       "      <th>2</th>\n",
       "      <td>diagnosis</td>\n",
       "      <td>clf</td>\n",
       "      <td>raw</td>\n",
       "      <td>rf</td>\n",
       "      <td>1</td>\n",
       "      <td>0.654545</td>\n",
       "    </tr>\n",
       "    <tr>\n",
       "      <th>3</th>\n",
       "      <td>diagnosis</td>\n",
       "      <td>clf</td>\n",
       "      <td>raw</td>\n",
       "      <td>dummy</td>\n",
       "      <td>1</td>\n",
       "      <td>0.441176</td>\n",
       "    </tr>\n",
       "    <tr>\n",
       "      <th>4</th>\n",
       "      <td>diagnosis</td>\n",
       "      <td>clf</td>\n",
       "      <td>raw</td>\n",
       "      <td>rf</td>\n",
       "      <td>2</td>\n",
       "      <td>0.441176</td>\n",
       "    </tr>\n",
       "    <tr>\n",
       "      <th>...</th>\n",
       "      <td>...</td>\n",
       "      <td>...</td>\n",
       "      <td>...</td>\n",
       "      <td>...</td>\n",
       "      <td>...</td>\n",
       "      <td>...</td>\n",
       "    </tr>\n",
       "    <tr>\n",
       "      <th>595</th>\n",
       "      <td>sex</td>\n",
       "      <td>clf</td>\n",
       "      <td>tangent</td>\n",
       "      <td>dummy</td>\n",
       "      <td>22</td>\n",
       "      <td>0.366667</td>\n",
       "    </tr>\n",
       "    <tr>\n",
       "      <th>596</th>\n",
       "      <td>sex</td>\n",
       "      <td>clf</td>\n",
       "      <td>tangent</td>\n",
       "      <td>rf</td>\n",
       "      <td>23</td>\n",
       "      <td>0.773810</td>\n",
       "    </tr>\n",
       "    <tr>\n",
       "      <th>597</th>\n",
       "      <td>sex</td>\n",
       "      <td>clf</td>\n",
       "      <td>tangent</td>\n",
       "      <td>dummy</td>\n",
       "      <td>23</td>\n",
       "      <td>0.366667</td>\n",
       "    </tr>\n",
       "    <tr>\n",
       "      <th>598</th>\n",
       "      <td>sex</td>\n",
       "      <td>clf</td>\n",
       "      <td>tangent</td>\n",
       "      <td>rf</td>\n",
       "      <td>24</td>\n",
       "      <td>0.784091</td>\n",
       "    </tr>\n",
       "    <tr>\n",
       "      <th>599</th>\n",
       "      <td>sex</td>\n",
       "      <td>clf</td>\n",
       "      <td>tangent</td>\n",
       "      <td>dummy</td>\n",
       "      <td>24</td>\n",
       "      <td>0.366667</td>\n",
       "    </tr>\n",
       "  </tbody>\n",
       "</table>\n",
       "<p>600 rows × 6 columns</p>\n",
       "</div>"
      ],
      "text/plain": [
       "       feature task    space  model  split        f1\n",
       "0    diagnosis  clf      raw     rf      0  0.441176\n",
       "1    diagnosis  clf      raw  dummy      0  0.441176\n",
       "2    diagnosis  clf      raw     rf      1  0.654545\n",
       "3    diagnosis  clf      raw  dummy      1  0.441176\n",
       "4    diagnosis  clf      raw     rf      2  0.441176\n",
       "..         ...  ...      ...    ...    ...       ...\n",
       "595        sex  clf  tangent  dummy     22  0.366667\n",
       "596        sex  clf  tangent     rf     23  0.773810\n",
       "597        sex  clf  tangent  dummy     23  0.366667\n",
       "598        sex  clf  tangent     rf     24  0.784091\n",
       "599        sex  clf  tangent  dummy     24  0.366667\n",
       "\n",
       "[600 rows x 6 columns]"
      ]
     },
     "execution_count": 62,
     "metadata": {},
     "output_type": "execute_result"
    }
   ],
   "source": [
    "df = pd.DataFrame(results)\n",
    "df"
   ]
  },
  {
   "attachments": {},
   "cell_type": "markdown",
   "metadata": {},
   "source": [
    "# Plot Results"
   ]
  },
  {
   "cell_type": "code",
   "execution_count": 81,
   "metadata": {},
   "outputs": [
    {
     "data": {
      "text/html": [
       "<div>\n",
       "<style scoped>\n",
       "    .dataframe tbody tr th:only-of-type {\n",
       "        vertical-align: middle;\n",
       "    }\n",
       "\n",
       "    .dataframe tbody tr th {\n",
       "        vertical-align: top;\n",
       "    }\n",
       "\n",
       "    .dataframe thead th {\n",
       "        text-align: right;\n",
       "    }\n",
       "</style>\n",
       "<table border=\"1\" class=\"dataframe\">\n",
       "  <thead>\n",
       "    <tr style=\"text-align: right;\">\n",
       "      <th></th>\n",
       "      <th>feature</th>\n",
       "      <th>task</th>\n",
       "      <th>space</th>\n",
       "      <th>model</th>\n",
       "      <th>f1 mean</th>\n",
       "      <th>f1 std</th>\n",
       "      <th>f1 min</th>\n",
       "      <th>f1 50%</th>\n",
       "      <th>f1 max</th>\n",
       "    </tr>\n",
       "  </thead>\n",
       "  <tbody>\n",
       "    <tr>\n",
       "      <th>0</th>\n",
       "      <td>diagnosis</td>\n",
       "      <td>clf</td>\n",
       "      <td>euclidean</td>\n",
       "      <td>dummy</td>\n",
       "      <td>0.441176</td>\n",
       "      <td>0.000000</td>\n",
       "      <td>0.441176</td>\n",
       "      <td>0.441176</td>\n",
       "      <td>0.441176</td>\n",
       "    </tr>\n",
       "    <tr>\n",
       "      <th>1</th>\n",
       "      <td>diagnosis</td>\n",
       "      <td>clf</td>\n",
       "      <td>euclidean</td>\n",
       "      <td>rf</td>\n",
       "      <td>0.563234</td>\n",
       "      <td>0.119222</td>\n",
       "      <td>0.387097</td>\n",
       "      <td>0.604167</td>\n",
       "      <td>0.802083</td>\n",
       "    </tr>\n",
       "    <tr>\n",
       "      <th>2</th>\n",
       "      <td>diagnosis</td>\n",
       "      <td>clf</td>\n",
       "      <td>hyperbolic</td>\n",
       "      <td>dummy</td>\n",
       "      <td>0.441176</td>\n",
       "      <td>0.000000</td>\n",
       "      <td>0.441176</td>\n",
       "      <td>0.441176</td>\n",
       "      <td>0.441176</td>\n",
       "    </tr>\n",
       "    <tr>\n",
       "      <th>3</th>\n",
       "      <td>diagnosis</td>\n",
       "      <td>clf</td>\n",
       "      <td>hyperbolic</td>\n",
       "      <td>rf</td>\n",
       "      <td>0.529307</td>\n",
       "      <td>0.105542</td>\n",
       "      <td>0.406250</td>\n",
       "      <td>0.525000</td>\n",
       "      <td>0.737327</td>\n",
       "    </tr>\n",
       "    <tr>\n",
       "      <th>4</th>\n",
       "      <td>diagnosis</td>\n",
       "      <td>clf</td>\n",
       "      <td>raw</td>\n",
       "      <td>dummy</td>\n",
       "      <td>0.441176</td>\n",
       "      <td>0.000000</td>\n",
       "      <td>0.441176</td>\n",
       "      <td>0.441176</td>\n",
       "      <td>0.441176</td>\n",
       "    </tr>\n",
       "    <tr>\n",
       "      <th>5</th>\n",
       "      <td>diagnosis</td>\n",
       "      <td>clf</td>\n",
       "      <td>raw</td>\n",
       "      <td>rf</td>\n",
       "      <td>0.525847</td>\n",
       "      <td>0.107301</td>\n",
       "      <td>0.424242</td>\n",
       "      <td>0.441176</td>\n",
       "      <td>0.654545</td>\n",
       "    </tr>\n",
       "    <tr>\n",
       "      <th>6</th>\n",
       "      <td>diagnosis</td>\n",
       "      <td>clf</td>\n",
       "      <td>tangent</td>\n",
       "      <td>dummy</td>\n",
       "      <td>0.441176</td>\n",
       "      <td>0.000000</td>\n",
       "      <td>0.441176</td>\n",
       "      <td>0.441176</td>\n",
       "      <td>0.441176</td>\n",
       "    </tr>\n",
       "    <tr>\n",
       "      <th>7</th>\n",
       "      <td>diagnosis</td>\n",
       "      <td>clf</td>\n",
       "      <td>tangent</td>\n",
       "      <td>rf</td>\n",
       "      <td>0.529307</td>\n",
       "      <td>0.105542</td>\n",
       "      <td>0.406250</td>\n",
       "      <td>0.525000</td>\n",
       "      <td>0.737327</td>\n",
       "    </tr>\n",
       "    <tr>\n",
       "      <th>8</th>\n",
       "      <td>sex</td>\n",
       "      <td>clf</td>\n",
       "      <td>euclidean</td>\n",
       "      <td>dummy</td>\n",
       "      <td>0.364301</td>\n",
       "      <td>0.004829</td>\n",
       "      <td>0.354839</td>\n",
       "      <td>0.366667</td>\n",
       "      <td>0.366667</td>\n",
       "    </tr>\n",
       "    <tr>\n",
       "      <th>9</th>\n",
       "      <td>sex</td>\n",
       "      <td>clf</td>\n",
       "      <td>euclidean</td>\n",
       "      <td>rf</td>\n",
       "      <td>0.587546</td>\n",
       "      <td>0.080072</td>\n",
       "      <td>0.413333</td>\n",
       "      <td>0.590769</td>\n",
       "      <td>0.724638</td>\n",
       "    </tr>\n",
       "    <tr>\n",
       "      <th>10</th>\n",
       "      <td>sex</td>\n",
       "      <td>clf</td>\n",
       "      <td>hyperbolic</td>\n",
       "      <td>dummy</td>\n",
       "      <td>0.364301</td>\n",
       "      <td>0.004829</td>\n",
       "      <td>0.354839</td>\n",
       "      <td>0.366667</td>\n",
       "      <td>0.366667</td>\n",
       "    </tr>\n",
       "    <tr>\n",
       "      <th>11</th>\n",
       "      <td>sex</td>\n",
       "      <td>clf</td>\n",
       "      <td>hyperbolic</td>\n",
       "      <td>rf</td>\n",
       "      <td>0.645773</td>\n",
       "      <td>0.099105</td>\n",
       "      <td>0.450549</td>\n",
       "      <td>0.680135</td>\n",
       "      <td>0.784091</td>\n",
       "    </tr>\n",
       "    <tr>\n",
       "      <th>12</th>\n",
       "      <td>sex</td>\n",
       "      <td>clf</td>\n",
       "      <td>raw</td>\n",
       "      <td>dummy</td>\n",
       "      <td>0.364301</td>\n",
       "      <td>0.004829</td>\n",
       "      <td>0.354839</td>\n",
       "      <td>0.366667</td>\n",
       "      <td>0.366667</td>\n",
       "    </tr>\n",
       "    <tr>\n",
       "      <th>13</th>\n",
       "      <td>sex</td>\n",
       "      <td>clf</td>\n",
       "      <td>raw</td>\n",
       "      <td>rf</td>\n",
       "      <td>0.616481</td>\n",
       "      <td>0.120403</td>\n",
       "      <td>0.366667</td>\n",
       "      <td>0.634615</td>\n",
       "      <td>0.784091</td>\n",
       "    </tr>\n",
       "    <tr>\n",
       "      <th>14</th>\n",
       "      <td>sex</td>\n",
       "      <td>clf</td>\n",
       "      <td>tangent</td>\n",
       "      <td>dummy</td>\n",
       "      <td>0.364301</td>\n",
       "      <td>0.004829</td>\n",
       "      <td>0.354839</td>\n",
       "      <td>0.366667</td>\n",
       "      <td>0.366667</td>\n",
       "    </tr>\n",
       "    <tr>\n",
       "      <th>15</th>\n",
       "      <td>sex</td>\n",
       "      <td>clf</td>\n",
       "      <td>tangent</td>\n",
       "      <td>rf</td>\n",
       "      <td>0.645773</td>\n",
       "      <td>0.099105</td>\n",
       "      <td>0.450549</td>\n",
       "      <td>0.680135</td>\n",
       "      <td>0.784091</td>\n",
       "    </tr>\n",
       "    <tr>\n",
       "      <th>16</th>\n",
       "      <td>site_name</td>\n",
       "      <td>clf</td>\n",
       "      <td>euclidean</td>\n",
       "      <td>dummy</td>\n",
       "      <td>0.147090</td>\n",
       "      <td>0.002160</td>\n",
       "      <td>0.142857</td>\n",
       "      <td>0.148148</td>\n",
       "      <td>0.148148</td>\n",
       "    </tr>\n",
       "    <tr>\n",
       "      <th>17</th>\n",
       "      <td>site_name</td>\n",
       "      <td>clf</td>\n",
       "      <td>euclidean</td>\n",
       "      <td>rf</td>\n",
       "      <td>0.409350</td>\n",
       "      <td>0.089153</td>\n",
       "      <td>0.250000</td>\n",
       "      <td>0.416667</td>\n",
       "      <td>0.583333</td>\n",
       "    </tr>\n",
       "    <tr>\n",
       "      <th>18</th>\n",
       "      <td>site_name</td>\n",
       "      <td>clf</td>\n",
       "      <td>hyperbolic</td>\n",
       "      <td>dummy</td>\n",
       "      <td>0.147090</td>\n",
       "      <td>0.002160</td>\n",
       "      <td>0.142857</td>\n",
       "      <td>0.148148</td>\n",
       "      <td>0.148148</td>\n",
       "    </tr>\n",
       "    <tr>\n",
       "      <th>19</th>\n",
       "      <td>site_name</td>\n",
       "      <td>clf</td>\n",
       "      <td>hyperbolic</td>\n",
       "      <td>rf</td>\n",
       "      <td>0.377588</td>\n",
       "      <td>0.094687</td>\n",
       "      <td>0.180556</td>\n",
       "      <td>0.400000</td>\n",
       "      <td>0.575752</td>\n",
       "    </tr>\n",
       "    <tr>\n",
       "      <th>20</th>\n",
       "      <td>site_name</td>\n",
       "      <td>clf</td>\n",
       "      <td>raw</td>\n",
       "      <td>dummy</td>\n",
       "      <td>0.147090</td>\n",
       "      <td>0.002160</td>\n",
       "      <td>0.142857</td>\n",
       "      <td>0.148148</td>\n",
       "      <td>0.148148</td>\n",
       "    </tr>\n",
       "    <tr>\n",
       "      <th>21</th>\n",
       "      <td>site_name</td>\n",
       "      <td>clf</td>\n",
       "      <td>raw</td>\n",
       "      <td>rf</td>\n",
       "      <td>0.289485</td>\n",
       "      <td>0.088350</td>\n",
       "      <td>0.125000</td>\n",
       "      <td>0.279221</td>\n",
       "      <td>0.506818</td>\n",
       "    </tr>\n",
       "    <tr>\n",
       "      <th>22</th>\n",
       "      <td>site_name</td>\n",
       "      <td>clf</td>\n",
       "      <td>tangent</td>\n",
       "      <td>dummy</td>\n",
       "      <td>0.147090</td>\n",
       "      <td>0.002160</td>\n",
       "      <td>0.142857</td>\n",
       "      <td>0.148148</td>\n",
       "      <td>0.148148</td>\n",
       "    </tr>\n",
       "    <tr>\n",
       "      <th>23</th>\n",
       "      <td>site_name</td>\n",
       "      <td>clf</td>\n",
       "      <td>tangent</td>\n",
       "      <td>rf</td>\n",
       "      <td>0.377588</td>\n",
       "      <td>0.094687</td>\n",
       "      <td>0.180556</td>\n",
       "      <td>0.400000</td>\n",
       "      <td>0.575752</td>\n",
       "    </tr>\n",
       "  </tbody>\n",
       "</table>\n",
       "</div>"
      ],
      "text/plain": [
       "      feature task       space  model   f1 mean    f1 std    f1 min    f1 50%  \\\n",
       "0   diagnosis  clf   euclidean  dummy  0.441176  0.000000  0.441176  0.441176   \n",
       "1   diagnosis  clf   euclidean     rf  0.563234  0.119222  0.387097  0.604167   \n",
       "2   diagnosis  clf  hyperbolic  dummy  0.441176  0.000000  0.441176  0.441176   \n",
       "3   diagnosis  clf  hyperbolic     rf  0.529307  0.105542  0.406250  0.525000   \n",
       "4   diagnosis  clf         raw  dummy  0.441176  0.000000  0.441176  0.441176   \n",
       "5   diagnosis  clf         raw     rf  0.525847  0.107301  0.424242  0.441176   \n",
       "6   diagnosis  clf     tangent  dummy  0.441176  0.000000  0.441176  0.441176   \n",
       "7   diagnosis  clf     tangent     rf  0.529307  0.105542  0.406250  0.525000   \n",
       "8         sex  clf   euclidean  dummy  0.364301  0.004829  0.354839  0.366667   \n",
       "9         sex  clf   euclidean     rf  0.587546  0.080072  0.413333  0.590769   \n",
       "10        sex  clf  hyperbolic  dummy  0.364301  0.004829  0.354839  0.366667   \n",
       "11        sex  clf  hyperbolic     rf  0.645773  0.099105  0.450549  0.680135   \n",
       "12        sex  clf         raw  dummy  0.364301  0.004829  0.354839  0.366667   \n",
       "13        sex  clf         raw     rf  0.616481  0.120403  0.366667  0.634615   \n",
       "14        sex  clf     tangent  dummy  0.364301  0.004829  0.354839  0.366667   \n",
       "15        sex  clf     tangent     rf  0.645773  0.099105  0.450549  0.680135   \n",
       "16  site_name  clf   euclidean  dummy  0.147090  0.002160  0.142857  0.148148   \n",
       "17  site_name  clf   euclidean     rf  0.409350  0.089153  0.250000  0.416667   \n",
       "18  site_name  clf  hyperbolic  dummy  0.147090  0.002160  0.142857  0.148148   \n",
       "19  site_name  clf  hyperbolic     rf  0.377588  0.094687  0.180556  0.400000   \n",
       "20  site_name  clf         raw  dummy  0.147090  0.002160  0.142857  0.148148   \n",
       "21  site_name  clf         raw     rf  0.289485  0.088350  0.125000  0.279221   \n",
       "22  site_name  clf     tangent  dummy  0.147090  0.002160  0.142857  0.148148   \n",
       "23  site_name  clf     tangent     rf  0.377588  0.094687  0.180556  0.400000   \n",
       "\n",
       "      f1 max  \n",
       "0   0.441176  \n",
       "1   0.802083  \n",
       "2   0.441176  \n",
       "3   0.737327  \n",
       "4   0.441176  \n",
       "5   0.654545  \n",
       "6   0.441176  \n",
       "7   0.737327  \n",
       "8   0.366667  \n",
       "9   0.724638  \n",
       "10  0.366667  \n",
       "11  0.784091  \n",
       "12  0.366667  \n",
       "13  0.784091  \n",
       "14  0.366667  \n",
       "15  0.784091  \n",
       "16  0.148148  \n",
       "17  0.583333  \n",
       "18  0.148148  \n",
       "19  0.575752  \n",
       "20  0.148148  \n",
       "21  0.506818  \n",
       "22  0.148148  \n",
       "23  0.575752  "
      ]
     },
     "execution_count": 81,
     "metadata": {},
     "output_type": "execute_result"
    }
   ],
   "source": [
    "group = df.groupby(['feature', 'task', 'space', 'model'])\n",
    "group_describe = group.describe(percentiles=[])\n",
    "group_describe = group_describe.drop(columns=['split'])\n",
    "group_describe.columns = [' '.join(column).strip() for column in group_describe.columns]\n",
    "group_describe = group_describe.reset_index()\n",
    "group_describe = group_describe.drop(columns=[column for column in group_describe.columns if 'count' in column])\n",
    "df2 = group_describe\n",
    "df2"
   ]
  },
  {
   "cell_type": "code",
   "execution_count": 82,
   "metadata": {},
   "outputs": [],
   "source": [
    "rf_df = df2[df2['model'] == 'rf']\n",
    "dummy_df = df2[df2['model'] == 'dummy']"
   ]
  },
  {
   "cell_type": "code",
   "execution_count": 85,
   "metadata": {},
   "outputs": [
    {
     "data": {
      "text/html": [
       "<div>\n",
       "<style scoped>\n",
       "    .dataframe tbody tr th:only-of-type {\n",
       "        vertical-align: middle;\n",
       "    }\n",
       "\n",
       "    .dataframe tbody tr th {\n",
       "        vertical-align: top;\n",
       "    }\n",
       "\n",
       "    .dataframe thead th {\n",
       "        text-align: right;\n",
       "    }\n",
       "</style>\n",
       "<table border=\"1\" class=\"dataframe\">\n",
       "  <thead>\n",
       "    <tr style=\"text-align: right;\">\n",
       "      <th></th>\n",
       "      <th>feature</th>\n",
       "      <th>task</th>\n",
       "      <th>space</th>\n",
       "      <th>model</th>\n",
       "      <th>f1 mean</th>\n",
       "      <th>f1 std</th>\n",
       "      <th>f1 min</th>\n",
       "      <th>f1 50%</th>\n",
       "      <th>f1 max</th>\n",
       "    </tr>\n",
       "  </thead>\n",
       "  <tbody>\n",
       "    <tr>\n",
       "      <th>1</th>\n",
       "      <td>diagnosis</td>\n",
       "      <td>clf</td>\n",
       "      <td>euclidean</td>\n",
       "      <td>rf</td>\n",
       "      <td>0.563234</td>\n",
       "      <td>0.119222</td>\n",
       "      <td>0.387097</td>\n",
       "      <td>0.604167</td>\n",
       "      <td>0.802083</td>\n",
       "    </tr>\n",
       "    <tr>\n",
       "      <th>3</th>\n",
       "      <td>diagnosis</td>\n",
       "      <td>clf</td>\n",
       "      <td>hyperbolic</td>\n",
       "      <td>rf</td>\n",
       "      <td>0.529307</td>\n",
       "      <td>0.105542</td>\n",
       "      <td>0.406250</td>\n",
       "      <td>0.525000</td>\n",
       "      <td>0.737327</td>\n",
       "    </tr>\n",
       "    <tr>\n",
       "      <th>5</th>\n",
       "      <td>diagnosis</td>\n",
       "      <td>clf</td>\n",
       "      <td>raw</td>\n",
       "      <td>rf</td>\n",
       "      <td>0.525847</td>\n",
       "      <td>0.107301</td>\n",
       "      <td>0.424242</td>\n",
       "      <td>0.441176</td>\n",
       "      <td>0.654545</td>\n",
       "    </tr>\n",
       "    <tr>\n",
       "      <th>7</th>\n",
       "      <td>diagnosis</td>\n",
       "      <td>clf</td>\n",
       "      <td>tangent</td>\n",
       "      <td>rf</td>\n",
       "      <td>0.529307</td>\n",
       "      <td>0.105542</td>\n",
       "      <td>0.406250</td>\n",
       "      <td>0.525000</td>\n",
       "      <td>0.737327</td>\n",
       "    </tr>\n",
       "    <tr>\n",
       "      <th>9</th>\n",
       "      <td>sex</td>\n",
       "      <td>clf</td>\n",
       "      <td>euclidean</td>\n",
       "      <td>rf</td>\n",
       "      <td>0.587546</td>\n",
       "      <td>0.080072</td>\n",
       "      <td>0.413333</td>\n",
       "      <td>0.590769</td>\n",
       "      <td>0.724638</td>\n",
       "    </tr>\n",
       "    <tr>\n",
       "      <th>11</th>\n",
       "      <td>sex</td>\n",
       "      <td>clf</td>\n",
       "      <td>hyperbolic</td>\n",
       "      <td>rf</td>\n",
       "      <td>0.645773</td>\n",
       "      <td>0.099105</td>\n",
       "      <td>0.450549</td>\n",
       "      <td>0.680135</td>\n",
       "      <td>0.784091</td>\n",
       "    </tr>\n",
       "    <tr>\n",
       "      <th>13</th>\n",
       "      <td>sex</td>\n",
       "      <td>clf</td>\n",
       "      <td>raw</td>\n",
       "      <td>rf</td>\n",
       "      <td>0.616481</td>\n",
       "      <td>0.120403</td>\n",
       "      <td>0.366667</td>\n",
       "      <td>0.634615</td>\n",
       "      <td>0.784091</td>\n",
       "    </tr>\n",
       "    <tr>\n",
       "      <th>15</th>\n",
       "      <td>sex</td>\n",
       "      <td>clf</td>\n",
       "      <td>tangent</td>\n",
       "      <td>rf</td>\n",
       "      <td>0.645773</td>\n",
       "      <td>0.099105</td>\n",
       "      <td>0.450549</td>\n",
       "      <td>0.680135</td>\n",
       "      <td>0.784091</td>\n",
       "    </tr>\n",
       "    <tr>\n",
       "      <th>17</th>\n",
       "      <td>site_name</td>\n",
       "      <td>clf</td>\n",
       "      <td>euclidean</td>\n",
       "      <td>rf</td>\n",
       "      <td>0.409350</td>\n",
       "      <td>0.089153</td>\n",
       "      <td>0.250000</td>\n",
       "      <td>0.416667</td>\n",
       "      <td>0.583333</td>\n",
       "    </tr>\n",
       "    <tr>\n",
       "      <th>19</th>\n",
       "      <td>site_name</td>\n",
       "      <td>clf</td>\n",
       "      <td>hyperbolic</td>\n",
       "      <td>rf</td>\n",
       "      <td>0.377588</td>\n",
       "      <td>0.094687</td>\n",
       "      <td>0.180556</td>\n",
       "      <td>0.400000</td>\n",
       "      <td>0.575752</td>\n",
       "    </tr>\n",
       "    <tr>\n",
       "      <th>21</th>\n",
       "      <td>site_name</td>\n",
       "      <td>clf</td>\n",
       "      <td>raw</td>\n",
       "      <td>rf</td>\n",
       "      <td>0.289485</td>\n",
       "      <td>0.088350</td>\n",
       "      <td>0.125000</td>\n",
       "      <td>0.279221</td>\n",
       "      <td>0.506818</td>\n",
       "    </tr>\n",
       "    <tr>\n",
       "      <th>23</th>\n",
       "      <td>site_name</td>\n",
       "      <td>clf</td>\n",
       "      <td>tangent</td>\n",
       "      <td>rf</td>\n",
       "      <td>0.377588</td>\n",
       "      <td>0.094687</td>\n",
       "      <td>0.180556</td>\n",
       "      <td>0.400000</td>\n",
       "      <td>0.575752</td>\n",
       "    </tr>\n",
       "  </tbody>\n",
       "</table>\n",
       "</div>"
      ],
      "text/plain": [
       "      feature task       space model   f1 mean    f1 std    f1 min    f1 50%  \\\n",
       "1   diagnosis  clf   euclidean    rf  0.563234  0.119222  0.387097  0.604167   \n",
       "3   diagnosis  clf  hyperbolic    rf  0.529307  0.105542  0.406250  0.525000   \n",
       "5   diagnosis  clf         raw    rf  0.525847  0.107301  0.424242  0.441176   \n",
       "7   diagnosis  clf     tangent    rf  0.529307  0.105542  0.406250  0.525000   \n",
       "9         sex  clf   euclidean    rf  0.587546  0.080072  0.413333  0.590769   \n",
       "11        sex  clf  hyperbolic    rf  0.645773  0.099105  0.450549  0.680135   \n",
       "13        sex  clf         raw    rf  0.616481  0.120403  0.366667  0.634615   \n",
       "15        sex  clf     tangent    rf  0.645773  0.099105  0.450549  0.680135   \n",
       "17  site_name  clf   euclidean    rf  0.409350  0.089153  0.250000  0.416667   \n",
       "19  site_name  clf  hyperbolic    rf  0.377588  0.094687  0.180556  0.400000   \n",
       "21  site_name  clf         raw    rf  0.289485  0.088350  0.125000  0.279221   \n",
       "23  site_name  clf     tangent    rf  0.377588  0.094687  0.180556  0.400000   \n",
       "\n",
       "      f1 max  \n",
       "1   0.802083  \n",
       "3   0.737327  \n",
       "5   0.654545  \n",
       "7   0.737327  \n",
       "9   0.724638  \n",
       "11  0.784091  \n",
       "13  0.784091  \n",
       "15  0.784091  \n",
       "17  0.583333  \n",
       "19  0.575752  \n",
       "21  0.506818  \n",
       "23  0.575752  "
      ]
     },
     "execution_count": 85,
     "metadata": {},
     "output_type": "execute_result"
    }
   ],
   "source": [
    "rf_df"
   ]
  },
  {
   "cell_type": "code",
   "execution_count": 94,
   "metadata": {},
   "outputs": [
    {
     "data": {
      "text/html": [
       "<div>\n",
       "<style scoped>\n",
       "    .dataframe tbody tr th:only-of-type {\n",
       "        vertical-align: middle;\n",
       "    }\n",
       "\n",
       "    .dataframe tbody tr th {\n",
       "        vertical-align: top;\n",
       "    }\n",
       "\n",
       "    .dataframe thead th {\n",
       "        text-align: right;\n",
       "    }\n",
       "</style>\n",
       "<table border=\"1\" class=\"dataframe\">\n",
       "  <thead>\n",
       "    <tr style=\"text-align: right;\">\n",
       "      <th></th>\n",
       "      <th>feature</th>\n",
       "      <th>task</th>\n",
       "      <th>space</th>\n",
       "      <th>model</th>\n",
       "      <th>f1 mean</th>\n",
       "      <th>f1 std</th>\n",
       "      <th>f1 min</th>\n",
       "      <th>f1 50%</th>\n",
       "      <th>f1 max</th>\n",
       "    </tr>\n",
       "  </thead>\n",
       "  <tbody>\n",
       "    <tr>\n",
       "      <th>0</th>\n",
       "      <td>diagnosis</td>\n",
       "      <td>clf</td>\n",
       "      <td>euclidean</td>\n",
       "      <td>dummy</td>\n",
       "      <td>0.441176</td>\n",
       "      <td>0.000000</td>\n",
       "      <td>0.441176</td>\n",
       "      <td>0.441176</td>\n",
       "      <td>0.441176</td>\n",
       "    </tr>\n",
       "    <tr>\n",
       "      <th>2</th>\n",
       "      <td>diagnosis</td>\n",
       "      <td>clf</td>\n",
       "      <td>hyperbolic</td>\n",
       "      <td>dummy</td>\n",
       "      <td>0.441176</td>\n",
       "      <td>0.000000</td>\n",
       "      <td>0.441176</td>\n",
       "      <td>0.441176</td>\n",
       "      <td>0.441176</td>\n",
       "    </tr>\n",
       "    <tr>\n",
       "      <th>4</th>\n",
       "      <td>diagnosis</td>\n",
       "      <td>clf</td>\n",
       "      <td>raw</td>\n",
       "      <td>dummy</td>\n",
       "      <td>0.441176</td>\n",
       "      <td>0.000000</td>\n",
       "      <td>0.441176</td>\n",
       "      <td>0.441176</td>\n",
       "      <td>0.441176</td>\n",
       "    </tr>\n",
       "    <tr>\n",
       "      <th>6</th>\n",
       "      <td>diagnosis</td>\n",
       "      <td>clf</td>\n",
       "      <td>tangent</td>\n",
       "      <td>dummy</td>\n",
       "      <td>0.441176</td>\n",
       "      <td>0.000000</td>\n",
       "      <td>0.441176</td>\n",
       "      <td>0.441176</td>\n",
       "      <td>0.441176</td>\n",
       "    </tr>\n",
       "    <tr>\n",
       "      <th>8</th>\n",
       "      <td>sex</td>\n",
       "      <td>clf</td>\n",
       "      <td>euclidean</td>\n",
       "      <td>dummy</td>\n",
       "      <td>0.364301</td>\n",
       "      <td>0.004829</td>\n",
       "      <td>0.354839</td>\n",
       "      <td>0.366667</td>\n",
       "      <td>0.366667</td>\n",
       "    </tr>\n",
       "    <tr>\n",
       "      <th>10</th>\n",
       "      <td>sex</td>\n",
       "      <td>clf</td>\n",
       "      <td>hyperbolic</td>\n",
       "      <td>dummy</td>\n",
       "      <td>0.364301</td>\n",
       "      <td>0.004829</td>\n",
       "      <td>0.354839</td>\n",
       "      <td>0.366667</td>\n",
       "      <td>0.366667</td>\n",
       "    </tr>\n",
       "    <tr>\n",
       "      <th>12</th>\n",
       "      <td>sex</td>\n",
       "      <td>clf</td>\n",
       "      <td>raw</td>\n",
       "      <td>dummy</td>\n",
       "      <td>0.364301</td>\n",
       "      <td>0.004829</td>\n",
       "      <td>0.354839</td>\n",
       "      <td>0.366667</td>\n",
       "      <td>0.366667</td>\n",
       "    </tr>\n",
       "    <tr>\n",
       "      <th>14</th>\n",
       "      <td>sex</td>\n",
       "      <td>clf</td>\n",
       "      <td>tangent</td>\n",
       "      <td>dummy</td>\n",
       "      <td>0.364301</td>\n",
       "      <td>0.004829</td>\n",
       "      <td>0.354839</td>\n",
       "      <td>0.366667</td>\n",
       "      <td>0.366667</td>\n",
       "    </tr>\n",
       "    <tr>\n",
       "      <th>16</th>\n",
       "      <td>site_name</td>\n",
       "      <td>clf</td>\n",
       "      <td>euclidean</td>\n",
       "      <td>dummy</td>\n",
       "      <td>0.147090</td>\n",
       "      <td>0.002160</td>\n",
       "      <td>0.142857</td>\n",
       "      <td>0.148148</td>\n",
       "      <td>0.148148</td>\n",
       "    </tr>\n",
       "    <tr>\n",
       "      <th>18</th>\n",
       "      <td>site_name</td>\n",
       "      <td>clf</td>\n",
       "      <td>hyperbolic</td>\n",
       "      <td>dummy</td>\n",
       "      <td>0.147090</td>\n",
       "      <td>0.002160</td>\n",
       "      <td>0.142857</td>\n",
       "      <td>0.148148</td>\n",
       "      <td>0.148148</td>\n",
       "    </tr>\n",
       "    <tr>\n",
       "      <th>20</th>\n",
       "      <td>site_name</td>\n",
       "      <td>clf</td>\n",
       "      <td>raw</td>\n",
       "      <td>dummy</td>\n",
       "      <td>0.147090</td>\n",
       "      <td>0.002160</td>\n",
       "      <td>0.142857</td>\n",
       "      <td>0.148148</td>\n",
       "      <td>0.148148</td>\n",
       "    </tr>\n",
       "    <tr>\n",
       "      <th>22</th>\n",
       "      <td>site_name</td>\n",
       "      <td>clf</td>\n",
       "      <td>tangent</td>\n",
       "      <td>dummy</td>\n",
       "      <td>0.147090</td>\n",
       "      <td>0.002160</td>\n",
       "      <td>0.142857</td>\n",
       "      <td>0.148148</td>\n",
       "      <td>0.148148</td>\n",
       "    </tr>\n",
       "  </tbody>\n",
       "</table>\n",
       "</div>"
      ],
      "text/plain": [
       "      feature task       space  model   f1 mean    f1 std    f1 min    f1 50%  \\\n",
       "0   diagnosis  clf   euclidean  dummy  0.441176  0.000000  0.441176  0.441176   \n",
       "2   diagnosis  clf  hyperbolic  dummy  0.441176  0.000000  0.441176  0.441176   \n",
       "4   diagnosis  clf         raw  dummy  0.441176  0.000000  0.441176  0.441176   \n",
       "6   diagnosis  clf     tangent  dummy  0.441176  0.000000  0.441176  0.441176   \n",
       "8         sex  clf   euclidean  dummy  0.364301  0.004829  0.354839  0.366667   \n",
       "10        sex  clf  hyperbolic  dummy  0.364301  0.004829  0.354839  0.366667   \n",
       "12        sex  clf         raw  dummy  0.364301  0.004829  0.354839  0.366667   \n",
       "14        sex  clf     tangent  dummy  0.364301  0.004829  0.354839  0.366667   \n",
       "16  site_name  clf   euclidean  dummy  0.147090  0.002160  0.142857  0.148148   \n",
       "18  site_name  clf  hyperbolic  dummy  0.147090  0.002160  0.142857  0.148148   \n",
       "20  site_name  clf         raw  dummy  0.147090  0.002160  0.142857  0.148148   \n",
       "22  site_name  clf     tangent  dummy  0.147090  0.002160  0.142857  0.148148   \n",
       "\n",
       "      f1 max  \n",
       "0   0.441176  \n",
       "2   0.441176  \n",
       "4   0.441176  \n",
       "6   0.441176  \n",
       "8   0.366667  \n",
       "10  0.366667  \n",
       "12  0.366667  \n",
       "14  0.366667  \n",
       "16  0.148148  \n",
       "18  0.148148  \n",
       "20  0.148148  \n",
       "22  0.148148  "
      ]
     },
     "execution_count": 94,
     "metadata": {},
     "output_type": "execute_result"
    }
   ],
   "source": [
    "dummy_values = dummy_df['f1 mean']\n",
    "dummy_df"
   ]
  },
  {
   "cell_type": "code",
   "execution_count": 87,
   "metadata": {},
   "outputs": [],
   "source": [
    "rf_df['f1 mean rounded'] = rf_df['f1 mean'].round(3)\n",
    "rf_df['feature'][rf_df['feature'] == 'sex'] = 'Sex'\n",
    "rf_df['feature'][rf_df['feature'] == 'diagnosis'] = 'IBD Diagnosis'\n",
    "rf_df['feature'][rf_df['feature'] == 'site_name'] = 'Hospital Location'"
   ]
  },
  {
   "cell_type": "code",
   "execution_count": 88,
   "metadata": {},
   "outputs": [
    {
     "data": {
      "text/html": [
       "<div>\n",
       "<style scoped>\n",
       "    .dataframe tbody tr th:only-of-type {\n",
       "        vertical-align: middle;\n",
       "    }\n",
       "\n",
       "    .dataframe tbody tr th {\n",
       "        vertical-align: top;\n",
       "    }\n",
       "\n",
       "    .dataframe thead th {\n",
       "        text-align: right;\n",
       "    }\n",
       "</style>\n",
       "<table border=\"1\" class=\"dataframe\">\n",
       "  <thead>\n",
       "    <tr style=\"text-align: right;\">\n",
       "      <th></th>\n",
       "      <th>feature</th>\n",
       "      <th>task</th>\n",
       "      <th>space</th>\n",
       "      <th>model</th>\n",
       "      <th>f1 mean</th>\n",
       "      <th>f1 std</th>\n",
       "      <th>f1 min</th>\n",
       "      <th>f1 50%</th>\n",
       "      <th>f1 max</th>\n",
       "      <th>f1 mean rounded</th>\n",
       "    </tr>\n",
       "  </thead>\n",
       "  <tbody>\n",
       "    <tr>\n",
       "      <th>1</th>\n",
       "      <td>IBD Diagnosis</td>\n",
       "      <td>clf</td>\n",
       "      <td>euclidean</td>\n",
       "      <td>rf</td>\n",
       "      <td>0.563234</td>\n",
       "      <td>0.119222</td>\n",
       "      <td>0.387097</td>\n",
       "      <td>0.604167</td>\n",
       "      <td>0.802083</td>\n",
       "      <td>0.563</td>\n",
       "    </tr>\n",
       "    <tr>\n",
       "      <th>3</th>\n",
       "      <td>IBD Diagnosis</td>\n",
       "      <td>clf</td>\n",
       "      <td>hyperbolic</td>\n",
       "      <td>rf</td>\n",
       "      <td>0.529307</td>\n",
       "      <td>0.105542</td>\n",
       "      <td>0.406250</td>\n",
       "      <td>0.525000</td>\n",
       "      <td>0.737327</td>\n",
       "      <td>0.529</td>\n",
       "    </tr>\n",
       "    <tr>\n",
       "      <th>5</th>\n",
       "      <td>IBD Diagnosis</td>\n",
       "      <td>clf</td>\n",
       "      <td>raw</td>\n",
       "      <td>rf</td>\n",
       "      <td>0.525847</td>\n",
       "      <td>0.107301</td>\n",
       "      <td>0.424242</td>\n",
       "      <td>0.441176</td>\n",
       "      <td>0.654545</td>\n",
       "      <td>0.526</td>\n",
       "    </tr>\n",
       "    <tr>\n",
       "      <th>7</th>\n",
       "      <td>IBD Diagnosis</td>\n",
       "      <td>clf</td>\n",
       "      <td>tangent</td>\n",
       "      <td>rf</td>\n",
       "      <td>0.529307</td>\n",
       "      <td>0.105542</td>\n",
       "      <td>0.406250</td>\n",
       "      <td>0.525000</td>\n",
       "      <td>0.737327</td>\n",
       "      <td>0.529</td>\n",
       "    </tr>\n",
       "    <tr>\n",
       "      <th>9</th>\n",
       "      <td>Sex</td>\n",
       "      <td>clf</td>\n",
       "      <td>euclidean</td>\n",
       "      <td>rf</td>\n",
       "      <td>0.587546</td>\n",
       "      <td>0.080072</td>\n",
       "      <td>0.413333</td>\n",
       "      <td>0.590769</td>\n",
       "      <td>0.724638</td>\n",
       "      <td>0.588</td>\n",
       "    </tr>\n",
       "    <tr>\n",
       "      <th>11</th>\n",
       "      <td>Sex</td>\n",
       "      <td>clf</td>\n",
       "      <td>hyperbolic</td>\n",
       "      <td>rf</td>\n",
       "      <td>0.645773</td>\n",
       "      <td>0.099105</td>\n",
       "      <td>0.450549</td>\n",
       "      <td>0.680135</td>\n",
       "      <td>0.784091</td>\n",
       "      <td>0.646</td>\n",
       "    </tr>\n",
       "    <tr>\n",
       "      <th>13</th>\n",
       "      <td>Sex</td>\n",
       "      <td>clf</td>\n",
       "      <td>raw</td>\n",
       "      <td>rf</td>\n",
       "      <td>0.616481</td>\n",
       "      <td>0.120403</td>\n",
       "      <td>0.366667</td>\n",
       "      <td>0.634615</td>\n",
       "      <td>0.784091</td>\n",
       "      <td>0.616</td>\n",
       "    </tr>\n",
       "    <tr>\n",
       "      <th>15</th>\n",
       "      <td>Sex</td>\n",
       "      <td>clf</td>\n",
       "      <td>tangent</td>\n",
       "      <td>rf</td>\n",
       "      <td>0.645773</td>\n",
       "      <td>0.099105</td>\n",
       "      <td>0.450549</td>\n",
       "      <td>0.680135</td>\n",
       "      <td>0.784091</td>\n",
       "      <td>0.646</td>\n",
       "    </tr>\n",
       "    <tr>\n",
       "      <th>17</th>\n",
       "      <td>Hospital Location</td>\n",
       "      <td>clf</td>\n",
       "      <td>euclidean</td>\n",
       "      <td>rf</td>\n",
       "      <td>0.409350</td>\n",
       "      <td>0.089153</td>\n",
       "      <td>0.250000</td>\n",
       "      <td>0.416667</td>\n",
       "      <td>0.583333</td>\n",
       "      <td>0.409</td>\n",
       "    </tr>\n",
       "    <tr>\n",
       "      <th>19</th>\n",
       "      <td>Hospital Location</td>\n",
       "      <td>clf</td>\n",
       "      <td>hyperbolic</td>\n",
       "      <td>rf</td>\n",
       "      <td>0.377588</td>\n",
       "      <td>0.094687</td>\n",
       "      <td>0.180556</td>\n",
       "      <td>0.400000</td>\n",
       "      <td>0.575752</td>\n",
       "      <td>0.378</td>\n",
       "    </tr>\n",
       "    <tr>\n",
       "      <th>21</th>\n",
       "      <td>Hospital Location</td>\n",
       "      <td>clf</td>\n",
       "      <td>raw</td>\n",
       "      <td>rf</td>\n",
       "      <td>0.289485</td>\n",
       "      <td>0.088350</td>\n",
       "      <td>0.125000</td>\n",
       "      <td>0.279221</td>\n",
       "      <td>0.506818</td>\n",
       "      <td>0.289</td>\n",
       "    </tr>\n",
       "    <tr>\n",
       "      <th>23</th>\n",
       "      <td>Hospital Location</td>\n",
       "      <td>clf</td>\n",
       "      <td>tangent</td>\n",
       "      <td>rf</td>\n",
       "      <td>0.377588</td>\n",
       "      <td>0.094687</td>\n",
       "      <td>0.180556</td>\n",
       "      <td>0.400000</td>\n",
       "      <td>0.575752</td>\n",
       "      <td>0.378</td>\n",
       "    </tr>\n",
       "  </tbody>\n",
       "</table>\n",
       "</div>"
      ],
      "text/plain": [
       "              feature task       space model   f1 mean    f1 std    f1 min  \\\n",
       "1       IBD Diagnosis  clf   euclidean    rf  0.563234  0.119222  0.387097   \n",
       "3       IBD Diagnosis  clf  hyperbolic    rf  0.529307  0.105542  0.406250   \n",
       "5       IBD Diagnosis  clf         raw    rf  0.525847  0.107301  0.424242   \n",
       "7       IBD Diagnosis  clf     tangent    rf  0.529307  0.105542  0.406250   \n",
       "9                 Sex  clf   euclidean    rf  0.587546  0.080072  0.413333   \n",
       "11                Sex  clf  hyperbolic    rf  0.645773  0.099105  0.450549   \n",
       "13                Sex  clf         raw    rf  0.616481  0.120403  0.366667   \n",
       "15                Sex  clf     tangent    rf  0.645773  0.099105  0.450549   \n",
       "17  Hospital Location  clf   euclidean    rf  0.409350  0.089153  0.250000   \n",
       "19  Hospital Location  clf  hyperbolic    rf  0.377588  0.094687  0.180556   \n",
       "21  Hospital Location  clf         raw    rf  0.289485  0.088350  0.125000   \n",
       "23  Hospital Location  clf     tangent    rf  0.377588  0.094687  0.180556   \n",
       "\n",
       "      f1 50%    f1 max  f1 mean rounded  \n",
       "1   0.604167  0.802083            0.563  \n",
       "3   0.525000  0.737327            0.529  \n",
       "5   0.441176  0.654545            0.526  \n",
       "7   0.525000  0.737327            0.529  \n",
       "9   0.590769  0.724638            0.588  \n",
       "11  0.680135  0.784091            0.646  \n",
       "13  0.634615  0.784091            0.616  \n",
       "15  0.680135  0.784091            0.646  \n",
       "17  0.416667  0.583333            0.409  \n",
       "19  0.400000  0.575752            0.378  \n",
       "21  0.279221  0.506818            0.289  \n",
       "23  0.400000  0.575752            0.378  "
      ]
     },
     "execution_count": 88,
     "metadata": {},
     "output_type": "execute_result"
    }
   ],
   "source": [
    "rf_df"
   ]
  },
  {
   "cell_type": "code",
   "execution_count": 110,
   "metadata": {},
   "outputs": [
    {
     "data": {
      "application/vnd.plotly.v1+json": {
       "config": {
        "plotlyServerURL": "https://plot.ly"
       },
       "data": [
        {
         "alignmentgroup": "True",
         "error_y": {
          "array": [
           0.11922215293798405,
           0.08007248390018043,
           0.08915318528232834
          ]
         },
         "hovertemplate": "space=euclidean<br>feature=%{x}<br>f1 mean=%{y}<br>f1 mean rounded=%{text}<extra></extra>",
         "legendgroup": "euclidean",
         "marker": {
          "color": "#636efa",
          "pattern": {
           "shape": ""
          }
         },
         "name": "euclidean",
         "offsetgroup": "euclidean",
         "orientation": "v",
         "showlegend": true,
         "text": [
          0.563,
          0.588,
          0.409
         ],
         "textposition": "auto",
         "type": "bar",
         "x": [
          "IBD Diagnosis",
          "Sex",
          "Hospital Location"
         ],
         "xaxis": "x",
         "y": [
          0.5632336430173241,
          0.5875463991724861,
          0.4093502172548141
         ],
         "yaxis": "y"
        },
        {
         "alignmentgroup": "True",
         "error_y": {
          "array": [
           0.10554183772299582,
           0.09910473912085144,
           0.09468692740306311
          ]
         },
         "hovertemplate": "space=hyperbolic<br>feature=%{x}<br>f1 mean=%{y}<br>f1 mean rounded=%{text}<extra></extra>",
         "legendgroup": "hyperbolic",
         "marker": {
          "color": "#EF553B",
          "pattern": {
           "shape": ""
          }
         },
         "name": "hyperbolic",
         "offsetgroup": "hyperbolic",
         "orientation": "v",
         "showlegend": true,
         "text": [
          0.529,
          0.646,
          0.378
         ],
         "textposition": "auto",
         "type": "bar",
         "x": [
          "IBD Diagnosis",
          "Sex",
          "Hospital Location"
         ],
         "xaxis": "x",
         "y": [
          0.5293069444786712,
          0.6457734926706529,
          0.3775878468796426
         ],
         "yaxis": "y"
        },
        {
         "alignmentgroup": "True",
         "error_y": {
          "array": [
           0.10730093808783489,
           0.12040289056687921,
           0.08835039930509096
          ]
         },
         "hovertemplate": "space=raw<br>feature=%{x}<br>f1 mean=%{y}<br>f1 mean rounded=%{text}<extra></extra>",
         "legendgroup": "raw",
         "marker": {
          "color": "#00cc96",
          "pattern": {
           "shape": ""
          }
         },
         "name": "raw",
         "offsetgroup": "raw",
         "orientation": "v",
         "showlegend": true,
         "text": [
          0.526,
          0.616,
          0.289
         ],
         "textposition": "auto",
         "type": "bar",
         "x": [
          "IBD Diagnosis",
          "Sex",
          "Hospital Location"
         ],
         "xaxis": "x",
         "y": [
          0.5258467023172906,
          0.6164809763975299,
          0.2894854841319372
         ],
         "yaxis": "y"
        },
        {
         "alignmentgroup": "True",
         "error_y": {
          "array": [
           0.10554183772299582,
           0.09910473912085144,
           0.09468692740306311
          ]
         },
         "hovertemplate": "space=tangent<br>feature=%{x}<br>f1 mean=%{y}<br>f1 mean rounded=%{text}<extra></extra>",
         "legendgroup": "tangent",
         "marker": {
          "color": "#ab63fa",
          "pattern": {
           "shape": ""
          }
         },
         "name": "tangent",
         "offsetgroup": "tangent",
         "orientation": "v",
         "showlegend": true,
         "text": [
          0.529,
          0.646,
          0.378
         ],
         "textposition": "auto",
         "type": "bar",
         "x": [
          "IBD Diagnosis",
          "Sex",
          "Hospital Location"
         ],
         "xaxis": "x",
         "y": [
          0.5293069444786712,
          0.6457734926706529,
          0.3775878468796426
         ],
         "yaxis": "y"
        }
       ],
       "layout": {
        "barmode": "group",
        "legend": {
         "title": {
          "text": "space"
         },
         "tracegroupgap": 0
        },
        "margin": {
         "t": 60
        },
        "template": {
         "data": {
          "bar": [
           {
            "error_x": {
             "color": "#2a3f5f"
            },
            "error_y": {
             "color": "#2a3f5f"
            },
            "marker": {
             "line": {
              "color": "#E5ECF6",
              "width": 0.5
             },
             "pattern": {
              "fillmode": "overlay",
              "size": 10,
              "solidity": 0.2
             }
            },
            "type": "bar"
           }
          ],
          "barpolar": [
           {
            "marker": {
             "line": {
              "color": "#E5ECF6",
              "width": 0.5
             },
             "pattern": {
              "fillmode": "overlay",
              "size": 10,
              "solidity": 0.2
             }
            },
            "type": "barpolar"
           }
          ],
          "carpet": [
           {
            "aaxis": {
             "endlinecolor": "#2a3f5f",
             "gridcolor": "white",
             "linecolor": "white",
             "minorgridcolor": "white",
             "startlinecolor": "#2a3f5f"
            },
            "baxis": {
             "endlinecolor": "#2a3f5f",
             "gridcolor": "white",
             "linecolor": "white",
             "minorgridcolor": "white",
             "startlinecolor": "#2a3f5f"
            },
            "type": "carpet"
           }
          ],
          "choropleth": [
           {
            "colorbar": {
             "outlinewidth": 0,
             "ticks": ""
            },
            "type": "choropleth"
           }
          ],
          "contour": [
           {
            "colorbar": {
             "outlinewidth": 0,
             "ticks": ""
            },
            "colorscale": [
             [
              0,
              "#0d0887"
             ],
             [
              0.1111111111111111,
              "#46039f"
             ],
             [
              0.2222222222222222,
              "#7201a8"
             ],
             [
              0.3333333333333333,
              "#9c179e"
             ],
             [
              0.4444444444444444,
              "#bd3786"
             ],
             [
              0.5555555555555556,
              "#d8576b"
             ],
             [
              0.6666666666666666,
              "#ed7953"
             ],
             [
              0.7777777777777778,
              "#fb9f3a"
             ],
             [
              0.8888888888888888,
              "#fdca26"
             ],
             [
              1,
              "#f0f921"
             ]
            ],
            "type": "contour"
           }
          ],
          "contourcarpet": [
           {
            "colorbar": {
             "outlinewidth": 0,
             "ticks": ""
            },
            "type": "contourcarpet"
           }
          ],
          "heatmap": [
           {
            "colorbar": {
             "outlinewidth": 0,
             "ticks": ""
            },
            "colorscale": [
             [
              0,
              "#0d0887"
             ],
             [
              0.1111111111111111,
              "#46039f"
             ],
             [
              0.2222222222222222,
              "#7201a8"
             ],
             [
              0.3333333333333333,
              "#9c179e"
             ],
             [
              0.4444444444444444,
              "#bd3786"
             ],
             [
              0.5555555555555556,
              "#d8576b"
             ],
             [
              0.6666666666666666,
              "#ed7953"
             ],
             [
              0.7777777777777778,
              "#fb9f3a"
             ],
             [
              0.8888888888888888,
              "#fdca26"
             ],
             [
              1,
              "#f0f921"
             ]
            ],
            "type": "heatmap"
           }
          ],
          "heatmapgl": [
           {
            "colorbar": {
             "outlinewidth": 0,
             "ticks": ""
            },
            "colorscale": [
             [
              0,
              "#0d0887"
             ],
             [
              0.1111111111111111,
              "#46039f"
             ],
             [
              0.2222222222222222,
              "#7201a8"
             ],
             [
              0.3333333333333333,
              "#9c179e"
             ],
             [
              0.4444444444444444,
              "#bd3786"
             ],
             [
              0.5555555555555556,
              "#d8576b"
             ],
             [
              0.6666666666666666,
              "#ed7953"
             ],
             [
              0.7777777777777778,
              "#fb9f3a"
             ],
             [
              0.8888888888888888,
              "#fdca26"
             ],
             [
              1,
              "#f0f921"
             ]
            ],
            "type": "heatmapgl"
           }
          ],
          "histogram": [
           {
            "marker": {
             "pattern": {
              "fillmode": "overlay",
              "size": 10,
              "solidity": 0.2
             }
            },
            "type": "histogram"
           }
          ],
          "histogram2d": [
           {
            "colorbar": {
             "outlinewidth": 0,
             "ticks": ""
            },
            "colorscale": [
             [
              0,
              "#0d0887"
             ],
             [
              0.1111111111111111,
              "#46039f"
             ],
             [
              0.2222222222222222,
              "#7201a8"
             ],
             [
              0.3333333333333333,
              "#9c179e"
             ],
             [
              0.4444444444444444,
              "#bd3786"
             ],
             [
              0.5555555555555556,
              "#d8576b"
             ],
             [
              0.6666666666666666,
              "#ed7953"
             ],
             [
              0.7777777777777778,
              "#fb9f3a"
             ],
             [
              0.8888888888888888,
              "#fdca26"
             ],
             [
              1,
              "#f0f921"
             ]
            ],
            "type": "histogram2d"
           }
          ],
          "histogram2dcontour": [
           {
            "colorbar": {
             "outlinewidth": 0,
             "ticks": ""
            },
            "colorscale": [
             [
              0,
              "#0d0887"
             ],
             [
              0.1111111111111111,
              "#46039f"
             ],
             [
              0.2222222222222222,
              "#7201a8"
             ],
             [
              0.3333333333333333,
              "#9c179e"
             ],
             [
              0.4444444444444444,
              "#bd3786"
             ],
             [
              0.5555555555555556,
              "#d8576b"
             ],
             [
              0.6666666666666666,
              "#ed7953"
             ],
             [
              0.7777777777777778,
              "#fb9f3a"
             ],
             [
              0.8888888888888888,
              "#fdca26"
             ],
             [
              1,
              "#f0f921"
             ]
            ],
            "type": "histogram2dcontour"
           }
          ],
          "mesh3d": [
           {
            "colorbar": {
             "outlinewidth": 0,
             "ticks": ""
            },
            "type": "mesh3d"
           }
          ],
          "parcoords": [
           {
            "line": {
             "colorbar": {
              "outlinewidth": 0,
              "ticks": ""
             }
            },
            "type": "parcoords"
           }
          ],
          "pie": [
           {
            "automargin": true,
            "type": "pie"
           }
          ],
          "scatter": [
           {
            "fillpattern": {
             "fillmode": "overlay",
             "size": 10,
             "solidity": 0.2
            },
            "type": "scatter"
           }
          ],
          "scatter3d": [
           {
            "line": {
             "colorbar": {
              "outlinewidth": 0,
              "ticks": ""
             }
            },
            "marker": {
             "colorbar": {
              "outlinewidth": 0,
              "ticks": ""
             }
            },
            "type": "scatter3d"
           }
          ],
          "scattercarpet": [
           {
            "marker": {
             "colorbar": {
              "outlinewidth": 0,
              "ticks": ""
             }
            },
            "type": "scattercarpet"
           }
          ],
          "scattergeo": [
           {
            "marker": {
             "colorbar": {
              "outlinewidth": 0,
              "ticks": ""
             }
            },
            "type": "scattergeo"
           }
          ],
          "scattergl": [
           {
            "marker": {
             "colorbar": {
              "outlinewidth": 0,
              "ticks": ""
             }
            },
            "type": "scattergl"
           }
          ],
          "scattermapbox": [
           {
            "marker": {
             "colorbar": {
              "outlinewidth": 0,
              "ticks": ""
             }
            },
            "type": "scattermapbox"
           }
          ],
          "scatterpolar": [
           {
            "marker": {
             "colorbar": {
              "outlinewidth": 0,
              "ticks": ""
             }
            },
            "type": "scatterpolar"
           }
          ],
          "scatterpolargl": [
           {
            "marker": {
             "colorbar": {
              "outlinewidth": 0,
              "ticks": ""
             }
            },
            "type": "scatterpolargl"
           }
          ],
          "scatterternary": [
           {
            "marker": {
             "colorbar": {
              "outlinewidth": 0,
              "ticks": ""
             }
            },
            "type": "scatterternary"
           }
          ],
          "surface": [
           {
            "colorbar": {
             "outlinewidth": 0,
             "ticks": ""
            },
            "colorscale": [
             [
              0,
              "#0d0887"
             ],
             [
              0.1111111111111111,
              "#46039f"
             ],
             [
              0.2222222222222222,
              "#7201a8"
             ],
             [
              0.3333333333333333,
              "#9c179e"
             ],
             [
              0.4444444444444444,
              "#bd3786"
             ],
             [
              0.5555555555555556,
              "#d8576b"
             ],
             [
              0.6666666666666666,
              "#ed7953"
             ],
             [
              0.7777777777777778,
              "#fb9f3a"
             ],
             [
              0.8888888888888888,
              "#fdca26"
             ],
             [
              1,
              "#f0f921"
             ]
            ],
            "type": "surface"
           }
          ],
          "table": [
           {
            "cells": {
             "fill": {
              "color": "#EBF0F8"
             },
             "line": {
              "color": "white"
             }
            },
            "header": {
             "fill": {
              "color": "#C8D4E3"
             },
             "line": {
              "color": "white"
             }
            },
            "type": "table"
           }
          ]
         },
         "layout": {
          "annotationdefaults": {
           "arrowcolor": "#2a3f5f",
           "arrowhead": 0,
           "arrowwidth": 1
          },
          "autotypenumbers": "strict",
          "coloraxis": {
           "colorbar": {
            "outlinewidth": 0,
            "ticks": ""
           }
          },
          "colorscale": {
           "diverging": [
            [
             0,
             "#8e0152"
            ],
            [
             0.1,
             "#c51b7d"
            ],
            [
             0.2,
             "#de77ae"
            ],
            [
             0.3,
             "#f1b6da"
            ],
            [
             0.4,
             "#fde0ef"
            ],
            [
             0.5,
             "#f7f7f7"
            ],
            [
             0.6,
             "#e6f5d0"
            ],
            [
             0.7,
             "#b8e186"
            ],
            [
             0.8,
             "#7fbc41"
            ],
            [
             0.9,
             "#4d9221"
            ],
            [
             1,
             "#276419"
            ]
           ],
           "sequential": [
            [
             0,
             "#0d0887"
            ],
            [
             0.1111111111111111,
             "#46039f"
            ],
            [
             0.2222222222222222,
             "#7201a8"
            ],
            [
             0.3333333333333333,
             "#9c179e"
            ],
            [
             0.4444444444444444,
             "#bd3786"
            ],
            [
             0.5555555555555556,
             "#d8576b"
            ],
            [
             0.6666666666666666,
             "#ed7953"
            ],
            [
             0.7777777777777778,
             "#fb9f3a"
            ],
            [
             0.8888888888888888,
             "#fdca26"
            ],
            [
             1,
             "#f0f921"
            ]
           ],
           "sequentialminus": [
            [
             0,
             "#0d0887"
            ],
            [
             0.1111111111111111,
             "#46039f"
            ],
            [
             0.2222222222222222,
             "#7201a8"
            ],
            [
             0.3333333333333333,
             "#9c179e"
            ],
            [
             0.4444444444444444,
             "#bd3786"
            ],
            [
             0.5555555555555556,
             "#d8576b"
            ],
            [
             0.6666666666666666,
             "#ed7953"
            ],
            [
             0.7777777777777778,
             "#fb9f3a"
            ],
            [
             0.8888888888888888,
             "#fdca26"
            ],
            [
             1,
             "#f0f921"
            ]
           ]
          },
          "colorway": [
           "#636efa",
           "#EF553B",
           "#00cc96",
           "#ab63fa",
           "#FFA15A",
           "#19d3f3",
           "#FF6692",
           "#B6E880",
           "#FF97FF",
           "#FECB52"
          ],
          "font": {
           "color": "#2a3f5f"
          },
          "geo": {
           "bgcolor": "white",
           "lakecolor": "white",
           "landcolor": "#E5ECF6",
           "showlakes": true,
           "showland": true,
           "subunitcolor": "white"
          },
          "hoverlabel": {
           "align": "left"
          },
          "hovermode": "closest",
          "mapbox": {
           "style": "light"
          },
          "paper_bgcolor": "white",
          "plot_bgcolor": "#E5ECF6",
          "polar": {
           "angularaxis": {
            "gridcolor": "white",
            "linecolor": "white",
            "ticks": ""
           },
           "bgcolor": "#E5ECF6",
           "radialaxis": {
            "gridcolor": "white",
            "linecolor": "white",
            "ticks": ""
           }
          },
          "scene": {
           "xaxis": {
            "backgroundcolor": "#E5ECF6",
            "gridcolor": "white",
            "gridwidth": 2,
            "linecolor": "white",
            "showbackground": true,
            "ticks": "",
            "zerolinecolor": "white"
           },
           "yaxis": {
            "backgroundcolor": "#E5ECF6",
            "gridcolor": "white",
            "gridwidth": 2,
            "linecolor": "white",
            "showbackground": true,
            "ticks": "",
            "zerolinecolor": "white"
           },
           "zaxis": {
            "backgroundcolor": "#E5ECF6",
            "gridcolor": "white",
            "gridwidth": 2,
            "linecolor": "white",
            "showbackground": true,
            "ticks": "",
            "zerolinecolor": "white"
           }
          },
          "shapedefaults": {
           "line": {
            "color": "#2a3f5f"
           }
          },
          "ternary": {
           "aaxis": {
            "gridcolor": "white",
            "linecolor": "white",
            "ticks": ""
           },
           "baxis": {
            "gridcolor": "white",
            "linecolor": "white",
            "ticks": ""
           },
           "bgcolor": "#E5ECF6",
           "caxis": {
            "gridcolor": "white",
            "linecolor": "white",
            "ticks": ""
           }
          },
          "title": {
           "x": 0.05
          },
          "xaxis": {
           "automargin": true,
           "gridcolor": "white",
           "linecolor": "white",
           "ticks": "",
           "title": {
            "standoff": 15
           },
           "zerolinecolor": "white",
           "zerolinewidth": 2
          },
          "yaxis": {
           "automargin": true,
           "gridcolor": "white",
           "linecolor": "white",
           "ticks": "",
           "title": {
            "standoff": 15
           },
           "zerolinecolor": "white",
           "zerolinewidth": 2
          }
         }
        },
        "title": {
         "text": "RF: Mean F1 Score for CNN 128 Embeddings",
         "x": 0.5,
         "xanchor": "center"
        },
        "xaxis": {
         "anchor": "y",
         "domain": [
          0,
          1
         ],
         "title": {
          "text": "Predicted IBD Metadata"
         }
        },
        "yaxis": {
         "anchor": "x",
         "domain": [
          0,
          1
         ],
         "title": {
          "text": "f1 mean"
         }
        }
       }
      },
      "text/html": [
       "<div>                            <div id=\"f8e3e7ec-10a7-486f-9639-93c1aab7dac4\" class=\"plotly-graph-div\" style=\"height:525px; width:100%;\"></div>            <script type=\"text/javascript\">                require([\"plotly\"], function(Plotly) {                    window.PLOTLYENV=window.PLOTLYENV || {};                                    if (document.getElementById(\"f8e3e7ec-10a7-486f-9639-93c1aab7dac4\")) {                    Plotly.newPlot(                        \"f8e3e7ec-10a7-486f-9639-93c1aab7dac4\",                        [{\"alignmentgroup\":\"True\",\"error_y\":{\"array\":[0.11922215293798405,0.08007248390018043,0.08915318528232834]},\"hovertemplate\":\"space=euclidean<br>feature=%{x}<br>f1 mean=%{y}<br>f1 mean rounded=%{text}<extra></extra>\",\"legendgroup\":\"euclidean\",\"marker\":{\"color\":\"#636efa\",\"pattern\":{\"shape\":\"\"}},\"name\":\"euclidean\",\"offsetgroup\":\"euclidean\",\"orientation\":\"v\",\"showlegend\":true,\"text\":[0.563,0.588,0.409],\"textposition\":\"auto\",\"x\":[\"IBD Diagnosis\",\"Sex\",\"Hospital Location\"],\"xaxis\":\"x\",\"y\":[0.5632336430173241,0.5875463991724861,0.4093502172548141],\"yaxis\":\"y\",\"type\":\"bar\"},{\"alignmentgroup\":\"True\",\"error_y\":{\"array\":[0.10554183772299582,0.09910473912085144,0.09468692740306311]},\"hovertemplate\":\"space=hyperbolic<br>feature=%{x}<br>f1 mean=%{y}<br>f1 mean rounded=%{text}<extra></extra>\",\"legendgroup\":\"hyperbolic\",\"marker\":{\"color\":\"#EF553B\",\"pattern\":{\"shape\":\"\"}},\"name\":\"hyperbolic\",\"offsetgroup\":\"hyperbolic\",\"orientation\":\"v\",\"showlegend\":true,\"text\":[0.529,0.646,0.378],\"textposition\":\"auto\",\"x\":[\"IBD Diagnosis\",\"Sex\",\"Hospital Location\"],\"xaxis\":\"x\",\"y\":[0.5293069444786712,0.6457734926706529,0.3775878468796426],\"yaxis\":\"y\",\"type\":\"bar\"},{\"alignmentgroup\":\"True\",\"error_y\":{\"array\":[0.10730093808783489,0.12040289056687921,0.08835039930509096]},\"hovertemplate\":\"space=raw<br>feature=%{x}<br>f1 mean=%{y}<br>f1 mean rounded=%{text}<extra></extra>\",\"legendgroup\":\"raw\",\"marker\":{\"color\":\"#00cc96\",\"pattern\":{\"shape\":\"\"}},\"name\":\"raw\",\"offsetgroup\":\"raw\",\"orientation\":\"v\",\"showlegend\":true,\"text\":[0.526,0.616,0.289],\"textposition\":\"auto\",\"x\":[\"IBD Diagnosis\",\"Sex\",\"Hospital Location\"],\"xaxis\":\"x\",\"y\":[0.5258467023172906,0.6164809763975299,0.2894854841319372],\"yaxis\":\"y\",\"type\":\"bar\"},{\"alignmentgroup\":\"True\",\"error_y\":{\"array\":[0.10554183772299582,0.09910473912085144,0.09468692740306311]},\"hovertemplate\":\"space=tangent<br>feature=%{x}<br>f1 mean=%{y}<br>f1 mean rounded=%{text}<extra></extra>\",\"legendgroup\":\"tangent\",\"marker\":{\"color\":\"#ab63fa\",\"pattern\":{\"shape\":\"\"}},\"name\":\"tangent\",\"offsetgroup\":\"tangent\",\"orientation\":\"v\",\"showlegend\":true,\"text\":[0.529,0.646,0.378],\"textposition\":\"auto\",\"x\":[\"IBD Diagnosis\",\"Sex\",\"Hospital Location\"],\"xaxis\":\"x\",\"y\":[0.5293069444786712,0.6457734926706529,0.3775878468796426],\"yaxis\":\"y\",\"type\":\"bar\"}],                        {\"template\":{\"data\":{\"histogram2dcontour\":[{\"type\":\"histogram2dcontour\",\"colorbar\":{\"outlinewidth\":0,\"ticks\":\"\"},\"colorscale\":[[0.0,\"#0d0887\"],[0.1111111111111111,\"#46039f\"],[0.2222222222222222,\"#7201a8\"],[0.3333333333333333,\"#9c179e\"],[0.4444444444444444,\"#bd3786\"],[0.5555555555555556,\"#d8576b\"],[0.6666666666666666,\"#ed7953\"],[0.7777777777777778,\"#fb9f3a\"],[0.8888888888888888,\"#fdca26\"],[1.0,\"#f0f921\"]]}],\"choropleth\":[{\"type\":\"choropleth\",\"colorbar\":{\"outlinewidth\":0,\"ticks\":\"\"}}],\"histogram2d\":[{\"type\":\"histogram2d\",\"colorbar\":{\"outlinewidth\":0,\"ticks\":\"\"},\"colorscale\":[[0.0,\"#0d0887\"],[0.1111111111111111,\"#46039f\"],[0.2222222222222222,\"#7201a8\"],[0.3333333333333333,\"#9c179e\"],[0.4444444444444444,\"#bd3786\"],[0.5555555555555556,\"#d8576b\"],[0.6666666666666666,\"#ed7953\"],[0.7777777777777778,\"#fb9f3a\"],[0.8888888888888888,\"#fdca26\"],[1.0,\"#f0f921\"]]}],\"heatmap\":[{\"type\":\"heatmap\",\"colorbar\":{\"outlinewidth\":0,\"ticks\":\"\"},\"colorscale\":[[0.0,\"#0d0887\"],[0.1111111111111111,\"#46039f\"],[0.2222222222222222,\"#7201a8\"],[0.3333333333333333,\"#9c179e\"],[0.4444444444444444,\"#bd3786\"],[0.5555555555555556,\"#d8576b\"],[0.6666666666666666,\"#ed7953\"],[0.7777777777777778,\"#fb9f3a\"],[0.8888888888888888,\"#fdca26\"],[1.0,\"#f0f921\"]]}],\"heatmapgl\":[{\"type\":\"heatmapgl\",\"colorbar\":{\"outlinewidth\":0,\"ticks\":\"\"},\"colorscale\":[[0.0,\"#0d0887\"],[0.1111111111111111,\"#46039f\"],[0.2222222222222222,\"#7201a8\"],[0.3333333333333333,\"#9c179e\"],[0.4444444444444444,\"#bd3786\"],[0.5555555555555556,\"#d8576b\"],[0.6666666666666666,\"#ed7953\"],[0.7777777777777778,\"#fb9f3a\"],[0.8888888888888888,\"#fdca26\"],[1.0,\"#f0f921\"]]}],\"contourcarpet\":[{\"type\":\"contourcarpet\",\"colorbar\":{\"outlinewidth\":0,\"ticks\":\"\"}}],\"contour\":[{\"type\":\"contour\",\"colorbar\":{\"outlinewidth\":0,\"ticks\":\"\"},\"colorscale\":[[0.0,\"#0d0887\"],[0.1111111111111111,\"#46039f\"],[0.2222222222222222,\"#7201a8\"],[0.3333333333333333,\"#9c179e\"],[0.4444444444444444,\"#bd3786\"],[0.5555555555555556,\"#d8576b\"],[0.6666666666666666,\"#ed7953\"],[0.7777777777777778,\"#fb9f3a\"],[0.8888888888888888,\"#fdca26\"],[1.0,\"#f0f921\"]]}],\"surface\":[{\"type\":\"surface\",\"colorbar\":{\"outlinewidth\":0,\"ticks\":\"\"},\"colorscale\":[[0.0,\"#0d0887\"],[0.1111111111111111,\"#46039f\"],[0.2222222222222222,\"#7201a8\"],[0.3333333333333333,\"#9c179e\"],[0.4444444444444444,\"#bd3786\"],[0.5555555555555556,\"#d8576b\"],[0.6666666666666666,\"#ed7953\"],[0.7777777777777778,\"#fb9f3a\"],[0.8888888888888888,\"#fdca26\"],[1.0,\"#f0f921\"]]}],\"mesh3d\":[{\"type\":\"mesh3d\",\"colorbar\":{\"outlinewidth\":0,\"ticks\":\"\"}}],\"scatter\":[{\"fillpattern\":{\"fillmode\":\"overlay\",\"size\":10,\"solidity\":0.2},\"type\":\"scatter\"}],\"parcoords\":[{\"type\":\"parcoords\",\"line\":{\"colorbar\":{\"outlinewidth\":0,\"ticks\":\"\"}}}],\"scatterpolargl\":[{\"type\":\"scatterpolargl\",\"marker\":{\"colorbar\":{\"outlinewidth\":0,\"ticks\":\"\"}}}],\"bar\":[{\"error_x\":{\"color\":\"#2a3f5f\"},\"error_y\":{\"color\":\"#2a3f5f\"},\"marker\":{\"line\":{\"color\":\"#E5ECF6\",\"width\":0.5},\"pattern\":{\"fillmode\":\"overlay\",\"size\":10,\"solidity\":0.2}},\"type\":\"bar\"}],\"scattergeo\":[{\"type\":\"scattergeo\",\"marker\":{\"colorbar\":{\"outlinewidth\":0,\"ticks\":\"\"}}}],\"scatterpolar\":[{\"type\":\"scatterpolar\",\"marker\":{\"colorbar\":{\"outlinewidth\":0,\"ticks\":\"\"}}}],\"histogram\":[{\"marker\":{\"pattern\":{\"fillmode\":\"overlay\",\"size\":10,\"solidity\":0.2}},\"type\":\"histogram\"}],\"scattergl\":[{\"type\":\"scattergl\",\"marker\":{\"colorbar\":{\"outlinewidth\":0,\"ticks\":\"\"}}}],\"scatter3d\":[{\"type\":\"scatter3d\",\"line\":{\"colorbar\":{\"outlinewidth\":0,\"ticks\":\"\"}},\"marker\":{\"colorbar\":{\"outlinewidth\":0,\"ticks\":\"\"}}}],\"scattermapbox\":[{\"type\":\"scattermapbox\",\"marker\":{\"colorbar\":{\"outlinewidth\":0,\"ticks\":\"\"}}}],\"scatterternary\":[{\"type\":\"scatterternary\",\"marker\":{\"colorbar\":{\"outlinewidth\":0,\"ticks\":\"\"}}}],\"scattercarpet\":[{\"type\":\"scattercarpet\",\"marker\":{\"colorbar\":{\"outlinewidth\":0,\"ticks\":\"\"}}}],\"carpet\":[{\"aaxis\":{\"endlinecolor\":\"#2a3f5f\",\"gridcolor\":\"white\",\"linecolor\":\"white\",\"minorgridcolor\":\"white\",\"startlinecolor\":\"#2a3f5f\"},\"baxis\":{\"endlinecolor\":\"#2a3f5f\",\"gridcolor\":\"white\",\"linecolor\":\"white\",\"minorgridcolor\":\"white\",\"startlinecolor\":\"#2a3f5f\"},\"type\":\"carpet\"}],\"table\":[{\"cells\":{\"fill\":{\"color\":\"#EBF0F8\"},\"line\":{\"color\":\"white\"}},\"header\":{\"fill\":{\"color\":\"#C8D4E3\"},\"line\":{\"color\":\"white\"}},\"type\":\"table\"}],\"barpolar\":[{\"marker\":{\"line\":{\"color\":\"#E5ECF6\",\"width\":0.5},\"pattern\":{\"fillmode\":\"overlay\",\"size\":10,\"solidity\":0.2}},\"type\":\"barpolar\"}],\"pie\":[{\"automargin\":true,\"type\":\"pie\"}]},\"layout\":{\"autotypenumbers\":\"strict\",\"colorway\":[\"#636efa\",\"#EF553B\",\"#00cc96\",\"#ab63fa\",\"#FFA15A\",\"#19d3f3\",\"#FF6692\",\"#B6E880\",\"#FF97FF\",\"#FECB52\"],\"font\":{\"color\":\"#2a3f5f\"},\"hovermode\":\"closest\",\"hoverlabel\":{\"align\":\"left\"},\"paper_bgcolor\":\"white\",\"plot_bgcolor\":\"#E5ECF6\",\"polar\":{\"bgcolor\":\"#E5ECF6\",\"angularaxis\":{\"gridcolor\":\"white\",\"linecolor\":\"white\",\"ticks\":\"\"},\"radialaxis\":{\"gridcolor\":\"white\",\"linecolor\":\"white\",\"ticks\":\"\"}},\"ternary\":{\"bgcolor\":\"#E5ECF6\",\"aaxis\":{\"gridcolor\":\"white\",\"linecolor\":\"white\",\"ticks\":\"\"},\"baxis\":{\"gridcolor\":\"white\",\"linecolor\":\"white\",\"ticks\":\"\"},\"caxis\":{\"gridcolor\":\"white\",\"linecolor\":\"white\",\"ticks\":\"\"}},\"coloraxis\":{\"colorbar\":{\"outlinewidth\":0,\"ticks\":\"\"}},\"colorscale\":{\"sequential\":[[0.0,\"#0d0887\"],[0.1111111111111111,\"#46039f\"],[0.2222222222222222,\"#7201a8\"],[0.3333333333333333,\"#9c179e\"],[0.4444444444444444,\"#bd3786\"],[0.5555555555555556,\"#d8576b\"],[0.6666666666666666,\"#ed7953\"],[0.7777777777777778,\"#fb9f3a\"],[0.8888888888888888,\"#fdca26\"],[1.0,\"#f0f921\"]],\"sequentialminus\":[[0.0,\"#0d0887\"],[0.1111111111111111,\"#46039f\"],[0.2222222222222222,\"#7201a8\"],[0.3333333333333333,\"#9c179e\"],[0.4444444444444444,\"#bd3786\"],[0.5555555555555556,\"#d8576b\"],[0.6666666666666666,\"#ed7953\"],[0.7777777777777778,\"#fb9f3a\"],[0.8888888888888888,\"#fdca26\"],[1.0,\"#f0f921\"]],\"diverging\":[[0,\"#8e0152\"],[0.1,\"#c51b7d\"],[0.2,\"#de77ae\"],[0.3,\"#f1b6da\"],[0.4,\"#fde0ef\"],[0.5,\"#f7f7f7\"],[0.6,\"#e6f5d0\"],[0.7,\"#b8e186\"],[0.8,\"#7fbc41\"],[0.9,\"#4d9221\"],[1,\"#276419\"]]},\"xaxis\":{\"gridcolor\":\"white\",\"linecolor\":\"white\",\"ticks\":\"\",\"title\":{\"standoff\":15},\"zerolinecolor\":\"white\",\"automargin\":true,\"zerolinewidth\":2},\"yaxis\":{\"gridcolor\":\"white\",\"linecolor\":\"white\",\"ticks\":\"\",\"title\":{\"standoff\":15},\"zerolinecolor\":\"white\",\"automargin\":true,\"zerolinewidth\":2},\"scene\":{\"xaxis\":{\"backgroundcolor\":\"#E5ECF6\",\"gridcolor\":\"white\",\"linecolor\":\"white\",\"showbackground\":true,\"ticks\":\"\",\"zerolinecolor\":\"white\",\"gridwidth\":2},\"yaxis\":{\"backgroundcolor\":\"#E5ECF6\",\"gridcolor\":\"white\",\"linecolor\":\"white\",\"showbackground\":true,\"ticks\":\"\",\"zerolinecolor\":\"white\",\"gridwidth\":2},\"zaxis\":{\"backgroundcolor\":\"#E5ECF6\",\"gridcolor\":\"white\",\"linecolor\":\"white\",\"showbackground\":true,\"ticks\":\"\",\"zerolinecolor\":\"white\",\"gridwidth\":2}},\"shapedefaults\":{\"line\":{\"color\":\"#2a3f5f\"}},\"annotationdefaults\":{\"arrowcolor\":\"#2a3f5f\",\"arrowhead\":0,\"arrowwidth\":1},\"geo\":{\"bgcolor\":\"white\",\"landcolor\":\"#E5ECF6\",\"subunitcolor\":\"white\",\"showland\":true,\"showlakes\":true,\"lakecolor\":\"white\"},\"title\":{\"x\":0.05},\"mapbox\":{\"style\":\"light\"}}},\"xaxis\":{\"anchor\":\"y\",\"domain\":[0.0,1.0],\"title\":{\"text\":\"Predicted IBD Metadata\"}},\"yaxis\":{\"anchor\":\"x\",\"domain\":[0.0,1.0],\"title\":{\"text\":\"f1 mean\"}},\"legend\":{\"title\":{\"text\":\"space\"},\"tracegroupgap\":0},\"margin\":{\"t\":60},\"barmode\":\"group\",\"title\":{\"text\":\"RF: Mean F1 Score for CNN 128 Embeddings\",\"xanchor\":\"center\",\"x\":0.5}},                        {\"responsive\": true}                    ).then(function(){\n",
       "                            \n",
       "var gd = document.getElementById('f8e3e7ec-10a7-486f-9639-93c1aab7dac4');\n",
       "var x = new MutationObserver(function (mutations, observer) {{\n",
       "        var display = window.getComputedStyle(gd).display;\n",
       "        if (!display || display === 'none') {{\n",
       "            console.log([gd, 'removed!']);\n",
       "            Plotly.purge(gd);\n",
       "            observer.disconnect();\n",
       "        }}\n",
       "}});\n",
       "\n",
       "// Listen for the removal of the full notebook cells\n",
       "var notebookContainer = gd.closest('#notebook-container');\n",
       "if (notebookContainer) {{\n",
       "    x.observe(notebookContainer, {childList: true});\n",
       "}}\n",
       "\n",
       "// Listen for the clearing of the current output cell\n",
       "var outputEl = gd.closest('.output');\n",
       "if (outputEl) {{\n",
       "    x.observe(outputEl, {childList: true});\n",
       "}}\n",
       "\n",
       "                        })                };                });            </script>        </div>"
      ]
     },
     "metadata": {},
     "output_type": "display_data"
    }
   ],
   "source": [
    "model = 'RF'\n",
    "fig = px.bar(rf_df, x='feature', y='f1 mean', color='space', barmode='group', error_y='f1 std', text='f1 mean rounded')\n",
    "fig.update_layout(title={'text': '{}: Mean F1 Score for CNN 128 Embeddings'.format(model), 'xanchor': 'center', 'x':0.5})\n",
    "fig.update_xaxes(title=\"Predicted IBD Metadata\")\n",
    "fig.show()"
   ]
  },
  {
   "cell_type": "code",
   "execution_count": 106,
   "metadata": {},
   "outputs": [
    {
     "name": "stdout",
     "output_type": "stream",
     "text": [
      "['IBD Diagnosis' 'Sex' 'Hospital Location'] [0.56323364 0.5875464  0.40935022]\n",
      "['IBD Diagnosis' 'Sex' 'Hospital Location'] [0.52930694 0.64577349 0.37758785]\n",
      "['IBD Diagnosis' 'Sex' 'Hospital Location'] [0.5258467  0.61648098 0.28948548]\n",
      "['IBD Diagnosis' 'Sex' 'Hospital Location'] [0.52930694 0.64577349 0.37758785]\n"
     ]
    }
   ],
   "source": [
    "for data in fig.data:\n",
    "    x = data['x']\n",
    "    y = data['y']\n",
    "    print(x, y)"
   ]
  },
  {
   "cell_type": "code",
   "execution_count": 108,
   "metadata": {},
   "outputs": [
    {
     "data": {
      "application/vnd.plotly.v1+json": {
       "config": {
        "plotlyServerURL": "https://plot.ly"
       },
       "data": [
        {
         "alignmentgroup": "True",
         "error_y": {
          "array": [
           0.11922215293798405,
           0.08007248390018043,
           0.08915318528232834
          ]
         },
         "hovertemplate": "space=euclidean<br>feature=%{x}<br>f1 mean=%{y}<br>f1 mean rounded=%{text}<extra></extra>",
         "legendgroup": "euclidean",
         "marker": {
          "color": "#636efa",
          "pattern": {
           "shape": ""
          }
         },
         "name": "euclidean",
         "offsetgroup": "euclidean",
         "orientation": "v",
         "showlegend": true,
         "text": [
          0.563,
          0.588,
          0.409
         ],
         "textposition": "auto",
         "type": "bar",
         "x": [
          "IBD Diagnosis",
          "Sex",
          "Hospital Location"
         ],
         "xaxis": "x",
         "y": [
          0.5632336430173241,
          0.5875463991724861,
          0.4093502172548141
         ],
         "yaxis": "y"
        },
        {
         "alignmentgroup": "True",
         "error_y": {
          "array": [
           0.10554183772299582,
           0.09910473912085144,
           0.09468692740306311
          ]
         },
         "hovertemplate": "space=hyperbolic<br>feature=%{x}<br>f1 mean=%{y}<br>f1 mean rounded=%{text}<extra></extra>",
         "legendgroup": "hyperbolic",
         "marker": {
          "color": "#EF553B",
          "pattern": {
           "shape": ""
          }
         },
         "name": "hyperbolic",
         "offsetgroup": "hyperbolic",
         "orientation": "v",
         "showlegend": true,
         "text": [
          0.529,
          0.646,
          0.378
         ],
         "textposition": "auto",
         "type": "bar",
         "x": [
          "IBD Diagnosis",
          "Sex",
          "Hospital Location"
         ],
         "xaxis": "x",
         "y": [
          0.5293069444786712,
          0.6457734926706529,
          0.3775878468796426
         ],
         "yaxis": "y"
        },
        {
         "alignmentgroup": "True",
         "error_y": {
          "array": [
           0.10730093808783489,
           0.12040289056687921,
           0.08835039930509096
          ]
         },
         "hovertemplate": "space=raw<br>feature=%{x}<br>f1 mean=%{y}<br>f1 mean rounded=%{text}<extra></extra>",
         "legendgroup": "raw",
         "marker": {
          "color": "#00cc96",
          "pattern": {
           "shape": ""
          }
         },
         "name": "raw",
         "offsetgroup": "raw",
         "orientation": "v",
         "showlegend": true,
         "text": [
          0.526,
          0.616,
          0.289
         ],
         "textposition": "auto",
         "type": "bar",
         "x": [
          "IBD Diagnosis",
          "Sex",
          "Hospital Location"
         ],
         "xaxis": "x",
         "y": [
          0.5258467023172906,
          0.6164809763975299,
          0.2894854841319372
         ],
         "yaxis": "y"
        },
        {
         "alignmentgroup": "True",
         "error_y": {
          "array": [
           0.10554183772299582,
           0.09910473912085144,
           0.09468692740306311
          ]
         },
         "hovertemplate": "space=tangent<br>feature=%{x}<br>f1 mean=%{y}<br>f1 mean rounded=%{text}<extra></extra>",
         "legendgroup": "tangent",
         "marker": {
          "color": "#ab63fa",
          "pattern": {
           "shape": ""
          }
         },
         "name": "tangent",
         "offsetgroup": "tangent",
         "orientation": "v",
         "showlegend": true,
         "text": [
          0.529,
          0.646,
          0.378
         ],
         "textposition": "auto",
         "type": "bar",
         "x": [
          "IBD Diagnosis",
          "Sex",
          "Hospital Location"
         ],
         "xaxis": "x",
         "y": [
          0.5293069444786712,
          0.6457734926706529,
          0.3775878468796426
         ],
         "yaxis": "y"
        }
       ],
       "layout": {
        "annotations": [
         {
          "ax": [
           "IBD Diagnosis",
           "Sex",
           "Hospital Location"
          ]
         },
         {
          "ax": [
           "IBD Diagnosis",
           "Sex",
           "Hospital Location"
          ]
         }
        ],
        "barmode": "group",
        "legend": {
         "title": {
          "text": "space"
         },
         "tracegroupgap": 0
        },
        "margin": {
         "t": 60
        },
        "template": {
         "data": {
          "bar": [
           {
            "error_x": {
             "color": "#2a3f5f"
            },
            "error_y": {
             "color": "#2a3f5f"
            },
            "marker": {
             "line": {
              "color": "#E5ECF6",
              "width": 0.5
             },
             "pattern": {
              "fillmode": "overlay",
              "size": 10,
              "solidity": 0.2
             }
            },
            "type": "bar"
           }
          ],
          "barpolar": [
           {
            "marker": {
             "line": {
              "color": "#E5ECF6",
              "width": 0.5
             },
             "pattern": {
              "fillmode": "overlay",
              "size": 10,
              "solidity": 0.2
             }
            },
            "type": "barpolar"
           }
          ],
          "carpet": [
           {
            "aaxis": {
             "endlinecolor": "#2a3f5f",
             "gridcolor": "white",
             "linecolor": "white",
             "minorgridcolor": "white",
             "startlinecolor": "#2a3f5f"
            },
            "baxis": {
             "endlinecolor": "#2a3f5f",
             "gridcolor": "white",
             "linecolor": "white",
             "minorgridcolor": "white",
             "startlinecolor": "#2a3f5f"
            },
            "type": "carpet"
           }
          ],
          "choropleth": [
           {
            "colorbar": {
             "outlinewidth": 0,
             "ticks": ""
            },
            "type": "choropleth"
           }
          ],
          "contour": [
           {
            "colorbar": {
             "outlinewidth": 0,
             "ticks": ""
            },
            "colorscale": [
             [
              0,
              "#0d0887"
             ],
             [
              0.1111111111111111,
              "#46039f"
             ],
             [
              0.2222222222222222,
              "#7201a8"
             ],
             [
              0.3333333333333333,
              "#9c179e"
             ],
             [
              0.4444444444444444,
              "#bd3786"
             ],
             [
              0.5555555555555556,
              "#d8576b"
             ],
             [
              0.6666666666666666,
              "#ed7953"
             ],
             [
              0.7777777777777778,
              "#fb9f3a"
             ],
             [
              0.8888888888888888,
              "#fdca26"
             ],
             [
              1,
              "#f0f921"
             ]
            ],
            "type": "contour"
           }
          ],
          "contourcarpet": [
           {
            "colorbar": {
             "outlinewidth": 0,
             "ticks": ""
            },
            "type": "contourcarpet"
           }
          ],
          "heatmap": [
           {
            "colorbar": {
             "outlinewidth": 0,
             "ticks": ""
            },
            "colorscale": [
             [
              0,
              "#0d0887"
             ],
             [
              0.1111111111111111,
              "#46039f"
             ],
             [
              0.2222222222222222,
              "#7201a8"
             ],
             [
              0.3333333333333333,
              "#9c179e"
             ],
             [
              0.4444444444444444,
              "#bd3786"
             ],
             [
              0.5555555555555556,
              "#d8576b"
             ],
             [
              0.6666666666666666,
              "#ed7953"
             ],
             [
              0.7777777777777778,
              "#fb9f3a"
             ],
             [
              0.8888888888888888,
              "#fdca26"
             ],
             [
              1,
              "#f0f921"
             ]
            ],
            "type": "heatmap"
           }
          ],
          "heatmapgl": [
           {
            "colorbar": {
             "outlinewidth": 0,
             "ticks": ""
            },
            "colorscale": [
             [
              0,
              "#0d0887"
             ],
             [
              0.1111111111111111,
              "#46039f"
             ],
             [
              0.2222222222222222,
              "#7201a8"
             ],
             [
              0.3333333333333333,
              "#9c179e"
             ],
             [
              0.4444444444444444,
              "#bd3786"
             ],
             [
              0.5555555555555556,
              "#d8576b"
             ],
             [
              0.6666666666666666,
              "#ed7953"
             ],
             [
              0.7777777777777778,
              "#fb9f3a"
             ],
             [
              0.8888888888888888,
              "#fdca26"
             ],
             [
              1,
              "#f0f921"
             ]
            ],
            "type": "heatmapgl"
           }
          ],
          "histogram": [
           {
            "marker": {
             "pattern": {
              "fillmode": "overlay",
              "size": 10,
              "solidity": 0.2
             }
            },
            "type": "histogram"
           }
          ],
          "histogram2d": [
           {
            "colorbar": {
             "outlinewidth": 0,
             "ticks": ""
            },
            "colorscale": [
             [
              0,
              "#0d0887"
             ],
             [
              0.1111111111111111,
              "#46039f"
             ],
             [
              0.2222222222222222,
              "#7201a8"
             ],
             [
              0.3333333333333333,
              "#9c179e"
             ],
             [
              0.4444444444444444,
              "#bd3786"
             ],
             [
              0.5555555555555556,
              "#d8576b"
             ],
             [
              0.6666666666666666,
              "#ed7953"
             ],
             [
              0.7777777777777778,
              "#fb9f3a"
             ],
             [
              0.8888888888888888,
              "#fdca26"
             ],
             [
              1,
              "#f0f921"
             ]
            ],
            "type": "histogram2d"
           }
          ],
          "histogram2dcontour": [
           {
            "colorbar": {
             "outlinewidth": 0,
             "ticks": ""
            },
            "colorscale": [
             [
              0,
              "#0d0887"
             ],
             [
              0.1111111111111111,
              "#46039f"
             ],
             [
              0.2222222222222222,
              "#7201a8"
             ],
             [
              0.3333333333333333,
              "#9c179e"
             ],
             [
              0.4444444444444444,
              "#bd3786"
             ],
             [
              0.5555555555555556,
              "#d8576b"
             ],
             [
              0.6666666666666666,
              "#ed7953"
             ],
             [
              0.7777777777777778,
              "#fb9f3a"
             ],
             [
              0.8888888888888888,
              "#fdca26"
             ],
             [
              1,
              "#f0f921"
             ]
            ],
            "type": "histogram2dcontour"
           }
          ],
          "mesh3d": [
           {
            "colorbar": {
             "outlinewidth": 0,
             "ticks": ""
            },
            "type": "mesh3d"
           }
          ],
          "parcoords": [
           {
            "line": {
             "colorbar": {
              "outlinewidth": 0,
              "ticks": ""
             }
            },
            "type": "parcoords"
           }
          ],
          "pie": [
           {
            "automargin": true,
            "type": "pie"
           }
          ],
          "scatter": [
           {
            "fillpattern": {
             "fillmode": "overlay",
             "size": 10,
             "solidity": 0.2
            },
            "type": "scatter"
           }
          ],
          "scatter3d": [
           {
            "line": {
             "colorbar": {
              "outlinewidth": 0,
              "ticks": ""
             }
            },
            "marker": {
             "colorbar": {
              "outlinewidth": 0,
              "ticks": ""
             }
            },
            "type": "scatter3d"
           }
          ],
          "scattercarpet": [
           {
            "marker": {
             "colorbar": {
              "outlinewidth": 0,
              "ticks": ""
             }
            },
            "type": "scattercarpet"
           }
          ],
          "scattergeo": [
           {
            "marker": {
             "colorbar": {
              "outlinewidth": 0,
              "ticks": ""
             }
            },
            "type": "scattergeo"
           }
          ],
          "scattergl": [
           {
            "marker": {
             "colorbar": {
              "outlinewidth": 0,
              "ticks": ""
             }
            },
            "type": "scattergl"
           }
          ],
          "scattermapbox": [
           {
            "marker": {
             "colorbar": {
              "outlinewidth": 0,
              "ticks": ""
             }
            },
            "type": "scattermapbox"
           }
          ],
          "scatterpolar": [
           {
            "marker": {
             "colorbar": {
              "outlinewidth": 0,
              "ticks": ""
             }
            },
            "type": "scatterpolar"
           }
          ],
          "scatterpolargl": [
           {
            "marker": {
             "colorbar": {
              "outlinewidth": 0,
              "ticks": ""
             }
            },
            "type": "scatterpolargl"
           }
          ],
          "scatterternary": [
           {
            "marker": {
             "colorbar": {
              "outlinewidth": 0,
              "ticks": ""
             }
            },
            "type": "scatterternary"
           }
          ],
          "surface": [
           {
            "colorbar": {
             "outlinewidth": 0,
             "ticks": ""
            },
            "colorscale": [
             [
              0,
              "#0d0887"
             ],
             [
              0.1111111111111111,
              "#46039f"
             ],
             [
              0.2222222222222222,
              "#7201a8"
             ],
             [
              0.3333333333333333,
              "#9c179e"
             ],
             [
              0.4444444444444444,
              "#bd3786"
             ],
             [
              0.5555555555555556,
              "#d8576b"
             ],
             [
              0.6666666666666666,
              "#ed7953"
             ],
             [
              0.7777777777777778,
              "#fb9f3a"
             ],
             [
              0.8888888888888888,
              "#fdca26"
             ],
             [
              1,
              "#f0f921"
             ]
            ],
            "type": "surface"
           }
          ],
          "table": [
           {
            "cells": {
             "fill": {
              "color": "#EBF0F8"
             },
             "line": {
              "color": "white"
             }
            },
            "header": {
             "fill": {
              "color": "#C8D4E3"
             },
             "line": {
              "color": "white"
             }
            },
            "type": "table"
           }
          ]
         },
         "layout": {
          "annotationdefaults": {
           "arrowcolor": "#2a3f5f",
           "arrowhead": 0,
           "arrowwidth": 1
          },
          "autotypenumbers": "strict",
          "coloraxis": {
           "colorbar": {
            "outlinewidth": 0,
            "ticks": ""
           }
          },
          "colorscale": {
           "diverging": [
            [
             0,
             "#8e0152"
            ],
            [
             0.1,
             "#c51b7d"
            ],
            [
             0.2,
             "#de77ae"
            ],
            [
             0.3,
             "#f1b6da"
            ],
            [
             0.4,
             "#fde0ef"
            ],
            [
             0.5,
             "#f7f7f7"
            ],
            [
             0.6,
             "#e6f5d0"
            ],
            [
             0.7,
             "#b8e186"
            ],
            [
             0.8,
             "#7fbc41"
            ],
            [
             0.9,
             "#4d9221"
            ],
            [
             1,
             "#276419"
            ]
           ],
           "sequential": [
            [
             0,
             "#0d0887"
            ],
            [
             0.1111111111111111,
             "#46039f"
            ],
            [
             0.2222222222222222,
             "#7201a8"
            ],
            [
             0.3333333333333333,
             "#9c179e"
            ],
            [
             0.4444444444444444,
             "#bd3786"
            ],
            [
             0.5555555555555556,
             "#d8576b"
            ],
            [
             0.6666666666666666,
             "#ed7953"
            ],
            [
             0.7777777777777778,
             "#fb9f3a"
            ],
            [
             0.8888888888888888,
             "#fdca26"
            ],
            [
             1,
             "#f0f921"
            ]
           ],
           "sequentialminus": [
            [
             0,
             "#0d0887"
            ],
            [
             0.1111111111111111,
             "#46039f"
            ],
            [
             0.2222222222222222,
             "#7201a8"
            ],
            [
             0.3333333333333333,
             "#9c179e"
            ],
            [
             0.4444444444444444,
             "#bd3786"
            ],
            [
             0.5555555555555556,
             "#d8576b"
            ],
            [
             0.6666666666666666,
             "#ed7953"
            ],
            [
             0.7777777777777778,
             "#fb9f3a"
            ],
            [
             0.8888888888888888,
             "#fdca26"
            ],
            [
             1,
             "#f0f921"
            ]
           ]
          },
          "colorway": [
           "#636efa",
           "#EF553B",
           "#00cc96",
           "#ab63fa",
           "#FFA15A",
           "#19d3f3",
           "#FF6692",
           "#B6E880",
           "#FF97FF",
           "#FECB52"
          ],
          "font": {
           "color": "#2a3f5f"
          },
          "geo": {
           "bgcolor": "white",
           "lakecolor": "white",
           "landcolor": "#E5ECF6",
           "showlakes": true,
           "showland": true,
           "subunitcolor": "white"
          },
          "hoverlabel": {
           "align": "left"
          },
          "hovermode": "closest",
          "mapbox": {
           "style": "light"
          },
          "paper_bgcolor": "white",
          "plot_bgcolor": "#E5ECF6",
          "polar": {
           "angularaxis": {
            "gridcolor": "white",
            "linecolor": "white",
            "ticks": ""
           },
           "bgcolor": "#E5ECF6",
           "radialaxis": {
            "gridcolor": "white",
            "linecolor": "white",
            "ticks": ""
           }
          },
          "scene": {
           "xaxis": {
            "backgroundcolor": "#E5ECF6",
            "gridcolor": "white",
            "gridwidth": 2,
            "linecolor": "white",
            "showbackground": true,
            "ticks": "",
            "zerolinecolor": "white"
           },
           "yaxis": {
            "backgroundcolor": "#E5ECF6",
            "gridcolor": "white",
            "gridwidth": 2,
            "linecolor": "white",
            "showbackground": true,
            "ticks": "",
            "zerolinecolor": "white"
           },
           "zaxis": {
            "backgroundcolor": "#E5ECF6",
            "gridcolor": "white",
            "gridwidth": 2,
            "linecolor": "white",
            "showbackground": true,
            "ticks": "",
            "zerolinecolor": "white"
           }
          },
          "shapedefaults": {
           "line": {
            "color": "#2a3f5f"
           }
          },
          "ternary": {
           "aaxis": {
            "gridcolor": "white",
            "linecolor": "white",
            "ticks": ""
           },
           "baxis": {
            "gridcolor": "white",
            "linecolor": "white",
            "ticks": ""
           },
           "bgcolor": "#E5ECF6",
           "caxis": {
            "gridcolor": "white",
            "linecolor": "white",
            "ticks": ""
           }
          },
          "title": {
           "x": 0.05
          },
          "xaxis": {
           "automargin": true,
           "gridcolor": "white",
           "linecolor": "white",
           "ticks": "",
           "title": {
            "standoff": 15
           },
           "zerolinecolor": "white",
           "zerolinewidth": 2
          },
          "yaxis": {
           "automargin": true,
           "gridcolor": "white",
           "linecolor": "white",
           "ticks": "",
           "title": {
            "standoff": 15
           },
           "zerolinecolor": "white",
           "zerolinewidth": 2
          }
         }
        },
        "title": {
         "text": "RF: Mean F1 Score for CNN 128 Embeddings",
         "x": 0.5,
         "xanchor": "center"
        },
        "xaxis": {
         "anchor": "y",
         "domain": [
          0,
          1
         ],
         "title": {
          "text": "Predicted IBD Metadata"
         }
        },
        "yaxis": {
         "anchor": "x",
         "domain": [
          0,
          1
         ],
         "title": {
          "text": "f1 mean"
         }
        }
       }
      },
      "text/html": [
       "<div>                            <div id=\"ccc6f5d5-111f-42b7-a100-8b9a959323b9\" class=\"plotly-graph-div\" style=\"height:525px; width:100%;\"></div>            <script type=\"text/javascript\">                require([\"plotly\"], function(Plotly) {                    window.PLOTLYENV=window.PLOTLYENV || {};                                    if (document.getElementById(\"ccc6f5d5-111f-42b7-a100-8b9a959323b9\")) {                    Plotly.newPlot(                        \"ccc6f5d5-111f-42b7-a100-8b9a959323b9\",                        [{\"alignmentgroup\":\"True\",\"error_y\":{\"array\":[0.11922215293798405,0.08007248390018043,0.08915318528232834]},\"hovertemplate\":\"space=euclidean<br>feature=%{x}<br>f1 mean=%{y}<br>f1 mean rounded=%{text}<extra></extra>\",\"legendgroup\":\"euclidean\",\"marker\":{\"color\":\"#636efa\",\"pattern\":{\"shape\":\"\"}},\"name\":\"euclidean\",\"offsetgroup\":\"euclidean\",\"orientation\":\"v\",\"showlegend\":true,\"text\":[0.563,0.588,0.409],\"textposition\":\"auto\",\"x\":[\"IBD Diagnosis\",\"Sex\",\"Hospital Location\"],\"xaxis\":\"x\",\"y\":[0.5632336430173241,0.5875463991724861,0.4093502172548141],\"yaxis\":\"y\",\"type\":\"bar\"},{\"alignmentgroup\":\"True\",\"error_y\":{\"array\":[0.10554183772299582,0.09910473912085144,0.09468692740306311]},\"hovertemplate\":\"space=hyperbolic<br>feature=%{x}<br>f1 mean=%{y}<br>f1 mean rounded=%{text}<extra></extra>\",\"legendgroup\":\"hyperbolic\",\"marker\":{\"color\":\"#EF553B\",\"pattern\":{\"shape\":\"\"}},\"name\":\"hyperbolic\",\"offsetgroup\":\"hyperbolic\",\"orientation\":\"v\",\"showlegend\":true,\"text\":[0.529,0.646,0.378],\"textposition\":\"auto\",\"x\":[\"IBD Diagnosis\",\"Sex\",\"Hospital Location\"],\"xaxis\":\"x\",\"y\":[0.5293069444786712,0.6457734926706529,0.3775878468796426],\"yaxis\":\"y\",\"type\":\"bar\"},{\"alignmentgroup\":\"True\",\"error_y\":{\"array\":[0.10730093808783489,0.12040289056687921,0.08835039930509096]},\"hovertemplate\":\"space=raw<br>feature=%{x}<br>f1 mean=%{y}<br>f1 mean rounded=%{text}<extra></extra>\",\"legendgroup\":\"raw\",\"marker\":{\"color\":\"#00cc96\",\"pattern\":{\"shape\":\"\"}},\"name\":\"raw\",\"offsetgroup\":\"raw\",\"orientation\":\"v\",\"showlegend\":true,\"text\":[0.526,0.616,0.289],\"textposition\":\"auto\",\"x\":[\"IBD Diagnosis\",\"Sex\",\"Hospital Location\"],\"xaxis\":\"x\",\"y\":[0.5258467023172906,0.6164809763975299,0.2894854841319372],\"yaxis\":\"y\",\"type\":\"bar\"},{\"alignmentgroup\":\"True\",\"error_y\":{\"array\":[0.10554183772299582,0.09910473912085144,0.09468692740306311]},\"hovertemplate\":\"space=tangent<br>feature=%{x}<br>f1 mean=%{y}<br>f1 mean rounded=%{text}<extra></extra>\",\"legendgroup\":\"tangent\",\"marker\":{\"color\":\"#ab63fa\",\"pattern\":{\"shape\":\"\"}},\"name\":\"tangent\",\"offsetgroup\":\"tangent\",\"orientation\":\"v\",\"showlegend\":true,\"text\":[0.529,0.646,0.378],\"textposition\":\"auto\",\"x\":[\"IBD Diagnosis\",\"Sex\",\"Hospital Location\"],\"xaxis\":\"x\",\"y\":[0.5293069444786712,0.6457734926706529,0.3775878468796426],\"yaxis\":\"y\",\"type\":\"bar\"}],                        {\"template\":{\"data\":{\"histogram2dcontour\":[{\"type\":\"histogram2dcontour\",\"colorbar\":{\"outlinewidth\":0,\"ticks\":\"\"},\"colorscale\":[[0.0,\"#0d0887\"],[0.1111111111111111,\"#46039f\"],[0.2222222222222222,\"#7201a8\"],[0.3333333333333333,\"#9c179e\"],[0.4444444444444444,\"#bd3786\"],[0.5555555555555556,\"#d8576b\"],[0.6666666666666666,\"#ed7953\"],[0.7777777777777778,\"#fb9f3a\"],[0.8888888888888888,\"#fdca26\"],[1.0,\"#f0f921\"]]}],\"choropleth\":[{\"type\":\"choropleth\",\"colorbar\":{\"outlinewidth\":0,\"ticks\":\"\"}}],\"histogram2d\":[{\"type\":\"histogram2d\",\"colorbar\":{\"outlinewidth\":0,\"ticks\":\"\"},\"colorscale\":[[0.0,\"#0d0887\"],[0.1111111111111111,\"#46039f\"],[0.2222222222222222,\"#7201a8\"],[0.3333333333333333,\"#9c179e\"],[0.4444444444444444,\"#bd3786\"],[0.5555555555555556,\"#d8576b\"],[0.6666666666666666,\"#ed7953\"],[0.7777777777777778,\"#fb9f3a\"],[0.8888888888888888,\"#fdca26\"],[1.0,\"#f0f921\"]]}],\"heatmap\":[{\"type\":\"heatmap\",\"colorbar\":{\"outlinewidth\":0,\"ticks\":\"\"},\"colorscale\":[[0.0,\"#0d0887\"],[0.1111111111111111,\"#46039f\"],[0.2222222222222222,\"#7201a8\"],[0.3333333333333333,\"#9c179e\"],[0.4444444444444444,\"#bd3786\"],[0.5555555555555556,\"#d8576b\"],[0.6666666666666666,\"#ed7953\"],[0.7777777777777778,\"#fb9f3a\"],[0.8888888888888888,\"#fdca26\"],[1.0,\"#f0f921\"]]}],\"heatmapgl\":[{\"type\":\"heatmapgl\",\"colorbar\":{\"outlinewidth\":0,\"ticks\":\"\"},\"colorscale\":[[0.0,\"#0d0887\"],[0.1111111111111111,\"#46039f\"],[0.2222222222222222,\"#7201a8\"],[0.3333333333333333,\"#9c179e\"],[0.4444444444444444,\"#bd3786\"],[0.5555555555555556,\"#d8576b\"],[0.6666666666666666,\"#ed7953\"],[0.7777777777777778,\"#fb9f3a\"],[0.8888888888888888,\"#fdca26\"],[1.0,\"#f0f921\"]]}],\"contourcarpet\":[{\"type\":\"contourcarpet\",\"colorbar\":{\"outlinewidth\":0,\"ticks\":\"\"}}],\"contour\":[{\"type\":\"contour\",\"colorbar\":{\"outlinewidth\":0,\"ticks\":\"\"},\"colorscale\":[[0.0,\"#0d0887\"],[0.1111111111111111,\"#46039f\"],[0.2222222222222222,\"#7201a8\"],[0.3333333333333333,\"#9c179e\"],[0.4444444444444444,\"#bd3786\"],[0.5555555555555556,\"#d8576b\"],[0.6666666666666666,\"#ed7953\"],[0.7777777777777778,\"#fb9f3a\"],[0.8888888888888888,\"#fdca26\"],[1.0,\"#f0f921\"]]}],\"surface\":[{\"type\":\"surface\",\"colorbar\":{\"outlinewidth\":0,\"ticks\":\"\"},\"colorscale\":[[0.0,\"#0d0887\"],[0.1111111111111111,\"#46039f\"],[0.2222222222222222,\"#7201a8\"],[0.3333333333333333,\"#9c179e\"],[0.4444444444444444,\"#bd3786\"],[0.5555555555555556,\"#d8576b\"],[0.6666666666666666,\"#ed7953\"],[0.7777777777777778,\"#fb9f3a\"],[0.8888888888888888,\"#fdca26\"],[1.0,\"#f0f921\"]]}],\"mesh3d\":[{\"type\":\"mesh3d\",\"colorbar\":{\"outlinewidth\":0,\"ticks\":\"\"}}],\"scatter\":[{\"fillpattern\":{\"fillmode\":\"overlay\",\"size\":10,\"solidity\":0.2},\"type\":\"scatter\"}],\"parcoords\":[{\"type\":\"parcoords\",\"line\":{\"colorbar\":{\"outlinewidth\":0,\"ticks\":\"\"}}}],\"scatterpolargl\":[{\"type\":\"scatterpolargl\",\"marker\":{\"colorbar\":{\"outlinewidth\":0,\"ticks\":\"\"}}}],\"bar\":[{\"error_x\":{\"color\":\"#2a3f5f\"},\"error_y\":{\"color\":\"#2a3f5f\"},\"marker\":{\"line\":{\"color\":\"#E5ECF6\",\"width\":0.5},\"pattern\":{\"fillmode\":\"overlay\",\"size\":10,\"solidity\":0.2}},\"type\":\"bar\"}],\"scattergeo\":[{\"type\":\"scattergeo\",\"marker\":{\"colorbar\":{\"outlinewidth\":0,\"ticks\":\"\"}}}],\"scatterpolar\":[{\"type\":\"scatterpolar\",\"marker\":{\"colorbar\":{\"outlinewidth\":0,\"ticks\":\"\"}}}],\"histogram\":[{\"marker\":{\"pattern\":{\"fillmode\":\"overlay\",\"size\":10,\"solidity\":0.2}},\"type\":\"histogram\"}],\"scattergl\":[{\"type\":\"scattergl\",\"marker\":{\"colorbar\":{\"outlinewidth\":0,\"ticks\":\"\"}}}],\"scatter3d\":[{\"type\":\"scatter3d\",\"line\":{\"colorbar\":{\"outlinewidth\":0,\"ticks\":\"\"}},\"marker\":{\"colorbar\":{\"outlinewidth\":0,\"ticks\":\"\"}}}],\"scattermapbox\":[{\"type\":\"scattermapbox\",\"marker\":{\"colorbar\":{\"outlinewidth\":0,\"ticks\":\"\"}}}],\"scatterternary\":[{\"type\":\"scatterternary\",\"marker\":{\"colorbar\":{\"outlinewidth\":0,\"ticks\":\"\"}}}],\"scattercarpet\":[{\"type\":\"scattercarpet\",\"marker\":{\"colorbar\":{\"outlinewidth\":0,\"ticks\":\"\"}}}],\"carpet\":[{\"aaxis\":{\"endlinecolor\":\"#2a3f5f\",\"gridcolor\":\"white\",\"linecolor\":\"white\",\"minorgridcolor\":\"white\",\"startlinecolor\":\"#2a3f5f\"},\"baxis\":{\"endlinecolor\":\"#2a3f5f\",\"gridcolor\":\"white\",\"linecolor\":\"white\",\"minorgridcolor\":\"white\",\"startlinecolor\":\"#2a3f5f\"},\"type\":\"carpet\"}],\"table\":[{\"cells\":{\"fill\":{\"color\":\"#EBF0F8\"},\"line\":{\"color\":\"white\"}},\"header\":{\"fill\":{\"color\":\"#C8D4E3\"},\"line\":{\"color\":\"white\"}},\"type\":\"table\"}],\"barpolar\":[{\"marker\":{\"line\":{\"color\":\"#E5ECF6\",\"width\":0.5},\"pattern\":{\"fillmode\":\"overlay\",\"size\":10,\"solidity\":0.2}},\"type\":\"barpolar\"}],\"pie\":[{\"automargin\":true,\"type\":\"pie\"}]},\"layout\":{\"autotypenumbers\":\"strict\",\"colorway\":[\"#636efa\",\"#EF553B\",\"#00cc96\",\"#ab63fa\",\"#FFA15A\",\"#19d3f3\",\"#FF6692\",\"#B6E880\",\"#FF97FF\",\"#FECB52\"],\"font\":{\"color\":\"#2a3f5f\"},\"hovermode\":\"closest\",\"hoverlabel\":{\"align\":\"left\"},\"paper_bgcolor\":\"white\",\"plot_bgcolor\":\"#E5ECF6\",\"polar\":{\"bgcolor\":\"#E5ECF6\",\"angularaxis\":{\"gridcolor\":\"white\",\"linecolor\":\"white\",\"ticks\":\"\"},\"radialaxis\":{\"gridcolor\":\"white\",\"linecolor\":\"white\",\"ticks\":\"\"}},\"ternary\":{\"bgcolor\":\"#E5ECF6\",\"aaxis\":{\"gridcolor\":\"white\",\"linecolor\":\"white\",\"ticks\":\"\"},\"baxis\":{\"gridcolor\":\"white\",\"linecolor\":\"white\",\"ticks\":\"\"},\"caxis\":{\"gridcolor\":\"white\",\"linecolor\":\"white\",\"ticks\":\"\"}},\"coloraxis\":{\"colorbar\":{\"outlinewidth\":0,\"ticks\":\"\"}},\"colorscale\":{\"sequential\":[[0.0,\"#0d0887\"],[0.1111111111111111,\"#46039f\"],[0.2222222222222222,\"#7201a8\"],[0.3333333333333333,\"#9c179e\"],[0.4444444444444444,\"#bd3786\"],[0.5555555555555556,\"#d8576b\"],[0.6666666666666666,\"#ed7953\"],[0.7777777777777778,\"#fb9f3a\"],[0.8888888888888888,\"#fdca26\"],[1.0,\"#f0f921\"]],\"sequentialminus\":[[0.0,\"#0d0887\"],[0.1111111111111111,\"#46039f\"],[0.2222222222222222,\"#7201a8\"],[0.3333333333333333,\"#9c179e\"],[0.4444444444444444,\"#bd3786\"],[0.5555555555555556,\"#d8576b\"],[0.6666666666666666,\"#ed7953\"],[0.7777777777777778,\"#fb9f3a\"],[0.8888888888888888,\"#fdca26\"],[1.0,\"#f0f921\"]],\"diverging\":[[0,\"#8e0152\"],[0.1,\"#c51b7d\"],[0.2,\"#de77ae\"],[0.3,\"#f1b6da\"],[0.4,\"#fde0ef\"],[0.5,\"#f7f7f7\"],[0.6,\"#e6f5d0\"],[0.7,\"#b8e186\"],[0.8,\"#7fbc41\"],[0.9,\"#4d9221\"],[1,\"#276419\"]]},\"xaxis\":{\"gridcolor\":\"white\",\"linecolor\":\"white\",\"ticks\":\"\",\"title\":{\"standoff\":15},\"zerolinecolor\":\"white\",\"automargin\":true,\"zerolinewidth\":2},\"yaxis\":{\"gridcolor\":\"white\",\"linecolor\":\"white\",\"ticks\":\"\",\"title\":{\"standoff\":15},\"zerolinecolor\":\"white\",\"automargin\":true,\"zerolinewidth\":2},\"scene\":{\"xaxis\":{\"backgroundcolor\":\"#E5ECF6\",\"gridcolor\":\"white\",\"linecolor\":\"white\",\"showbackground\":true,\"ticks\":\"\",\"zerolinecolor\":\"white\",\"gridwidth\":2},\"yaxis\":{\"backgroundcolor\":\"#E5ECF6\",\"gridcolor\":\"white\",\"linecolor\":\"white\",\"showbackground\":true,\"ticks\":\"\",\"zerolinecolor\":\"white\",\"gridwidth\":2},\"zaxis\":{\"backgroundcolor\":\"#E5ECF6\",\"gridcolor\":\"white\",\"linecolor\":\"white\",\"showbackground\":true,\"ticks\":\"\",\"zerolinecolor\":\"white\",\"gridwidth\":2}},\"shapedefaults\":{\"line\":{\"color\":\"#2a3f5f\"}},\"annotationdefaults\":{\"arrowcolor\":\"#2a3f5f\",\"arrowhead\":0,\"arrowwidth\":1},\"geo\":{\"bgcolor\":\"white\",\"landcolor\":\"#E5ECF6\",\"subunitcolor\":\"white\",\"showland\":true,\"showlakes\":true,\"lakecolor\":\"white\"},\"title\":{\"x\":0.05},\"mapbox\":{\"style\":\"light\"}}},\"xaxis\":{\"anchor\":\"y\",\"domain\":[0.0,1.0],\"title\":{\"text\":\"Predicted IBD Metadata\"}},\"yaxis\":{\"anchor\":\"x\",\"domain\":[0.0,1.0],\"title\":{\"text\":\"f1 mean\"}},\"legend\":{\"title\":{\"text\":\"space\"},\"tracegroupgap\":0},\"margin\":{\"t\":60},\"barmode\":\"group\",\"title\":{\"text\":\"RF: Mean F1 Score for CNN 128 Embeddings\",\"xanchor\":\"center\",\"x\":0.5},\"annotations\":[{\"ax\":[\"IBD Diagnosis\",\"Sex\",\"Hospital Location\"]},{\"ax\":[\"IBD Diagnosis\",\"Sex\",\"Hospital Location\"]}]},                        {\"responsive\": true}                    ).then(function(){\n",
       "                            \n",
       "var gd = document.getElementById('ccc6f5d5-111f-42b7-a100-8b9a959323b9');\n",
       "var x = new MutationObserver(function (mutations, observer) {{\n",
       "        var display = window.getComputedStyle(gd).display;\n",
       "        if (!display || display === 'none') {{\n",
       "            console.log([gd, 'removed!']);\n",
       "            Plotly.purge(gd);\n",
       "            observer.disconnect();\n",
       "        }}\n",
       "}});\n",
       "\n",
       "// Listen for the removal of the full notebook cells\n",
       "var notebookContainer = gd.closest('#notebook-container');\n",
       "if (notebookContainer) {{\n",
       "    x.observe(notebookContainer, {childList: true});\n",
       "}}\n",
       "\n",
       "// Listen for the clearing of the current output cell\n",
       "var outputEl = gd.closest('.output');\n",
       "if (outputEl) {{\n",
       "    x.observe(outputEl, {childList: true});\n",
       "}}\n",
       "\n",
       "                        })                };                });            </script>        </div>"
      ]
     },
     "metadata": {},
     "output_type": "display_data"
    }
   ],
   "source": [
    "fig.add_annotation(ax=x)\n",
    "fig.show()"
   ]
  },
  {
   "cell_type": "code",
   "execution_count": null,
   "metadata": {},
   "outputs": [],
   "source": [
    "# model = 'MLP'\n",
    "# fig = px.bar(mlp_df, x='feature', y='f1', color='space', barmode='group', text='f1 rounded')\n",
    "# fig.update_layout(title={'text': 'F1 Score for CNN 128 Embeddings with {}'.format(model), 'xanchor': 'center', 'x':0.5})\n",
    "# fig.update_xaxes(title=\"Predicted IBD Metadata\")\n",
    "# fig.show()"
   ]
  }
 ],
 "metadata": {
  "kernelspec": {
   "display_name": "mixture",
   "language": "python",
   "name": "python3"
  },
  "language_info": {
   "codemirror_mode": {
    "name": "ipython",
    "version": 3
   },
   "file_extension": ".py",
   "mimetype": "text/x-python",
   "name": "python",
   "nbconvert_exporter": "python",
   "pygments_lexer": "ipython3",
   "version": "3.10.6"
  },
  "orig_nbformat": 4
 },
 "nbformat": 4,
 "nbformat_minor": 2
}
