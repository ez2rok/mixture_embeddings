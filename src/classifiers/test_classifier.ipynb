{
 "cells": [
  {
   "cell_type": "code",
   "execution_count": 1,
   "metadata": {},
   "outputs": [],
   "source": [
    "%load_ext autoreload\n",
    "%autoreload 2"
   ]
  },
  {
   "cell_type": "code",
   "execution_count": 2,
   "metadata": {},
   "outputs": [
    {
     "name": "stderr",
     "output_type": "stream",
     "text": [
      "INFO: Using numpy backend\n",
      "/home/ethan/mambaforge/envs/mixture/lib/python3.10/site-packages/torchvision/io/image.py:13: UserWarning: Failed to load image Python extension: /home/ethan/mambaforge/envs/mixture/lib/python3.10/site-packages/torchvision/image.so: undefined symbol: _ZN2at4_ops19empty_memory_format4callEN3c108ArrayRefINS2_6SymIntEEENS2_8optionalINS2_10ScalarTypeEEENS6_INS2_6LayoutEEENS6_INS2_6DeviceEEENS6_IbEENS6_INS2_12MemoryFormatEEE\n",
      "  warn(f\"Failed to load image Python extension: {e}\")\n"
     ]
    }
   ],
   "source": [
    "import numpy as np\n",
    "import pandas as pd\n",
    "\n",
    "from tqdm import tqdm\n",
    "\n",
    "from geomstats.learning.preprocessing import ToTangentSpace\n",
    "from geomstats.geometry.hyperbolic import Hyperbolic\n",
    "\n",
    "from sklearn.manifold import MDS\n",
    "from sklearn.ensemble import RandomForestClassifier, RandomForestRegressor\n",
    "from sklearn.metrics import f1_score, mean_squared_error\n",
    "from sklearn.preprocessing import LabelEncoder\n",
    "from sklearn.model_selection import RepeatedKFold, RepeatedStratifiedKFold\n",
    "from sklearn.dummy import DummyClassifier, DummyRegressor\n",
    "\n",
    "import plotly.express as px\n",
    "import plotly.graph_objects as go\n",
    "\n",
    "# local files\n",
    "from src.util.data_handling.data_loader import load_dataset\n",
    "from src.classifiers.mlp import MLP\n",
    "\n",
    "from icecream import ic"
   ]
  },
  {
   "cell_type": "code",
   "execution_count": 3,
   "metadata": {},
   "outputs": [],
   "source": [
    "# supress pandas warning\n",
    "# Source: https://stackoverflow.com/questions/20625582/how-to-deal-with-settingwithcopywarning-in-pandas\n",
    "pd.options.mode.chained_assignment = None"
   ]
  },
  {
   "cell_type": "code",
   "execution_count": 4,
   "metadata": {},
   "outputs": [],
   "source": [
    "seed = 43"
   ]
  },
  {
   "attachments": {},
   "cell_type": "markdown",
   "metadata": {},
   "source": [
    "# Load Data"
   ]
  },
  {
   "cell_type": "code",
   "execution_count": 5,
   "metadata": {},
   "outputs": [],
   "source": [
    "data_name = 'ibd'\n",
    "euclidean_embeddings_path = '../../data/processed/mixture_embeddings/{}/cnn_euclidean_128_mixture_embeddings.pickle'.format(data_name)\n",
    "hyperbolic_embeddings_path = '../../data/processed/mixture_embeddings/{}/cnn_hyperbolic_128_mixture_embeddings.pickle'.format(data_name)\n",
    "raw_path = '../../data/interim/ihmp/{}_data.pickle'.format(data_name)\n",
    "metadata_path = '../../data/interim/ihmp/{}_metadata.pickle'.format(data_name)"
   ]
  },
  {
   "cell_type": "code",
   "execution_count": 6,
   "metadata": {},
   "outputs": [],
   "source": [
    "metadata = load_dataset(metadata_path)"
   ]
  },
  {
   "cell_type": "code",
   "execution_count": 7,
   "metadata": {},
   "outputs": [],
   "source": [
    "def inverse_log_norm_transformation(X):\n",
    "    \"\"\"When we generate X_raw, we add 1e-10 and take the log. Here we perform\n",
    "    the inverse of these operations. However, instead of using 1e-10 we use 1e-11\n",
    "    to ensure our numbers are all positive. If we subtracted 1e-10, then due to\n",
    "    numerical stability issues, we'd end up with some negative values.\"\"\"\n",
    "    return np.exp(X) - 1e-11"
   ]
  },
  {
   "cell_type": "code",
   "execution_count": 8,
   "metadata": {},
   "outputs": [],
   "source": [
    "X_euclidean = load_dataset(euclidean_embeddings_path).astype('float32')\n",
    "X_hyperbolic = load_dataset(hyperbolic_embeddings_path).astype('float32')\n",
    "\n",
    "# X_tangent is data in Euclidean plane tangent to hyperbolic manifold\n",
    "embedding_size = X_hyperbolic.shape[1]\n",
    "hyperbolic = Hyperbolic(dim=embedding_size, default_coords_type='ball') # why do we have the -1 here?\n",
    "to_tangent = ToTangentSpace(geometry=hyperbolic, method='adaptive', epsilon=1e-3)\n",
    "to_tangent.fit(X_hyperbolic)\n",
    "X_tangent = to_tangent.transform(X_hyperbolic).astype('float32')\n",
    "\n",
    "# Multidimensional scaling on X_raw\n",
    "X_raw = load_dataset(raw_path).values\n",
    "X_raw = inverse_log_norm_transformation(X_raw)\n",
    "assert np.all(X_raw >= 0) # sanity check\n",
    "dim_red = MDS(n_components=embedding_size, random_state=seed, normalized_stress='auto')\n",
    "X_raw = dim_red.fit_transform(X_raw).astype('float32')\n",
    "\n",
    "\n",
    "space_to_data = {\n",
    "    'raw': X_raw,\n",
    "    'euclidean': X_euclidean,\n",
    "    'hyperbolic': X_hyperbolic,\n",
    "    'tangent': X_tangent\n",
    "}"
   ]
  },
  {
   "attachments": {},
   "cell_type": "markdown",
   "metadata": {},
   "source": [
    "# Predict"
   ]
  },
  {
   "cell_type": "code",
   "execution_count": 9,
   "metadata": {},
   "outputs": [],
   "source": [
    "def my_f1_score(y_true, y_pred):\n",
    "    return f1_score(y_true, y_pred, average='macro')"
   ]
  },
  {
   "cell_type": "code",
   "execution_count": 10,
   "metadata": {},
   "outputs": [],
   "source": [
    "feature_to_task = {\n",
    "    'diagnosis': 'clf',\n",
    "    'site_name': 'clf',\n",
    "    'sex': 'clf'\n",
    "    }\n",
    "\n",
    "task_to_models = {\n",
    "    'clf': {\n",
    "        # 'rf': RandomForestClassifier(random_state=seed), \n",
    "        # 'dummy': DummyClassifier(),\n",
    "        'mlp': MLP(duration='100ep')\n",
    "        }, \n",
    "    'reg': {\n",
    "        'rf': RandomForestRegressor(random_state=seed), \n",
    "        'dummy': DummyRegressor()\n",
    "        }\n",
    "}\n",
    "\n",
    "task_to_metrics = {\n",
    "    'clf': {'f1': my_f1_score},\n",
    "    'ref': {'mse': mean_squared_error}\n",
    "}"
   ]
  },
  {
   "cell_type": "code",
   "execution_count": 11,
   "metadata": {},
   "outputs": [
    {
     "name": "stderr",
     "output_type": "stream",
     "text": [
      "Predict diagnosis:   0%|          | 0/4 [00:00<?, ?it/s]INFO: Setting seed to 42\n",
      "INFO: Run name: 1683515860-elite-gaur\n",
      "INFO: Stepping schedulers every batch. To step schedulers every epoch, set `step_schedulers_every_batch=False`.\n",
      "INFO: Setting seed to 42\n",
      "INFO: Setting seed to 42\n",
      "INFO: Using precision Precision.AMP_FP16\n"
     ]
    }
   ],
   "source": [
    "results = []\n",
    "n_splits = 5\n",
    "n_repeats = 1\n",
    "\n",
    "for feature, task in feature_to_task.items():\n",
    "    for space, X in tqdm(space_to_data.items(), desc='Predict {}'.format(feature)):\n",
    "        y = metadata[feature].to_numpy()\n",
    "        \n",
    "        if feature == 'diagnosis':\n",
    "            mask = metadata[feature] == 'nonIBD'\n",
    "            y = y[~mask]\n",
    "            X = X[~mask]\n",
    "                        \n",
    "        if task == 'clf':\n",
    "            encoder = LabelEncoder()\n",
    "            y = encoder.fit_transform(y)\n",
    "            \n",
    "        model_name_to_model = task_to_models[task]\n",
    "        metric_name_to_metric = task_to_metrics[task]\n",
    "            \n",
    "        # split the data\n",
    "        if task == 'clf':\n",
    "            folds = RepeatedStratifiedKFold(n_splits=n_splits, n_repeats=n_repeats, random_state=seed)\n",
    "        else:\n",
    "            folds = RepeatedKFold(n_splits=n_splits, n_repeats=n_repeats, random_state=seed)\n",
    "            \n",
    "        # loop over splits\n",
    "        for split_idx, (train_idx, test_idx) in enumerate(folds.split(X, y)):\n",
    "            X_train, X_test, y_train, y_test = X[train_idx], X[test_idx], y[train_idx], y[test_idx]\n",
    "            \n",
    "            # loop over models\n",
    "            for model_name, model in model_name_to_model.items():\n",
    "                \n",
    "                # fit model and predict\n",
    "                model.fit(X_train, y_train)\n",
    "                y_pred = model.predict(X_test)\n",
    "                \n",
    "                # measure and save metrics\n",
    "                scores = {metric_name: metric(y_test, y_pred) for metric_name, metric in metric_name_to_metric.items()}\n",
    "                results.append({\n",
    "                    'feature': feature,\n",
    "                    'task': task,\n",
    "                    'space': space,\n",
    "                    'model': model_name,\n",
    "                    'split': split_idx,\n",
    "                    } | scores\n",
    "                            )"
   ]
  },
  {
   "cell_type": "code",
   "execution_count": null,
   "metadata": {},
   "outputs": [],
   "source": [
    "df = pd.DataFrame(results)\n",
    "df"
   ]
  },
  {
   "attachments": {},
   "cell_type": "markdown",
   "metadata": {},
   "source": [
    "# Plot Results"
   ]
  },
  {
   "cell_type": "code",
   "execution_count": null,
   "metadata": {},
   "outputs": [],
   "source": [
    "group = df.groupby(['feature', 'task', 'space', 'model'])\n",
    "group_describe = group.describe(percentiles=[])\n",
    "group_describe = group_describe.drop(columns=['split'])\n",
    "group_describe.columns = [' '.join(column).strip() for column in group_describe.columns]\n",
    "group_describe = group_describe.reset_index()\n",
    "group_describe = group_describe.drop(columns=[column for column in group_describe.columns if 'count' in column])\n",
    "df2 = group_describe\n",
    "df2"
   ]
  },
  {
   "cell_type": "code",
   "execution_count": null,
   "metadata": {},
   "outputs": [],
   "source": [
    "rf_df = df2[df2['model'] == 'rf']\n",
    "dummy_df = df2[df2['model'] == 'dummy']\n",
    "mlp_df = df2[df2['model'] == 'mlp']"
   ]
  },
  {
   "cell_type": "code",
   "execution_count": null,
   "metadata": {},
   "outputs": [],
   "source": [
    "rf_df"
   ]
  },
  {
   "cell_type": "code",
   "execution_count": null,
   "metadata": {},
   "outputs": [],
   "source": [
    "dummy_values = dummy_df['f1 mean']\n",
    "dummy_df"
   ]
  },
  {
   "cell_type": "code",
   "execution_count": null,
   "metadata": {},
   "outputs": [],
   "source": [
    "rf_df['f1 mean rounded'] = rf_df['f1 mean'].round(3)\n",
    "rf_df['feature'][rf_df['feature'] == 'sex'] = 'Sex'\n",
    "rf_df['feature'][rf_df['feature'] == 'diagnosis'] = 'IBD Diagnosis'\n",
    "rf_df['feature'][rf_df['feature'] == 'site_name'] = 'Hospital Location'"
   ]
  },
  {
   "cell_type": "code",
   "execution_count": null,
   "metadata": {},
   "outputs": [],
   "source": [
    "rf_df"
   ]
  },
  {
   "cell_type": "code",
   "execution_count": null,
   "metadata": {},
   "outputs": [],
   "source": [
    "model = 'RF'\n",
    "fig = px.bar(rf_df, x='feature', y='f1 mean', color='space', barmode='group', error_y='f1 std', text='f1 mean rounded')\n",
    "fig.update_layout(title={'text': '{}: Mean F1 Score for CNN 128 Embeddings'.format(model), 'xanchor': 'center', 'x':0.5})\n",
    "fig.update_xaxes(title=\"Predicted IBD Metadata\")\n",
    "fig.show()"
   ]
  },
  {
   "cell_type": "code",
   "execution_count": null,
   "metadata": {},
   "outputs": [],
   "source": [
    "for data in fig.data:\n",
    "    x = data['x']\n",
    "    y = data['y']\n",
    "    print(x, y)"
   ]
  },
  {
   "cell_type": "code",
   "execution_count": null,
   "metadata": {},
   "outputs": [],
   "source": [
    "fig.add_annotation(ax=x)\n",
    "fig.show()"
   ]
  },
  {
   "cell_type": "code",
   "execution_count": null,
   "metadata": {},
   "outputs": [],
   "source": [
    "# model = 'MLP'\n",
    "# fig = px.bar(mlp_df, x='feature', y='f1', color='space', barmode='group', text='f1 rounded')\n",
    "# fig.update_layout(title={'text': 'F1 Score for CNN 128 Embeddings with {}'.format(model), 'xanchor': 'center', 'x':0.5})\n",
    "# fig.update_xaxes(title=\"Predicted IBD Metadata\")\n",
    "# fig.show()"
   ]
  }
 ],
 "metadata": {
  "kernelspec": {
   "display_name": "mixture",
   "language": "python",
   "name": "python3"
  },
  "language_info": {
   "codemirror_mode": {
    "name": "ipython",
    "version": 3
   },
   "file_extension": ".py",
   "mimetype": "text/x-python",
   "name": "python",
   "nbconvert_exporter": "python",
   "pygments_lexer": "ipython3",
   "version": "3.10.6"
  },
  "orig_nbformat": 4
 },
 "nbformat": 4,
 "nbformat_minor": 2
}
