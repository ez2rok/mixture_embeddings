{
 "cells": [
  {
   "cell_type": "markdown",
   "metadata": {},
   "source": [
    "# make OTU table\n",
    "\n",
    "Did this with Philippe"
   ]
  },
  {
   "cell_type": "code",
   "execution_count": 7,
   "metadata": {},
   "outputs": [],
   "source": [
    "import pickle\n",
    "\n",
    "import biom\n",
    "import pandas as pd\n",
    "import numpy as np"
   ]
  },
  {
   "cell_type": "code",
   "execution_count": 2,
   "metadata": {},
   "outputs": [],
   "source": [
    "MOMS_PI_PATH = '../../data/interim/moms_pi/16s_tables.pkl'"
   ]
  },
  {
   "cell_type": "code",
   "execution_count": 3,
   "metadata": {},
   "outputs": [
    {
     "name": "stderr",
     "output_type": "stream",
     "text": [
      "/tmp/ipykernel_1159179/1204112297.py:2: DeprecationWarning: Please use `csr_matrix` from the `scipy.sparse` namespace, the `scipy.sparse.csr` namespace is deprecated.\n",
      "  tables = pickle.load(f)\n"
     ]
    }
   ],
   "source": [
    "with open(MOMS_PI_PATH, \"rb\") as f:\n",
    "    tables = pickle.load(f)"
   ]
  },
  {
   "cell_type": "code",
   "execution_count": 4,
   "metadata": {},
   "outputs": [
    {
     "data": {
      "text/plain": [
       "{'MCVD': 1246 x 162 <class 'biom.table.Table'> with 7185 nonzero entries (3% dense),\n",
       " 'BC1D': 905 x 47 <class 'biom.table.Table'> with 2038 nonzero entries (4% dense),\n",
       " 'BRCD': 2374 x 967 <class 'biom.table.Table'> with 31133 nonzero entries (1% dense),\n",
       " 'BS1D': 2270 x 734 <class 'biom.table.Table'> with 30595 nonzero entries (1% dense),\n",
       " 'MV1D': 3434 x 2055 <class 'biom.table.Table'> with 121282 nonzero entries (1% dense),\n",
       " 'MCHD': 956 x 152 <class 'biom.table.Table'> with 3079 nonzero entries (2% dense),\n",
       " 'BCKD': 2719 x 964 <class 'biom.table.Table'> with 40975 nonzero entries (1% dense),\n",
       " 'BSTD': 538 x 37 <class 'biom.table.Table'> with 1602 nonzero entries (8% dense),\n",
       " 'MCKD': 3748 x 2327 <class 'biom.table.Table'> with 286063 nonzero entries (3% dense),\n",
       " 'MRCD': 6251 x 1725 <class 'biom.table.Table'> with 399902 nonzero entries (3% dense)}"
      ]
     },
     "execution_count": 4,
     "metadata": {},
     "output_type": "execute_result"
    }
   ],
   "source": [
    "tables"
   ]
  },
  {
   "cell_type": "code",
   "execution_count": 5,
   "metadata": {},
   "outputs": [
    {
     "data": {
      "text/plain": [
       "7665 x 9170 <class 'biom.table.Table'> with 923854 nonzero entries (1% dense)"
      ]
     },
     "execution_count": 5,
     "metadata": {},
     "output_type": "execute_result"
    }
   ],
   "source": [
    "big_otu_table = tables[\"MCVD\"]\n",
    "big_otu_table.update_ids({col: f\"{col}_MCVD\" for col in big_otu_table.ids()})\n",
    "\n",
    "for key in tables:\n",
    "    if key != \"MCVD\":\n",
    "        table = tables[key].copy()\n",
    "        table.update_ids({col: f\"{col}_{key}\" for col in table.ids()})\n",
    "        big_otu_table = big_otu_table.merge(table)\n",
    "\n",
    "big_otu_table"
   ]
  },
  {
   "cell_type": "code",
   "execution_count": 27,
   "metadata": {},
   "outputs": [],
   "source": [
    "# Sanity checks #1: number of OTUs >= max over individual tables\n",
    "assert big_otu_table.shape[0] >= np.max([t.shape[0] for t in tables.values()])\n",
    "\n",
    "# Sanity check #2: number of samples = sum over individual tables\n",
    "assert big_otu_table.shape[1] == np.sum([t.shape[1] for t in tables.values()])"
   ]
  },
  {
   "cell_type": "code",
   "execution_count": 29,
   "metadata": {},
   "outputs": [],
   "source": [
    "big_otu_table_normed = big_otu_table.norm()"
   ]
  },
  {
   "cell_type": "code",
   "execution_count": 43,
   "metadata": {},
   "outputs": [],
   "source": [
    "assert np.allclose(big_otu_table_normed.sum(\"sample\"), 1)"
   ]
  },
  {
   "cell_type": "code",
   "execution_count": 8,
   "metadata": {},
   "outputs": [],
   "source": [
    "# Generate a list of site IDs\n",
    "\n",
    "sites = []\n",
    "for key in tables:\n",
    "    sites += [key] * tables[key].shape[1]"
   ]
  }
 ],
 "metadata": {
  "kernelspec": {
   "display_name": "Python 3.10.6 ('mixture')",
   "language": "python",
   "name": "python3"
  },
  "language_info": {
   "codemirror_mode": {
    "name": "ipython",
    "version": 3
   },
   "file_extension": ".py",
   "mimetype": "text/x-python",
   "name": "python",
   "nbconvert_exporter": "python",
   "pygments_lexer": "ipython3",
   "version": "3.10.6"
  },
  "orig_nbformat": 4,
  "vscode": {
   "interpreter": {
    "hash": "4673731a4f444c4345555e494d3a5df5bf25621bfe3f1f8313bf27847877d245"
   }
  }
 },
 "nbformat": 4,
 "nbformat_minor": 2
}
