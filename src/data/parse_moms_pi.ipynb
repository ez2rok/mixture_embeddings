{
 "cells": [
  {
   "cell_type": "markdown",
   "metadata": {},
   "source": [
    "# Load Data"
   ]
  },
  {
   "cell_type": "code",
   "execution_count": 1,
   "metadata": {},
   "outputs": [],
   "source": [
    "import pandas as pd\n",
    "import numpy as np\n",
    "\n",
    "from util.data_handling.data_loader import load_dataset"
   ]
  },
  {
   "cell_type": "code",
   "execution_count": 2,
   "metadata": {},
   "outputs": [],
   "source": [
    "MOMS_PI_TABLES_PATH = '../../data/interim/moms_pi/16s_tables.pkl'\n",
    "MOMS_PI_METADATA_PATH = '../../data/interim/moms_pi/16s_metadata.tsv'\n",
    "MOMS_PI_MANIFEST_PATH = '../../data/interim/moms_pi/16s_manifest.tsv'\n",
    "\n",
    "ID_TO_EMBEDDING_SEQUENCE_PATH = '../../data/processed/greengenes/id_to_sequence_embedding.pickle'"
   ]
  },
  {
   "cell_type": "code",
   "execution_count": 3,
   "metadata": {},
   "outputs": [],
   "source": [
    "otu_tables = load_dataset(MOMS_PI_TABLES_PATH)\n",
    "metadata = pd.read_csv(MOMS_PI_METADATA_PATH, sep='\\t')\n",
    "manifest = pd.read_csv(MOMS_PI_MANIFEST_PATH, sep='\\t')\n",
    "\n",
    "id_to_embedding = load_dataset(ID_TO_EMBEDDING_SEQUENCE_PATH)"
   ]
  },
  {
   "cell_type": "code",
   "execution_count": 4,
   "metadata": {},
   "outputs": [
    {
     "data": {
      "text/plain": [
       "{'MCVD': 1246 x 162 <class 'biom.table.Table'> with 7185 nonzero entries (3% dense),\n",
       " 'BC1D': 905 x 47 <class 'biom.table.Table'> with 2038 nonzero entries (4% dense),\n",
       " 'BRCD': 2374 x 967 <class 'biom.table.Table'> with 31133 nonzero entries (1% dense),\n",
       " 'BS1D': 2270 x 734 <class 'biom.table.Table'> with 30595 nonzero entries (1% dense),\n",
       " 'MV1D': 3434 x 2055 <class 'biom.table.Table'> with 121282 nonzero entries (1% dense),\n",
       " 'MCHD': 956 x 152 <class 'biom.table.Table'> with 3079 nonzero entries (2% dense),\n",
       " 'BCKD': 2719 x 964 <class 'biom.table.Table'> with 40975 nonzero entries (1% dense),\n",
       " 'BSTD': 538 x 37 <class 'biom.table.Table'> with 1602 nonzero entries (8% dense),\n",
       " 'MCKD': 3748 x 2327 <class 'biom.table.Table'> with 286063 nonzero entries (3% dense),\n",
       " 'MRCD': 6251 x 1725 <class 'biom.table.Table'> with 399902 nonzero entries (3% dense)}"
      ]
     },
     "execution_count": 4,
     "metadata": {},
     "output_type": "execute_result"
    }
   ],
   "source": [
    "otu_tables"
   ]
  },
  {
   "cell_type": "code",
   "execution_count": 5,
   "metadata": {},
   "outputs": [
    {
     "data": {
      "text/html": [
       "<div>\n",
       "<style scoped>\n",
       "    .dataframe tbody tr th:only-of-type {\n",
       "        vertical-align: middle;\n",
       "    }\n",
       "\n",
       "    .dataframe tbody tr th {\n",
       "        vertical-align: top;\n",
       "    }\n",
       "\n",
       "    .dataframe thead th {\n",
       "        text-align: right;\n",
       "    }\n",
       "</style>\n",
       "<table border=\"1\" class=\"dataframe\">\n",
       "  <thead>\n",
       "    <tr style=\"text-align: right;\">\n",
       "      <th></th>\n",
       "      <th>file_id</th>\n",
       "      <th>md5</th>\n",
       "      <th>size</th>\n",
       "      <th>urls</th>\n",
       "      <th>sample_id</th>\n",
       "    </tr>\n",
       "  </thead>\n",
       "  <tbody>\n",
       "    <tr>\n",
       "      <th>0</th>\n",
       "      <td>e50d0c183689e4053ccb35f8b26885b5</td>\n",
       "      <td>62250c3bd427c2c67f1e115ceff2ddd5</td>\n",
       "      <td>113363</td>\n",
       "      <td>https://downloads.hmpdacc.org/ihmp/ptb/genome/...</td>\n",
       "      <td>8938ac880f194a32bc6b736c15020e14</td>\n",
       "    </tr>\n",
       "    <tr>\n",
       "      <th>1</th>\n",
       "      <td>e50d0c183689e4053ccb35f8b21ef8a7</td>\n",
       "      <td>898138e9c5e1bb3f16d9f544d9d70e79</td>\n",
       "      <td>45248</td>\n",
       "      <td>https://downloads.hmpdacc.org/ihmp/ptb/genome/...</td>\n",
       "      <td>8938ac880f194a32bc6b736c1501d5b3</td>\n",
       "    </tr>\n",
       "    <tr>\n",
       "      <th>2</th>\n",
       "      <td>e50d0c183689e4053ccb35f8b2562491</td>\n",
       "      <td>86c6b76f324eee9e8534e3632b54f52b</td>\n",
       "      <td>37056</td>\n",
       "      <td>https://downloads.hmpdacc.org/ihmp/ptb/genome/...</td>\n",
       "      <td>8938ac880f194a32bc6b736c150200f9</td>\n",
       "    </tr>\n",
       "    <tr>\n",
       "      <th>3</th>\n",
       "      <td>6d91411d5ede0689305232cc77c163cc</td>\n",
       "      <td>0cff2481a77b30714f89b7554f6fa469</td>\n",
       "      <td>72337</td>\n",
       "      <td>https://downloads.hmpdacc.org/ihmp/ptb/genome/...</td>\n",
       "      <td>e50d0c183689e4053ccb35f8b2bbf6ff</td>\n",
       "    </tr>\n",
       "    <tr>\n",
       "      <th>4</th>\n",
       "      <td>6d91411d5ede0689305232cc77d9d224</td>\n",
       "      <td>b78623036ba3ca5c8abd36205096b1e2</td>\n",
       "      <td>37056</td>\n",
       "      <td>https://downloads.hmpdacc.org/ihmp/ptb/genome/...</td>\n",
       "      <td>8938ac880f194a32bc6b736c15021a0e</td>\n",
       "    </tr>\n",
       "  </tbody>\n",
       "</table>\n",
       "</div>"
      ],
      "text/plain": [
       "                            file_id                               md5    size  \\\n",
       "0  e50d0c183689e4053ccb35f8b26885b5  62250c3bd427c2c67f1e115ceff2ddd5  113363   \n",
       "1  e50d0c183689e4053ccb35f8b21ef8a7  898138e9c5e1bb3f16d9f544d9d70e79   45248   \n",
       "2  e50d0c183689e4053ccb35f8b2562491  86c6b76f324eee9e8534e3632b54f52b   37056   \n",
       "3  6d91411d5ede0689305232cc77c163cc  0cff2481a77b30714f89b7554f6fa469   72337   \n",
       "4  6d91411d5ede0689305232cc77d9d224  b78623036ba3ca5c8abd36205096b1e2   37056   \n",
       "\n",
       "                                                urls  \\\n",
       "0  https://downloads.hmpdacc.org/ihmp/ptb/genome/...   \n",
       "1  https://downloads.hmpdacc.org/ihmp/ptb/genome/...   \n",
       "2  https://downloads.hmpdacc.org/ihmp/ptb/genome/...   \n",
       "3  https://downloads.hmpdacc.org/ihmp/ptb/genome/...   \n",
       "4  https://downloads.hmpdacc.org/ihmp/ptb/genome/...   \n",
       "\n",
       "                          sample_id  \n",
       "0  8938ac880f194a32bc6b736c15020e14  \n",
       "1  8938ac880f194a32bc6b736c1501d5b3  \n",
       "2  8938ac880f194a32bc6b736c150200f9  \n",
       "3  e50d0c183689e4053ccb35f8b2bbf6ff  \n",
       "4  8938ac880f194a32bc6b736c15021a0e  "
      ]
     },
     "execution_count": 5,
     "metadata": {},
     "output_type": "execute_result"
    }
   ],
   "source": [
    "manifest.head()"
   ]
  },
  {
   "cell_type": "code",
   "execution_count": 6,
   "metadata": {},
   "outputs": [
    {
     "data": {
      "text/html": [
       "<div>\n",
       "<style scoped>\n",
       "    .dataframe tbody tr th:only-of-type {\n",
       "        vertical-align: middle;\n",
       "    }\n",
       "\n",
       "    .dataframe tbody tr th {\n",
       "        vertical-align: top;\n",
       "    }\n",
       "\n",
       "    .dataframe thead th {\n",
       "        text-align: right;\n",
       "    }\n",
       "</style>\n",
       "<table border=\"1\" class=\"dataframe\">\n",
       "  <thead>\n",
       "    <tr style=\"text-align: right;\">\n",
       "      <th></th>\n",
       "      <th>sample_id</th>\n",
       "      <th>subject_id</th>\n",
       "      <th>subject_uuid</th>\n",
       "      <th>sample_body_site</th>\n",
       "      <th>visit_number</th>\n",
       "      <th>subject_gender</th>\n",
       "      <th>subject_race</th>\n",
       "      <th>study_full_name</th>\n",
       "      <th>project_name</th>\n",
       "    </tr>\n",
       "  </thead>\n",
       "  <tbody>\n",
       "    <tr>\n",
       "      <th>0</th>\n",
       "      <td>8938ac880f194a32bc6b736c15020e14</td>\n",
       "      <td>EP575820</td>\n",
       "      <td>88af6472fb03642dd5eaf8cddcbfadb5</td>\n",
       "      <td>rectum</td>\n",
       "      <td>3</td>\n",
       "      <td>female</td>\n",
       "      <td>unknown</td>\n",
       "      <td>momspi</td>\n",
       "      <td>Integrative Human Microbiome Project</td>\n",
       "    </tr>\n",
       "    <tr>\n",
       "      <th>1</th>\n",
       "      <td>8938ac880f194a32bc6b736c1501d5b3</td>\n",
       "      <td>EP575820</td>\n",
       "      <td>88af6472fb03642dd5eaf8cddcbfadb5</td>\n",
       "      <td>rectum</td>\n",
       "      <td>1</td>\n",
       "      <td>female</td>\n",
       "      <td>unknown</td>\n",
       "      <td>momspi</td>\n",
       "      <td>Integrative Human Microbiome Project</td>\n",
       "    </tr>\n",
       "    <tr>\n",
       "      <th>2</th>\n",
       "      <td>8938ac880f194a32bc6b736c150200f9</td>\n",
       "      <td>EP575820</td>\n",
       "      <td>88af6472fb03642dd5eaf8cddcbfadb5</td>\n",
       "      <td>buccal mucosa</td>\n",
       "      <td>3</td>\n",
       "      <td>female</td>\n",
       "      <td>unknown</td>\n",
       "      <td>momspi</td>\n",
       "      <td>Integrative Human Microbiome Project</td>\n",
       "    </tr>\n",
       "    <tr>\n",
       "      <th>3</th>\n",
       "      <td>e50d0c183689e4053ccb35f8b2bbf6ff</td>\n",
       "      <td>EP575820</td>\n",
       "      <td>88af6472fb03642dd5eaf8cddcbfadb5</td>\n",
       "      <td>buccal mucosa</td>\n",
       "      <td>4</td>\n",
       "      <td>female</td>\n",
       "      <td>unknown</td>\n",
       "      <td>momspi</td>\n",
       "      <td>Integrative Human Microbiome Project</td>\n",
       "    </tr>\n",
       "    <tr>\n",
       "      <th>4</th>\n",
       "      <td>8938ac880f194a32bc6b736c15021a0e</td>\n",
       "      <td>EP575820</td>\n",
       "      <td>88af6472fb03642dd5eaf8cddcbfadb5</td>\n",
       "      <td>buccal mucosa</td>\n",
       "      <td>7</td>\n",
       "      <td>female</td>\n",
       "      <td>unknown</td>\n",
       "      <td>momspi</td>\n",
       "      <td>Integrative Human Microbiome Project</td>\n",
       "    </tr>\n",
       "  </tbody>\n",
       "</table>\n",
       "</div>"
      ],
      "text/plain": [
       "                          sample_id subject_id  \\\n",
       "0  8938ac880f194a32bc6b736c15020e14   EP575820   \n",
       "1  8938ac880f194a32bc6b736c1501d5b3   EP575820   \n",
       "2  8938ac880f194a32bc6b736c150200f9   EP575820   \n",
       "3  e50d0c183689e4053ccb35f8b2bbf6ff   EP575820   \n",
       "4  8938ac880f194a32bc6b736c15021a0e   EP575820   \n",
       "\n",
       "                       subject_uuid sample_body_site  visit_number  \\\n",
       "0  88af6472fb03642dd5eaf8cddcbfadb5           rectum             3   \n",
       "1  88af6472fb03642dd5eaf8cddcbfadb5           rectum             1   \n",
       "2  88af6472fb03642dd5eaf8cddcbfadb5    buccal mucosa             3   \n",
       "3  88af6472fb03642dd5eaf8cddcbfadb5    buccal mucosa             4   \n",
       "4  88af6472fb03642dd5eaf8cddcbfadb5    buccal mucosa             7   \n",
       "\n",
       "  subject_gender subject_race study_full_name  \\\n",
       "0         female      unknown          momspi   \n",
       "1         female      unknown          momspi   \n",
       "2         female      unknown          momspi   \n",
       "3         female      unknown          momspi   \n",
       "4         female      unknown          momspi   \n",
       "\n",
       "                           project_name  \n",
       "0  Integrative Human Microbiome Project  \n",
       "1  Integrative Human Microbiome Project  \n",
       "2  Integrative Human Microbiome Project  \n",
       "3  Integrative Human Microbiome Project  \n",
       "4  Integrative Human Microbiome Project  "
      ]
     },
     "execution_count": 6,
     "metadata": {},
     "output_type": "execute_result"
    }
   ],
   "source": [
    "metadata.head()"
   ]
  },
  {
   "cell_type": "markdown",
   "metadata": {},
   "source": [
    "# Clean OTU Data"
   ]
  },
  {
   "cell_type": "markdown",
   "metadata": {},
   "source": [
    "Normalize the OTU data."
   ]
  },
  {
   "cell_type": "code",
   "execution_count": 7,
   "metadata": {},
   "outputs": [],
   "source": [
    "otu_tables_normed = {otu_type: otu_table.norm() for otu_type, otu_table in otu_tables.items()}"
   ]
  },
  {
   "cell_type": "markdown",
   "metadata": {},
   "source": [
    "An OTU matrix may have sequence ids not found in the greengenes dataset. We must\n",
    "remove these ids."
   ]
  },
  {
   "cell_type": "code",
   "execution_count": 8,
   "metadata": {},
   "outputs": [],
   "source": [
    "def drop_missing_ids(otu_tables, verbose=False):\n",
    "    \"Remove ids from the OTU matrix that are not found in the greengenes dataset.\"\n",
    "    \n",
    "    otu_tables_cleaned = {}\n",
    "    \n",
    "    for otu_type, otu_table in otu_tables.items():\n",
    "        \n",
    "        ids = otu_table.ids(axis='observation')\n",
    "        valid_ids = [id_ for id_ in ids if int(id_) in id_to_embedding]\n",
    "        otu_table_valid = otu_table.filter(valid_ids, axis='observation', inplace=False)\n",
    "        otu_tables_cleaned[otu_type] = otu_table_valid\n",
    "        \n",
    "        if verbose:\n",
    "            valid_ratio = len(valid_ids) / len(ids)\n",
    "            print(f'{otu_type}: {valid_ratio:.2%} of ids are valid')\n",
    "            \n",
    "    return otu_tables_cleaned"
   ]
  },
  {
   "cell_type": "code",
   "execution_count": 13,
   "metadata": {},
   "outputs": [
    {
     "name": "stdout",
     "output_type": "stream",
     "text": [
      "MCVD: 78.81% of ids are valid\n",
      "BC1D: 87.29% of ids are valid\n",
      "BRCD: 84.12% of ids are valid\n",
      "BS1D: 84.14% of ids are valid\n",
      "MV1D: 87.42% of ids are valid\n",
      "MCHD: 89.64% of ids are valid\n",
      "BCKD: 82.53% of ids are valid\n",
      "BSTD: 82.71% of ids are valid\n",
      "MCKD: 83.35% of ids are valid\n",
      "MRCD: 91.20% of ids are valid\n"
     ]
    }
   ],
   "source": [
    "otu_tables_cleaned = drop_missing_ids(otu_tables_normed, verbose=True)"
   ]
  },
  {
   "cell_type": "markdown",
   "metadata": {},
   "source": [
    "# Compute Mixture Embeddings"
   ]
  },
  {
   "cell_type": "code",
   "execution_count": 14,
   "metadata": {},
   "outputs": [],
   "source": [
    "from geomstats.learning.frechet_mean import FrechetMean\n",
    "from geomstats.geometry.poincare_ball import PoincareBall"
   ]
  },
  {
   "cell_type": "code",
   "execution_count": 15,
   "metadata": {},
   "outputs": [],
   "source": [
    "poincare = PoincareBall(dim=128)\n",
    "fmean = FrechetMean(poincare.metric)"
   ]
  },
  {
   "cell_type": "code",
   "execution_count": 16,
   "metadata": {},
   "outputs": [
    {
     "data": {
      "text/plain": [
       "((5701, 128), (5701,), (5701, 1725))"
      ]
     },
     "execution_count": 16,
     "metadata": {},
     "output_type": "execute_result"
    }
   ],
   "source": [
    "otu_table = otu_tables_cleaned['MRCD']\n",
    "ids = otu_table.ids(axis='observation').astype(int)\n",
    "embeddings = np.array([id_to_embedding[id_] for id_ in ids])\n",
    "embeddings.shape, ids.shape, otu_table.shape"
   ]
  },
  {
   "cell_type": "markdown",
   "metadata": {},
   "source": [
    "These dimensions make sense.\n",
    "\n",
    "* 5701 = the total number of OTUs detected in each sample\n",
    "  * this corresponds to the number of unique IDs we have\n",
    "* 128 = embedding dimension\n",
    "* 1725 = the number of biological samples we took"
   ]
  },
  {
   "cell_type": "markdown",
   "metadata": {},
   "source": [
    "## Sanity Check\n",
    "\n",
    "Check if a single embedding, `point`, is located on the poincare disk?"
   ]
  },
  {
   "cell_type": "code",
   "execution_count": 17,
   "metadata": {},
   "outputs": [
    {
     "data": {
      "text/plain": [
       "False"
      ]
     },
     "execution_count": 17,
     "metadata": {},
     "output_type": "execute_result"
    }
   ],
   "source": [
    "point = embeddings[0, :]\n",
    "poincare.belongs(point)"
   ]
  },
  {
   "cell_type": "markdown",
   "metadata": {},
   "source": [
    "Why are the embeddings we generated not on the pointcare disk?\n",
    "\n",
    "Ideas:\n",
    "1. The poincare disk I created in this file is somehow different than the disk\n",
    "   used to generate the embeddings.\n",
    "2. The NeuroSEED code does not use Geomstats package anywhere in their code.\n",
    "   They instead manually define functions for hyperbolic distance and such.\n",
    "   Perhaps the code they wrote in their own hyperbolic implementation differs\n",
    "   from Geomstats's hyperbolic implementation.\n",
    "3. Perhaps when we normalize the OTU matrix, we are moving the embeddings off of\n",
    "   the Poincare disk. (I tried not normalizing the OTU matrix, but it didn't fix\n",
    "   anything.)\n",
    "4. Other ideas??"
   ]
  },
  {
   "cell_type": "code",
   "execution_count": null,
   "metadata": {},
   "outputs": [
    {
     "ename": "ValueError",
     "evalue": "Points do not belong to the Poincare ball",
     "output_type": "error",
     "traceback": [
      "\u001b[0;31m---------------------------------------------------------------------------\u001b[0m",
      "\u001b[0;31mValueError\u001b[0m                                Traceback (most recent call last)",
      "Cell \u001b[0;32mIn [14], line 3\u001b[0m\n\u001b[1;32m      1\u001b[0m \u001b[39mfor\u001b[39;00m i \u001b[39min\u001b[39;00m \u001b[39mrange\u001b[39m(otu_table\u001b[39m.\u001b[39mlength()):\n\u001b[1;32m      2\u001b[0m     weights \u001b[39m=\u001b[39m otu_table[:, i]\n\u001b[0;32m----> 3\u001b[0m     mean \u001b[39m=\u001b[39m fmean\u001b[39m.\u001b[39mfit(embeddings, weights\u001b[39m=\u001b[39mweights)\u001b[39m.\u001b[39mestimate_\n\u001b[1;32m      4\u001b[0m     \u001b[39mprint\u001b[39m(mean)\n\u001b[1;32m      5\u001b[0m     \u001b[39mbreak\u001b[39;00m\n",
      "File \u001b[0;32m~/mambaforge/envs/mixture/lib/python3.10/site-packages/geomstats/learning/frechet_mean.py:405\u001b[0m, in \u001b[0;36mFrechetMean.fit\u001b[0;34m(self, X, y, weights)\u001b[0m\n\u001b[1;32m    401\u001b[0m     mean \u001b[39m=\u001b[39m linear_mean(\n\u001b[1;32m    402\u001b[0m         points\u001b[39m=\u001b[39mX, weights\u001b[39m=\u001b[39mweights, point_type\u001b[39m=\u001b[39m\u001b[39mself\u001b[39m\u001b[39m.\u001b[39mpoint_type)\n\u001b[1;32m    404\u001b[0m \u001b[39melif\u001b[39;00m \u001b[39mself\u001b[39m\u001b[39m.\u001b[39mmethod \u001b[39m==\u001b[39m \u001b[39m'\u001b[39m\u001b[39mdefault\u001b[39m\u001b[39m'\u001b[39m:\n\u001b[0;32m--> 405\u001b[0m     mean \u001b[39m=\u001b[39m _default_gradient_descent(\n\u001b[1;32m    406\u001b[0m         points\u001b[39m=\u001b[39;49mX, weights\u001b[39m=\u001b[39;49mweights, metric\u001b[39m=\u001b[39;49m\u001b[39mself\u001b[39;49m\u001b[39m.\u001b[39;49mmetric,\n\u001b[1;32m    407\u001b[0m         max_iter\u001b[39m=\u001b[39;49m\u001b[39mself\u001b[39;49m\u001b[39m.\u001b[39;49mmax_iter,\n\u001b[1;32m    408\u001b[0m         point_type\u001b[39m=\u001b[39;49m\u001b[39mself\u001b[39;49m\u001b[39m.\u001b[39;49mpoint_type, epsilon\u001b[39m=\u001b[39;49m\u001b[39mself\u001b[39;49m\u001b[39m.\u001b[39;49mepsilon,\n\u001b[1;32m    409\u001b[0m         verbose\u001b[39m=\u001b[39;49m\u001b[39mself\u001b[39;49m\u001b[39m.\u001b[39;49mverbose)\n\u001b[1;32m    410\u001b[0m \u001b[39melif\u001b[39;00m \u001b[39mself\u001b[39m\u001b[39m.\u001b[39mmethod \u001b[39m==\u001b[39m \u001b[39m'\u001b[39m\u001b[39madaptive\u001b[39m\u001b[39m'\u001b[39m:\n\u001b[1;32m    411\u001b[0m     mean \u001b[39m=\u001b[39m _adaptive_gradient_descent(\n\u001b[1;32m    412\u001b[0m         points\u001b[39m=\u001b[39mX, weights\u001b[39m=\u001b[39mweights, metric\u001b[39m=\u001b[39m\u001b[39mself\u001b[39m\u001b[39m.\u001b[39mmetric,\n\u001b[1;32m    413\u001b[0m         max_iter\u001b[39m=\u001b[39m\u001b[39mself\u001b[39m\u001b[39m.\u001b[39mmax_iter,\n\u001b[1;32m    414\u001b[0m         epsilon\u001b[39m=\u001b[39m\u001b[39m1e-12\u001b[39m)\n",
      "File \u001b[0;32m~/mambaforge/envs/mixture/lib/python3.10/site-packages/geomstats/learning/frechet_mean.py:128\u001b[0m, in \u001b[0;36m_default_gradient_descent\u001b[0;34m(points, metric, weights, max_iter, point_type, epsilon, verbose)\u001b[0m\n\u001b[1;32m    125\u001b[0m \u001b[39mif\u001b[39;00m \u001b[39mnot\u001b[39;00m (condition \u001b[39mor\u001b[39;00m iteration \u001b[39m==\u001b[39m \u001b[39m0\u001b[39m):\n\u001b[1;32m    126\u001b[0m     \u001b[39mbreak\u001b[39;00m\n\u001b[0;32m--> 128\u001b[0m logs \u001b[39m=\u001b[39m metric\u001b[39m.\u001b[39;49mlog(point\u001b[39m=\u001b[39;49mpoints, base_point\u001b[39m=\u001b[39;49mmean)\n\u001b[1;32m    130\u001b[0m tangent_mean \u001b[39m=\u001b[39m gs\u001b[39m.\u001b[39meinsum(einsum_str, weights, logs)\n\u001b[1;32m    131\u001b[0m tangent_mean \u001b[39m/\u001b[39m\u001b[39m=\u001b[39m sum_weights\n",
      "File \u001b[0;32m~/mambaforge/envs/mixture/lib/python3.10/site-packages/geomstats/vectorization.py:104\u001b[0m, in \u001b[0;36mdecorator.<locals>.aux_decorator.<locals>.wrapper\u001b[0;34m(*args, **kwargs)\u001b[0m\n\u001b[1;32m    101\u001b[0m vect_args \u001b[39m=\u001b[39m vectorize_args(args_types, args)\n\u001b[1;32m    102\u001b[0m vect_kwargs \u001b[39m=\u001b[39m vectorize_kwargs(kwargs_types, kwargs)\n\u001b[0;32m--> 104\u001b[0m result \u001b[39m=\u001b[39m function(\u001b[39m*\u001b[39;49mvect_args, \u001b[39m*\u001b[39;49m\u001b[39m*\u001b[39;49mvect_kwargs)\n\u001b[1;32m    106\u001b[0m result \u001b[39m=\u001b[39m adapt_result(\n\u001b[1;32m    107\u001b[0m     result, initial_shapes, args_kwargs_types, is_scal)\n\u001b[1;32m    109\u001b[0m \u001b[39mreturn\u001b[39;00m result\n",
      "File \u001b[0;32m~/mambaforge/envs/mixture/lib/python3.10/site-packages/geomstats/geometry/poincare_ball.py:265\u001b[0m, in \u001b[0;36mPoincareBallMetric.log\u001b[0;34m(self, point, base_point)\u001b[0m\n\u001b[1;32m    244\u001b[0m \u001b[39m@geomstats\u001b[39m\u001b[39m.\u001b[39mvectorization\u001b[39m.\u001b[39mdecorator([\u001b[39m'\u001b[39m\u001b[39melse\u001b[39m\u001b[39m'\u001b[39m, \u001b[39m'\u001b[39m\u001b[39mvector\u001b[39m\u001b[39m'\u001b[39m, \u001b[39m'\u001b[39m\u001b[39mvector\u001b[39m\u001b[39m'\u001b[39m])\n\u001b[1;32m    245\u001b[0m \u001b[39mdef\u001b[39;00m \u001b[39mlog\u001b[39m(\u001b[39mself\u001b[39m, point, base_point):\n\u001b[1;32m    246\u001b[0m     \u001b[39m\"\"\"Compute Riemannian logarithm of a point wrt a base point.\u001b[39;00m\n\u001b[1;32m    247\u001b[0m \n\u001b[1;32m    248\u001b[0m \u001b[39m    If point_type = 'poincare' then base_point belongs\u001b[39;00m\n\u001b[0;32m   (...)\u001b[0m\n\u001b[1;32m    263\u001b[0m \u001b[39m        of point at the base point.\u001b[39;00m\n\u001b[1;32m    264\u001b[0m \u001b[39m    \"\"\"\u001b[39;00m\n\u001b[0;32m--> 265\u001b[0m     add_base_point \u001b[39m=\u001b[39m \u001b[39mself\u001b[39;49m\u001b[39m.\u001b[39;49mmobius_add(\u001b[39m-\u001b[39;49mbase_point, point)\n\u001b[1;32m    266\u001b[0m     norm_add \u001b[39m=\u001b[39m\\\n\u001b[1;32m    267\u001b[0m         gs\u001b[39m.\u001b[39mexpand_dims(gs\u001b[39m.\u001b[39mlinalg\u001b[39m.\u001b[39mnorm(\n\u001b[1;32m    268\u001b[0m                        add_base_point, axis\u001b[39m=\u001b[39m\u001b[39m-\u001b[39m\u001b[39m1\u001b[39m), axis\u001b[39m=\u001b[39m\u001b[39m-\u001b[39m\u001b[39m1\u001b[39m)\n\u001b[1;32m    270\u001b[0m     norm_base_point \u001b[39m=\u001b[39m\\\n\u001b[1;32m    271\u001b[0m         gs\u001b[39m.\u001b[39mexpand_dims(gs\u001b[39m.\u001b[39mlinalg\u001b[39m.\u001b[39mnorm(\n\u001b[1;32m    272\u001b[0m                        base_point, axis\u001b[39m=\u001b[39m\u001b[39m-\u001b[39m\u001b[39m1\u001b[39m), axis\u001b[39m=\u001b[39m\u001b[39m-\u001b[39m\u001b[39m1\u001b[39m)\n",
      "File \u001b[0;32m~/mambaforge/envs/mixture/lib/python3.10/site-packages/geomstats/vectorization.py:104\u001b[0m, in \u001b[0;36mdecorator.<locals>.aux_decorator.<locals>.wrapper\u001b[0;34m(*args, **kwargs)\u001b[0m\n\u001b[1;32m    101\u001b[0m vect_args \u001b[39m=\u001b[39m vectorize_args(args_types, args)\n\u001b[1;32m    102\u001b[0m vect_kwargs \u001b[39m=\u001b[39m vectorize_kwargs(kwargs_types, kwargs)\n\u001b[0;32m--> 104\u001b[0m result \u001b[39m=\u001b[39m function(\u001b[39m*\u001b[39;49mvect_args, \u001b[39m*\u001b[39;49m\u001b[39m*\u001b[39;49mvect_kwargs)\n\u001b[1;32m    106\u001b[0m result \u001b[39m=\u001b[39m adapt_result(\n\u001b[1;32m    107\u001b[0m     result, initial_shapes, args_kwargs_types, is_scal)\n\u001b[1;32m    109\u001b[0m \u001b[39mreturn\u001b[39;00m result\n",
      "File \u001b[0;32m~/mambaforge/envs/mixture/lib/python3.10/site-packages/geomstats/geometry/poincare_ball.py:320\u001b[0m, in \u001b[0;36mPoincareBallMetric.mobius_add\u001b[0;34m(self, point_a, point_b)\u001b[0m\n\u001b[1;32m    317\u001b[0m point_b_belong \u001b[39m=\u001b[39m ball_manifold\u001b[39m.\u001b[39mbelongs(point_b)\n\u001b[1;32m    319\u001b[0m \u001b[39mif\u001b[39;00m (\u001b[39mnot\u001b[39;00m gs\u001b[39m.\u001b[39mall(point_a_belong) \u001b[39mor\u001b[39;00m \u001b[39mnot\u001b[39;00m gs\u001b[39m.\u001b[39mall(point_b_belong)):\n\u001b[0;32m--> 320\u001b[0m     \u001b[39mraise\u001b[39;00m \u001b[39mValueError\u001b[39;00m(\u001b[39m\"\u001b[39m\u001b[39mPoints do not belong to the Poincare ball\u001b[39m\u001b[39m\"\u001b[39m)\n\u001b[1;32m    322\u001b[0m norm_point_a \u001b[39m=\u001b[39m gs\u001b[39m.\u001b[39msum(point_a \u001b[39m*\u001b[39m\u001b[39m*\u001b[39m \u001b[39m2\u001b[39m, axis\u001b[39m=\u001b[39m\u001b[39m-\u001b[39m\u001b[39m1\u001b[39m, keepdims\u001b[39m=\u001b[39m\u001b[39mTrue\u001b[39;00m)\n\u001b[1;32m    323\u001b[0m norm_point_b \u001b[39m=\u001b[39m gs\u001b[39m.\u001b[39msum(point_b \u001b[39m*\u001b[39m\u001b[39m*\u001b[39m \u001b[39m2\u001b[39m, axis\u001b[39m=\u001b[39m\u001b[39m-\u001b[39m\u001b[39m1\u001b[39m, keepdims\u001b[39m=\u001b[39m\u001b[39mTrue\u001b[39;00m)\n",
      "\u001b[0;31mValueError\u001b[0m: Points do not belong to the Poincare ball"
     ]
    }
   ],
   "source": [
    "for i in range(otu_table.length()):\n",
    "    weights = otu_table[:, i]\n",
    "    mean = fmean.fit(embeddings, weights=weights).estimate_\n",
    "    print(mean)\n",
    "    break"
   ]
  }
 ],
 "metadata": {
  "kernelspec": {
   "display_name": "Python 3.10.6 ('mixture')",
   "language": "python",
   "name": "python3"
  },
  "language_info": {
   "codemirror_mode": {
    "name": "ipython",
    "version": 3
   },
   "file_extension": ".py",
   "mimetype": "text/x-python",
   "name": "python",
   "nbconvert_exporter": "python",
   "pygments_lexer": "ipython3",
   "version": "3.10.6"
  },
  "orig_nbformat": 4,
  "vscode": {
   "interpreter": {
    "hash": "4673731a4f444c4345555e494d3a5df5bf25621bfe3f1f8313bf27847877d245"
   }
  }
 },
 "nbformat": 4,
 "nbformat_minor": 2
}
