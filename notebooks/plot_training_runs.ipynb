{
 "cells": [
  {
   "cell_type": "code",
   "execution_count": 1,
   "metadata": {},
   "outputs": [],
   "source": [
    "import pandas as pd\n",
    "\n",
    "import plotly.express as px\n",
    "import plotly.graph_objects as go\n",
    "\n",
    "from icecream import ic"
   ]
  },
  {
   "cell_type": "code",
   "execution_count": 2,
   "metadata": {},
   "outputs": [
    {
     "data": {
      "text/html": [
       "<div>\n",
       "<style scoped>\n",
       "    .dataframe tbody tr th:only-of-type {\n",
       "        vertical-align: middle;\n",
       "    }\n",
       "\n",
       "    .dataframe tbody tr th {\n",
       "        vertical-align: top;\n",
       "    }\n",
       "\n",
       "    .dataframe thead th {\n",
       "        text-align: right;\n",
       "    }\n",
       "</style>\n",
       "<table border=\"1\" class=\"dataframe\">\n",
       "  <thead>\n",
       "    <tr style=\"text-align: right;\">\n",
       "      <th></th>\n",
       "      <th>Unnamed: 0</th>\n",
       "      <th>name</th>\n",
       "      <th>final/%rmse_test</th>\n",
       "      <th>final/mape_train</th>\n",
       "      <th>_step</th>\n",
       "      <th>train time</th>\n",
       "      <th>final/radius</th>\n",
       "      <th>final/scaling</th>\n",
       "      <th>metrics/%rmse_val</th>\n",
       "      <th>final/%rmse_val</th>\n",
       "      <th>...</th>\n",
       "      <th>distance</th>\n",
       "      <th>batch_size</th>\n",
       "      <th>len_sequence</th>\n",
       "      <th>multiplicity</th>\n",
       "      <th>weight_decay</th>\n",
       "      <th>learning_rate</th>\n",
       "      <th>embedding_size</th>\n",
       "      <th>num_val_sequences</th>\n",
       "      <th>num_test_sequences</th>\n",
       "      <th>num_train_sequences</th>\n",
       "    </tr>\n",
       "  </thead>\n",
       "  <tbody>\n",
       "    <tr>\n",
       "      <th>0</th>\n",
       "      <td>0</td>\n",
       "      <td>cnn_euclidean_128</td>\n",
       "      <td>0.879319</td>\n",
       "      <td>0.053720</td>\n",
       "      <td>143</td>\n",
       "      <td>2996.831978</td>\n",
       "      <td>NaN</td>\n",
       "      <td>NaN</td>\n",
       "      <td>1.013559</td>\n",
       "      <td>0.888428</td>\n",
       "      <td>...</td>\n",
       "      <td>euclidean</td>\n",
       "      <td>128</td>\n",
       "      <td>2368</td>\n",
       "      <td>11</td>\n",
       "      <td>0</td>\n",
       "      <td>0.001</td>\n",
       "      <td>128</td>\n",
       "      <td>100</td>\n",
       "      <td>150</td>\n",
       "      <td>7000</td>\n",
       "    </tr>\n",
       "    <tr>\n",
       "      <th>1</th>\n",
       "      <td>1</td>\n",
       "      <td>cnn_euclidean_128</td>\n",
       "      <td>0.846775</td>\n",
       "      <td>0.048216</td>\n",
       "      <td>281</td>\n",
       "      <td>5891.983670</td>\n",
       "      <td>NaN</td>\n",
       "      <td>NaN</td>\n",
       "      <td>0.852926</td>\n",
       "      <td>0.803828</td>\n",
       "      <td>...</td>\n",
       "      <td>euclidean</td>\n",
       "      <td>128</td>\n",
       "      <td>2368</td>\n",
       "      <td>11</td>\n",
       "      <td>0</td>\n",
       "      <td>0.001</td>\n",
       "      <td>128</td>\n",
       "      <td>100</td>\n",
       "      <td>150</td>\n",
       "      <td>7000</td>\n",
       "    </tr>\n",
       "    <tr>\n",
       "      <th>2</th>\n",
       "      <td>2</td>\n",
       "      <td>cnn_euclidean_128</td>\n",
       "      <td>0.856920</td>\n",
       "      <td>0.052726</td>\n",
       "      <td>289</td>\n",
       "      <td>6009.685542</td>\n",
       "      <td>NaN</td>\n",
       "      <td>NaN</td>\n",
       "      <td>0.940606</td>\n",
       "      <td>0.823363</td>\n",
       "      <td>...</td>\n",
       "      <td>euclidean</td>\n",
       "      <td>128</td>\n",
       "      <td>2368</td>\n",
       "      <td>11</td>\n",
       "      <td>0</td>\n",
       "      <td>0.001</td>\n",
       "      <td>128</td>\n",
       "      <td>100</td>\n",
       "      <td>150</td>\n",
       "      <td>7000</td>\n",
       "    </tr>\n",
       "    <tr>\n",
       "      <th>3</th>\n",
       "      <td>3</td>\n",
       "      <td>cnn_euclidean_128</td>\n",
       "      <td>0.812125</td>\n",
       "      <td>0.048806</td>\n",
       "      <td>193</td>\n",
       "      <td>3557.712142</td>\n",
       "      <td>NaN</td>\n",
       "      <td>NaN</td>\n",
       "      <td>0.890296</td>\n",
       "      <td>0.861829</td>\n",
       "      <td>...</td>\n",
       "      <td>euclidean</td>\n",
       "      <td>128</td>\n",
       "      <td>2368</td>\n",
       "      <td>11</td>\n",
       "      <td>0</td>\n",
       "      <td>0.001</td>\n",
       "      <td>128</td>\n",
       "      <td>100</td>\n",
       "      <td>150</td>\n",
       "      <td>7000</td>\n",
       "    </tr>\n",
       "    <tr>\n",
       "      <th>4</th>\n",
       "      <td>4</td>\n",
       "      <td>cnn_euclidean_64</td>\n",
       "      <td>0.782185</td>\n",
       "      <td>0.048415</td>\n",
       "      <td>239</td>\n",
       "      <td>4092.976777</td>\n",
       "      <td>NaN</td>\n",
       "      <td>NaN</td>\n",
       "      <td>0.860414</td>\n",
       "      <td>0.789621</td>\n",
       "      <td>...</td>\n",
       "      <td>euclidean</td>\n",
       "      <td>128</td>\n",
       "      <td>2368</td>\n",
       "      <td>11</td>\n",
       "      <td>0</td>\n",
       "      <td>0.001</td>\n",
       "      <td>64</td>\n",
       "      <td>100</td>\n",
       "      <td>150</td>\n",
       "      <td>7000</td>\n",
       "    </tr>\n",
       "    <tr>\n",
       "      <th>...</th>\n",
       "      <td>...</td>\n",
       "      <td>...</td>\n",
       "      <td>...</td>\n",
       "      <td>...</td>\n",
       "      <td>...</td>\n",
       "      <td>...</td>\n",
       "      <td>...</td>\n",
       "      <td>...</td>\n",
       "      <td>...</td>\n",
       "      <td>...</td>\n",
       "      <td>...</td>\n",
       "      <td>...</td>\n",
       "      <td>...</td>\n",
       "      <td>...</td>\n",
       "      <td>...</td>\n",
       "      <td>...</td>\n",
       "      <td>...</td>\n",
       "      <td>...</td>\n",
       "      <td>...</td>\n",
       "      <td>...</td>\n",
       "      <td>...</td>\n",
       "    </tr>\n",
       "    <tr>\n",
       "      <th>58</th>\n",
       "      <td>58</td>\n",
       "      <td>cnn_hyperbolic_4</td>\n",
       "      <td>1.418519</td>\n",
       "      <td>0.091283</td>\n",
       "      <td>104</td>\n",
       "      <td>1523.274984</td>\n",
       "      <td>0.987652</td>\n",
       "      <td>0.024150</td>\n",
       "      <td>1.471109</td>\n",
       "      <td>1.446855</td>\n",
       "      <td>...</td>\n",
       "      <td>hyperbolic</td>\n",
       "      <td>128</td>\n",
       "      <td>2368</td>\n",
       "      <td>11</td>\n",
       "      <td>0</td>\n",
       "      <td>0.001</td>\n",
       "      <td>4</td>\n",
       "      <td>100</td>\n",
       "      <td>150</td>\n",
       "      <td>7000</td>\n",
       "    </tr>\n",
       "    <tr>\n",
       "      <th>59</th>\n",
       "      <td>59</td>\n",
       "      <td>cnn_hyperbolic_2</td>\n",
       "      <td>3.253555</td>\n",
       "      <td>0.354181</td>\n",
       "      <td>104</td>\n",
       "      <td>1526.040309</td>\n",
       "      <td>1.004899</td>\n",
       "      <td>0.012352</td>\n",
       "      <td>3.720729</td>\n",
       "      <td>3.366958</td>\n",
       "      <td>...</td>\n",
       "      <td>hyperbolic</td>\n",
       "      <td>128</td>\n",
       "      <td>2368</td>\n",
       "      <td>11</td>\n",
       "      <td>0</td>\n",
       "      <td>0.001</td>\n",
       "      <td>2</td>\n",
       "      <td>100</td>\n",
       "      <td>150</td>\n",
       "      <td>7000</td>\n",
       "    </tr>\n",
       "    <tr>\n",
       "      <th>60</th>\n",
       "      <td>60</td>\n",
       "      <td>cnn_hyperbolic_2</td>\n",
       "      <td>2.764740</td>\n",
       "      <td>0.302234</td>\n",
       "      <td>104</td>\n",
       "      <td>1836.038584</td>\n",
       "      <td>1.021302</td>\n",
       "      <td>0.012464</td>\n",
       "      <td>3.440546</td>\n",
       "      <td>2.970084</td>\n",
       "      <td>...</td>\n",
       "      <td>hyperbolic</td>\n",
       "      <td>128</td>\n",
       "      <td>2368</td>\n",
       "      <td>11</td>\n",
       "      <td>0</td>\n",
       "      <td>0.001</td>\n",
       "      <td>2</td>\n",
       "      <td>100</td>\n",
       "      <td>150</td>\n",
       "      <td>7000</td>\n",
       "    </tr>\n",
       "    <tr>\n",
       "      <th>61</th>\n",
       "      <td>61</td>\n",
       "      <td>cnn_hyperbolic_2</td>\n",
       "      <td>2.760559</td>\n",
       "      <td>0.350905</td>\n",
       "      <td>104</td>\n",
       "      <td>2300.138346</td>\n",
       "      <td>1.004763</td>\n",
       "      <td>0.012856</td>\n",
       "      <td>3.178160</td>\n",
       "      <td>3.000315</td>\n",
       "      <td>...</td>\n",
       "      <td>hyperbolic</td>\n",
       "      <td>128</td>\n",
       "      <td>2368</td>\n",
       "      <td>11</td>\n",
       "      <td>0</td>\n",
       "      <td>0.001</td>\n",
       "      <td>2</td>\n",
       "      <td>100</td>\n",
       "      <td>150</td>\n",
       "      <td>7000</td>\n",
       "    </tr>\n",
       "    <tr>\n",
       "      <th>62</th>\n",
       "      <td>62</td>\n",
       "      <td>cnn_hyperbolic_2</td>\n",
       "      <td>2.703494</td>\n",
       "      <td>0.313134</td>\n",
       "      <td>104</td>\n",
       "      <td>1926.682350</td>\n",
       "      <td>1.023307</td>\n",
       "      <td>0.012560</td>\n",
       "      <td>3.159963</td>\n",
       "      <td>2.923935</td>\n",
       "      <td>...</td>\n",
       "      <td>hyperbolic</td>\n",
       "      <td>128</td>\n",
       "      <td>2368</td>\n",
       "      <td>11</td>\n",
       "      <td>0</td>\n",
       "      <td>0.001</td>\n",
       "      <td>2</td>\n",
       "      <td>100</td>\n",
       "      <td>150</td>\n",
       "      <td>7000</td>\n",
       "    </tr>\n",
       "  </tbody>\n",
       "</table>\n",
       "<p>63 rows × 38 columns</p>\n",
       "</div>"
      ],
      "text/plain": [
       "    Unnamed: 0               name  final/%rmse_test  final/mape_train  _step  \\\n",
       "0            0  cnn_euclidean_128          0.879319          0.053720    143   \n",
       "1            1  cnn_euclidean_128          0.846775          0.048216    281   \n",
       "2            2  cnn_euclidean_128          0.856920          0.052726    289   \n",
       "3            3  cnn_euclidean_128          0.812125          0.048806    193   \n",
       "4            4   cnn_euclidean_64          0.782185          0.048415    239   \n",
       "..         ...                ...               ...               ...    ...   \n",
       "58          58   cnn_hyperbolic_4          1.418519          0.091283    104   \n",
       "59          59   cnn_hyperbolic_2          3.253555          0.354181    104   \n",
       "60          60   cnn_hyperbolic_2          2.764740          0.302234    104   \n",
       "61          61   cnn_hyperbolic_2          2.760559          0.350905    104   \n",
       "62          62   cnn_hyperbolic_2          2.703494          0.313134    104   \n",
       "\n",
       "     train time  final/radius  final/scaling  metrics/%rmse_val  \\\n",
       "0   2996.831978           NaN            NaN           1.013559   \n",
       "1   5891.983670           NaN            NaN           0.852926   \n",
       "2   6009.685542           NaN            NaN           0.940606   \n",
       "3   3557.712142           NaN            NaN           0.890296   \n",
       "4   4092.976777           NaN            NaN           0.860414   \n",
       "..          ...           ...            ...                ...   \n",
       "58  1523.274984      0.987652       0.024150           1.471109   \n",
       "59  1526.040309      1.004899       0.012352           3.720729   \n",
       "60  1836.038584      1.021302       0.012464           3.440546   \n",
       "61  2300.138346      1.004763       0.012856           3.178160   \n",
       "62  1926.682350      1.023307       0.012560           3.159963   \n",
       "\n",
       "    final/%rmse_val  ...    distance  batch_size  len_sequence  multiplicity  \\\n",
       "0          0.888428  ...   euclidean         128          2368            11   \n",
       "1          0.803828  ...   euclidean         128          2368            11   \n",
       "2          0.823363  ...   euclidean         128          2368            11   \n",
       "3          0.861829  ...   euclidean         128          2368            11   \n",
       "4          0.789621  ...   euclidean         128          2368            11   \n",
       "..              ...  ...         ...         ...           ...           ...   \n",
       "58         1.446855  ...  hyperbolic         128          2368            11   \n",
       "59         3.366958  ...  hyperbolic         128          2368            11   \n",
       "60         2.970084  ...  hyperbolic         128          2368            11   \n",
       "61         3.000315  ...  hyperbolic         128          2368            11   \n",
       "62         2.923935  ...  hyperbolic         128          2368            11   \n",
       "\n",
       "    weight_decay  learning_rate  embedding_size  num_val_sequences  \\\n",
       "0              0          0.001             128                100   \n",
       "1              0          0.001             128                100   \n",
       "2              0          0.001             128                100   \n",
       "3              0          0.001             128                100   \n",
       "4              0          0.001              64                100   \n",
       "..           ...            ...             ...                ...   \n",
       "58             0          0.001               4                100   \n",
       "59             0          0.001               2                100   \n",
       "60             0          0.001               2                100   \n",
       "61             0          0.001               2                100   \n",
       "62             0          0.001               2                100   \n",
       "\n",
       "    num_test_sequences  num_train_sequences  \n",
       "0                  150                 7000  \n",
       "1                  150                 7000  \n",
       "2                  150                 7000  \n",
       "3                  150                 7000  \n",
       "4                  150                 7000  \n",
       "..                 ...                  ...  \n",
       "58                 150                 7000  \n",
       "59                 150                 7000  \n",
       "60                 150                 7000  \n",
       "61                 150                 7000  \n",
       "62                 150                 7000  \n",
       "\n",
       "[63 rows x 38 columns]"
      ]
     },
     "execution_count": 2,
     "metadata": {},
     "output_type": "execute_result"
    }
   ],
   "source": [
    "# load dataframe\n",
    "path = '../reports/wandb_training_runs.csv' \n",
    "df = pd.read_csv(path)\n",
    "df"
   ]
  },
  {
   "cell_type": "code",
   "execution_count": 3,
   "metadata": {},
   "outputs": [
    {
     "data": {
      "text/html": [
       "<div>\n",
       "<style scoped>\n",
       "    .dataframe tbody tr th:only-of-type {\n",
       "        vertical-align: middle;\n",
       "    }\n",
       "\n",
       "    .dataframe tbody tr th {\n",
       "        vertical-align: top;\n",
       "    }\n",
       "\n",
       "    .dataframe thead th {\n",
       "        text-align: right;\n",
       "    }\n",
       "</style>\n",
       "<table border=\"1\" class=\"dataframe\">\n",
       "  <thead>\n",
       "    <tr style=\"text-align: right;\">\n",
       "      <th></th>\n",
       "      <th>Embedding Dimension</th>\n",
       "      <th>Distance</th>\n",
       "      <th>Mean %RMSE</th>\n",
       "      <th>%RMSE std</th>\n",
       "      <th>Mean %RMSE rounded</th>\n",
       "    </tr>\n",
       "  </thead>\n",
       "  <tbody>\n",
       "    <tr>\n",
       "      <th>0</th>\n",
       "      <td>2</td>\n",
       "      <td>euclidean</td>\n",
       "      <td>5.408676</td>\n",
       "      <td>0.048291</td>\n",
       "      <td>5.41</td>\n",
       "    </tr>\n",
       "    <tr>\n",
       "      <th>1</th>\n",
       "      <td>2</td>\n",
       "      <td>hyperbolic</td>\n",
       "      <td>2.870587</td>\n",
       "      <td>0.256836</td>\n",
       "      <td>2.87</td>\n",
       "    </tr>\n",
       "    <tr>\n",
       "      <th>2</th>\n",
       "      <td>4</td>\n",
       "      <td>euclidean</td>\n",
       "      <td>3.148575</td>\n",
       "      <td>0.049351</td>\n",
       "      <td>3.15</td>\n",
       "    </tr>\n",
       "    <tr>\n",
       "      <th>3</th>\n",
       "      <td>4</td>\n",
       "      <td>hyperbolic</td>\n",
       "      <td>1.438522</td>\n",
       "      <td>0.045448</td>\n",
       "      <td>1.44</td>\n",
       "    </tr>\n",
       "    <tr>\n",
       "      <th>4</th>\n",
       "      <td>6</td>\n",
       "      <td>euclidean</td>\n",
       "      <td>2.297897</td>\n",
       "      <td>0.021261</td>\n",
       "      <td>2.30</td>\n",
       "    </tr>\n",
       "    <tr>\n",
       "      <th>5</th>\n",
       "      <td>6</td>\n",
       "      <td>hyperbolic</td>\n",
       "      <td>1.235643</td>\n",
       "      <td>0.025289</td>\n",
       "      <td>1.24</td>\n",
       "    </tr>\n",
       "    <tr>\n",
       "      <th>6</th>\n",
       "      <td>8</td>\n",
       "      <td>euclidean</td>\n",
       "      <td>1.854092</td>\n",
       "      <td>0.038878</td>\n",
       "      <td>1.85</td>\n",
       "    </tr>\n",
       "    <tr>\n",
       "      <th>7</th>\n",
       "      <td>8</td>\n",
       "      <td>hyperbolic</td>\n",
       "      <td>1.053523</td>\n",
       "      <td>0.020725</td>\n",
       "      <td>1.05</td>\n",
       "    </tr>\n",
       "    <tr>\n",
       "      <th>8</th>\n",
       "      <td>16</td>\n",
       "      <td>euclidean</td>\n",
       "      <td>1.206387</td>\n",
       "      <td>0.043491</td>\n",
       "      <td>1.21</td>\n",
       "    </tr>\n",
       "    <tr>\n",
       "      <th>9</th>\n",
       "      <td>16</td>\n",
       "      <td>hyperbolic</td>\n",
       "      <td>1.081320</td>\n",
       "      <td>0.029081</td>\n",
       "      <td>1.08</td>\n",
       "    </tr>\n",
       "    <tr>\n",
       "      <th>10</th>\n",
       "      <td>32</td>\n",
       "      <td>euclidean</td>\n",
       "      <td>0.946681</td>\n",
       "      <td>0.015151</td>\n",
       "      <td>0.95</td>\n",
       "    </tr>\n",
       "    <tr>\n",
       "      <th>11</th>\n",
       "      <td>32</td>\n",
       "      <td>hyperbolic</td>\n",
       "      <td>0.778744</td>\n",
       "      <td>0.034691</td>\n",
       "      <td>0.78</td>\n",
       "    </tr>\n",
       "    <tr>\n",
       "      <th>12</th>\n",
       "      <td>64</td>\n",
       "      <td>euclidean</td>\n",
       "      <td>0.822034</td>\n",
       "      <td>0.045291</td>\n",
       "      <td>0.82</td>\n",
       "    </tr>\n",
       "    <tr>\n",
       "      <th>13</th>\n",
       "      <td>64</td>\n",
       "      <td>hyperbolic</td>\n",
       "      <td>0.702858</td>\n",
       "      <td>0.012216</td>\n",
       "      <td>0.70</td>\n",
       "    </tr>\n",
       "    <tr>\n",
       "      <th>14</th>\n",
       "      <td>128</td>\n",
       "      <td>euclidean</td>\n",
       "      <td>0.848785</td>\n",
       "      <td>0.027967</td>\n",
       "      <td>0.85</td>\n",
       "    </tr>\n",
       "    <tr>\n",
       "      <th>15</th>\n",
       "      <td>128</td>\n",
       "      <td>hyperbolic</td>\n",
       "      <td>0.663227</td>\n",
       "      <td>0.030494</td>\n",
       "      <td>0.66</td>\n",
       "    </tr>\n",
       "  </tbody>\n",
       "</table>\n",
       "</div>"
      ],
      "text/plain": [
       "    Embedding Dimension    Distance  Mean %RMSE  %RMSE std  Mean %RMSE rounded\n",
       "0                     2   euclidean    5.408676   0.048291                5.41\n",
       "1                     2  hyperbolic    2.870587   0.256836                2.87\n",
       "2                     4   euclidean    3.148575   0.049351                3.15\n",
       "3                     4  hyperbolic    1.438522   0.045448                1.44\n",
       "4                     6   euclidean    2.297897   0.021261                2.30\n",
       "5                     6  hyperbolic    1.235643   0.025289                1.24\n",
       "6                     8   euclidean    1.854092   0.038878                1.85\n",
       "7                     8  hyperbolic    1.053523   0.020725                1.05\n",
       "8                    16   euclidean    1.206387   0.043491                1.21\n",
       "9                    16  hyperbolic    1.081320   0.029081                1.08\n",
       "10                   32   euclidean    0.946681   0.015151                0.95\n",
       "11                   32  hyperbolic    0.778744   0.034691                0.78\n",
       "12                   64   euclidean    0.822034   0.045291                0.82\n",
       "13                   64  hyperbolic    0.702858   0.012216                0.70\n",
       "14                  128   euclidean    0.848785   0.027967                0.85\n",
       "15                  128  hyperbolic    0.663227   0.030494                0.66"
      ]
     },
     "execution_count": 3,
     "metadata": {},
     "output_type": "execute_result"
    }
   ],
   "source": [
    "# process dataframe\n",
    "df = df[['distance', 'embedding_size', 'final/%rmse_test']]\n",
    "df = df.groupby(['embedding_size', 'distance']).agg(['mean', 'std']).reset_index()\n",
    "df.columns = [' '.join(column).strip() for column in df.columns]\n",
    "df = df.rename(columns={'embedding_size': 'Embedding Dimension', 'final/%rmse_test mean': \"Mean %RMSE\", 'distance': 'Distance', 'final/%rmse_test std': '%RMSE std'})\n",
    "df['Mean %RMSE rounded'] = df['Mean %RMSE'].round(2)\n",
    "\n",
    "df"
   ]
  },
  {
   "cell_type": "code",
   "execution_count": 4,
   "metadata": {},
   "outputs": [],
   "source": [
    "def line(error_y_mode=None, **kwargs):\n",
    "    \"\"\"\n",
    "    Extension of `plotly.express.line` to use error bands.\n",
    "    Soure: https://stackoverflow.com/a/69587615/14773537.\n",
    "    \"\"\"\n",
    "    ERROR_MODES = {'bar','band','bars','bands',None}\n",
    "    if error_y_mode not in ERROR_MODES:\n",
    "        raise ValueError(f\"'error_y_mode' must be one of {ERROR_MODES}, received {repr(error_y_mode)}.\")\n",
    "    if error_y_mode in {'bar','bars',None}:\n",
    "        fig = px.line(**kwargs)\n",
    "    elif error_y_mode in {'band','bands'}:\n",
    "        if 'error_y' not in kwargs:\n",
    "            raise ValueError(f\"If you provide argument 'error_y_mode' you must also provide 'error_y'.\")\n",
    "        figure_with_error_bars = px.line(**kwargs)\n",
    "        fig = px.line(**{arg: val for arg,val in kwargs.items() if arg != 'error_y'})\n",
    "        for data in figure_with_error_bars.data:\n",
    "            x = list(data['x'])\n",
    "            y_upper = list(data['y'] + data['error_y']['array'])\n",
    "            y_lower = list(data['y'] - data['error_y']['array'] if data['error_y']['arrayminus'] is None else data['y'] - data['error_y']['arrayminus'])\n",
    "            color = f\"rgba({tuple(int(data['line']['color'].lstrip('#')[i:i+2], 16) for i in (0, 2, 4))},.3)\".replace('((','(').replace('),',',').replace(' ','')\n",
    "            fig.add_trace(\n",
    "                go.Scatter(\n",
    "                    x = x+x[::-1],\n",
    "                    y = y_upper+y_lower[::-1],\n",
    "                    fill = 'toself',\n",
    "                    fillcolor = color,\n",
    "                    line = dict(\n",
    "                        color = 'rgba(255,255,255,0)'\n",
    "                    ),\n",
    "                    hoverinfo = \"skip\",\n",
    "                    showlegend = False,\n",
    "                    legendgroup = data['legendgroup'],\n",
    "                    xaxis = data['xaxis'],\n",
    "                    yaxis = data['yaxis'],\n",
    "                )\n",
    "            )\n",
    "        # Reorder data as said here: https://stackoverflow.com/a/66854398/8849755\n",
    "        reordered_data = []\n",
    "        for i in range(int(len(fig.data)/2)):\n",
    "            reordered_data.append(fig.data[i+int(len(fig.data)/2)])\n",
    "            reordered_data.append(fig.data[i])\n",
    "        fig.data = tuple(reordered_data)\n",
    "    return fig"
   ]
  },
  {
   "cell_type": "code",
   "execution_count": 14,
   "metadata": {},
   "outputs": [
    {
     "data": {
      "application/vnd.plotly.v1+json": {
       "config": {
        "plotlyServerURL": "https://plot.ly"
       },
       "data": [
        {
         "fill": "toself",
         "fillcolor": "rgba(99,110,250,.3)",
         "hoverinfo": "skip",
         "legendgroup": "euclidean",
         "line": {
          "color": "rgba(255,255,255,0)"
         },
         "showlegend": false,
         "textposition": "bottom center",
         "type": "scatter",
         "x": [
          2,
          4,
          6,
          8,
          16,
          32,
          64,
          128,
          128,
          64,
          32,
          16,
          8,
          6,
          4,
          2
         ],
         "xaxis": "x",
         "y": [
          5.456966312241192,
          3.197925175930724,
          2.3191582413599883,
          1.8929707003261422,
          1.2498776649331496,
          0.9618324704076606,
          0.8673249445905183,
          0.8767516614388128,
          0.8208173743466799,
          0.7767422868879134,
          0.9315300941619942,
          1.1628964084060875,
          1.8152139700638539,
          2.2766356515362074,
          3.0992241707708974,
          5.360384911345665
         ],
         "yaxis": "y"
        },
        {
         "hovertemplate": "Distance=euclidean<br>Embedding Dimension=%{x}<br>Mean %RMSE=%{y}<br>Mean %RMSE rounded=%{text}<extra></extra>",
         "legendgroup": "euclidean",
         "line": {
          "color": "#636efa",
          "dash": "solid"
         },
         "marker": {
          "symbol": "circle"
         },
         "mode": "text+lines+markers",
         "name": "euclidean",
         "orientation": "v",
         "showlegend": true,
         "text": [
          5.41,
          3.15,
          2.3,
          1.85,
          1.21,
          0.95,
          0.82,
          0.85
         ],
         "textposition": "bottom center",
         "type": "scatter",
         "x": [
          2,
          4,
          6,
          8,
          16,
          32,
          64,
          128
         ],
         "xaxis": "x",
         "y": [
          5.408675611793429,
          3.1485746733508106,
          2.297896946448098,
          1.854092335194998,
          1.2063870366696186,
          0.9466812822848274,
          0.8220336157392159,
          0.8487845178927463
         ],
         "yaxis": "y"
        },
        {
         "fill": "toself",
         "fillcolor": "rgba(239,85,59,.3)",
         "hoverinfo": "skip",
         "legendgroup": "hyperbolic",
         "line": {
          "color": "rgba(255,255,255,0)"
         },
         "showlegend": false,
         "textposition": "bottom center",
         "type": "scatter",
         "x": [
          2,
          4,
          6,
          8,
          16,
          32,
          64,
          128,
          128,
          64,
          32,
          16,
          8,
          6,
          4,
          2
         ],
         "xaxis": "x",
         "y": [
          3.1274227978130984,
          1.4839698974021573,
          1.2609328436294307,
          1.0742476759441286,
          1.110400513669822,
          0.8134344079327874,
          0.7150742154412328,
          0.6937214223489916,
          0.6327328815251223,
          0.6906425046813331,
          0.7440531799257705,
          1.0522386706664917,
          1.0327984025589207,
          1.2103541262805502,
          1.393074331536215,
          2.613751134177231
         ],
         "yaxis": "y"
        },
        {
         "hovertemplate": "Distance=hyperbolic<br>Embedding Dimension=%{x}<br>Mean %RMSE=%{y}<br>Mean %RMSE rounded=%{text}<extra></extra>",
         "legendgroup": "hyperbolic",
         "line": {
          "color": "#EF553B",
          "dash": "solid"
         },
         "marker": {
          "symbol": "circle"
         },
         "mode": "text+lines+markers",
         "name": "hyperbolic",
         "orientation": "v",
         "showlegend": true,
         "text": [
          2.87,
          1.44,
          1.24,
          1.05,
          1.08,
          0.78,
          0.7,
          0.66
         ],
         "textposition": "bottom center",
         "type": "scatter",
         "x": [
          2,
          4,
          6,
          8,
          16,
          32,
          64,
          128
         ],
         "xaxis": "x",
         "y": [
          2.8705869659951646,
          1.4385221144691862,
          1.2356434849549904,
          1.0535230392515247,
          1.0813195921681569,
          0.778743793929279,
          0.702858360061283,
          0.663227151937057
         ],
         "yaxis": "y"
        }
       ],
       "layout": {
        "legend": {
         "title": {
          "text": "Distance"
         },
         "tracegroupgap": 0,
         "x": 0.8,
         "y": 0.95
        },
        "margin": {
         "t": 60
        },
        "template": {
         "data": {
          "bar": [
           {
            "error_x": {
             "color": "#2a3f5f"
            },
            "error_y": {
             "color": "#2a3f5f"
            },
            "marker": {
             "line": {
              "color": "#E5ECF6",
              "width": 0.5
             },
             "pattern": {
              "fillmode": "overlay",
              "size": 10,
              "solidity": 0.2
             }
            },
            "type": "bar"
           }
          ],
          "barpolar": [
           {
            "marker": {
             "line": {
              "color": "#E5ECF6",
              "width": 0.5
             },
             "pattern": {
              "fillmode": "overlay",
              "size": 10,
              "solidity": 0.2
             }
            },
            "type": "barpolar"
           }
          ],
          "carpet": [
           {
            "aaxis": {
             "endlinecolor": "#2a3f5f",
             "gridcolor": "white",
             "linecolor": "white",
             "minorgridcolor": "white",
             "startlinecolor": "#2a3f5f"
            },
            "baxis": {
             "endlinecolor": "#2a3f5f",
             "gridcolor": "white",
             "linecolor": "white",
             "minorgridcolor": "white",
             "startlinecolor": "#2a3f5f"
            },
            "type": "carpet"
           }
          ],
          "choropleth": [
           {
            "colorbar": {
             "outlinewidth": 0,
             "ticks": ""
            },
            "type": "choropleth"
           }
          ],
          "contour": [
           {
            "colorbar": {
             "outlinewidth": 0,
             "ticks": ""
            },
            "colorscale": [
             [
              0,
              "#0d0887"
             ],
             [
              0.1111111111111111,
              "#46039f"
             ],
             [
              0.2222222222222222,
              "#7201a8"
             ],
             [
              0.3333333333333333,
              "#9c179e"
             ],
             [
              0.4444444444444444,
              "#bd3786"
             ],
             [
              0.5555555555555556,
              "#d8576b"
             ],
             [
              0.6666666666666666,
              "#ed7953"
             ],
             [
              0.7777777777777778,
              "#fb9f3a"
             ],
             [
              0.8888888888888888,
              "#fdca26"
             ],
             [
              1,
              "#f0f921"
             ]
            ],
            "type": "contour"
           }
          ],
          "contourcarpet": [
           {
            "colorbar": {
             "outlinewidth": 0,
             "ticks": ""
            },
            "type": "contourcarpet"
           }
          ],
          "heatmap": [
           {
            "colorbar": {
             "outlinewidth": 0,
             "ticks": ""
            },
            "colorscale": [
             [
              0,
              "#0d0887"
             ],
             [
              0.1111111111111111,
              "#46039f"
             ],
             [
              0.2222222222222222,
              "#7201a8"
             ],
             [
              0.3333333333333333,
              "#9c179e"
             ],
             [
              0.4444444444444444,
              "#bd3786"
             ],
             [
              0.5555555555555556,
              "#d8576b"
             ],
             [
              0.6666666666666666,
              "#ed7953"
             ],
             [
              0.7777777777777778,
              "#fb9f3a"
             ],
             [
              0.8888888888888888,
              "#fdca26"
             ],
             [
              1,
              "#f0f921"
             ]
            ],
            "type": "heatmap"
           }
          ],
          "heatmapgl": [
           {
            "colorbar": {
             "outlinewidth": 0,
             "ticks": ""
            },
            "colorscale": [
             [
              0,
              "#0d0887"
             ],
             [
              0.1111111111111111,
              "#46039f"
             ],
             [
              0.2222222222222222,
              "#7201a8"
             ],
             [
              0.3333333333333333,
              "#9c179e"
             ],
             [
              0.4444444444444444,
              "#bd3786"
             ],
             [
              0.5555555555555556,
              "#d8576b"
             ],
             [
              0.6666666666666666,
              "#ed7953"
             ],
             [
              0.7777777777777778,
              "#fb9f3a"
             ],
             [
              0.8888888888888888,
              "#fdca26"
             ],
             [
              1,
              "#f0f921"
             ]
            ],
            "type": "heatmapgl"
           }
          ],
          "histogram": [
           {
            "marker": {
             "pattern": {
              "fillmode": "overlay",
              "size": 10,
              "solidity": 0.2
             }
            },
            "type": "histogram"
           }
          ],
          "histogram2d": [
           {
            "colorbar": {
             "outlinewidth": 0,
             "ticks": ""
            },
            "colorscale": [
             [
              0,
              "#0d0887"
             ],
             [
              0.1111111111111111,
              "#46039f"
             ],
             [
              0.2222222222222222,
              "#7201a8"
             ],
             [
              0.3333333333333333,
              "#9c179e"
             ],
             [
              0.4444444444444444,
              "#bd3786"
             ],
             [
              0.5555555555555556,
              "#d8576b"
             ],
             [
              0.6666666666666666,
              "#ed7953"
             ],
             [
              0.7777777777777778,
              "#fb9f3a"
             ],
             [
              0.8888888888888888,
              "#fdca26"
             ],
             [
              1,
              "#f0f921"
             ]
            ],
            "type": "histogram2d"
           }
          ],
          "histogram2dcontour": [
           {
            "colorbar": {
             "outlinewidth": 0,
             "ticks": ""
            },
            "colorscale": [
             [
              0,
              "#0d0887"
             ],
             [
              0.1111111111111111,
              "#46039f"
             ],
             [
              0.2222222222222222,
              "#7201a8"
             ],
             [
              0.3333333333333333,
              "#9c179e"
             ],
             [
              0.4444444444444444,
              "#bd3786"
             ],
             [
              0.5555555555555556,
              "#d8576b"
             ],
             [
              0.6666666666666666,
              "#ed7953"
             ],
             [
              0.7777777777777778,
              "#fb9f3a"
             ],
             [
              0.8888888888888888,
              "#fdca26"
             ],
             [
              1,
              "#f0f921"
             ]
            ],
            "type": "histogram2dcontour"
           }
          ],
          "mesh3d": [
           {
            "colorbar": {
             "outlinewidth": 0,
             "ticks": ""
            },
            "type": "mesh3d"
           }
          ],
          "parcoords": [
           {
            "line": {
             "colorbar": {
              "outlinewidth": 0,
              "ticks": ""
             }
            },
            "type": "parcoords"
           }
          ],
          "pie": [
           {
            "automargin": true,
            "type": "pie"
           }
          ],
          "scatter": [
           {
            "fillpattern": {
             "fillmode": "overlay",
             "size": 10,
             "solidity": 0.2
            },
            "type": "scatter"
           }
          ],
          "scatter3d": [
           {
            "line": {
             "colorbar": {
              "outlinewidth": 0,
              "ticks": ""
             }
            },
            "marker": {
             "colorbar": {
              "outlinewidth": 0,
              "ticks": ""
             }
            },
            "type": "scatter3d"
           }
          ],
          "scattercarpet": [
           {
            "marker": {
             "colorbar": {
              "outlinewidth": 0,
              "ticks": ""
             }
            },
            "type": "scattercarpet"
           }
          ],
          "scattergeo": [
           {
            "marker": {
             "colorbar": {
              "outlinewidth": 0,
              "ticks": ""
             }
            },
            "type": "scattergeo"
           }
          ],
          "scattergl": [
           {
            "marker": {
             "colorbar": {
              "outlinewidth": 0,
              "ticks": ""
             }
            },
            "type": "scattergl"
           }
          ],
          "scattermapbox": [
           {
            "marker": {
             "colorbar": {
              "outlinewidth": 0,
              "ticks": ""
             }
            },
            "type": "scattermapbox"
           }
          ],
          "scatterpolar": [
           {
            "marker": {
             "colorbar": {
              "outlinewidth": 0,
              "ticks": ""
             }
            },
            "type": "scatterpolar"
           }
          ],
          "scatterpolargl": [
           {
            "marker": {
             "colorbar": {
              "outlinewidth": 0,
              "ticks": ""
             }
            },
            "type": "scatterpolargl"
           }
          ],
          "scatterternary": [
           {
            "marker": {
             "colorbar": {
              "outlinewidth": 0,
              "ticks": ""
             }
            },
            "type": "scatterternary"
           }
          ],
          "surface": [
           {
            "colorbar": {
             "outlinewidth": 0,
             "ticks": ""
            },
            "colorscale": [
             [
              0,
              "#0d0887"
             ],
             [
              0.1111111111111111,
              "#46039f"
             ],
             [
              0.2222222222222222,
              "#7201a8"
             ],
             [
              0.3333333333333333,
              "#9c179e"
             ],
             [
              0.4444444444444444,
              "#bd3786"
             ],
             [
              0.5555555555555556,
              "#d8576b"
             ],
             [
              0.6666666666666666,
              "#ed7953"
             ],
             [
              0.7777777777777778,
              "#fb9f3a"
             ],
             [
              0.8888888888888888,
              "#fdca26"
             ],
             [
              1,
              "#f0f921"
             ]
            ],
            "type": "surface"
           }
          ],
          "table": [
           {
            "cells": {
             "fill": {
              "color": "#EBF0F8"
             },
             "line": {
              "color": "white"
             }
            },
            "header": {
             "fill": {
              "color": "#C8D4E3"
             },
             "line": {
              "color": "white"
             }
            },
            "type": "table"
           }
          ]
         },
         "layout": {
          "annotationdefaults": {
           "arrowcolor": "#2a3f5f",
           "arrowhead": 0,
           "arrowwidth": 1
          },
          "autotypenumbers": "strict",
          "coloraxis": {
           "colorbar": {
            "outlinewidth": 0,
            "ticks": ""
           }
          },
          "colorscale": {
           "diverging": [
            [
             0,
             "#8e0152"
            ],
            [
             0.1,
             "#c51b7d"
            ],
            [
             0.2,
             "#de77ae"
            ],
            [
             0.3,
             "#f1b6da"
            ],
            [
             0.4,
             "#fde0ef"
            ],
            [
             0.5,
             "#f7f7f7"
            ],
            [
             0.6,
             "#e6f5d0"
            ],
            [
             0.7,
             "#b8e186"
            ],
            [
             0.8,
             "#7fbc41"
            ],
            [
             0.9,
             "#4d9221"
            ],
            [
             1,
             "#276419"
            ]
           ],
           "sequential": [
            [
             0,
             "#0d0887"
            ],
            [
             0.1111111111111111,
             "#46039f"
            ],
            [
             0.2222222222222222,
             "#7201a8"
            ],
            [
             0.3333333333333333,
             "#9c179e"
            ],
            [
             0.4444444444444444,
             "#bd3786"
            ],
            [
             0.5555555555555556,
             "#d8576b"
            ],
            [
             0.6666666666666666,
             "#ed7953"
            ],
            [
             0.7777777777777778,
             "#fb9f3a"
            ],
            [
             0.8888888888888888,
             "#fdca26"
            ],
            [
             1,
             "#f0f921"
            ]
           ],
           "sequentialminus": [
            [
             0,
             "#0d0887"
            ],
            [
             0.1111111111111111,
             "#46039f"
            ],
            [
             0.2222222222222222,
             "#7201a8"
            ],
            [
             0.3333333333333333,
             "#9c179e"
            ],
            [
             0.4444444444444444,
             "#bd3786"
            ],
            [
             0.5555555555555556,
             "#d8576b"
            ],
            [
             0.6666666666666666,
             "#ed7953"
            ],
            [
             0.7777777777777778,
             "#fb9f3a"
            ],
            [
             0.8888888888888888,
             "#fdca26"
            ],
            [
             1,
             "#f0f921"
            ]
           ]
          },
          "colorway": [
           "#636efa",
           "#EF553B",
           "#00cc96",
           "#ab63fa",
           "#FFA15A",
           "#19d3f3",
           "#FF6692",
           "#B6E880",
           "#FF97FF",
           "#FECB52"
          ],
          "font": {
           "color": "#2a3f5f"
          },
          "geo": {
           "bgcolor": "white",
           "lakecolor": "white",
           "landcolor": "#E5ECF6",
           "showlakes": true,
           "showland": true,
           "subunitcolor": "white"
          },
          "hoverlabel": {
           "align": "left"
          },
          "hovermode": "closest",
          "mapbox": {
           "style": "light"
          },
          "paper_bgcolor": "white",
          "plot_bgcolor": "#E5ECF6",
          "polar": {
           "angularaxis": {
            "gridcolor": "white",
            "linecolor": "white",
            "ticks": ""
           },
           "bgcolor": "#E5ECF6",
           "radialaxis": {
            "gridcolor": "white",
            "linecolor": "white",
            "ticks": ""
           }
          },
          "scene": {
           "xaxis": {
            "backgroundcolor": "#E5ECF6",
            "gridcolor": "white",
            "gridwidth": 2,
            "linecolor": "white",
            "showbackground": true,
            "ticks": "",
            "zerolinecolor": "white"
           },
           "yaxis": {
            "backgroundcolor": "#E5ECF6",
            "gridcolor": "white",
            "gridwidth": 2,
            "linecolor": "white",
            "showbackground": true,
            "ticks": "",
            "zerolinecolor": "white"
           },
           "zaxis": {
            "backgroundcolor": "#E5ECF6",
            "gridcolor": "white",
            "gridwidth": 2,
            "linecolor": "white",
            "showbackground": true,
            "ticks": "",
            "zerolinecolor": "white"
           }
          },
          "shapedefaults": {
           "line": {
            "color": "#2a3f5f"
           }
          },
          "ternary": {
           "aaxis": {
            "gridcolor": "white",
            "linecolor": "white",
            "ticks": ""
           },
           "baxis": {
            "gridcolor": "white",
            "linecolor": "white",
            "ticks": ""
           },
           "bgcolor": "#E5ECF6",
           "caxis": {
            "gridcolor": "white",
            "linecolor": "white",
            "ticks": ""
           }
          },
          "title": {
           "x": 0.05
          },
          "xaxis": {
           "automargin": true,
           "gridcolor": "white",
           "linecolor": "white",
           "ticks": "",
           "title": {
            "standoff": 15
           },
           "zerolinecolor": "white",
           "zerolinewidth": 2
          },
          "yaxis": {
           "automargin": true,
           "gridcolor": "white",
           "linecolor": "white",
           "ticks": "",
           "title": {
            "standoff": 15
           },
           "zerolinecolor": "white",
           "zerolinewidth": 2
          }
         }
        },
        "title": {
         "text": "Edit Distance Approximation:<br>%RMSE on Greengenes Dataset with CNN",
         "x": 0.5,
         "xanchor": "center"
        },
        "xaxis": {
         "anchor": "y",
         "domain": [
          0,
          1
         ],
         "tickmode": "array",
         "tickvals": [
          2,
          4,
          6,
          8,
          16,
          32,
          64,
          128
         ],
         "title": {
          "text": "Embedding Dimension"
         },
         "type": "log"
        },
        "yaxis": {
         "anchor": "x",
         "domain": [
          0,
          1
         ],
         "tickformat": "0.1r",
         "title": {
          "text": "Mean %RMSE"
         },
         "type": "log"
        }
       }
      },
      "text/html": [
       "<div>                            <div id=\"7d9525db-5da1-4a80-a9dd-2c73efaeb201\" class=\"plotly-graph-div\" style=\"height:525px; width:100%;\"></div>            <script type=\"text/javascript\">                require([\"plotly\"], function(Plotly) {                    window.PLOTLYENV=window.PLOTLYENV || {};                                    if (document.getElementById(\"7d9525db-5da1-4a80-a9dd-2c73efaeb201\")) {                    Plotly.newPlot(                        \"7d9525db-5da1-4a80-a9dd-2c73efaeb201\",                        [{\"fill\":\"toself\",\"fillcolor\":\"rgba(99,110,250,.3)\",\"hoverinfo\":\"skip\",\"legendgroup\":\"euclidean\",\"line\":{\"color\":\"rgba(255,255,255,0)\"},\"showlegend\":false,\"x\":[2,4,6,8,16,32,64,128,128,64,32,16,8,6,4,2],\"xaxis\":\"x\",\"y\":[5.456966312241192,3.197925175930724,2.3191582413599883,1.8929707003261422,1.2498776649331496,0.9618324704076606,0.8673249445905183,0.8767516614388128,0.8208173743466799,0.7767422868879134,0.9315300941619942,1.1628964084060875,1.8152139700638539,2.2766356515362074,3.0992241707708974,5.360384911345665],\"yaxis\":\"y\",\"type\":\"scatter\",\"textposition\":\"bottom center\"},{\"hovertemplate\":\"Distance=euclidean<br>Embedding Dimension=%{x}<br>Mean %RMSE=%{y}<br>Mean %RMSE rounded=%{text}<extra></extra>\",\"legendgroup\":\"euclidean\",\"line\":{\"color\":\"#636efa\",\"dash\":\"solid\"},\"marker\":{\"symbol\":\"circle\"},\"mode\":\"text+lines+markers\",\"name\":\"euclidean\",\"orientation\":\"v\",\"showlegend\":true,\"text\":[5.41,3.15,2.3,1.85,1.21,0.95,0.82,0.85],\"x\":[2,4,6,8,16,32,64,128],\"xaxis\":\"x\",\"y\":[5.408675611793429,3.1485746733508106,2.297896946448098,1.854092335194998,1.2063870366696186,0.9466812822848274,0.8220336157392159,0.8487845178927463],\"yaxis\":\"y\",\"type\":\"scatter\",\"textposition\":\"bottom center\"},{\"fill\":\"toself\",\"fillcolor\":\"rgba(239,85,59,.3)\",\"hoverinfo\":\"skip\",\"legendgroup\":\"hyperbolic\",\"line\":{\"color\":\"rgba(255,255,255,0)\"},\"showlegend\":false,\"x\":[2,4,6,8,16,32,64,128,128,64,32,16,8,6,4,2],\"xaxis\":\"x\",\"y\":[3.1274227978130984,1.4839698974021573,1.2609328436294307,1.0742476759441286,1.110400513669822,0.8134344079327874,0.7150742154412328,0.6937214223489916,0.6327328815251223,0.6906425046813331,0.7440531799257705,1.0522386706664917,1.0327984025589207,1.2103541262805502,1.393074331536215,2.613751134177231],\"yaxis\":\"y\",\"type\":\"scatter\",\"textposition\":\"bottom center\"},{\"hovertemplate\":\"Distance=hyperbolic<br>Embedding Dimension=%{x}<br>Mean %RMSE=%{y}<br>Mean %RMSE rounded=%{text}<extra></extra>\",\"legendgroup\":\"hyperbolic\",\"line\":{\"color\":\"#EF553B\",\"dash\":\"solid\"},\"marker\":{\"symbol\":\"circle\"},\"mode\":\"text+lines+markers\",\"name\":\"hyperbolic\",\"orientation\":\"v\",\"showlegend\":true,\"text\":[2.87,1.44,1.24,1.05,1.08,0.78,0.7,0.66],\"x\":[2,4,6,8,16,32,64,128],\"xaxis\":\"x\",\"y\":[2.8705869659951646,1.4385221144691862,1.2356434849549904,1.0535230392515247,1.0813195921681569,0.778743793929279,0.702858360061283,0.663227151937057],\"yaxis\":\"y\",\"type\":\"scatter\",\"textposition\":\"bottom center\"}],                        {\"template\":{\"data\":{\"histogram2dcontour\":[{\"type\":\"histogram2dcontour\",\"colorbar\":{\"outlinewidth\":0,\"ticks\":\"\"},\"colorscale\":[[0.0,\"#0d0887\"],[0.1111111111111111,\"#46039f\"],[0.2222222222222222,\"#7201a8\"],[0.3333333333333333,\"#9c179e\"],[0.4444444444444444,\"#bd3786\"],[0.5555555555555556,\"#d8576b\"],[0.6666666666666666,\"#ed7953\"],[0.7777777777777778,\"#fb9f3a\"],[0.8888888888888888,\"#fdca26\"],[1.0,\"#f0f921\"]]}],\"choropleth\":[{\"type\":\"choropleth\",\"colorbar\":{\"outlinewidth\":0,\"ticks\":\"\"}}],\"histogram2d\":[{\"type\":\"histogram2d\",\"colorbar\":{\"outlinewidth\":0,\"ticks\":\"\"},\"colorscale\":[[0.0,\"#0d0887\"],[0.1111111111111111,\"#46039f\"],[0.2222222222222222,\"#7201a8\"],[0.3333333333333333,\"#9c179e\"],[0.4444444444444444,\"#bd3786\"],[0.5555555555555556,\"#d8576b\"],[0.6666666666666666,\"#ed7953\"],[0.7777777777777778,\"#fb9f3a\"],[0.8888888888888888,\"#fdca26\"],[1.0,\"#f0f921\"]]}],\"heatmap\":[{\"type\":\"heatmap\",\"colorbar\":{\"outlinewidth\":0,\"ticks\":\"\"},\"colorscale\":[[0.0,\"#0d0887\"],[0.1111111111111111,\"#46039f\"],[0.2222222222222222,\"#7201a8\"],[0.3333333333333333,\"#9c179e\"],[0.4444444444444444,\"#bd3786\"],[0.5555555555555556,\"#d8576b\"],[0.6666666666666666,\"#ed7953\"],[0.7777777777777778,\"#fb9f3a\"],[0.8888888888888888,\"#fdca26\"],[1.0,\"#f0f921\"]]}],\"heatmapgl\":[{\"type\":\"heatmapgl\",\"colorbar\":{\"outlinewidth\":0,\"ticks\":\"\"},\"colorscale\":[[0.0,\"#0d0887\"],[0.1111111111111111,\"#46039f\"],[0.2222222222222222,\"#7201a8\"],[0.3333333333333333,\"#9c179e\"],[0.4444444444444444,\"#bd3786\"],[0.5555555555555556,\"#d8576b\"],[0.6666666666666666,\"#ed7953\"],[0.7777777777777778,\"#fb9f3a\"],[0.8888888888888888,\"#fdca26\"],[1.0,\"#f0f921\"]]}],\"contourcarpet\":[{\"type\":\"contourcarpet\",\"colorbar\":{\"outlinewidth\":0,\"ticks\":\"\"}}],\"contour\":[{\"type\":\"contour\",\"colorbar\":{\"outlinewidth\":0,\"ticks\":\"\"},\"colorscale\":[[0.0,\"#0d0887\"],[0.1111111111111111,\"#46039f\"],[0.2222222222222222,\"#7201a8\"],[0.3333333333333333,\"#9c179e\"],[0.4444444444444444,\"#bd3786\"],[0.5555555555555556,\"#d8576b\"],[0.6666666666666666,\"#ed7953\"],[0.7777777777777778,\"#fb9f3a\"],[0.8888888888888888,\"#fdca26\"],[1.0,\"#f0f921\"]]}],\"surface\":[{\"type\":\"surface\",\"colorbar\":{\"outlinewidth\":0,\"ticks\":\"\"},\"colorscale\":[[0.0,\"#0d0887\"],[0.1111111111111111,\"#46039f\"],[0.2222222222222222,\"#7201a8\"],[0.3333333333333333,\"#9c179e\"],[0.4444444444444444,\"#bd3786\"],[0.5555555555555556,\"#d8576b\"],[0.6666666666666666,\"#ed7953\"],[0.7777777777777778,\"#fb9f3a\"],[0.8888888888888888,\"#fdca26\"],[1.0,\"#f0f921\"]]}],\"mesh3d\":[{\"type\":\"mesh3d\",\"colorbar\":{\"outlinewidth\":0,\"ticks\":\"\"}}],\"scatter\":[{\"fillpattern\":{\"fillmode\":\"overlay\",\"size\":10,\"solidity\":0.2},\"type\":\"scatter\"}],\"parcoords\":[{\"type\":\"parcoords\",\"line\":{\"colorbar\":{\"outlinewidth\":0,\"ticks\":\"\"}}}],\"scatterpolargl\":[{\"type\":\"scatterpolargl\",\"marker\":{\"colorbar\":{\"outlinewidth\":0,\"ticks\":\"\"}}}],\"bar\":[{\"error_x\":{\"color\":\"#2a3f5f\"},\"error_y\":{\"color\":\"#2a3f5f\"},\"marker\":{\"line\":{\"color\":\"#E5ECF6\",\"width\":0.5},\"pattern\":{\"fillmode\":\"overlay\",\"size\":10,\"solidity\":0.2}},\"type\":\"bar\"}],\"scattergeo\":[{\"type\":\"scattergeo\",\"marker\":{\"colorbar\":{\"outlinewidth\":0,\"ticks\":\"\"}}}],\"scatterpolar\":[{\"type\":\"scatterpolar\",\"marker\":{\"colorbar\":{\"outlinewidth\":0,\"ticks\":\"\"}}}],\"histogram\":[{\"marker\":{\"pattern\":{\"fillmode\":\"overlay\",\"size\":10,\"solidity\":0.2}},\"type\":\"histogram\"}],\"scattergl\":[{\"type\":\"scattergl\",\"marker\":{\"colorbar\":{\"outlinewidth\":0,\"ticks\":\"\"}}}],\"scatter3d\":[{\"type\":\"scatter3d\",\"line\":{\"colorbar\":{\"outlinewidth\":0,\"ticks\":\"\"}},\"marker\":{\"colorbar\":{\"outlinewidth\":0,\"ticks\":\"\"}}}],\"scattermapbox\":[{\"type\":\"scattermapbox\",\"marker\":{\"colorbar\":{\"outlinewidth\":0,\"ticks\":\"\"}}}],\"scatterternary\":[{\"type\":\"scatterternary\",\"marker\":{\"colorbar\":{\"outlinewidth\":0,\"ticks\":\"\"}}}],\"scattercarpet\":[{\"type\":\"scattercarpet\",\"marker\":{\"colorbar\":{\"outlinewidth\":0,\"ticks\":\"\"}}}],\"carpet\":[{\"aaxis\":{\"endlinecolor\":\"#2a3f5f\",\"gridcolor\":\"white\",\"linecolor\":\"white\",\"minorgridcolor\":\"white\",\"startlinecolor\":\"#2a3f5f\"},\"baxis\":{\"endlinecolor\":\"#2a3f5f\",\"gridcolor\":\"white\",\"linecolor\":\"white\",\"minorgridcolor\":\"white\",\"startlinecolor\":\"#2a3f5f\"},\"type\":\"carpet\"}],\"table\":[{\"cells\":{\"fill\":{\"color\":\"#EBF0F8\"},\"line\":{\"color\":\"white\"}},\"header\":{\"fill\":{\"color\":\"#C8D4E3\"},\"line\":{\"color\":\"white\"}},\"type\":\"table\"}],\"barpolar\":[{\"marker\":{\"line\":{\"color\":\"#E5ECF6\",\"width\":0.5},\"pattern\":{\"fillmode\":\"overlay\",\"size\":10,\"solidity\":0.2}},\"type\":\"barpolar\"}],\"pie\":[{\"automargin\":true,\"type\":\"pie\"}]},\"layout\":{\"autotypenumbers\":\"strict\",\"colorway\":[\"#636efa\",\"#EF553B\",\"#00cc96\",\"#ab63fa\",\"#FFA15A\",\"#19d3f3\",\"#FF6692\",\"#B6E880\",\"#FF97FF\",\"#FECB52\"],\"font\":{\"color\":\"#2a3f5f\"},\"hovermode\":\"closest\",\"hoverlabel\":{\"align\":\"left\"},\"paper_bgcolor\":\"white\",\"plot_bgcolor\":\"#E5ECF6\",\"polar\":{\"bgcolor\":\"#E5ECF6\",\"angularaxis\":{\"gridcolor\":\"white\",\"linecolor\":\"white\",\"ticks\":\"\"},\"radialaxis\":{\"gridcolor\":\"white\",\"linecolor\":\"white\",\"ticks\":\"\"}},\"ternary\":{\"bgcolor\":\"#E5ECF6\",\"aaxis\":{\"gridcolor\":\"white\",\"linecolor\":\"white\",\"ticks\":\"\"},\"baxis\":{\"gridcolor\":\"white\",\"linecolor\":\"white\",\"ticks\":\"\"},\"caxis\":{\"gridcolor\":\"white\",\"linecolor\":\"white\",\"ticks\":\"\"}},\"coloraxis\":{\"colorbar\":{\"outlinewidth\":0,\"ticks\":\"\"}},\"colorscale\":{\"sequential\":[[0.0,\"#0d0887\"],[0.1111111111111111,\"#46039f\"],[0.2222222222222222,\"#7201a8\"],[0.3333333333333333,\"#9c179e\"],[0.4444444444444444,\"#bd3786\"],[0.5555555555555556,\"#d8576b\"],[0.6666666666666666,\"#ed7953\"],[0.7777777777777778,\"#fb9f3a\"],[0.8888888888888888,\"#fdca26\"],[1.0,\"#f0f921\"]],\"sequentialminus\":[[0.0,\"#0d0887\"],[0.1111111111111111,\"#46039f\"],[0.2222222222222222,\"#7201a8\"],[0.3333333333333333,\"#9c179e\"],[0.4444444444444444,\"#bd3786\"],[0.5555555555555556,\"#d8576b\"],[0.6666666666666666,\"#ed7953\"],[0.7777777777777778,\"#fb9f3a\"],[0.8888888888888888,\"#fdca26\"],[1.0,\"#f0f921\"]],\"diverging\":[[0,\"#8e0152\"],[0.1,\"#c51b7d\"],[0.2,\"#de77ae\"],[0.3,\"#f1b6da\"],[0.4,\"#fde0ef\"],[0.5,\"#f7f7f7\"],[0.6,\"#e6f5d0\"],[0.7,\"#b8e186\"],[0.8,\"#7fbc41\"],[0.9,\"#4d9221\"],[1,\"#276419\"]]},\"xaxis\":{\"gridcolor\":\"white\",\"linecolor\":\"white\",\"ticks\":\"\",\"title\":{\"standoff\":15},\"zerolinecolor\":\"white\",\"automargin\":true,\"zerolinewidth\":2},\"yaxis\":{\"gridcolor\":\"white\",\"linecolor\":\"white\",\"ticks\":\"\",\"title\":{\"standoff\":15},\"zerolinecolor\":\"white\",\"automargin\":true,\"zerolinewidth\":2},\"scene\":{\"xaxis\":{\"backgroundcolor\":\"#E5ECF6\",\"gridcolor\":\"white\",\"linecolor\":\"white\",\"showbackground\":true,\"ticks\":\"\",\"zerolinecolor\":\"white\",\"gridwidth\":2},\"yaxis\":{\"backgroundcolor\":\"#E5ECF6\",\"gridcolor\":\"white\",\"linecolor\":\"white\",\"showbackground\":true,\"ticks\":\"\",\"zerolinecolor\":\"white\",\"gridwidth\":2},\"zaxis\":{\"backgroundcolor\":\"#E5ECF6\",\"gridcolor\":\"white\",\"linecolor\":\"white\",\"showbackground\":true,\"ticks\":\"\",\"zerolinecolor\":\"white\",\"gridwidth\":2}},\"shapedefaults\":{\"line\":{\"color\":\"#2a3f5f\"}},\"annotationdefaults\":{\"arrowcolor\":\"#2a3f5f\",\"arrowhead\":0,\"arrowwidth\":1},\"geo\":{\"bgcolor\":\"white\",\"landcolor\":\"#E5ECF6\",\"subunitcolor\":\"white\",\"showland\":true,\"showlakes\":true,\"lakecolor\":\"white\"},\"title\":{\"x\":0.05},\"mapbox\":{\"style\":\"light\"}}},\"xaxis\":{\"anchor\":\"y\",\"domain\":[0.0,1.0],\"title\":{\"text\":\"Embedding Dimension\"},\"type\":\"log\",\"tickmode\":\"array\",\"tickvals\":[2,4,6,8,16,32,64,128]},\"yaxis\":{\"anchor\":\"x\",\"domain\":[0.0,1.0],\"title\":{\"text\":\"Mean %RMSE\"},\"type\":\"log\",\"tickformat\":\"0.1r\"},\"legend\":{\"title\":{\"text\":\"Distance\"},\"tracegroupgap\":0,\"y\":0.95,\"x\":0.8},\"margin\":{\"t\":60},\"title\":{\"text\":\"Edit Distance Approximation:<br>%RMSE on Greengenes Dataset with CNN\",\"xanchor\":\"center\",\"x\":0.5}},                        {\"responsive\": true}                    ).then(function(){\n",
       "                            \n",
       "var gd = document.getElementById('7d9525db-5da1-4a80-a9dd-2c73efaeb201');\n",
       "var x = new MutationObserver(function (mutations, observer) {{\n",
       "        var display = window.getComputedStyle(gd).display;\n",
       "        if (!display || display === 'none') {{\n",
       "            console.log([gd, 'removed!']);\n",
       "            Plotly.purge(gd);\n",
       "            observer.disconnect();\n",
       "        }}\n",
       "}});\n",
       "\n",
       "// Listen for the removal of the full notebook cells\n",
       "var notebookContainer = gd.closest('#notebook-container');\n",
       "if (notebookContainer) {{\n",
       "    x.observe(notebookContainer, {childList: true});\n",
       "}}\n",
       "\n",
       "// Listen for the clearing of the current output cell\n",
       "var outputEl = gd.closest('.output');\n",
       "if (outputEl) {{\n",
       "    x.observe(outputEl, {childList: true});\n",
       "}}\n",
       "\n",
       "                        })                };                });            </script>        </div>"
      ]
     },
     "metadata": {},
     "output_type": "display_data"
    }
   ],
   "source": [
    "fig = line(\n",
    "    data_frame=df,\n",
    "    x='Embedding Dimension',\n",
    "    y='Mean %RMSE',\n",
    "    error_y='%RMSE std',\n",
    "    error_y_mode='band',\n",
    "    color='Distance',\n",
    "    markers='.',\n",
    "    log_y=True,\n",
    "    log_x=True,\n",
    "    text='Mean %RMSE rounded'\n",
    "    )\n",
    "\n",
    "dimensions = df['Embedding Dimension'].unique()\n",
    "title = 'Edit Distance Approximation:<br>%RMSE on Greengenes Dataset with CNN'\n",
    "\n",
    "fig.update_traces(textposition='bottom center')\n",
    "fig.update_layout(\n",
    "    yaxis_tickformat = \"0.1r\",\n",
    "    legend=dict(y=0.95, x=0.8),\n",
    "    xaxis = dict(\n",
    "        tickmode = 'array',\n",
    "        tickvals = dimensions,\n",
    "    ),\n",
    "    title={'text': title, 'xanchor': 'center', 'x':0.5}\n",
    ")\n",
    "\n",
    "fig.write_image('../reports/training_runs.png')\n",
    "fig.show()"
   ]
  },
  {
   "cell_type": "code",
   "execution_count": null,
   "metadata": {},
   "outputs": [],
   "source": []
  }
 ],
 "metadata": {
  "kernelspec": {
   "display_name": "mixture",
   "language": "python",
   "name": "python3"
  },
  "language_info": {
   "codemirror_mode": {
    "name": "ipython",
    "version": 3
   },
   "file_extension": ".py",
   "mimetype": "text/x-python",
   "name": "python",
   "nbconvert_exporter": "python",
   "pygments_lexer": "ipython3",
   "version": "3.10.6"
  },
  "orig_nbformat": 4
 },
 "nbformat": 4,
 "nbformat_minor": 2
}
