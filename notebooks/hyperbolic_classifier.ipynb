{
 "cells": [
  {
   "cell_type": "code",
   "execution_count": 1,
   "metadata": {},
   "outputs": [],
   "source": [
    "%load_ext autoreload\n",
    "%autoreload 2"
   ]
  },
  {
   "cell_type": "code",
   "execution_count": 2,
   "metadata": {},
   "outputs": [],
   "source": [
    "# !pip install git+https://github.com/geoopt/geoopt.git"
   ]
  },
  {
   "cell_type": "code",
   "execution_count": 3,
   "metadata": {},
   "outputs": [],
   "source": [
    "import torch\n",
    "import geoopt\n",
    "import tqdm\n",
    "import pandas as pd\n",
    "import numpy as np\n",
    "\n",
    "from sklearn.preprocessing import LabelEncoder\n",
    "from sklearn.model_selection import train_test_split\n",
    "\n",
    "from imblearn.over_sampling import SMOTE\n",
    "\n",
    "from icecream import ic\n"
   ]
  },
  {
   "attachments": {},
   "cell_type": "markdown",
   "metadata": {},
   "source": [
    "# Load Data"
   ]
  },
  {
   "cell_type": "code",
   "execution_count": 4,
   "metadata": {},
   "outputs": [],
   "source": [
    "device = 'cuda'"
   ]
  },
  {
   "cell_type": "code",
   "execution_count": 5,
   "metadata": {},
   "outputs": [
    {
     "data": {
      "text/html": [
       "<div>\n",
       "<style scoped>\n",
       "    .dataframe tbody tr th:only-of-type {\n",
       "        vertical-align: middle;\n",
       "    }\n",
       "\n",
       "    .dataframe tbody tr th {\n",
       "        vertical-align: top;\n",
       "    }\n",
       "\n",
       "    .dataframe thead th {\n",
       "        text-align: right;\n",
       "    }\n",
       "</style>\n",
       "<table border=\"1\" class=\"dataframe\">\n",
       "  <thead>\n",
       "    <tr style=\"text-align: right;\">\n",
       "      <th></th>\n",
       "      <th>0</th>\n",
       "      <th>1</th>\n",
       "    </tr>\n",
       "    <tr>\n",
       "      <th>Sample</th>\n",
       "      <th></th>\n",
       "      <th></th>\n",
       "    </tr>\n",
       "  </thead>\n",
       "  <tbody>\n",
       "    <tr>\n",
       "      <th>CSM5FZ3N</th>\n",
       "      <td>0.000000</td>\n",
       "      <td>0.000000</td>\n",
       "    </tr>\n",
       "    <tr>\n",
       "      <th>CSM5FZ3X</th>\n",
       "      <td>0.000000</td>\n",
       "      <td>0.000000</td>\n",
       "    </tr>\n",
       "    <tr>\n",
       "      <th>CSM5FZ3Z</th>\n",
       "      <td>-0.019282</td>\n",
       "      <td>0.780946</td>\n",
       "    </tr>\n",
       "    <tr>\n",
       "      <th>CSM5FZ44</th>\n",
       "      <td>0.000000</td>\n",
       "      <td>0.000000</td>\n",
       "    </tr>\n",
       "    <tr>\n",
       "      <th>CSM5FZ46</th>\n",
       "      <td>0.000000</td>\n",
       "      <td>0.000000</td>\n",
       "    </tr>\n",
       "    <tr>\n",
       "      <th>...</th>\n",
       "      <td>...</td>\n",
       "      <td>...</td>\n",
       "    </tr>\n",
       "    <tr>\n",
       "      <th>MSM5LLIO</th>\n",
       "      <td>-0.187492</td>\n",
       "      <td>0.394580</td>\n",
       "    </tr>\n",
       "    <tr>\n",
       "      <th>MSM5LLIQ</th>\n",
       "      <td>-0.359186</td>\n",
       "      <td>0.083998</td>\n",
       "    </tr>\n",
       "    <tr>\n",
       "      <th>MSM5LLIS</th>\n",
       "      <td>-0.237867</td>\n",
       "      <td>0.063742</td>\n",
       "    </tr>\n",
       "    <tr>\n",
       "      <th>MSM5ZOJY</th>\n",
       "      <td>-0.379982</td>\n",
       "      <td>-0.431924</td>\n",
       "    </tr>\n",
       "    <tr>\n",
       "      <th>MSM633FF</th>\n",
       "      <td>-0.137279</td>\n",
       "      <td>0.233639</td>\n",
       "    </tr>\n",
       "  </tbody>\n",
       "</table>\n",
       "<p>96 rows × 2 columns</p>\n",
       "</div>"
      ],
      "text/plain": [
       "                 0         1\n",
       "Sample                      \n",
       "CSM5FZ3N  0.000000  0.000000\n",
       "CSM5FZ3X  0.000000  0.000000\n",
       "CSM5FZ3Z -0.019282  0.780946\n",
       "CSM5FZ44  0.000000  0.000000\n",
       "CSM5FZ46  0.000000  0.000000\n",
       "...            ...       ...\n",
       "MSM5LLIO -0.187492  0.394580\n",
       "MSM5LLIQ -0.359186  0.083998\n",
       "MSM5LLIS -0.237867  0.063742\n",
       "MSM5ZOJY -0.379982 -0.431924\n",
       "MSM633FF -0.137279  0.233639\n",
       "\n",
       "[96 rows x 2 columns]"
      ]
     },
     "execution_count": 5,
     "metadata": {},
     "output_type": "execute_result"
    }
   ],
   "source": [
    "path = '../data/processed/mixture_embeddings/ibd/cnn_hyperbolic_2_mixture_embeddings.csv'\n",
    "mixture_embeddings = pd.read_csv(path, index_col='Sample')\n",
    "mixture_embeddings"
   ]
  },
  {
   "cell_type": "code",
   "execution_count": 6,
   "metadata": {},
   "outputs": [
    {
     "data": {
      "text/plain": [
       "['Participant',\n",
       " 'Sample Collection Date',\n",
       " 'Visit Number',\n",
       " 'Hospital',\n",
       " 'Age',\n",
       " 'Diagnosis',\n",
       " 'HBI',\n",
       " 'Sex',\n",
       " 'Race',\n",
       " 'Fecalcal',\n",
       " 'SCCAI',\n",
       " 'fb ratio']"
      ]
     },
     "execution_count": 6,
     "metadata": {},
     "output_type": "execute_result"
    }
   ],
   "source": [
    "path = '../data/interim/ihmp/ibd_metadata.csv'\n",
    "metadata = pd.read_csv(path, index_col='Sample')\n",
    "metadata.columns.to_list()"
   ]
  },
  {
   "cell_type": "code",
   "execution_count": 7,
   "metadata": {},
   "outputs": [],
   "source": [
    "class Dataset(torch.utils.data.Dataset):\n",
    "    \n",
    "    def __init__(self, X, y):\n",
    "        self.X = X\n",
    "        self.y = y\n",
    "        \n",
    "    def __len__(self):\n",
    "        return len(self.X)\n",
    "    \n",
    "    def __getitem__(self, idx):\n",
    "        return self.X[idx], self.y[idx]"
   ]
  },
  {
   "cell_type": "code",
   "execution_count": 8,
   "metadata": {},
   "outputs": [],
   "source": [
    "class DatasetTest(torch.utils.data.Dataset):\n",
    "    \n",
    "    def __init__(self, X):\n",
    "        self.X = X\n",
    "        \n",
    "    def __len__(self):\n",
    "        return len(self.X)\n",
    "    \n",
    "    def __getitem__(self, idx):\n",
    "        return self.X[idx]"
   ]
  },
  {
   "cell_type": "code",
   "execution_count": 9,
   "metadata": {},
   "outputs": [],
   "source": [
    "feature = 'Hospital'\n",
    "task = 'clf'\n",
    "\n",
    "# feature = 'fb ratio'\n",
    "# task = 'reg'"
   ]
  },
  {
   "cell_type": "code",
   "execution_count": 10,
   "metadata": {},
   "outputs": [],
   "source": [
    "X = mixture_embeddings.values.astype('float32')\n",
    "y = metadata[feature].to_numpy()\n",
    "\n",
    "if task == 'clf':\n",
    "    encoder = LabelEncoder()\n",
    "    y = encoder.fit_transform(y)\n",
    "\n",
    "if feature == 'Diagnosis':\n",
    "    mask = y != 2\n",
    "    y = y[mask]\n",
    "    X = X[mask]\n",
    "    \n",
    "if feature == 'fb ratio':\n",
    "    y = np.nan_to_num(y, np.nanmean(y))\n",
    "\n",
    "seed = 42\n",
    "stratify = None if task == 'reg' else y\n",
    "X_train, X_test, y_train, y_test = train_test_split(X, y, random_state=seed, stratify=stratify, shuffle=True)\n",
    "\n",
    "sm = SMOTE(random_state=seed, sampling_strategy='not minority')\n",
    "X_syn, y_syn = sm.fit_resample(X_train, y_train)\n",
    "\n",
    "# X_train = np.vstack((X_train, X_syn))\n",
    "# y_train = np.hstack((y_train, y_syn))\n",
    "\n",
    "dataset = Dataset(X_train, y_train)\n",
    "dataset_test = DatasetTest(X_test)"
   ]
  },
  {
   "cell_type": "code",
   "execution_count": 11,
   "metadata": {},
   "outputs": [
    {
     "data": {
      "text/plain": [
       "array([3, 3, 2, 1, 1, 3, 0, 3, 0, 3, 3, 0, 3, 3, 0, 1, 1, 0, 3, 2, 1, 0,\n",
       "       0, 1, 3, 3, 3, 3, 3, 1, 3, 2, 0, 0, 3, 3, 2, 1, 1, 3, 2, 3, 1, 3,\n",
       "       2, 0, 3, 3, 0, 1, 3, 2, 2, 0, 2, 3, 2, 3, 0, 3, 0, 1, 0, 3, 0, 0,\n",
       "       3, 3, 0, 1, 2, 3])"
      ]
     },
     "execution_count": 11,
     "metadata": {},
     "output_type": "execute_result"
    }
   ],
   "source": [
    "y_train"
   ]
  },
  {
   "cell_type": "code",
   "execution_count": 12,
   "metadata": {},
   "outputs": [],
   "source": [
    "num_classes = max(y) + 1"
   ]
  },
  {
   "attachments": {},
   "cell_type": "markdown",
   "metadata": {},
   "source": [
    "# Define model"
   ]
  },
  {
   "cell_type": "code",
   "execution_count": 13,
   "metadata": {},
   "outputs": [
    {
     "data": {
      "text/plain": [
       "<torch._C.Generator at 0x7f9eec26e950>"
      ]
     },
     "execution_count": 13,
     "metadata": {},
     "output_type": "execute_result"
    }
   ],
   "source": [
    "ball = geoopt.PoincareBall()\n",
    "torch.manual_seed(42)"
   ]
  },
  {
   "cell_type": "code",
   "execution_count": 14,
   "metadata": {},
   "outputs": [],
   "source": [
    "class Distance2PoincareHyperplanes(torch.nn.Module):\n",
    "    n = 0\n",
    "    # 1D, 2D versions of this class ara available with a one line change\n",
    "    # class Distance2PoincareHyperplanes2d(Distance2PoincareHyperplanes):\n",
    "    #     n = 2\n",
    "\n",
    "    def __init__(\n",
    "        self,\n",
    "        plane_shape: int,\n",
    "        num_planes: int,\n",
    "        signed=True,\n",
    "        squared=False,\n",
    "        *,\n",
    "        ball,\n",
    "        std=1.0,\n",
    "        device='cuda'\n",
    "    ):\n",
    "        super().__init__()\n",
    "        self.signed = signed\n",
    "        self.squared = squared\n",
    "        # Do not forget to save Manifold instance to the Module\n",
    "        self.ball = ball\n",
    "        self.plane_shape = geoopt.utils.size2shape(plane_shape)\n",
    "        self.num_planes = num_planes\n",
    "        self.device = device\n",
    "\n",
    "        # In a layer we create Manifold Parameters in the same way we do it for\n",
    "        # regular pytorch Parameters, there is no difference. But geoopt optimizer\n",
    "        # will recognize the manifold and adjust to it\n",
    "        self.points = geoopt.ManifoldParameter(\n",
    "            torch.empty(num_planes, plane_shape), manifold=self.ball\n",
    "        ).to(device)\n",
    "        self.std = std\n",
    "        # following best practives, a separate method to reset parameters\n",
    "        self.reset_parameters()\n",
    "\n",
    "    def forward(self, input):\n",
    "        input_p = input.unsqueeze(-self.n - 1)\n",
    "        points = self.points.permute(1, 0)\n",
    "        points = points.view(points.shape + (1,) * self.n)\n",
    "        \n",
    "        distance = self.ball.dist2plane(\n",
    "            x=input_p, p=points, a=points, signed=self.signed, dim=-self.n - 2\n",
    "        )\n",
    "        if self.squared and self.signed:\n",
    "            sign = distance.sign()\n",
    "            distance = distance ** 2 * sign\n",
    "        elif self.squared:\n",
    "            distance = distance ** 2\n",
    "        return distance\n",
    "\n",
    "    def extra_repr(self):\n",
    "        return (\n",
    "            \"plane_shape={plane_shape}, \"\n",
    "            \"num_planes={num_planes}, \"\n",
    "            .format(**self.__dict__)\n",
    "        )\n",
    "\n",
    "    @torch.no_grad()\n",
    "    def reset_parameters(self):\n",
    "        direction = torch.randn_like(self.points)\n",
    "        direction /= direction.norm(dim=-1, keepdim=True)\n",
    "        distance = torch.empty_like(self.points[..., 0]).normal_(std=self.std)\n",
    "        self.points.set_(self.ball.expmap0(direction * distance.unsqueeze(-1)))"
   ]
  },
  {
   "cell_type": "code",
   "execution_count": 15,
   "metadata": {},
   "outputs": [
    {
     "data": {
      "text/plain": [
       "Sequential(\n",
       "  (0): Distance2PoincareHyperplanes(\n",
       "    plane_shape=(2,), num_planes=1000, \n",
       "    (ball): PoincareBall manifold\n",
       "  )\n",
       "  (1): Linear(in_features=1000, out_features=128, bias=True)\n",
       "  (2): ReLU()\n",
       "  (3): Linear(in_features=128, out_features=4, bias=True)\n",
       ")"
      ]
     },
     "execution_count": 15,
     "metadata": {},
     "output_type": "execute_result"
    }
   ],
   "source": [
    "plane_shape = 2\n",
    "num_planes = 1000\n",
    "hidden = 128\n",
    "last = num_classes if task == 'clf' else 1\n",
    "\n",
    "classifier = torch.nn.Sequential(\n",
    "    Distance2PoincareHyperplanes(plane_shape, num_planes, ball=ball),\n",
    "    torch.nn.Linear(num_planes, hidden, device=device),\n",
    "    torch.nn.ReLU(),\n",
    "    torch.nn.Linear(hidden, last, device=device),\n",
    ")\n",
    "classifier"
   ]
  },
  {
   "cell_type": "code",
   "execution_count": 16,
   "metadata": {},
   "outputs": [],
   "source": [
    "optim = geoopt.optim.RiemannianAdam(classifier.parameters(), lr=1e-3, weight_decay=0.01)"
   ]
  },
  {
   "cell_type": "code",
   "execution_count": 17,
   "metadata": {},
   "outputs": [],
   "source": [
    "criterion = torch.nn.CrossEntropyLoss()"
   ]
  },
  {
   "cell_type": "code",
   "execution_count": 18,
   "metadata": {},
   "outputs": [],
   "source": [
    "batch_size = 16\n",
    "loader = torch.utils.data.DataLoader(dataset, batch_size, shuffle=True)"
   ]
  },
  {
   "cell_type": "code",
   "execution_count": 19,
   "metadata": {},
   "outputs": [
    {
     "name": "stderr",
     "output_type": "stream",
     "text": [
      "loss=0.7653183341026306: 100%|██████████| 500/500 [00:30<00:00, 16.39it/s] \n"
     ]
    }
   ],
   "source": [
    "device = 'cuda'\n",
    "loss_history = []\n",
    "n_epochs = 500\n",
    "\n",
    "with tqdm.trange(n_epochs) as _range:\n",
    "    for epoch in _range:\n",
    "        for X, y in loader:\n",
    "            X, y = X.to(device), y.to(device)\n",
    "            \n",
    "            optim.zero_grad()\n",
    "            logits = classifier(X)\n",
    "            loss = criterion(logits, y)\n",
    "            loss_history.append(loss.item())\n",
    "            \n",
    "            loss.backward()\n",
    "            optim.step()\n",
    "            \n",
    "            if epoch % 10 == 0:\n",
    "                _range.set_description(f\"loss={loss.item()}\")"
   ]
  },
  {
   "cell_type": "code",
   "execution_count": 20,
   "metadata": {},
   "outputs": [],
   "source": [
    "import matplotlib.pyplot as plt\n",
    "from sklearn.metrics import f1_score"
   ]
  },
  {
   "cell_type": "code",
   "execution_count": 21,
   "metadata": {},
   "outputs": [
    {
     "data": {
      "image/png": "[encoded data removed]",
      "text/plain": [
       "<Figure size 640x480 with 1 Axes>"
      ]
     },
     "metadata": {},
     "output_type": "display_data"
    }
   ],
   "source": [
    "fig, ax = plt.subplots()\n",
    "ax.plot(loss_history)\n",
    "ax.set(xlabel='Epoch')\n",
    "\n",
    "fig.show()"
   ]
  },
  {
   "cell_type": "code",
   "execution_count": 22,
   "metadata": {},
   "outputs": [],
   "source": [
    "classifier.eval()\n",
    "y_pred_prob = classifier(torch.Tensor(X_test).to('cuda'))\n",
    "y_pred = y_pred_prob.detach().cpu().numpy().argmax(axis=1)\n"
   ]
  },
  {
   "cell_type": "code",
   "execution_count": 23,
   "metadata": {},
   "outputs": [
    {
     "data": {
      "text/plain": [
       "tensor([[ 1.6744e-01, -2.5398e+00, -3.1638e+00,  2.8614e+00],\n",
       "        [-2.9756e-01, -1.4800e+00,  1.0061e+00,  1.8019e+00],\n",
       "        [ 6.7058e+00,  5.6105e+00, -1.1562e+01,  1.0421e+01],\n",
       "        [-1.0193e-01, -2.6755e+00, -1.0947e+00,  2.5673e+00],\n",
       "        [-8.4116e+00,  2.2881e+00, -3.8482e+00,  3.9949e+00],\n",
       "        [ 1.2226e+00,  1.6736e-01,  8.2356e-02,  3.4024e-01],\n",
       "        [ 2.2213e+00,  4.6357e-01, -1.7278e+00,  1.2482e+00],\n",
       "        [ 2.9598e-01, -5.0446e-01, -3.4295e+00,  1.8558e+00],\n",
       "        [ 1.2226e+00,  1.6736e-01,  8.2356e-02,  3.4024e-01],\n",
       "        [ 3.9084e+00,  1.4335e+00, -4.1614e+00,  1.3714e+00],\n",
       "        [-2.3402e+01, -5.9987e+00,  2.2658e+01,  1.6721e+01],\n",
       "        [ 2.6252e+00,  8.2768e-01, -2.5584e+00,  1.2603e+00],\n",
       "        [-6.5994e+00,  1.0769e+00, -1.2718e+00,  3.2869e+00],\n",
       "        [ 4.4796e-01, -3.1384e+00, -1.1216e+01,  5.0665e+00],\n",
       "        [ 1.2226e+00,  1.6736e-01,  8.2356e-02,  3.4024e-01],\n",
       "        [-6.3779e-01, -3.2173e+00, -2.7560e+00,  3.4629e+00],\n",
       "        [-1.4920e+00, -3.2147e-01,  1.4737e+00,  1.4426e+00],\n",
       "        [ 1.2226e+00,  1.6736e-01,  8.2356e-02,  3.4024e-01],\n",
       "        [-6.6221e-01, -1.4988e-01,  7.6730e-01,  1.4451e+00],\n",
       "        [ 1.2986e+00, -1.7044e+00, -2.8716e+00,  1.9028e+00],\n",
       "        [-1.4409e+00, -1.0252e+00,  3.6845e-01,  2.0706e+00],\n",
       "        [ 3.8660e-01, -1.3295e+00,  7.7853e-01,  1.5337e+00],\n",
       "        [ 1.5648e+00,  3.2143e-01, -1.1513e+00,  1.3258e+00],\n",
       "        [ 5.8097e-02, -2.1388e-02,  1.6768e-01,  1.5440e+00]], device='cuda:0',\n",
       "       grad_fn=<AddmmBackward0>)"
      ]
     },
     "execution_count": 23,
     "metadata": {},
     "output_type": "execute_result"
    }
   ],
   "source": [
    "y_pred_prob"
   ]
  },
  {
   "cell_type": "code",
   "execution_count": 24,
   "metadata": {},
   "outputs": [
    {
     "data": {
      "text/plain": [
       "array([3, 3, 3, 3, 3, 0, 0, 3, 0, 0, 2, 0, 3, 3, 0, 3, 2, 0, 3, 3, 3, 3,\n",
       "       0, 3])"
      ]
     },
     "execution_count": 24,
     "metadata": {},
     "output_type": "execute_result"
    }
   ],
   "source": [
    "y_pred"
   ]
  },
  {
   "cell_type": "code",
   "execution_count": 25,
   "metadata": {},
   "outputs": [
    {
     "data": {
      "text/plain": [
       "array([3, 0, 3, 1, 0, 3, 1, 3, 3, 0, 2, 0, 3, 2, 3, 1, 3, 0, 1, 2, 3, 3,\n",
       "       2, 0])"
      ]
     },
     "execution_count": 25,
     "metadata": {},
     "output_type": "execute_result"
    }
   ],
   "source": [
    "y_test"
   ]
  },
  {
   "cell_type": "code",
   "execution_count": 26,
   "metadata": {},
   "outputs": [],
   "source": [
    "from sklearn.metrics import precision_score, recall_score, confusion_matrix, ConfusionMatrixDisplay"
   ]
  },
  {
   "cell_type": "code",
   "execution_count": 27,
   "metadata": {},
   "outputs": [
    {
     "data": {
      "image/png": "[encoded data removed]",
      "text/plain": [
       "<Figure size 640x480 with 2 Axes>"
      ]
     },
     "metadata": {},
     "output_type": "display_data"
    }
   ],
   "source": [
    "cm = confusion_matrix(y_test, y_pred)\n",
    "disp = ConfusionMatrixDisplay(cm, display_labels=encoder.classes_).plot()\n",
    "plt.show()"
   ]
  },
  {
   "cell_type": "code",
   "execution_count": 28,
   "metadata": {},
   "outputs": [
    {
     "data": {
      "text/plain": [
       "0.31547619047619047"
      ]
     },
     "execution_count": 28,
     "metadata": {},
     "output_type": "execute_result"
    }
   ],
   "source": [
    "f1 = f1_score(y_test, y_pred, average='macro')\n",
    "f1"
   ]
  }
 ],
 "metadata": {
  "kernelspec": {
   "display_name": "mixture",
   "language": "python",
   "name": "python3"
  },
  "language_info": {
   "codemirror_mode": {
    "name": "ipython",
    "version": 3
   },
   "file_extension": ".py",
   "mimetype": "text/x-python",
   "name": "python",
   "nbconvert_exporter": "python",
   "pygments_lexer": "ipython3",
   "version": "3.10.6"
  },
  "orig_nbformat": 4
 },
 "nbformat": 4,
 "nbformat_minor": 2
}
