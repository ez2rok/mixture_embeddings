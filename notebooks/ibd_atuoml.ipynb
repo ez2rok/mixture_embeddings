{
 "cells": [
  {
   "cell_type": "code",
   "execution_count": 1,
   "metadata": {},
   "outputs": [],
   "source": [
    "import sys\n",
    "sys.path.append(\"/home/ethan/mixture_embeddings/\")"
   ]
  },
  {
   "cell_type": "code",
   "execution_count": 2,
   "metadata": {},
   "outputs": [
    {
     "name": "stderr",
     "output_type": "stream",
     "text": [
      "INFO: Using numpy backend\n"
     ]
    }
   ],
   "source": [
    "import numpy as np\n",
    "import pandas as pd\n",
    "\n",
    "from geomstats.learning.preprocessing import ToTangentSpace\n",
    "from geomstats.geometry.hyperbolic import Hyperbolic\n",
    "\n",
    "import plotly.express as px\n",
    "import plotly.graph_objects as go\n",
    "\n",
    "import sklearn.datasets\n",
    "from sklearn.decomposition import TruncatedSVD\n",
    "from sklearn.manifold import LocallyLinearEmbedding, MDS\n",
    "from sklearn.model_selection import train_test_split\n",
    "\n",
    "# local files\n",
    "from src.util.data_handling.data_loader import load_dataset\n",
    "\n",
    "from icecream import ic"
   ]
  },
  {
   "cell_type": "code",
   "execution_count": 3,
   "metadata": {},
   "outputs": [],
   "source": [
    "# supress pandas warning\n",
    "# Source: https://stackoverflow.com/questions/20625582/how-to-deal-with-settingwithcopywarning-in-pandas\n",
    "pd.options.mode.chained_assignment = None"
   ]
  },
  {
   "attachments": {},
   "cell_type": "markdown",
   "metadata": {},
   "source": [
    "# Load Data"
   ]
  },
  {
   "cell_type": "code",
   "execution_count": 4,
   "metadata": {},
   "outputs": [],
   "source": [
    "seed = 42"
   ]
  },
  {
   "cell_type": "code",
   "execution_count": 5,
   "metadata": {},
   "outputs": [],
   "source": [
    "ibd_euclidean_embeddings_path = '../data/processed/mixture_embeddings/ibd/cnn_euclidean_128_mixture_embeddings.pickle'\n",
    "ibd_hyperbolic_embeddings_path = '../data/processed/mixture_embeddings/ibd/cnn_hyperbolic_128_mixture_embeddings.pickle'\n",
    "ibd_raw_path = '../data/interim/ihmp/ibd_data.pickle'\n",
    "ibd_metadata_path = '../data/interim/ihmp/ibd_metadata.pickle'"
   ]
  },
  {
   "cell_type": "code",
   "execution_count": 6,
   "metadata": {},
   "outputs": [
    {
     "data": {
      "text/html": [
       "<div>\n",
       "<style scoped>\n",
       "    .dataframe tbody tr th:only-of-type {\n",
       "        vertical-align: middle;\n",
       "    }\n",
       "\n",
       "    .dataframe tbody tr th {\n",
       "        vertical-align: top;\n",
       "    }\n",
       "\n",
       "    .dataframe thead th {\n",
       "        text-align: right;\n",
       "    }\n",
       "</style>\n",
       "<table border=\"1\" class=\"dataframe\">\n",
       "  <thead>\n",
       "    <tr style=\"text-align: right;\">\n",
       "      <th></th>\n",
       "      <th>Participant ID</th>\n",
       "      <th>Project</th>\n",
       "      <th>External ID</th>\n",
       "      <th>date_of_receipt</th>\n",
       "      <th>ProjectSpecificID</th>\n",
       "      <th>visit_num</th>\n",
       "      <th>site_name</th>\n",
       "      <th>consent_age</th>\n",
       "      <th>diagnosis</th>\n",
       "      <th>hbi</th>\n",
       "      <th>sex</th>\n",
       "      <th>race</th>\n",
       "      <th>fecalcal</th>\n",
       "      <th>sccai</th>\n",
       "    </tr>\n",
       "    <tr>\n",
       "      <th>sample id</th>\n",
       "      <th></th>\n",
       "      <th></th>\n",
       "      <th></th>\n",
       "      <th></th>\n",
       "      <th></th>\n",
       "      <th></th>\n",
       "      <th></th>\n",
       "      <th></th>\n",
       "      <th></th>\n",
       "      <th></th>\n",
       "      <th></th>\n",
       "      <th></th>\n",
       "      <th></th>\n",
       "      <th></th>\n",
       "    </tr>\n",
       "  </thead>\n",
       "  <tbody>\n",
       "    <tr>\n",
       "      <th>CSM5FZ3N</th>\n",
       "      <td>C3001</td>\n",
       "      <td>G79084</td>\n",
       "      <td>CSM5FZ3N</td>\n",
       "      <td>2014-03-14</td>\n",
       "      <td>3001</td>\n",
       "      <td>4</td>\n",
       "      <td>Cedars-Sinai</td>\n",
       "      <td>43.0</td>\n",
       "      <td>CD</td>\n",
       "      <td>4.0</td>\n",
       "      <td>Female</td>\n",
       "      <td>White</td>\n",
       "      <td>193.89</td>\n",
       "      <td>0.0</td>\n",
       "    </tr>\n",
       "    <tr>\n",
       "      <th>CSM5FZ3X</th>\n",
       "      <td>C3002</td>\n",
       "      <td>G79124</td>\n",
       "      <td>CSM5FZ3X</td>\n",
       "      <td>2014-05-13</td>\n",
       "      <td>3002</td>\n",
       "      <td>5</td>\n",
       "      <td>Cedars-Sinai</td>\n",
       "      <td>76.0</td>\n",
       "      <td>CD</td>\n",
       "      <td>7.0</td>\n",
       "      <td>Female</td>\n",
       "      <td>White</td>\n",
       "      <td>71.48</td>\n",
       "      <td>0.0</td>\n",
       "    </tr>\n",
       "    <tr>\n",
       "      <th>CSM5FZ3Z</th>\n",
       "      <td>C3002</td>\n",
       "      <td>G79144</td>\n",
       "      <td>CSM5FZ3Z</td>\n",
       "      <td>2014-05-28</td>\n",
       "      <td>3002</td>\n",
       "      <td>6</td>\n",
       "      <td>Cedars-Sinai</td>\n",
       "      <td>76.0</td>\n",
       "      <td>CD</td>\n",
       "      <td>8.0</td>\n",
       "      <td>Female</td>\n",
       "      <td>White</td>\n",
       "      <td>156.73</td>\n",
       "      <td>0.0</td>\n",
       "    </tr>\n",
       "    <tr>\n",
       "      <th>CSM5FZ44</th>\n",
       "      <td>C3002</td>\n",
       "      <td>G79211</td>\n",
       "      <td>CSM5FZ44</td>\n",
       "      <td>2014-06-24</td>\n",
       "      <td>3002</td>\n",
       "      <td>8</td>\n",
       "      <td>Cedars-Sinai</td>\n",
       "      <td>76.0</td>\n",
       "      <td>CD</td>\n",
       "      <td>7.0</td>\n",
       "      <td>Female</td>\n",
       "      <td>White</td>\n",
       "      <td>54.33</td>\n",
       "      <td>0.0</td>\n",
       "    </tr>\n",
       "    <tr>\n",
       "      <th>CSM5FZ46</th>\n",
       "      <td>C3002</td>\n",
       "      <td>G79189</td>\n",
       "      <td>CSM5FZ46</td>\n",
       "      <td>2014-07-08</td>\n",
       "      <td>3002</td>\n",
       "      <td>9</td>\n",
       "      <td>Cedars-Sinai</td>\n",
       "      <td>76.0</td>\n",
       "      <td>CD</td>\n",
       "      <td>6.0</td>\n",
       "      <td>Female</td>\n",
       "      <td>White</td>\n",
       "      <td>54.74</td>\n",
       "      <td>0.0</td>\n",
       "    </tr>\n",
       "    <tr>\n",
       "      <th>...</th>\n",
       "      <td>...</td>\n",
       "      <td>...</td>\n",
       "      <td>...</td>\n",
       "      <td>...</td>\n",
       "      <td>...</td>\n",
       "      <td>...</td>\n",
       "      <td>...</td>\n",
       "      <td>...</td>\n",
       "      <td>...</td>\n",
       "      <td>...</td>\n",
       "      <td>...</td>\n",
       "      <td>...</td>\n",
       "      <td>...</td>\n",
       "      <td>...</td>\n",
       "    </tr>\n",
       "    <tr>\n",
       "      <th>MSM5LLIO</th>\n",
       "      <td>M2021</td>\n",
       "      <td>G79228</td>\n",
       "      <td>MSM5LLIO</td>\n",
       "      <td>2014-06-17</td>\n",
       "      <td>2021</td>\n",
       "      <td>11</td>\n",
       "      <td>MGH</td>\n",
       "      <td>26.0</td>\n",
       "      <td>CD</td>\n",
       "      <td>2.0</td>\n",
       "      <td>Male</td>\n",
       "      <td>White</td>\n",
       "      <td>89.32</td>\n",
       "      <td>0.0</td>\n",
       "    </tr>\n",
       "    <tr>\n",
       "      <th>MSM5LLIQ</th>\n",
       "      <td>M2026</td>\n",
       "      <td>G79099</td>\n",
       "      <td>MSM5LLIQ</td>\n",
       "      <td>2014-04-16</td>\n",
       "      <td>2026</td>\n",
       "      <td>4</td>\n",
       "      <td>MGH</td>\n",
       "      <td>21.0</td>\n",
       "      <td>UC</td>\n",
       "      <td>0.0</td>\n",
       "      <td>Female</td>\n",
       "      <td>White</td>\n",
       "      <td>224.07</td>\n",
       "      <td>7.0</td>\n",
       "    </tr>\n",
       "    <tr>\n",
       "      <th>MSM5LLIS</th>\n",
       "      <td>M2027</td>\n",
       "      <td>G79114</td>\n",
       "      <td>MSM5LLIS</td>\n",
       "      <td>2014-05-02</td>\n",
       "      <td>2027</td>\n",
       "      <td>4</td>\n",
       "      <td>MGH</td>\n",
       "      <td>41.0</td>\n",
       "      <td>CD</td>\n",
       "      <td>0.0</td>\n",
       "      <td>Male</td>\n",
       "      <td>Other</td>\n",
       "      <td>194.74</td>\n",
       "      <td>0.0</td>\n",
       "    </tr>\n",
       "    <tr>\n",
       "      <th>MSM5ZOJY</th>\n",
       "      <td>M2014</td>\n",
       "      <td>G79103</td>\n",
       "      <td>MSM5ZOJY</td>\n",
       "      <td>2014-04-22</td>\n",
       "      <td>2014</td>\n",
       "      <td>9</td>\n",
       "      <td>MGH</td>\n",
       "      <td>30.0</td>\n",
       "      <td>CD</td>\n",
       "      <td>1.0</td>\n",
       "      <td>Male</td>\n",
       "      <td>White</td>\n",
       "      <td>219.23</td>\n",
       "      <td>0.0</td>\n",
       "    </tr>\n",
       "    <tr>\n",
       "      <th>MSM633FF</th>\n",
       "      <td>M2014</td>\n",
       "      <td>G79115</td>\n",
       "      <td>MSM633FF</td>\n",
       "      <td>2014-05-06</td>\n",
       "      <td>2014</td>\n",
       "      <td>11</td>\n",
       "      <td>MGH</td>\n",
       "      <td>30.0</td>\n",
       "      <td>CD</td>\n",
       "      <td>0.0</td>\n",
       "      <td>Male</td>\n",
       "      <td>White</td>\n",
       "      <td>196.99</td>\n",
       "      <td>0.0</td>\n",
       "    </tr>\n",
       "  </tbody>\n",
       "</table>\n",
       "<p>96 rows × 14 columns</p>\n",
       "</div>"
      ],
      "text/plain": [
       "          Participant ID Project External ID date_of_receipt   \n",
       "sample id                                                      \n",
       "CSM5FZ3N           C3001  G79084    CSM5FZ3N      2014-03-14  \\\n",
       "CSM5FZ3X           C3002  G79124    CSM5FZ3X      2014-05-13   \n",
       "CSM5FZ3Z           C3002  G79144    CSM5FZ3Z      2014-05-28   \n",
       "CSM5FZ44           C3002  G79211    CSM5FZ44      2014-06-24   \n",
       "CSM5FZ46           C3002  G79189    CSM5FZ46      2014-07-08   \n",
       "...                  ...     ...         ...             ...   \n",
       "MSM5LLIO           M2021  G79228    MSM5LLIO      2014-06-17   \n",
       "MSM5LLIQ           M2026  G79099    MSM5LLIQ      2014-04-16   \n",
       "MSM5LLIS           M2027  G79114    MSM5LLIS      2014-05-02   \n",
       "MSM5ZOJY           M2014  G79103    MSM5ZOJY      2014-04-22   \n",
       "MSM633FF           M2014  G79115    MSM633FF      2014-05-06   \n",
       "\n",
       "           ProjectSpecificID  visit_num     site_name  consent_age diagnosis   \n",
       "sample id                                                                      \n",
       "CSM5FZ3N                3001          4  Cedars-Sinai         43.0        CD  \\\n",
       "CSM5FZ3X                3002          5  Cedars-Sinai         76.0        CD   \n",
       "CSM5FZ3Z                3002          6  Cedars-Sinai         76.0        CD   \n",
       "CSM5FZ44                3002          8  Cedars-Sinai         76.0        CD   \n",
       "CSM5FZ46                3002          9  Cedars-Sinai         76.0        CD   \n",
       "...                      ...        ...           ...          ...       ...   \n",
       "MSM5LLIO                2021         11           MGH         26.0        CD   \n",
       "MSM5LLIQ                2026          4           MGH         21.0        UC   \n",
       "MSM5LLIS                2027          4           MGH         41.0        CD   \n",
       "MSM5ZOJY                2014          9           MGH         30.0        CD   \n",
       "MSM633FF                2014         11           MGH         30.0        CD   \n",
       "\n",
       "           hbi     sex   race  fecalcal  sccai  \n",
       "sample id                                       \n",
       "CSM5FZ3N   4.0  Female  White    193.89    0.0  \n",
       "CSM5FZ3X   7.0  Female  White     71.48    0.0  \n",
       "CSM5FZ3Z   8.0  Female  White    156.73    0.0  \n",
       "CSM5FZ44   7.0  Female  White     54.33    0.0  \n",
       "CSM5FZ46   6.0  Female  White     54.74    0.0  \n",
       "...        ...     ...    ...       ...    ...  \n",
       "MSM5LLIO   2.0    Male  White     89.32    0.0  \n",
       "MSM5LLIQ   0.0  Female  White    224.07    7.0  \n",
       "MSM5LLIS   0.0    Male  Other    194.74    0.0  \n",
       "MSM5ZOJY   1.0    Male  White    219.23    0.0  \n",
       "MSM633FF   0.0    Male  White    196.99    0.0  \n",
       "\n",
       "[96 rows x 14 columns]"
      ]
     },
     "execution_count": 6,
     "metadata": {},
     "output_type": "execute_result"
    }
   ],
   "source": [
    "ibd_metadata = load_dataset(ibd_metadata_path)\n",
    "ibd_metadata"
   ]
  },
  {
   "cell_type": "code",
   "execution_count": 7,
   "metadata": {},
   "outputs": [
    {
     "data": {
      "text/plain": [
       "['Participant ID',\n",
       " 'Project',\n",
       " 'External ID',\n",
       " 'date_of_receipt',\n",
       " 'ProjectSpecificID',\n",
       " 'visit_num',\n",
       " 'site_name',\n",
       " 'consent_age',\n",
       " 'diagnosis',\n",
       " 'hbi',\n",
       " 'sex',\n",
       " 'race',\n",
       " 'fecalcal',\n",
       " 'sccai']"
      ]
     },
     "execution_count": 7,
     "metadata": {},
     "output_type": "execute_result"
    }
   ],
   "source": [
    "ibd_metadata.columns.to_list()"
   ]
  },
  {
   "cell_type": "code",
   "execution_count": 8,
   "metadata": {},
   "outputs": [
    {
     "data": {
      "text/plain": [
       "sex\n",
       "Female    55\n",
       "Male      41\n",
       "Name: count, dtype: int64"
      ]
     },
     "execution_count": 8,
     "metadata": {},
     "output_type": "execute_result"
    }
   ],
   "source": [
    "y_type = 'sex'\n",
    "ibd_metadata[y_type].value_counts()"
   ]
  },
  {
   "cell_type": "code",
   "execution_count": 9,
   "metadata": {},
   "outputs": [],
   "source": [
    "y = ibd_metadata[y_type].to_numpy()"
   ]
  },
  {
   "cell_type": "code",
   "execution_count": 10,
   "metadata": {},
   "outputs": [
    {
     "data": {
      "text/plain": [
       "((96, 128), (96, 128))"
      ]
     },
     "execution_count": 10,
     "metadata": {},
     "output_type": "execute_result"
    }
   ],
   "source": [
    "X_euclidean = load_dataset(ibd_euclidean_embeddings_path).astype('float32')\n",
    "X_hyperbolic = load_dataset(ibd_hyperbolic_embeddings_path).astype('float32')\n",
    "\n",
    "X_euclidean.shape, X_hyperbolic.shape"
   ]
  },
  {
   "cell_type": "code",
   "execution_count": 11,
   "metadata": {},
   "outputs": [
    {
     "data": {
      "text/plain": [
       "(96, 128)"
      ]
     },
     "execution_count": 11,
     "metadata": {},
     "output_type": "execute_result"
    }
   ],
   "source": [
    "# map hyperbolic data to Euclidean space TANGENT to the mean of the hyperbolic data\n",
    "embedding_size = X_hyperbolic.shape[1]\n",
    "hyperbolic = Hyperbolic(dim=embedding_size, default_coords_type='ball') # why do we have the -1 here?\n",
    "to_tangent = ToTangentSpace(geometry=hyperbolic, method='adaptive', epsilon=1e-3)\n",
    "to_tangent.fit(X_hyperbolic)\n",
    "X_tangent = to_tangent.transform(X_hyperbolic).astype('float32')\n",
    "\n",
    "X_tangent.shape"
   ]
  },
  {
   "cell_type": "code",
   "execution_count": 12,
   "metadata": {},
   "outputs": [
    {
     "data": {
      "text/plain": [
       "(96, 128)"
      ]
     },
     "execution_count": 12,
     "metadata": {},
     "output_type": "execute_result"
    }
   ],
   "source": [
    "X_raw = load_dataset(ibd_raw_path).values\n",
    "\n",
    "# Note: many dimension reduction techniques need n_samples > n_components. And\n",
    "# with IBD the n_samples = 96 < n_components = 128.\n",
    "# dim_red = TruncatedSVD(n_components=embedding_size)\n",
    "# dim_red = LocallyLinearEmbedding(n_components=95)\n",
    "dim_red = MDS(n_components=embedding_size, random_state=seed)\n",
    "X_raw = dim_red.fit_transform(X_raw)\n",
    "X_raw = X_raw.astype('float32')\n",
    "\n",
    "X_raw.shape"
   ]
  },
  {
   "cell_type": "code",
   "execution_count": 13,
   "metadata": {},
   "outputs": [],
   "source": [
    "type_to_data = {\n",
    "    'raw': X_raw,\n",
    "    'euclidean': X_euclidean,\n",
    "    'hyperbolic': X_hyperbolic,\n",
    "    'tangent': X_tangent\n",
    "}"
   ]
  },
  {
   "cell_type": "code",
   "execution_count": 14,
   "metadata": {},
   "outputs": [],
   "source": [
    "type_to_split = {type: train_test_split(X, y, shuffle=True, stratify=y) for type, X in type_to_data.items()}"
   ]
  },
  {
   "attachments": {},
   "cell_type": "markdown",
   "metadata": {},
   "source": [
    "# AutoML"
   ]
  },
  {
   "cell_type": "code",
   "execution_count": 15,
   "metadata": {},
   "outputs": [],
   "source": [
    "import autosklearn.classification\n",
    "import autosklearn.metrics\n",
    "import autosklearn.regression\n",
    "\n",
    "from collections import defaultdict\n",
    "\n",
    "from sklearn.utils.multiclass import type_of_target"
   ]
  },
  {
   "cell_type": "code",
   "execution_count": 17,
   "metadata": {},
   "outputs": [
    {
     "name": "stdout",
     "output_type": "stream",
     "text": [
      "[WARNING] [2023-05-07 20:32:33,935:Client-AutoMLSMBO(42)::ibd] Configuration 32 not found\n",
      "[WARNING] [2023-05-07 20:32:33,935:Client-AutoMLSMBO(42)::ibd] Configuration 9 not found\n",
      "[WARNING] [2023-05-07 20:32:33,935:Client-AutoMLSMBO(42)::ibd] Configuration 666 not found\n",
      "[WARNING] [2023-05-07 20:32:33,935:Client-AutoMLSMBO(42)::ibd] Configuration 176 not found\n",
      "[WARNING] [2023-05-07 20:32:33,935:Client-AutoMLSMBO(42)::ibd] Configuration 567 not found\n",
      "[WARNING] [2023-05-07 20:32:33,935:Client-AutoMLSMBO(42)::ibd] Configuration 407 not found\n",
      "[WARNING] [2023-05-07 20:32:33,935:Client-AutoMLSMBO(42)::ibd] Configuration 81 not found\n",
      "[WARNING] [2023-05-07 20:32:33,935:Client-AutoMLSMBO(42)::ibd] Configuration 185 not found\n",
      "[WARNING] [2023-05-07 20:32:33,935:Client-AutoMLSMBO(42)::ibd] Configuration 257 not found\n",
      "[WARNING] [2023-05-07 20:32:33,935:Client-AutoMLSMBO(42)::ibd] Configuration 329 not found\n",
      "[WARNING] [2023-05-07 20:32:33,935:Client-AutoMLSMBO(42)::ibd] Configuration 162 not found\n",
      "[WARNING] [2023-05-07 20:32:33,935:Client-AutoMLSMBO(42)::ibd] Configuration 358 not found\n",
      "[WARNING] [2023-05-07 20:32:33,935:Client-AutoMLSMBO(42)::ibd] Configuration 399 not found\n",
      "[WARNING] [2023-05-07 20:32:33,936:Client-AutoMLSMBO(42)::ibd] Configuration 222 not found\n",
      "[WARNING] [2023-05-07 20:32:33,936:Client-AutoMLSMBO(42)::ibd] Configuration 149 not found\n",
      "[WARNING] [2023-05-07 20:32:33,936:Client-AutoMLSMBO(42)::ibd] Configuration 601 not found\n",
      "[WARNING] [2023-05-07 20:32:33,936:Client-AutoMLSMBO(42)::ibd] Configuration 188 not found\n",
      "[WARNING] [2023-05-07 20:32:33,936:Client-AutoMLSMBO(42)::ibd] Configuration 492 not found\n",
      "[WARNING] [2023-05-07 20:32:33,936:Client-AutoMLSMBO(42)::ibd] Configuration 22 not found\n",
      "[WARNING] [2023-05-07 20:32:33,936:Client-AutoMLSMBO(42)::ibd] Configuration 460 not found\n",
      "[WARNING] [2023-05-07 20:32:33,936:Client-AutoMLSMBO(42)::ibd] Configuration 473 not found\n",
      "[WARNING] [2023-05-07 20:32:33,936:Client-AutoMLSMBO(42)::ibd] Configuration 590 not found\n",
      "[WARNING] [2023-05-07 20:32:33,936:Client-AutoMLSMBO(42)::ibd] Configuration 91 not found\n",
      "[WARNING] [2023-05-07 20:32:33,936:Client-AutoMLSMBO(42)::ibd] Configuration 230 not found\n",
      "[WARNING] [2023-05-07 20:32:33,936:Client-AutoMLSMBO(42)::ibd] Configuration 325 not found\n",
      "[WARNING] [2023-05-07 20:32:33,936:Client-AutoMLSMBO(42)::ibd] Configuration 467 not found\n",
      "[WARNING] [2023-05-07 20:32:33,936:Client-AutoMLSMBO(42)::ibd] Configuration 454 not found\n",
      "[WARNING] [2023-05-07 20:32:33,936:Client-AutoMLSMBO(42)::ibd] Configuration 1 not found\n",
      "[WARNING] [2023-05-07 20:32:33,936:Client-AutoMLSMBO(42)::ibd] Configuration 630 not found\n",
      "[WARNING] [2023-05-07 20:32:33,936:Client-AutoMLSMBO(42)::ibd] Configuration 138 not found\n",
      "[WARNING] [2023-05-07 20:32:33,936:Client-AutoMLSMBO(42)::ibd] Configuration 147 not found\n",
      "[WARNING] [2023-05-07 20:32:33,936:Client-AutoMLSMBO(42)::ibd] Configuration 347 not found\n",
      "[WARNING] [2023-05-07 20:32:33,936:Client-AutoMLSMBO(42)::ibd] Configuration 108 not found\n",
      "[WARNING] [2023-05-07 20:32:33,937:Client-AutoMLSMBO(42)::ibd] Configuration 688 not found\n",
      "[WARNING] [2023-05-07 20:32:33,937:Client-AutoMLSMBO(42)::ibd] Configuration 386 not found\n",
      "[WARNING] [2023-05-07 20:32:33,937:Client-AutoMLSMBO(42)::ibd] Configuration 65 not found\n",
      "[WARNING] [2023-05-07 20:32:33,937:Client-AutoMLSMBO(42)::ibd] Configuration 578 not found\n",
      "[WARNING] [2023-05-07 20:32:33,937:Client-AutoMLSMBO(42)::ibd] Configuration 625 not found\n",
      "[WARNING] [2023-05-07 20:32:33,937:Client-AutoMLSMBO(42)::ibd] Configuration 518 not found\n",
      "[WARNING] [2023-05-07 20:32:33,937:Client-AutoMLSMBO(42)::ibd] Configuration 191 not found\n",
      "[WARNING] [2023-05-07 20:32:33,937:Client-AutoMLSMBO(42)::ibd] Configuration 521 not found\n",
      "[WARNING] [2023-05-07 20:32:33,937:Client-AutoMLSMBO(42)::ibd] Configuration 283 not found\n",
      "[WARNING] [2023-05-07 20:32:33,937:Client-AutoMLSMBO(42)::ibd] Configuration 680 not found\n",
      "[WARNING] [2023-05-07 20:32:33,937:Client-AutoMLSMBO(42)::ibd] Configuration 72 not found\n",
      "[WARNING] [2023-05-07 20:32:33,937:Client-AutoMLSMBO(42)::ibd] Configuration 694 not found\n",
      "[WARNING] [2023-05-07 20:32:33,937:Client-AutoMLSMBO(42)::ibd] Configuration 605 not found\n",
      "[WARNING] [2023-05-07 20:32:33,937:Client-AutoMLSMBO(42)::ibd] Configuration 555 not found\n",
      "[WARNING] [2023-05-07 20:32:33,937:Client-AutoMLSMBO(42)::ibd] Configuration 674 not found\n",
      "[WARNING] [2023-05-07 20:32:33,937:Client-AutoMLSMBO(42)::ibd] Configuration 668 not found\n",
      "[WARNING] [2023-05-07 20:32:33,937:Client-AutoMLSMBO(42)::ibd] Configuration 338 not found\n",
      "[WARNING] [2023-05-07 20:32:33,937:Client-AutoMLSMBO(42)::ibd] Configuration 43 not found\n",
      "[WARNING] [2023-05-07 20:32:33,937:Client-AutoMLSMBO(42)::ibd] Configuration 701 not found\n",
      "[WARNING] [2023-05-07 20:32:33,937:Client-AutoMLSMBO(42)::ibd] Configuration 414 not found\n",
      "[WARNING] [2023-05-07 20:32:33,938:Client-AutoMLSMBO(42)::ibd] Configuration 367 not found\n",
      "[WARNING] [2023-05-07 20:32:33,938:Client-AutoMLSMBO(42)::ibd] Configuration 444 not found\n",
      "[WARNING] [2023-05-07 20:32:33,938:Client-AutoMLSMBO(42)::ibd] Configuration 573 not found\n",
      "[WARNING] [2023-05-07 20:32:33,938:Client-AutoMLSMBO(42)::ibd] Configuration 673 not found\n",
      "[WARNING] [2023-05-07 20:32:33,938:Client-AutoMLSMBO(42)::ibd] Configuration 214 not found\n",
      "[WARNING] [2023-05-07 20:32:33,938:Client-AutoMLSMBO(42)::ibd] Configuration 429 not found\n",
      "[WARNING] [2023-05-07 20:32:33,938:Client-AutoMLSMBO(42)::ibd] Configuration 131 not found\n",
      "[WARNING] [2023-05-07 20:32:33,938:Client-AutoMLSMBO(42)::ibd] Configuration 113 not found\n",
      "[WARNING] [2023-05-07 20:32:33,938:Client-AutoMLSMBO(42)::ibd] Configuration 379 not found\n",
      "[WARNING] [2023-05-07 20:32:33,939:Client-AutoMLSMBO(42)::ibd] Configuration 83 not found\n",
      "[WARNING] [2023-05-07 20:32:33,939:Client-AutoMLSMBO(42)::ibd] Configuration 40 not found\n",
      "[WARNING] [2023-05-07 20:32:33,939:Client-AutoMLSMBO(42)::ibd] Configuration 352 not found\n",
      "[WARNING] [2023-05-07 20:32:33,939:Client-AutoMLSMBO(42)::ibd] Configuration 571 not found\n",
      "[WARNING] [2023-05-07 20:32:33,939:Client-AutoMLSMBO(42)::ibd] Configuration 613 not found\n",
      "[WARNING] [2023-05-07 20:32:33,939:Client-AutoMLSMBO(42)::ibd] Configuration 679 not found\n",
      "[WARNING] [2023-05-07 20:32:33,939:Client-AutoMLSMBO(42)::ibd] Configuration 513 not found\n",
      "[WARNING] [2023-05-07 20:32:33,939:Client-AutoMLSMBO(42)::ibd] Configuration 114 not found\n",
      "[WARNING] [2023-05-07 20:32:33,939:Client-AutoMLSMBO(42)::ibd] Configuration 683 not found\n",
      "[WARNING] [2023-05-07 20:32:33,939:Client-AutoMLSMBO(42)::ibd] Configuration 707 not found\n",
      "[WARNING] [2023-05-07 20:32:33,939:Client-AutoMLSMBO(42)::ibd] Configuration 422 not found\n",
      "[WARNING] [2023-05-07 20:32:33,939:Client-AutoMLSMBO(42)::ibd] Configuration 203 not found\n",
      "[WARNING] [2023-05-07 20:32:33,939:Client-AutoMLSMBO(42)::ibd] Configuration 377 not found\n",
      "[WARNING] [2023-05-07 20:32:33,939:Client-AutoMLSMBO(42)::ibd] Configuration 341 not found\n",
      "[WARNING] [2023-05-07 20:32:33,939:Client-AutoMLSMBO(42)::ibd] Configuration 293 not found\n",
      "[WARNING] [2023-05-07 20:32:33,939:Client-AutoMLSMBO(42)::ibd] Configuration 480 not found\n",
      "[WARNING] [2023-05-07 20:32:33,939:Client-AutoMLSMBO(42)::ibd] Configuration 246 not found\n",
      "[WARNING] [2023-05-07 20:32:33,939:Client-AutoMLSMBO(42)::ibd] Configuration 154 not found\n",
      "[WARNING] [2023-05-07 20:32:33,939:Client-AutoMLSMBO(42)::ibd] Configuration 434 not found\n",
      "[WARNING] [2023-05-07 20:32:33,939:Client-AutoMLSMBO(42)::ibd] Configuration 172 not found\n",
      "[WARNING] [2023-05-07 20:32:33,939:Client-AutoMLSMBO(42)::ibd] Configuration 615 not found\n",
      "[WARNING] [2023-05-07 20:32:33,939:Client-AutoMLSMBO(42)::ibd] Configuration 494 not found\n",
      "[WARNING] [2023-05-07 20:32:33,939:Client-AutoMLSMBO(42)::ibd] Configuration 445 not found\n",
      "[WARNING] [2023-05-07 20:32:33,939:Client-AutoMLSMBO(42)::ibd] Configuration 235 not found\n",
      "[WARNING] [2023-05-07 20:32:33,939:Client-AutoMLSMBO(42)::ibd] Configuration 121 not found\n",
      "[WARNING] [2023-05-07 20:32:33,939:Client-AutoMLSMBO(42)::ibd] Configuration 634 not found\n",
      "[WARNING] [2023-05-07 20:32:33,939:Client-AutoMLSMBO(42)::ibd] Configuration 17 not found\n",
      "[WARNING] [2023-05-07 20:32:33,939:Client-AutoMLSMBO(42)::ibd] Configuration 363 not found\n",
      "[WARNING] [2023-05-07 20:32:33,939:Client-AutoMLSMBO(42)::ibd] Configuration 56 not found\n",
      "[WARNING] [2023-05-07 20:32:33,939:Client-AutoMLSMBO(42)::ibd] Configuration 25 not found\n",
      "[WARNING] [2023-05-07 20:32:33,940:Client-AutoMLSMBO(42)::ibd] Configuration 640 not found\n",
      "[WARNING] [2023-05-07 20:32:33,940:Client-AutoMLSMBO(42)::ibd] Configuration 652 not found\n",
      "[WARNING] [2023-05-07 20:32:33,940:Client-AutoMLSMBO(42)::ibd] Configuration 302 not found\n",
      "[WARNING] [2023-05-07 20:32:33,940:Client-AutoMLSMBO(42)::ibd] Configuration 395 not found\n",
      "[WARNING] [2023-05-07 20:32:33,940:Client-AutoMLSMBO(42)::ibd] Configuration 68 not found\n",
      "[WARNING] [2023-05-07 20:32:33,940:Client-AutoMLSMBO(42)::ibd] Configuration 435 not found\n",
      "[WARNING] [2023-05-07 20:32:33,940:Client-AutoMLSMBO(42)::ibd] Configuration 310 not found\n",
      "[WARNING] [2023-05-07 20:32:33,940:Client-AutoMLSMBO(42)::ibd] Configuration 486 not found\n",
      "[WARNING] [2023-05-07 20:32:33,940:Client-AutoMLSMBO(42)::ibd] Configuration 298 not found\n",
      "[WARNING] [2023-05-07 20:32:33,940:Client-AutoMLSMBO(42)::ibd] Configuration 243 not found\n",
      "[WARNING] [2023-05-07 20:32:33,940:Client-AutoMLSMBO(42)::ibd] Configuration 318 not found\n",
      "[WARNING] [2023-05-07 20:32:33,940:Client-AutoMLSMBO(42)::ibd] Configuration 403 not found\n",
      "[WARNING] [2023-05-07 20:32:33,940:Client-AutoMLSMBO(42)::ibd] Configuration 529 not found\n",
      "[WARNING] [2023-05-07 20:32:33,940:Client-AutoMLSMBO(42)::ibd] Configuration 412 not found\n",
      "[WARNING] [2023-05-07 20:32:33,940:Client-AutoMLSMBO(42)::ibd] Configuration 448 not found\n",
      "[WARNING] [2023-05-07 20:32:33,941:Client-AutoMLSMBO(42)::ibd] Configuration 500 not found\n",
      "[WARNING] [2023-05-07 20:32:33,941:Client-AutoMLSMBO(42)::ibd] Configuration 171 not found\n",
      "[WARNING] [2023-05-07 20:32:33,941:Client-AutoMLSMBO(42)::ibd] Configuration 543 not found\n",
      "[WARNING] [2023-05-07 20:32:33,941:Client-AutoMLSMBO(42)::ibd] Configuration 621 not found\n",
      "[WARNING] [2023-05-07 20:32:33,941:Client-AutoMLSMBO(42)::ibd] Configuration 643 not found\n",
      "[WARNING] [2023-05-07 20:32:33,941:Client-AutoMLSMBO(42)::ibd] Configuration 120 not found\n",
      "[WARNING] [2023-05-07 20:32:33,941:Client-AutoMLSMBO(42)::ibd] Configuration 452 not found\n",
      "[WARNING] [2023-05-07 20:32:33,941:Client-AutoMLSMBO(42)::ibd] Configuration 538 not found\n",
      "[WARNING] [2023-05-07 20:32:33,941:Client-AutoMLSMBO(42)::ibd] Configuration 291 not found\n",
      "[WARNING] [2023-05-07 20:32:33,941:Client-AutoMLSMBO(42)::ibd] Configuration 273 not found\n"
     ]
    },
    {
     "name": "stderr",
     "output_type": "stream",
     "text": [
      "ic| f1: 0.4957983193277311, bal_acc: 0.5285714285714286\n"
     ]
    },
    {
     "name": "stdout",
     "output_type": "stream",
     "text": [
      "[WARNING] [2023-05-07 20:33:35,254:Client-AutoMLSMBO(42)::ibd] Configuration 32 not found\n",
      "[WARNING] [2023-05-07 20:33:35,255:Client-AutoMLSMBO(42)::ibd] Configuration 9 not found\n",
      "[WARNING] [2023-05-07 20:33:35,255:Client-AutoMLSMBO(42)::ibd] Configuration 666 not found\n",
      "[WARNING] [2023-05-07 20:33:35,255:Client-AutoMLSMBO(42)::ibd] Configuration 176 not found\n",
      "[WARNING] [2023-05-07 20:33:35,255:Client-AutoMLSMBO(42)::ibd] Configuration 567 not found\n",
      "[WARNING] [2023-05-07 20:33:35,255:Client-AutoMLSMBO(42)::ibd] Configuration 407 not found\n",
      "[WARNING] [2023-05-07 20:33:35,256:Client-AutoMLSMBO(42)::ibd] Configuration 81 not found\n",
      "[WARNING] [2023-05-07 20:33:35,256:Client-AutoMLSMBO(42)::ibd] Configuration 185 not found\n",
      "[WARNING] [2023-05-07 20:33:35,256:Client-AutoMLSMBO(42)::ibd] Configuration 257 not found\n",
      "[WARNING] [2023-05-07 20:33:35,256:Client-AutoMLSMBO(42)::ibd] Configuration 329 not found\n",
      "[WARNING] [2023-05-07 20:33:35,256:Client-AutoMLSMBO(42)::ibd] Configuration 162 not found\n",
      "[WARNING] [2023-05-07 20:33:35,256:Client-AutoMLSMBO(42)::ibd] Configuration 358 not found\n",
      "[WARNING] [2023-05-07 20:33:35,256:Client-AutoMLSMBO(42)::ibd] Configuration 399 not found\n",
      "[WARNING] [2023-05-07 20:33:35,256:Client-AutoMLSMBO(42)::ibd] Configuration 222 not found\n",
      "[WARNING] [2023-05-07 20:33:35,256:Client-AutoMLSMBO(42)::ibd] Configuration 149 not found\n",
      "[WARNING] [2023-05-07 20:33:35,256:Client-AutoMLSMBO(42)::ibd] Configuration 601 not found\n",
      "[WARNING] [2023-05-07 20:33:35,256:Client-AutoMLSMBO(42)::ibd] Configuration 188 not found\n",
      "[WARNING] [2023-05-07 20:33:35,256:Client-AutoMLSMBO(42)::ibd] Configuration 492 not found\n",
      "[WARNING] [2023-05-07 20:33:35,256:Client-AutoMLSMBO(42)::ibd] Configuration 460 not found\n",
      "[WARNING] [2023-05-07 20:33:35,256:Client-AutoMLSMBO(42)::ibd] Configuration 22 not found\n",
      "[WARNING] [2023-05-07 20:33:35,256:Client-AutoMLSMBO(42)::ibd] Configuration 473 not found\n",
      "[WARNING] [2023-05-07 20:33:35,256:Client-AutoMLSMBO(42)::ibd] Configuration 590 not found\n",
      "[WARNING] [2023-05-07 20:33:35,256:Client-AutoMLSMBO(42)::ibd] Configuration 91 not found\n",
      "[WARNING] [2023-05-07 20:33:35,256:Client-AutoMLSMBO(42)::ibd] Configuration 230 not found\n",
      "[WARNING] [2023-05-07 20:33:35,257:Client-AutoMLSMBO(42)::ibd] Configuration 325 not found\n",
      "[WARNING] [2023-05-07 20:33:35,257:Client-AutoMLSMBO(42)::ibd] Configuration 467 not found\n",
      "[WARNING] [2023-05-07 20:33:35,257:Client-AutoMLSMBO(42)::ibd] Configuration 454 not found\n",
      "[WARNING] [2023-05-07 20:33:35,257:Client-AutoMLSMBO(42)::ibd] Configuration 1 not found\n",
      "[WARNING] [2023-05-07 20:33:35,257:Client-AutoMLSMBO(42)::ibd] Configuration 630 not found\n",
      "[WARNING] [2023-05-07 20:33:35,257:Client-AutoMLSMBO(42)::ibd] Configuration 138 not found\n",
      "[WARNING] [2023-05-07 20:33:35,257:Client-AutoMLSMBO(42)::ibd] Configuration 147 not found\n",
      "[WARNING] [2023-05-07 20:33:35,257:Client-AutoMLSMBO(42)::ibd] Configuration 347 not found\n",
      "[WARNING] [2023-05-07 20:33:35,257:Client-AutoMLSMBO(42)::ibd] Configuration 108 not found\n",
      "[WARNING] [2023-05-07 20:33:35,257:Client-AutoMLSMBO(42)::ibd] Configuration 688 not found\n",
      "[WARNING] [2023-05-07 20:33:35,257:Client-AutoMLSMBO(42)::ibd] Configuration 386 not found\n",
      "[WARNING] [2023-05-07 20:33:35,257:Client-AutoMLSMBO(42)::ibd] Configuration 65 not found\n",
      "[WARNING] [2023-05-07 20:33:35,257:Client-AutoMLSMBO(42)::ibd] Configuration 578 not found\n",
      "[WARNING] [2023-05-07 20:33:35,257:Client-AutoMLSMBO(42)::ibd] Configuration 625 not found\n",
      "[WARNING] [2023-05-07 20:33:35,258:Client-AutoMLSMBO(42)::ibd] Configuration 518 not found\n",
      "[WARNING] [2023-05-07 20:33:35,258:Client-AutoMLSMBO(42)::ibd] Configuration 191 not found\n",
      "[WARNING] [2023-05-07 20:33:35,258:Client-AutoMLSMBO(42)::ibd] Configuration 521 not found\n",
      "[WARNING] [2023-05-07 20:33:35,258:Client-AutoMLSMBO(42)::ibd] Configuration 680 not found\n",
      "[WARNING] [2023-05-07 20:33:35,258:Client-AutoMLSMBO(42)::ibd] Configuration 283 not found\n",
      "[WARNING] [2023-05-07 20:33:35,258:Client-AutoMLSMBO(42)::ibd] Configuration 72 not found\n",
      "[WARNING] [2023-05-07 20:33:35,258:Client-AutoMLSMBO(42)::ibd] Configuration 694 not found\n",
      "[WARNING] [2023-05-07 20:33:35,258:Client-AutoMLSMBO(42)::ibd] Configuration 605 not found\n",
      "[WARNING] [2023-05-07 20:33:35,258:Client-AutoMLSMBO(42)::ibd] Configuration 674 not found\n",
      "[WARNING] [2023-05-07 20:33:35,258:Client-AutoMLSMBO(42)::ibd] Configuration 555 not found\n",
      "[WARNING] [2023-05-07 20:33:35,258:Client-AutoMLSMBO(42)::ibd] Configuration 668 not found\n",
      "[WARNING] [2023-05-07 20:33:35,258:Client-AutoMLSMBO(42)::ibd] Configuration 338 not found\n",
      "[WARNING] [2023-05-07 20:33:35,258:Client-AutoMLSMBO(42)::ibd] Configuration 43 not found\n",
      "[WARNING] [2023-05-07 20:33:35,258:Client-AutoMLSMBO(42)::ibd] Configuration 701 not found\n",
      "[WARNING] [2023-05-07 20:33:35,258:Client-AutoMLSMBO(42)::ibd] Configuration 414 not found\n",
      "[WARNING] [2023-05-07 20:33:35,259:Client-AutoMLSMBO(42)::ibd] Configuration 367 not found\n",
      "[WARNING] [2023-05-07 20:33:35,259:Client-AutoMLSMBO(42)::ibd] Configuration 573 not found\n",
      "[WARNING] [2023-05-07 20:33:35,259:Client-AutoMLSMBO(42)::ibd] Configuration 444 not found\n",
      "[WARNING] [2023-05-07 20:33:35,259:Client-AutoMLSMBO(42)::ibd] Configuration 673 not found\n",
      "[WARNING] [2023-05-07 20:33:35,259:Client-AutoMLSMBO(42)::ibd] Configuration 214 not found\n",
      "[WARNING] [2023-05-07 20:33:35,259:Client-AutoMLSMBO(42)::ibd] Configuration 429 not found\n",
      "[WARNING] [2023-05-07 20:33:35,259:Client-AutoMLSMBO(42)::ibd] Configuration 131 not found\n",
      "[WARNING] [2023-05-07 20:33:35,259:Client-AutoMLSMBO(42)::ibd] Configuration 113 not found\n",
      "[WARNING] [2023-05-07 20:33:35,260:Client-AutoMLSMBO(42)::ibd] Configuration 379 not found\n",
      "[WARNING] [2023-05-07 20:33:35,260:Client-AutoMLSMBO(42)::ibd] Configuration 83 not found\n",
      "[WARNING] [2023-05-07 20:33:35,260:Client-AutoMLSMBO(42)::ibd] Configuration 40 not found\n",
      "[WARNING] [2023-05-07 20:33:35,260:Client-AutoMLSMBO(42)::ibd] Configuration 352 not found\n",
      "[WARNING] [2023-05-07 20:33:35,260:Client-AutoMLSMBO(42)::ibd] Configuration 571 not found\n",
      "[WARNING] [2023-05-07 20:33:35,260:Client-AutoMLSMBO(42)::ibd] Configuration 613 not found\n",
      "[WARNING] [2023-05-07 20:33:35,260:Client-AutoMLSMBO(42)::ibd] Configuration 679 not found\n",
      "[WARNING] [2023-05-07 20:33:35,260:Client-AutoMLSMBO(42)::ibd] Configuration 513 not found\n",
      "[WARNING] [2023-05-07 20:33:35,260:Client-AutoMLSMBO(42)::ibd] Configuration 114 not found\n",
      "[WARNING] [2023-05-07 20:33:35,260:Client-AutoMLSMBO(42)::ibd] Configuration 683 not found\n",
      "[WARNING] [2023-05-07 20:33:35,261:Client-AutoMLSMBO(42)::ibd] Configuration 707 not found\n",
      "[WARNING] [2023-05-07 20:33:35,261:Client-AutoMLSMBO(42)::ibd] Configuration 422 not found\n",
      "[WARNING] [2023-05-07 20:33:35,261:Client-AutoMLSMBO(42)::ibd] Configuration 203 not found\n",
      "[WARNING] [2023-05-07 20:33:35,261:Client-AutoMLSMBO(42)::ibd] Configuration 377 not found\n",
      "[WARNING] [2023-05-07 20:33:35,261:Client-AutoMLSMBO(42)::ibd] Configuration 341 not found\n",
      "[WARNING] [2023-05-07 20:33:35,261:Client-AutoMLSMBO(42)::ibd] Configuration 293 not found\n",
      "[WARNING] [2023-05-07 20:33:35,261:Client-AutoMLSMBO(42)::ibd] Configuration 480 not found\n",
      "[WARNING] [2023-05-07 20:33:35,261:Client-AutoMLSMBO(42)::ibd] Configuration 154 not found\n",
      "[WARNING] [2023-05-07 20:33:35,261:Client-AutoMLSMBO(42)::ibd] Configuration 246 not found\n",
      "[WARNING] [2023-05-07 20:33:35,261:Client-AutoMLSMBO(42)::ibd] Configuration 434 not found\n",
      "[WARNING] [2023-05-07 20:33:35,261:Client-AutoMLSMBO(42)::ibd] Configuration 172 not found\n",
      "[WARNING] [2023-05-07 20:33:35,261:Client-AutoMLSMBO(42)::ibd] Configuration 615 not found\n",
      "[WARNING] [2023-05-07 20:33:35,261:Client-AutoMLSMBO(42)::ibd] Configuration 494 not found\n",
      "[WARNING] [2023-05-07 20:33:35,261:Client-AutoMLSMBO(42)::ibd] Configuration 445 not found\n",
      "[WARNING] [2023-05-07 20:33:35,261:Client-AutoMLSMBO(42)::ibd] Configuration 235 not found\n",
      "[WARNING] [2023-05-07 20:33:35,261:Client-AutoMLSMBO(42)::ibd] Configuration 121 not found\n",
      "[WARNING] [2023-05-07 20:33:35,261:Client-AutoMLSMBO(42)::ibd] Configuration 634 not found\n",
      "[WARNING] [2023-05-07 20:33:35,261:Client-AutoMLSMBO(42)::ibd] Configuration 363 not found\n",
      "[WARNING] [2023-05-07 20:33:35,261:Client-AutoMLSMBO(42)::ibd] Configuration 17 not found\n",
      "[WARNING] [2023-05-07 20:33:35,261:Client-AutoMLSMBO(42)::ibd] Configuration 56 not found\n",
      "[WARNING] [2023-05-07 20:33:35,261:Client-AutoMLSMBO(42)::ibd] Configuration 25 not found\n",
      "[WARNING] [2023-05-07 20:33:35,261:Client-AutoMLSMBO(42)::ibd] Configuration 640 not found\n",
      "[WARNING] [2023-05-07 20:33:35,261:Client-AutoMLSMBO(42)::ibd] Configuration 652 not found\n",
      "[WARNING] [2023-05-07 20:33:35,261:Client-AutoMLSMBO(42)::ibd] Configuration 302 not found\n",
      "[WARNING] [2023-05-07 20:33:35,261:Client-AutoMLSMBO(42)::ibd] Configuration 395 not found\n",
      "[WARNING] [2023-05-07 20:33:35,262:Client-AutoMLSMBO(42)::ibd] Configuration 68 not found\n",
      "[WARNING] [2023-05-07 20:33:35,262:Client-AutoMLSMBO(42)::ibd] Configuration 435 not found\n",
      "[WARNING] [2023-05-07 20:33:35,262:Client-AutoMLSMBO(42)::ibd] Configuration 310 not found\n",
      "[WARNING] [2023-05-07 20:33:35,262:Client-AutoMLSMBO(42)::ibd] Configuration 486 not found\n",
      "[WARNING] [2023-05-07 20:33:35,262:Client-AutoMLSMBO(42)::ibd] Configuration 298 not found\n",
      "[WARNING] [2023-05-07 20:33:35,262:Client-AutoMLSMBO(42)::ibd] Configuration 243 not found\n",
      "[WARNING] [2023-05-07 20:33:35,262:Client-AutoMLSMBO(42)::ibd] Configuration 318 not found\n",
      "[WARNING] [2023-05-07 20:33:35,262:Client-AutoMLSMBO(42)::ibd] Configuration 403 not found\n",
      "[WARNING] [2023-05-07 20:33:35,262:Client-AutoMLSMBO(42)::ibd] Configuration 529 not found\n",
      "[WARNING] [2023-05-07 20:33:35,262:Client-AutoMLSMBO(42)::ibd] Configuration 412 not found\n",
      "[WARNING] [2023-05-07 20:33:35,262:Client-AutoMLSMBO(42)::ibd] Configuration 448 not found\n",
      "[WARNING] [2023-05-07 20:33:35,262:Client-AutoMLSMBO(42)::ibd] Configuration 500 not found\n",
      "[WARNING] [2023-05-07 20:33:35,263:Client-AutoMLSMBO(42)::ibd] Configuration 171 not found\n",
      "[WARNING] [2023-05-07 20:33:35,263:Client-AutoMLSMBO(42)::ibd] Configuration 621 not found\n",
      "[WARNING] [2023-05-07 20:33:35,263:Client-AutoMLSMBO(42)::ibd] Configuration 543 not found\n",
      "[WARNING] [2023-05-07 20:33:35,263:Client-AutoMLSMBO(42)::ibd] Configuration 643 not found\n",
      "[WARNING] [2023-05-07 20:33:35,263:Client-AutoMLSMBO(42)::ibd] Configuration 120 not found\n",
      "[WARNING] [2023-05-07 20:33:35,263:Client-AutoMLSMBO(42)::ibd] Configuration 452 not found\n",
      "[WARNING] [2023-05-07 20:33:35,263:Client-AutoMLSMBO(42)::ibd] Configuration 538 not found\n",
      "[WARNING] [2023-05-07 20:33:35,263:Client-AutoMLSMBO(42)::ibd] Configuration 291 not found\n",
      "[WARNING] [2023-05-07 20:33:35,263:Client-AutoMLSMBO(42)::ibd] Configuration 273 not found\n"
     ]
    }
   ],
   "source": [
    "results = []\n",
    "y_types = ['diagnosis', 'site_name', 'sex']\n",
    "y_types = ['sex']\n",
    "best = {}\n",
    "\n",
    "for y_type in y_types:\n",
    "    y = ibd_metadata[y_type].to_numpy()\n",
    "    \n",
    "    if y_type == 'diagnosis':\n",
    "        mask = ibd_metadata[y_type] == 'nonIBD'\n",
    "        y = y[~mask]\n",
    "        type_to_data = {\n",
    "            'raw': X_raw[~mask],\n",
    "            'euclidean': X_euclidean[~mask],\n",
    "            'hyperbolic': X_hyperbolic[~mask],\n",
    "            'tangent': X_tangent[~mask]\n",
    "        }\n",
    "    else:\n",
    "        type_to_data = {\n",
    "            'raw': X_raw,\n",
    "            'euclidean': X_euclidean,\n",
    "            'hyperbolic': X_hyperbolic,\n",
    "            'tangent': X_tangent\n",
    "        }\n",
    "    \n",
    "    type_to_split = {type: train_test_split(X, y, stratify=y, shuffle=True, random_state=seed) for type, X in type_to_data.items()}\n",
    "    \n",
    "    for type, (X_train, X_test, y_train, y_test) in type_to_split.items():\n",
    "        \n",
    "        clf = autosklearn.classification.AutoSklearnClassifier(\n",
    "            seed=seed, \n",
    "            metric=[autosklearn.metrics.f1_macro, autosklearn.metrics.balanced_accuracy],\n",
    "            per_run_time_limit=15,\n",
    "            time_left_for_this_task=65,\n",
    "            include={\"classifier\": [\"random_forest\", \"gradient_boosting\"]},\n",
    "            memory_limit=20000,\n",
    "            tmp_folder='./tmp',\n",
    "            delete_tmp_folder_after_terminate=True,\n",
    "            initial_configurations_via_metalearning=0\n",
    "            )\n",
    "        \n",
    "        clf.fit(X_train, y_train, dataset_name='ibd')\n",
    "        # print(clf.leaderboard(), '\\n\\n')\n",
    "        \n",
    "        y_pred = clf.predict(X_test)\n",
    "        f1 = autosklearn.metrics.f1_macro(y_test, y_pred)\n",
    "        bal_acc = autosklearn.metrics.balanced_accuracy(y_test, y_pred)\n",
    "        \n",
    "        ic(f1, bal_acc)\n",
    "        \n",
    "        # record best values\n",
    "        if (y_type, type, 'f1') not in best:\n",
    "            best[(y_type, type, 'f1')] = (f1, clf)\n",
    "        if (y_type, type, 'bal acc') not in best:\n",
    "            best[(y_type, type, 'bal acc')] = (bal_acc, clf)\n",
    "        if f1 > best[(y_type, type, 'f1')][0]:\n",
    "            best[(y_type, type, 'f1')] = (f1, clf)\n",
    "        if bal_acc > best[(y_type, type, 'bal acc')][0]:\n",
    "            best[(y_type, type, 'bal acc')] = (bal_acc, clf)\n",
    "        \n",
    "        results.append({\n",
    "            'y_type': y_type,\n",
    "            'type': type,\n",
    "            'f1': f1,\n",
    "            'balanced accuracy': bal_acc,\n",
    "        })"
   ]
  },
  {
   "cell_type": "code",
   "execution_count": null,
   "metadata": {},
   "outputs": [],
   "source": [
    "clf_df = pd.DataFrame(results)\n",
    "# clf_df.to_csv('results2.csv')\n",
    "clf_df"
   ]
  },
  {
   "cell_type": "code",
   "execution_count": null,
   "metadata": {},
   "outputs": [],
   "source": [
    "# clf_df.to_csv('results.csv')\n",
    "# clf_df = pd.read_csv('results2.csv')\n",
    "clf_df['y_type'][clf_df['y_type'] == 'sex'] = 'Sex'\n",
    "clf_df['y_type'][clf_df['y_type'] == 'diagnosis'] = 'IBD Diagnosis'\n",
    "clf_df['y_type'][clf_df['y_type'] == 'site_name'] = 'Hospital Location'\n",
    "clf_df['f1 rounded'] = clf_df['f1'].round(3)\n",
    "\n",
    "clf_df"
   ]
  },
  {
   "cell_type": "code",
   "execution_count": null,
   "metadata": {},
   "outputs": [],
   "source": [
    "fig = px.bar(clf_df, x='y_type', y='f1', color='type', barmode='group', text='f1 rounded')\n",
    "fig.update_layout(title={'text': 'F1 Score for CNN 128 Embeddings with Random Forest Classifier', 'xanchor': 'center', 'x':0.5})\n",
    "fig.update_xaxes(title=\"Predicted IBD Metadata\")\n",
    "fig.show()"
   ]
  },
  {
   "cell_type": "code",
   "execution_count": null,
   "metadata": {},
   "outputs": [],
   "source": [
    "f1, clf = best[('site_name', 'hyperbolic', 'f1')]\n",
    "list(vars(clf).keys())"
   ]
  },
  {
   "cell_type": "code",
   "execution_count": null,
   "metadata": {},
   "outputs": [],
   "source": [
    "# vars(clf.ensemble_class).keys()\n",
    "clf.ensemble_class.get_models_with_weights"
   ]
  },
  {
   "attachments": {},
   "cell_type": "markdown",
   "metadata": {},
   "source": [
    "# WandB"
   ]
  },
  {
   "cell_type": "code",
   "execution_count": null,
   "metadata": {},
   "outputs": [],
   "source": [
    "path = 'wandb_results.csv'\n",
    "wandb = pd.read_csv(path)\n",
    "wandb"
   ]
  },
  {
   "cell_type": "code",
   "execution_count": null,
   "metadata": {},
   "outputs": [],
   "source": [
    "records = [\n",
    "    {'distance': 'NeuroSeed<br>Euclidean', 'embedding_size': 128, 'final/%rmse_test': 1.37},\n",
    "    {'distance': 'NeuroSeed<br>Hyperbolic', 'embedding_size': 128, 'final/%rmse_test': 1.00}\n",
    "    ]\n",
    "wandb = pd.concat([wandb, pd.DataFrame(records)])\n",
    "wandb"
   ]
  },
  {
   "cell_type": "code",
   "execution_count": null,
   "metadata": {},
   "outputs": [],
   "source": [
    "wandb = wandb.rename(columns={'final/%rmse_test': '%rmse test', 'embedding_size': 'Embedding Dimension'})\n",
    "wandb['distance'][wandb['distance'] == 'euclidean'] = 'Euclidean'\n",
    "wandb['distance'][wandb['distance'] == 'hyperbolic'] = 'Hyperbolic'\n",
    "\n",
    "\n",
    "wandb['text'] = [dist.capitalize() if 'NeuroSeed' not in dist else dist.split('<br>')[1].capitalize() for dist in wandb['distance'].to_list()]\n",
    "wandb = wandb.sort_values(by=['Embedding Dimension'])\n",
    "wandb"
   ]
  },
  {
   "cell_type": "code",
   "execution_count": null,
   "metadata": {},
   "outputs": [],
   "source": [
    "fig = px.bar(wandb, x='Embedding Dimension', y='%rmse test', barmode='group', color='distance', text='distance')\n",
    "fig.update_xaxes(type='category')\n",
    "\n",
    "fig.update_layout(title={'text': 'Predicting Edit Distance with CNN', 'xanchor': 'center', 'x':0.5})\n",
    "fig"
   ]
  },
  {
   "attachments": {},
   "cell_type": "markdown",
   "metadata": {},
   "source": [
    "# Random Forests"
   ]
  },
  {
   "cell_type": "code",
   "execution_count": null,
   "metadata": {},
   "outputs": [],
   "source": [
    "from sklearn.ensemble import RandomForestClassifier, RandomForestRegressor\n",
    "from sklearn.metrics import f1_score, mean_squared_error\n",
    "from sklearn.preprocessing import LabelBinarizer, LabelEncoder"
   ]
  },
  {
   "cell_type": "code",
   "execution_count": null,
   "metadata": {},
   "outputs": [],
   "source": [
    "def random_forset_clf(y_types, type_to_data, metadata):\n",
    "    results = []\n",
    "    X_raw, X_euclidean, X_hyperbolic, X_tangent = type_to_data.values()\n",
    "\n",
    "    for y_type in y_types:\n",
    "        y = metadata[y_type].to_numpy()\n",
    "        \n",
    "        encoder = LabelEncoder()\n",
    "        y = encoder.fit_transform(y)\n",
    "        \n",
    "        if y_type == 'diagnosis':\n",
    "            mask = ibd_metadata[y_type] == 'nonIBD'\n",
    "            y = y[~mask]\n",
    "            type_to_data = {\n",
    "                'raw': X_raw[~mask],\n",
    "                'euclidean': X_euclidean[~mask],\n",
    "                'hyperbolic': X_hyperbolic[~mask],\n",
    "                'tangent': X_tangent[~mask]\n",
    "            }\n",
    "        else:\n",
    "            type_to_data = {\n",
    "                'raw': X_raw,\n",
    "                'euclidean': X_euclidean,\n",
    "                'hyperbolic': X_hyperbolic,\n",
    "                'tangent': X_tangent\n",
    "            }\n",
    "        \n",
    "        type_to_split = {type: train_test_split(X, y, stratify=y) for type, X in type_to_data.items()}\n",
    "        for type, (X_train, X_test, y_train, y_test) in type_to_split.items():\n",
    "            \n",
    "            clf = RandomForestClassifier(random_state=seed)\n",
    "            clf.fit(X_train, y_train)\n",
    "            \n",
    "            y_pred = clf.predict(X_test)\n",
    "            f1 = f1_score(y_test, y_pred, average='macro')\n",
    "            \n",
    "            results.append({\n",
    "                'y_type': y_type,\n",
    "                'type': type,\n",
    "                'f1': f1,\n",
    "            })\n",
    "            \n",
    "    return results"
   ]
  },
  {
   "cell_type": "code",
   "execution_count": null,
   "metadata": {},
   "outputs": [],
   "source": [
    "y_types = ['diagnosis', 'site_name', 'sex']\n",
    "results = random_forset_clf(y_types, type_to_data, ibd_metadata)"
   ]
  },
  {
   "cell_type": "code",
   "execution_count": null,
   "metadata": {},
   "outputs": [],
   "source": [
    "df = pd.DataFrame(results)\n",
    "\n",
    "df['y_type'][df['y_type'] == 'sex'] = 'Sex'\n",
    "df['y_type'][df['y_type'] == 'diagnosis'] = 'IBD Diagnosis'\n",
    "df['y_type'][df['y_type'] == 'site_name'] = 'Hospital Location'\n",
    "df['f1 rounded'] = df['f1'].round(3)\n",
    "\n",
    "df"
   ]
  },
  {
   "cell_type": "code",
   "execution_count": null,
   "metadata": {},
   "outputs": [],
   "source": [
    "fig = px.bar(df, x='y_type', y='f1', color='type', barmode='group', text='f1 rounded')\n",
    "fig.update_layout(title={'text': 'F1 Score for CNN 128 Embeddings with Random Forest Classifier', 'xanchor': 'center', 'x':0.5})\n",
    "fig.update_xaxes(title=\"Predicted IBD Metadata\")\n",
    "fig.show()"
   ]
  },
  {
   "cell_type": "code",
   "execution_count": null,
   "metadata": {},
   "outputs": [],
   "source": [
    "def random_forest_regression(y_types, type_to_data, metadata):\n",
    "    seed = 42\n",
    "    results = []\n",
    "    X_raw, X_euclidean, X_hyperbolic, X_tangent = type_to_data.values()\n",
    "\n",
    "    for y_type in y_types:\n",
    "        y = metadata[y_type].to_numpy()\n",
    "\n",
    "        if y_type == 'diagnosis':\n",
    "            mask = metadata[y_type] == 'nonIBD'\n",
    "            y = y[~mask]\n",
    "            type_to_data = {\n",
    "                'raw': X_raw[~mask],\n",
    "                'euclidean': X_euclidean[~mask],\n",
    "                'hyperbolic': X_hyperbolic[~mask],\n",
    "                'tangent': X_tangent[~mask]\n",
    "            }\n",
    "        else:\n",
    "            type_to_data = {\n",
    "                'raw': X_raw,\n",
    "                'euclidean': X_euclidean,\n",
    "                'hyperbolic': X_hyperbolic,\n",
    "                'tangent': X_tangent\n",
    "            }\n",
    "        \n",
    "        type_to_split = {type: train_test_split(X, y, shuffle=True) for type, X in type_to_data.items()}\n",
    "        \n",
    "        for type, (X_train, X_test, y_train, y_test) in type_to_split.items():\n",
    "            \n",
    "            clf = RandomForestRegressor(random_state=seed)\n",
    "            clf.fit(X_train, y_train)\n",
    "            \n",
    "            y_pred = clf.predict(X_test)\n",
    "            rmse = mean_squared_error(y_test, y_pred, squared=False)\n",
    "            \n",
    "            results.append({\n",
    "                'y_type': y_type,\n",
    "                'type': type,\n",
    "                'rmse': rmse,\n",
    "            })\n",
    "            \n",
    "    return results"
   ]
  },
  {
   "cell_type": "code",
   "execution_count": null,
   "metadata": {},
   "outputs": [],
   "source": [
    "y_types = ['hbi', 'fecalcal', 'sccai']"
   ]
  },
  {
   "cell_type": "code",
   "execution_count": null,
   "metadata": {},
   "outputs": [],
   "source": [
    "df = pd.DataFrame(results)\n",
    "df['rmse rounded'] = df['rmse'].round(3)\n",
    "df"
   ]
  },
  {
   "cell_type": "code",
   "execution_count": null,
   "metadata": {},
   "outputs": [],
   "source": [
    "fig = px.bar(df, x='y_type', y='rmse', color='type', barmode='group', text='rmse rounded')\n",
    "fig.update_layout(title={'text': 'F1 Score for CNN 128 Embeddings with Random Forest Regression', 'xanchor': 'center', 'x':0.5})\n",
    "fig.update_xaxes(title=\"Predicted IBD Metadata\")\n",
    "fig.show()"
   ]
  },
  {
   "attachments": {},
   "cell_type": "markdown",
   "metadata": {},
   "source": [
    "# T2D Data"
   ]
  },
  {
   "cell_type": "code",
   "execution_count": null,
   "metadata": {},
   "outputs": [],
   "source": [
    "t2d_euclidean_embeddings_path = '../data/processed/mixture_embeddings/t2d/cnn_euclidean_128_mixture_embeddings.pickle'\n",
    "t2d_hyperbolic_embeddings_path = '../data/processed/mixture_embeddings/t2d/cnn_hyperbolic_128_mixture_embeddings.pickle'\n",
    "t2d_raw_path = '../data/interim/ihmp/t2d_data.pickle'\n",
    "t2d_metadata_path = '../data/interim/ihmp/t2d_metadata.pickle'"
   ]
  },
  {
   "cell_type": "code",
   "execution_count": null,
   "metadata": {},
   "outputs": [],
   "source": [
    "t2d_metadata = load_dataset(t2d_metadata_path)\n",
    "t2d_metadata"
   ]
  },
  {
   "cell_type": "code",
   "execution_count": null,
   "metadata": {},
   "outputs": [],
   "source": [
    "t2d_metadata.columns.to_list()"
   ]
  },
  {
   "cell_type": "code",
   "execution_count": null,
   "metadata": {},
   "outputs": [],
   "source": [
    "y_types_reg['Age']"
   ]
  },
  {
   "cell_type": "code",
   "execution_count": null,
   "metadata": {},
   "outputs": [],
   "source": [
    "y_types_reg = ['Age', 'BMI', 'SSPG']\n",
    "y_types_clf = ['Sex', 'IR_IS_classification'] # Event"
   ]
  },
  {
   "cell_type": "code",
   "execution_count": null,
   "metadata": {},
   "outputs": [],
   "source": [
    "X_euclidean = load_dataset(t2d_euclidean_embeddings_path).astype('float32')\n",
    "X_hyperbolic = load_dataset(t2d_hyperbolic_embeddings_path).astype('float32')\n",
    "\n",
    "# map hyperbolic data to Euclidean space TANGENT to the mean of the hyperbolic data\n",
    "embedding_size = X_hyperbolic.shape[1]\n",
    "hyperbolic = Hyperbolic(dim=embedding_size, default_coords_type='ball') # why do we have the -1 here?\n",
    "to_tangent = ToTangentSpace(geometry=hyperbolic, method='adaptive', epsilon=1e-3)\n",
    "to_tangent.fit(X_hyperbolic)\n",
    "X_tangent = to_tangent.transform(X_hyperbolic).astype('float32')\n",
    "\n",
    "# compute MDS on X_raw\n",
    "X_raw = load_dataset(t2d_raw_path).values\n",
    "dim_red = MDS(n_components=embedding_size)\n",
    "X_raw = dim_red.fit_transform(X_raw)\n",
    "X_raw = X_raw.astype('float32')\n",
    "\n",
    "type_to_data = {\n",
    "    'raw': X_raw,\n",
    "    'euclidean': X_euclidean,\n",
    "    'hyperbolic': X_hyperbolic,\n",
    "    'tangent': X_tangent\n",
    "}"
   ]
  },
  {
   "cell_type": "code",
   "execution_count": null,
   "metadata": {},
   "outputs": [],
   "source": [
    "results = random_forset_clf(y_types_clf, type_to_data, t2d_metadata)"
   ]
  },
  {
   "cell_type": "code",
   "execution_count": null,
   "metadata": {},
   "outputs": [],
   "source": [
    "df = pd.DataFrame(results)\n",
    "df['f1 rounded'] = df['f1'].round(3)\n",
    "df"
   ]
  },
  {
   "cell_type": "code",
   "execution_count": null,
   "metadata": {},
   "outputs": [],
   "source": [
    "fig = px.bar(df, x='y_type', y='f1', color='type', barmode='group', text='f1 rounded')\n",
    "fig.update_layout(title={'text': 'F1 Score for CNN 128 Embeddings with Random Forest Classifier', 'xanchor': 'center', 'x':0.5})\n",
    "fig.update_xaxes(title=\"Predicted T2D Metadata\")\n",
    "fig.show()"
   ]
  },
  {
   "cell_type": "code",
   "execution_count": null,
   "metadata": {},
   "outputs": [],
   "source": [
    "results = random_forest_regression(y_types_reg, type_to_data, t2d_metadata)"
   ]
  },
  {
   "cell_type": "code",
   "execution_count": null,
   "metadata": {},
   "outputs": [],
   "source": [
    "df = pd.DataFrame(results)\n",
    "df['rmse rounded'] = df['rmse'].round(3)\n",
    "df"
   ]
  },
  {
   "cell_type": "code",
   "execution_count": null,
   "metadata": {},
   "outputs": [],
   "source": [
    "fig = px.bar(df, x='y_type', y='rmse', color='type', barmode='group', text='rmse rounded')\n",
    "fig.update_layout(title={'text': 'F1 Score for CNN 128 Embeddings with Random Forest Regression', 'xanchor': 'center', 'x':0.5})\n",
    "fig.update_xaxes(title=\"Predicted IBD Metadata\")\n",
    "fig.show()"
   ]
  }
 ],
 "metadata": {
  "kernelspec": {
   "display_name": "mixture2",
   "language": "python",
   "name": "python3"
  },
  "language_info": {
   "codemirror_mode": {
    "name": "ipython",
    "version": 3
   },
   "file_extension": ".py",
   "mimetype": "text/x-python",
   "name": "python",
   "nbconvert_exporter": "python",
   "pygments_lexer": "ipython3",
   "version": "3.9.16"
  },
  "orig_nbformat": 4
 },
 "nbformat": 4,
 "nbformat_minor": 2
}
