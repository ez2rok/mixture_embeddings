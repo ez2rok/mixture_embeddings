{
 "cells": [
  {
   "cell_type": "code",
   "execution_count": 1,
   "metadata": {},
   "outputs": [],
   "source": [
    "import pandas as pd\n",
    "import numpy as np\n",
    "\n",
    "from nomic import atlas\n",
    "from scipy import stats"
   ]
  },
  {
   "cell_type": "code",
   "execution_count": 2,
   "metadata": {},
   "outputs": [],
   "source": [
    "data_name = 'ibd'\n",
    "embedding_size = 128"
   ]
  },
  {
   "cell_type": "code",
   "execution_count": 3,
   "metadata": {},
   "outputs": [],
   "source": [
    "embeddings_path = '../data/processed/mixture_embeddings/{}/cnn_hyperbolic_{}_mixture_embeddings.csv'.format(data_name, embedding_size)\n",
    "metadata_path = '../data/interim/ihmp/{}_metadata.csv'.format(data_name)"
   ]
  },
  {
   "cell_type": "code",
   "execution_count": 4,
   "metadata": {},
   "outputs": [],
   "source": [
    "embeddings_df = pd.read_csv(embeddings_path, index_col='Sample')\n",
    "embeddings = embeddings_df.values"
   ]
  },
  {
   "cell_type": "code",
   "execution_count": 5,
   "metadata": {},
   "outputs": [],
   "source": [
    "def replace_percentiles(dataframe, columns):\n",
    "    \n",
    "    # Calculate the 5th and 95th percentiles of the specified columns\n",
    "    lower_percentiles = dataframe[columns].quantile(0.05)\n",
    "    upper_percentiles = dataframe[columns].quantile(0.95)\n",
    "    \n",
    "    # Create boolean masks for values below the 5th percentile\n",
    "    below_lower_mask = dataframe[columns].lt(lower_percentiles)\n",
    "    \n",
    "    # Create boolean masks for values above the 95th percentile\n",
    "    above_upper_mask = dataframe[columns].gt(upper_percentiles)\n",
    "    \n",
    "    # Replace values below the 5th percentile with the lower_value using boolean indexing\n",
    "    dataframe[columns] = np.where(below_lower_mask, lower_percentiles, dataframe[columns])\n",
    "    \n",
    "    # Replace values above the 95th percentile with the upper_value using boolean indexing\n",
    "    dataframe[columns] = np.where(above_upper_mask, upper_percentiles, dataframe[columns])\n",
    "    \n",
    "    return dataframe"
   ]
  },
  {
   "cell_type": "code",
   "execution_count": 6,
   "metadata": {},
   "outputs": [
    {
     "name": "stderr",
     "output_type": "stream",
     "text": [
      "/tmp/ipykernel_895589/993164392.py:2: FutureWarning: The default value of numeric_only in DataFrame.mean is deprecated. In a future version, it will default to False. In addition, specifying 'numeric_only=None' is deprecated. Select only valid columns or specify the value of numeric_only to silence this warning.\n",
      "  metadata_df = metadata_df.fillna(metadata_df.mean())\n"
     ]
    }
   ],
   "source": [
    "metadata_df = pd.read_csv(metadata_path)\n",
    "metadata_df = metadata_df.fillna(metadata_df.mean())\n",
    "\n",
    "cols = ['fb ratio']\n",
    "metadata_df = replace_percentiles(metadata_df, cols)\n",
    "\n",
    "data = list(metadata_df.T.to_dict().values())"
   ]
  },
  {
   "cell_type": "code",
   "execution_count": 7,
   "metadata": {},
   "outputs": [
    {
     "name": "stderr",
     "output_type": "stream",
     "text": [
      "\u001b[32m2023-06-06 03:58:04.797\u001b[0m | \u001b[1mINFO    \u001b[0m | \u001b[36mnomic.project\u001b[0m:\u001b[36m__init__\u001b[0m:\u001b[36m871\u001b[0m - \u001b[1mFound existing project `ibd (128)` in organization `eitan.turok`. Clearing it of data by request.\u001b[0m\n",
      "\u001b[32m2023-06-06 03:58:05.625\u001b[0m | \u001b[1mINFO    \u001b[0m | \u001b[36mnomic.project\u001b[0m:\u001b[36m_create_project\u001b[0m:\u001b[36m965\u001b[0m - \u001b[1mCreating project `ibd (128)` in organization `eitan.turok`\u001b[0m\n",
      "\u001b[32m2023-06-06 03:58:06.998\u001b[0m | \u001b[1mINFO    \u001b[0m | \u001b[36mnomic.atlas\u001b[0m:\u001b[36mmap_embeddings\u001b[0m:\u001b[36m100\u001b[0m - \u001b[1mUploading embeddings to Atlas.\u001b[0m\n",
      "1it [00:01,  1.06s/it]\n",
      "\u001b[32m2023-06-06 03:58:08.076\u001b[0m | \u001b[1mINFO    \u001b[0m | \u001b[36mnomic.project\u001b[0m:\u001b[36m_add_data\u001b[0m:\u001b[36m1577\u001b[0m - \u001b[1mUpload succeeded.\u001b[0m\n",
      "\u001b[32m2023-06-06 03:58:08.077\u001b[0m | \u001b[1mINFO    \u001b[0m | \u001b[36mnomic.atlas\u001b[0m:\u001b[36mmap_embeddings\u001b[0m:\u001b[36m119\u001b[0m - \u001b[1mEmbedding upload succeeded.\u001b[0m\n",
      "\u001b[32m2023-06-06 03:58:08.900\u001b[0m | \u001b[1mINFO    \u001b[0m | \u001b[36mnomic.project\u001b[0m:\u001b[36mcreate_index\u001b[0m:\u001b[36m1282\u001b[0m - \u001b[1mCreated map `ibd (128)` in project `ibd (128)`: https://atlas.nomic.ai/map/ef74166c-1c10-4777-aca7-8301cb8f0297/2dc0d57f-4eb6-47b6-99ec-25934843b920\u001b[0m\n",
      "\u001b[32m2023-06-06 03:58:08.901\u001b[0m | \u001b[1mINFO    \u001b[0m | \u001b[36mnomic.atlas\u001b[0m:\u001b[36mmap_embeddings\u001b[0m:\u001b[36m132\u001b[0m - \u001b[1mibd (128): https://atlas.nomic.ai/map/ef74166c-1c10-4777-aca7-8301cb8f0297/2dc0d57f-4eb6-47b6-99ec-25934843b920\u001b[0m\n"
     ]
    }
   ],
   "source": [
    "id_field = 'Sample' \n",
    "colorable_fields = metadata_df.columns.to_list()\n",
    "name = '{} ({})'.format(data_name, embedding_size)\n",
    "\n",
    "project = atlas.map_embeddings(\n",
    "    embeddings=embeddings,\n",
    "    data=data,\n",
    "    name=name,\n",
    "    id_field=id_field,\n",
    "    colorable_fields=colorable_fields,\n",
    "    reset_project_if_exists=True\n",
    "    )"
   ]
  },
  {
   "cell_type": "code",
   "execution_count": 8,
   "metadata": {},
   "outputs": [
    {
     "data": {
      "text/html": [
       "\n",
       "            <strong><a href=\"https://atlas.nomic.ai/dashboard/project/ef74166c-1c10-4777-aca7-8301cb8f0297\">ibd (128)</strong></a>\n",
       "            <br>\n",
       "            A description for your map. 96 datums inserted.\n",
       "            <br>\n",
       "            1 index built.\n",
       "            <br><strong>Projections</strong>\n",
       "<ul>\n",
       "<li>ibd (128). Status Topic Modeling. <a target=\"_blank\" href=\"https://atlas.nomic.ai/map/ef74166c-1c10-4777-aca7-8301cb8f0297/2dc0d57f-4eb6-47b6-99ec-25934843b920\">view online</a></li></ul>"
      ],
      "text/plain": [
       "AtlasProject: <{'id': 'ef74166c-1c10-4777-aca7-8301cb8f0297', 'owner': '2792fe69-7147-4e96-b1fe-d46fe2eb91d9', 'project_name': 'ibd (128)', 'creator': 'auth0|646675995491ad89187aa7be', 'description': 'A description for your map.', 'opensearch_index_id': 'b30ca2b7-6050-4076-b536-a9a5006df80d', 'is_public': True, 'project_fields': ['Sample', 'Participant', 'Sample Collection Date', 'Visit Number', 'Hospital', 'Age', 'Diagnosis', 'HBI', 'Sex', 'Race', 'Fecalcal', 'SCCAI', 'fb ratio', '_embeddings'], 'unique_id_field': 'Sample', 'modality': 'embedding', 'total_datums_in_project': 96, 'created_timestamp': '2023-06-06T07:58:06.526017+00:00', 'atlas_indices': [{'id': '502e0793-22ee-48c6-a178-e58f5ac215df', 'project_id': 'ef74166c-1c10-4777-aca7-8301cb8f0297', 'index_name': 'ibd (128)', 'indexed_field': None, 'created_timestamp': '2023-06-06T07:58:08.411570+00:00', 'updated_timestamp': '2023-06-06T07:58:08.411570+00:00', 'atoms': ['embedding'], 'colorable_fields': ['Sample', 'Participant', 'Sample Collection Date', 'Visit Number', 'Hospital', 'Age', 'Diagnosis', 'HBI', 'Sex', 'Race', 'Fecalcal', 'SCCAI', 'fb ratio'], 'embedders': [], 'nearest_neighbor_indices': [{'id': '13452562-ce68-4106-a6d0-84bb788a54af', 'index_name': 'NomicOrganize', 'ready': False, 'hyperparameters': {}, 'atom_strategies': ['embedding']}], 'projections': [{'id': '2dc0d57f-4eb6-47b6-99ec-25934843b920', 'projection_name': 'NomicProject', 'ready': False, 'hyperparameters': {'spread': 1.0, 'n_noise': None, 'min_dist': 0.4, 'n_epochs': 50, 'n_neighbors': 15, 'n_init_epochs': 20}, 'atom_strategies': ['embedding'], 'created_timestamp': '2023-06-06T07:58:08.491829+00:00', 'updated_timestamp': '2023-06-06T07:58:08.491829+00:00'}]}], 'insert_update_delete_lock': True, 'access_role': 'OWNER', 'schema': '/////5gDAAAQAAAAAAAKAA4ABgAFAAgACgAAAAABBAAQAAAAAAAKAAwAAAAEAAgACgAAAGAAAAAEAAAAAQAAAAwAAAAIAAwABAAIAAgAAAAIAAAAFAAAAAoAAABwcm9qZWN0X2lkAAAkAAAAZWY3NDE2NmMtMWMxMC00Nzc3LWFjYTctODMwMWNiOGYwMjk3AAAAAA4AAADYAgAAmAIAAFwCAAAYAgAA6AEAALQBAACEAQAAWAEAADABAAAEAQAA0AAAAKAAAABsAAAABAAAAHD9//8AAAEQFAAAACgAAAAEAAAAAQAAACQAAAALAAAAX2VtYmVkZGluZ3MAAAAGAAgABAAGAAAAgAAAAKz9//8AAAEDEAAAABgAAAAEAAAAAAAAAAQAAABpdGVtAAAAAJz9///U/f//AAABAxAAAAAcAAAABAAAAAAAAAAIAAAAZmIgcmF0aW8AAAAA2v7//wAAAQAE/v//AAABAxAAAAAYAAAABAAAAAAAAAAFAAAAU0NDQUkAAAAG////AAABADD+//8AAAEDEAAAABwAAAAEAAAAAAAAAAgAAABGZWNhbGNhbAAAAAA2////AAABAGD+//8AAAEFEAAAABgAAAAEAAAAAAAAAAQAAABSYWNlAAAAAFD+//+I/v//AAABBRAAAAAUAAAABAAAAAAAAAADAAAAU2V4AHT+//+s/v//AAABAxAAAAAUAAAABAAAAAAAAAADAAAASEJJAKr///8AAAEA1P7//wAAAQUQAAAAHAAAAAQAAAAAAAAACQAAAERpYWdub3NpcwAAAMj+//8A////AAABAxAAAAAcAAAABAAAAAAAAAADAAAAQWdlAAAABgAIAAYABgAAAAAAAQAw////AAABBRAAAAAcAAAABAAAAAAAAAAIAAAASG9zcGl0YWwAAAAAJP///1z///8AAAECEAAAACgAAAAEAAAAAAAAAAwAAABWaXNpdCBOdW1iZXIAAAAACAAMAAgABwAIAAAAAAAAASAAAACc////AAABBRAAAAAoAAAABAAAAAAAAAAWAAAAU2FtcGxlIENvbGxlY3Rpb24gRGF0ZQAAnP///9T///8AAAEFEAAAABwAAAAEAAAAAAAAAAsAAABQYXJ0aWNpcGFudADI////EAAUAAgABgAHAAwAAAAQABAAAAAAAAEFEAAAABwAAAAEAAAAAAAAAAYAAABTYW1wbGUAAAQABAAEAAAAAAAAAA=='}>"
      ]
     },
     "execution_count": 8,
     "metadata": {},
     "output_type": "execute_result"
    }
   ],
   "source": [
    "project"
   ]
  }
 ],
 "metadata": {
  "kernelspec": {
   "display_name": "mixture",
   "language": "python",
   "name": "python3"
  },
  "language_info": {
   "codemirror_mode": {
    "name": "ipython",
    "version": 3
   },
   "file_extension": ".py",
   "mimetype": "text/x-python",
   "name": "python",
   "nbconvert_exporter": "python",
   "pygments_lexer": "ipython3",
   "version": "3.10.6"
  },
  "orig_nbformat": 4
 },
 "nbformat": 4,
 "nbformat_minor": 2
}
