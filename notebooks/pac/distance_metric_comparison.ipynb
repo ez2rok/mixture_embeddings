{
 "cells": [
  {
   "cell_type": "markdown",
   "metadata": {},
   "source": [
    "# Distance metric comparison\n",
    "> Do the pairwise distances between mixture embeddings correlate with things like beta-diversity?"
   ]
  },
  {
   "cell_type": "code",
   "execution_count": 1,
   "metadata": {},
   "outputs": [],
   "source": [
    "%load_ext autoreload\n",
    "%autoreload 2\n",
    "\n",
    "import os\n",
    "import sys\n",
    "\n",
    "import numpy as np\n",
    "import pandas as pd\n",
    "import matplotlib.pyplot as plt\n",
    "\n",
    "# Clustering must allow custom distance metric\n",
    "from scipy.spatial.distance import pdist, squareform\n",
    "from sklearn.metrics import pairwise_distances\n",
    "\n",
    "from skbio import TreeNode\n",
    "from skbio.diversity import beta_diversity\n",
    "from skbio.diversity.beta import unweighted_unifrac, weighted_unifrac\n",
    "\n",
    "from tqdm import tqdm\n",
    "\n",
    "from geomstats.geometry.hyperbolic import Hyperbolic\n",
    "\n",
    "from util import mixture_embedding"
   ]
  },
  {
   "cell_type": "code",
   "execution_count": null,
   "metadata": {},
   "outputs": [
    {
     "name": "stdout",
     "output_type": "stream",
     "text": [
      "k__Bacteria None\n"
     ]
    }
   ],
   "source": [
    "# For UniFrac:\n",
    "# Load tree; iterate through all branches and print length; fix if None\n",
    "tree = TreeNode.read(\n",
    "    \"/home/phil/phylosig/greengenes/data/gg_13_5_otus/trees/97_otus.tree\"\n",
    ")\n",
    "for i in tree.postorder(include_self=False):\n",
    "    if i.length is None:\n",
    "        print(i.name, i.length)\n",
    "        i.length = 0.0"
   ]
  },
  {
   "cell_type": "code",
   "execution_count": null,
   "metadata": {},
   "outputs": [],
   "source": [
    "HEAD=10"
   ]
  },
  {
   "cell_type": "code",
   "execution_count": null,
   "metadata": {},
   "outputs": [
    {
     "name": "stderr",
     "output_type": "stream",
     "text": [
      "100%|██████████| 19/19 [01:14<00:00,  3.90s/it]\n"
     ]
    }
   ],
   "source": [
    "# Head 20 = ~19 minutes for the whole thing\n",
    "# Head 50 = ~2 hours\n",
    "# Running this on the full table takes a long time, approx. 2 hours\n",
    "\n",
    "# OK, that was too slow. Let's do dists separately for each study:\n",
    "def get_dists(dist_function, embed=None, head=10, **kwargs):\n",
    "    dists = []\n",
    "    dir = \"/home/phil/mixture_embeddings/data/interim/mlrepo_clean/classification\"\n",
    "    for subdir in tqdm(os.listdir(dir)):\n",
    "        path = os.path.join(dir, subdir, \"otus.txt\")\n",
    "        if os.path.exists(path):\n",
    "            otu_table = pd.read_table(path, dtype={0: str})\n",
    "            \n",
    "            otu_table = otu_table.set_index(\n",
    "                otu_table.columns[0]\n",
    "            ).astype(float).T\n",
    "\n",
    "            if head is not None:\n",
    "                otu_table = otu_table.head(head)\n",
    "\n",
    "            if dist_function == \"unifrac\":\n",
    "                sample_dists = pdist(\n",
    "                    otu_table, \n",
    "                    metric=unweighted_unifrac, \n",
    "                    otu_ids=otu_table.columns, \n",
    "                    tree=tree.shear(otu_table.columns) # Shearing is faster\n",
    "                )\n",
    "            else:\n",
    "                sample_dists = pdist(otu_table, metric=dist_function, **kwargs)\n",
    "            dists.append(sample_dists)\n",
    "    \n",
    "    # return np.array([x.data.flatten() for x in dists])\n",
    "    return np.concatenate(dists)\n",
    "\n",
    "# unifrac_dists = get_dists(\"unifrac\")\n",
    "unifrac_dists = get_dists(\"unifrac\", head=HEAD)\n",
    "\n",
    "# Takes more than 20 minutes to run on first OTU table...\n",
    "np.save(f\"data/processed/distances/unifrac_dists_top{HEAD}.npy\", unifrac_dists)"
   ]
  },
  {
   "cell_type": "code",
   "execution_count": null,
   "metadata": {},
   "outputs": [
    {
     "name": "stderr",
     "output_type": "stream",
     "text": [
      "100%|██████████| 19/19 [00:01<00:00, 18.22it/s]\n"
     ]
    }
   ],
   "source": [
    "# Beta diversity\n",
    "dists = []\n",
    "dir = \"/home/phil/mixture_embeddings/data/interim/mlrepo_clean/classification\"\n",
    "for subdir in tqdm(os.listdir(dir)):\n",
    "    path = os.path.join(dir, subdir, \"otus.txt\")\n",
    "    if os.path.exists(path):\n",
    "        otu_table = pd.read_table(path, dtype={0: str})\n",
    "        \n",
    "        otu_table = otu_table.set_index(\n",
    "            otu_table.columns[0]\n",
    "        ).astype(float).T\n",
    "\n",
    "        otu_table = otu_table.head(HEAD)\n",
    "\n",
    "        sample_dists = beta_diversity(counts=otu_table, metric=\"braycurtis\")\n",
    "        dists.append(sample_dists)\n",
    "    \n",
    "beta_diversity_dists = np.array([x.data.flatten() for x in dists])\n",
    "\n",
    "np.save(f\"data/processed/distances/beta_diversity_dists_top{HEAD}.npy\", beta_diversity_dists)"
   ]
  },
  {
   "cell_type": "code",
   "execution_count": null,
   "metadata": {},
   "outputs": [],
   "source": [
    "# Get embedding distance matrices\n",
    "euc_embeddings = pd.read_csv(\"/home/phil/DATA/otu_embeddings/embeddings_euclidean_16.csv\", dtype={0: str})\n",
    "euc_embeddings = euc_embeddings.set_index(euc_embeddings.columns[0])\n",
    "\n",
    "hyp_embeddings = pd.read_csv(\"/home/phil/DATA/otu_embeddings/embeddings_hyperbolic_16.csv\", dtype={0: str})\n",
    "hyp_embeddings = hyp_embeddings.set_index(hyp_embeddings.columns[0])\n",
    "\n",
    "hyp_manifold = Hyperbolic(16, default_coords_type=\"ball\")\n",
    "\n",
    "euc_dists = []\n",
    "hyp_dists = []\n",
    "dir = \"/home/phil/mixture_embeddings/data/interim/mlrepo_clean/classification\"\n",
    "for subdir in tqdm(os.listdir(dir)):\n",
    "    path = os.path.join(dir, subdir, \"otus.txt\")\n",
    "    if os.path.exists(path):\n",
    "        otu_table = pd.read_table(path, dtype={0: str})\n",
    "        \n",
    "        otu_table = otu_table.set_index(\n",
    "            otu_table.columns[0]\n",
    "        ).astype(float).T\n",
    "\n",
    "        otu_table = otu_table.head(HEAD)\n",
    "\n",
    "        otu_table_euc = mixture_embedding(\n",
    "            otu_table,\n",
    "            geometry=\"euclidean\",\n",
    "            otu_embeddings=euc_embeddings\n",
    "        )\n",
    "\n",
    "        otu_table_hyp = mixture_embedding(\n",
    "            otu_table,\n",
    "            geometry=\"hyperbolic\",\n",
    "            otu_embeddings=hyp_embeddings\n",
    "        )\n",
    "\n",
    "        euc_dists.append(pdist(sample_dists, metric=\"euclidean\"))\n",
    "        hyp_dists.append(pdist(sample_dists, metric=hyp_manifold._metric.dist))\n",
    "    \n",
    "euc_dists = np.array([x.flatten() for x in euc_dists])\n",
    "hyp_dists = np.array([x.flatten() for x in hyp_dists])\n",
    "\n",
    "np.save(f\"data/processed/distances/euc_dists_top{HEAD}.npy\", euc_dists)\n",
    "np.save(f\"data/processed/distances/euc_dists_top{HEAD}.npy\", hyp_dists)"
   ]
  },
  {
   "cell_type": "markdown",
   "metadata": {},
   "source": []
  }
 ],
 "metadata": {
  "kernelspec": {
   "display_name": "base",
   "language": "python",
   "name": "python3"
  },
  "language_info": {
   "codemirror_mode": {
    "name": "ipython",
    "version": 3
   },
   "file_extension": ".py",
   "mimetype": "text/x-python",
   "name": "python",
   "nbconvert_exporter": "python",
   "pygments_lexer": "ipython3",
   "version": "3.9.5"
  },
  "orig_nbformat": 4,
  "vscode": {
   "interpreter": {
    "hash": "e4dc294415b14ea4c0d4d07894c031d87e01c25f832e475b95612eada6e667d4"
   }
  }
 },
 "nbformat": 4,
 "nbformat_minor": 2
}
