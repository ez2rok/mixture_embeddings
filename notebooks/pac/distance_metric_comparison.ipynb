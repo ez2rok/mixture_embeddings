{
 "cells": [
  {
   "attachments": {},
   "cell_type": "markdown",
   "metadata": {},
   "source": [
    "# Distance metric comparison\n",
    "> Do the pairwise distances between mixture embeddings correlate with things like beta-diversity?"
   ]
  },
  {
   "cell_type": "code",
   "execution_count": 23,
   "metadata": {},
   "outputs": [
    {
     "name": "stdout",
     "output_type": "stream",
     "text": [
      "The autoreload extension is already loaded. To reload it, use:\n",
      "  %reload_ext autoreload\n"
     ]
    }
   ],
   "source": [
    "%load_ext autoreload\n",
    "%autoreload 2\n",
    "\n",
    "import os\n",
    "import sys\n",
    "\n",
    "import numpy as np\n",
    "import pandas as pd\n",
    "import matplotlib.pyplot as plt\n",
    "\n",
    "import anndata\n",
    "\n",
    "# Clustering must allow custom distance metric\n",
    "import scipy\n",
    "from scipy.spatial.distance import pdist, squareform\n",
    "from sklearn.metrics import pairwise_distances\n",
    "\n",
    "from skbio import TreeNode\n",
    "from skbio.diversity import beta_diversity\n",
    "from skbio.diversity.beta import unweighted_unifrac, weighted_unifrac\n",
    "\n",
    "from tqdm.notebook import tqdm\n",
    "\n",
    "from geomstats.geometry.hyperbolic import Hyperbolic\n",
    "\n",
    "from joblib import Parallel, delayed\n",
    "\n",
    "# from util import mixture_embedding"
   ]
  },
  {
   "cell_type": "code",
   "execution_count": 24,
   "metadata": {},
   "outputs": [],
   "source": [
    "N_SAMPLES = 100\n"
   ]
  },
  {
   "cell_type": "code",
   "execution_count": 25,
   "metadata": {},
   "outputs": [
    {
     "data": {
      "text/plain": [
       "AnnData object with n_obs × n_vars = 100 × 4989\n",
       "    obs: 'acid_reflux', 'acne_medication', 'acne_medication_otc', 'add_adhd', 'age_cat', 'age_years', 'alcohol_consumption', 'alcohol_frequency', 'alcohol_types_beercider', 'alcohol_types_red_wine', 'alcohol_types_sour_beers', 'alcohol_types_spiritshard_alcohol', 'alcohol_types_unspecified', 'alcohol_types_white_wine', 'allergic_to_i_have_no_food_allergies_that_i_know_of', 'allergic_to_peanuts', 'allergic_to_shellfish', 'allergic_to_tree_nuts', 'allergic_to_unspecified', 'alzheimers', 'animal_age', 'animal_free_text', 'animal_gender', 'animal_origin', 'animal_type', 'animal_type_free_text', 'anonymized_name', 'antibiotic_history', 'appendix_removed', 'artificial_gi_disorder_types_constipation', 'artificial_gi_disorder_types_diarrhea', 'artificial_gi_disorder_types_soft_stools', 'artificial_gi_disorder_types_stomachache', 'artificial_gi_disorder_types_unspecified', 'artificial_gi_disorders', 'artificial_sweeteners', 'artificial_sweeteners_food', 'asd', 'atypical_sleep_time', 'autoimmune', 'beet_frequency', 'birth_year', 'bmi', 'bmi_cat', 'body_product', 'body_site', 'bowel_movement_frequency', 'bowel_movement_quality', 'breastmilk_formula_ensure', 'cancer', 'cancer_treatment', 'cardiovascular_disease', 'cat', 'cdiff', 'census_region', 'chickenpox', 'clinical_condition', 'collection_timestamp', 'consume_animal_products_abx', 'contraceptive', 'coprophage', 'cosmetics_frequency', 'country', 'country_of_birth', 'country_residence', 'covid_anxious', 'covid_chronic_conditions_any_autoimmune_disease', 'covid_chronic_conditions_arthritis', 'covid_chronic_conditions_asthma_or_other_lung_problems', 'covid_chronic_conditions_atrial_fibrillation_or_atrial_flutter', 'covid_chronic_conditions_cancer', 'covid_chronic_conditions_chronic_obstructive_pulmonary_disease_copd', 'covid_chronic_conditions_congestive_heart_failure', 'covid_chronic_conditions_deep_vein_thrombosis', 'covid_chronic_conditions_diabetes_or_high_blood_sugar', 'covid_chronic_conditions_epilepsy_or_seizures', 'covid_chronic_conditions_frequent_or_very_bad_headaches', 'covid_chronic_conditions_heart_disease__myocardial_infarction', 'covid_chronic_conditions_heart_problems', 'covid_chronic_conditions_hiv', 'covid_chronic_conditions_hypertension', 'covid_chronic_conditions_immune_disorder', 'covid_chronic_conditions_kidney_problems', 'covid_chronic_conditions_pulmonary_embolism', 'covid_chronic_conditions_seasonal_allergies', 'covid_chronic_conditions_serious_acne_or_skin_problems', 'covid_chronic_conditions_serious_stomach_or_bowel_problems', 'covid_chronic_conditions_stroke', 'covid_chronic_conditions_unspecified', 'covid_depressed', 'covid_difficulty_falling_asleep', 'covid_difficulty_staying_asleep', 'covid_family_members_fallen_ill_physically', 'covid_family_members_hospitalized', 'covid_family_members_lost_job', 'covid_family_members_none_of_the_above', 'covid_family_members_passed_away', 'covid_family_members_put_into_self_quarantine_with_symptoms', 'covid_family_members_put_into_self_quarantine_without_symptoms_eg_due_to_possible_exposure', 'covid_family_members_reduced_ability_to_earn_money', 'covid_family_members_unspecified', 'covid_happened_to_you_fallen_ill_physically', 'covid_happened_to_you_hospitalized', 'covid_happened_to_you_lost_job', 'covid_happened_to_you_none_of_the_above', 'covid_happened_to_you_put_into_self_quarantine_with_symptoms', 'covid_happened_to_you_put_into_self_quarantine_without_symptoms_eg_due_to_possible_exposure', 'covid_happened_to_you_reduced_ability_to_earn_money', 'covid_happened_to_you_unspecified', 'covid_interest_pleasure', 'covid_left_home', 'covid_level_of_wellbeing', 'covid_likely_exposure_no', 'covid_likely_exposure_unspecified', 'covid_likely_exposure_yes_someone_with_medical_diagnosis_but_no_test', 'covid_likely_exposure_yes_someone_with_positive_test', 'covid_likely_exposure_yes_someone_with_possible_symptoms_but_no_diagnosis_by_doctor', 'covid_occupation', 'covid_patient_care', 'covid_patient_care_ppe', 'covid_patient_care_seven_days', 'covid_patient_care_seven_days_confirmed', 'covid_quality_of_life', 'covid_rideshare', 'covid_sleep_interference', 'covid_sleep_pattern', 'covid_suspected_positive', 'covid_suspected_positive_date', 'covid_symptoms_chest_pain_or_tightness_in_chest', 'covid_symptoms_cough', 'covid_symptoms_diarrhea', 'covid_symptoms_fatigue', 'covid_symptoms_fever', 'covid_symptoms_lack_of_appetitie', 'covid_symptoms_loss_of_taste_or_smell', 'covid_symptoms_nausea', 'covid_symptoms_other', 'covid_symptoms_shortness_of_breath', 'covid_symptoms_sore_throat', 'covid_symptoms_stay_home', 'covid_symptoms_unspecified', 'covid_waking_up_early', 'covid_worried_sleep', 'covid_worrying', 'csection', 'dark_mode_on', 'deodorant_use', 'depression_bipolar_schizophrenia', 'description', 'diabetes', 'diabetes_type', 'diet', 'diet_type', 'dna_extracted', 'dog', 'dominant_hand', 'drinking_water_source', 'drinks_per_session', 'economic_region', 'elevation', 'empo_1', 'empo_2', 'empo_3', 'env_biome', 'env_feature', 'env_material', 'env_package', 'epilepsy_or_seizure_disorder', 'exercise_frequency', 'exercise_location', 'fed_as_infant', 'fermented_consumed', 'fermented_consumed_beer', 'fermented_consumed_chicha', 'fermented_consumed_cider', 'fermented_consumed_cottage_cheese', 'fermented_consumed_fermented_beansmisonatto', 'fermented_consumed_fermented_breadsourdoughinjera', 'fermented_consumed_fermented_fish', 'fermented_consumed_fermented_tofu', 'fermented_consumed_fish_sauce', 'fermented_consumed_kefir_milk', 'fermented_consumed_kefir_water', 'fermented_consumed_kimchi', 'fermented_consumed_kombucha', 'fermented_consumed_mead', 'fermented_consumed_other', 'fermented_consumed_other_1', 'fermented_consumed_pickled_vegetables', 'fermented_consumed_sauerkraut', 'fermented_consumed_sour_creamcreme_fraiche', 'fermented_consumed_tempeh', 'fermented_consumed_unspecified', 'fermented_consumed_wine', 'fermented_consumed_yogurtlassi', 'fermented_frequency', 'fermented_increased', 'fermented_other', 'fermented_plant_frequency', 'fermented_produce_commercial', 'fermented_produce_commercial_beer', 'fermented_produce_commercial_chicha', 'fermented_produce_commercial_cider', 'fermented_produce_commercial_cottage_cheese', 'fermented_produce_commercial_fermented_beansmisonatto', 'fermented_produce_commercial_fermented_breadsourdoughinjera', 'fermented_produce_commercial_fermented_fish', 'fermented_produce_commercial_fermented_tofu', 'fermented_produce_commercial_fish_sauce', 'fermented_produce_commercial_kefir_milk', 'fermented_produce_commercial_kefir_water', 'fermented_produce_commercial_kimchi', 'fermented_produce_commercial_kombucha', 'fermented_produce_commercial_mead', 'fermented_produce_commercial_other', 'fermented_produce_commercial_other_1', 'fermented_produce_commercial_pickled_vegetables', 'fermented_produce_commercial_sauerkraut', 'fermented_produce_commercial_sour_creamcreme_fraiche', 'fermented_produce_commercial_tempeh', 'fermented_produce_commercial_unspecified', 'fermented_produce_commercial_wine', 'fermented_produce_commercial_yogurtlassi', 'fermented_produce_personal', 'fermented_produce_personal_beer', 'fermented_produce_personal_chicha', 'fermented_produce_personal_cider', 'fermented_produce_personal_cottage_cheese', 'fermented_produce_personal_fermented_beansmisonatto', 'fermented_produce_personal_fermented_breadsourdoughinjera', 'fermented_produce_personal_fermented_fish', 'fermented_produce_personal_fermented_tofu', 'fermented_produce_personal_fish_sauce', 'fermented_produce_personal_kefir_milk', 'fermented_produce_personal_kefir_water', 'fermented_produce_personal_kimchi', 'fermented_produce_personal_kombucha', 'fermented_produce_personal_mead', 'fermented_produce_personal_other', 'fermented_produce_personal_other_1', 'fermented_produce_personal_pickled_vegetables', 'fermented_produce_personal_sauerkraut', 'fermented_produce_personal_sour_creamcreme_fraiche', 'fermented_produce_personal_tempeh', 'fermented_produce_personal_unspecified', 'fermented_produce_personal_wine', 'fermented_produce_personal_yogurtlassi', 'flossing_frequency', 'flu_vaccine_date', 'food_source', 'food_source_human_food', 'food_source_pet_store_food', 'food_source_unspecified', 'food_source_wild_food', 'food_special', 'food_special_grain_free', 'food_special_organic', 'food_special_unspecified', 'food_type', 'frozen_dessert_frequency', 'fruit_frequency', 'fungal_overgrowth', 'geo_loc_name', 'gluten', 'height_cm', 'height_units', 'high_fat_red_meat_frequency', 'homecooked_meals_frequency', 'host_age', 'host_age_normalized_years', 'host_age_units', 'host_body_habitat', 'host_body_mass_index', 'host_body_product', 'host_body_site', 'host_common_name', 'host_height', 'host_height_units', 'host_scientific_name', 'host_subject_id', 'host_taxid', 'host_weight', 'host_weight_units', 'hours_outside', 'humans_free_text', 'ibd', 'ibd_diagnosis', 'ibd_diagnosis_refined', 'ibs', 'keep_sample_for_thdmi', 'kidney_disease', 'lactose', 'last_move', 'last_travel', 'latitude', 'level_of_education', 'lifestage', 'liver_disease', 'living_status', 'livingwith', 'longitude', 'lowgrain_diet_type', 'lung_disease', 'meat_eggs_frequency', 'mental_illness', 'mental_illness_type_anorexia_nervosa', 'mental_illness_type_bipolar_disorder', 'mental_illness_type_bulimia_nervosa', 'mental_illness_type_depression', 'mental_illness_type_ptsd_post_traumatic_stress_disorder', 'mental_illness_type_schizophrenia', 'mental_illness_type_substance_abuse', 'mental_illness_type_unspecified', 'migraine', 'milk_cheese_frequency', 'milk_substitute_frequency', 'multivitamin', 'nail_biter', 'name', 'non_food_allergies_beestings', 'non_food_allergies_drug_eg_penicillin', 'non_food_allergies_pet_dander', 'non_food_allergies_poison_ivyoak', 'non_food_allergies_sun', 'non_food_allergies_unspecified', 'oils_frequency_oxalate', 'oils_frequency_soy', 'olive_oil', 'one_liter_of_water_a_day_frequency', 'other_animals_free_text', 'other_supplement_frequency', 'pets_other', 'physical_specimen_location', 'physical_specimen_remaining', 'pku', 'plant_protein_frequency', 'pm_age', 'pm_concern', 'pm_education', 'pm_email', 'pm_ethnicity', 'pm_experience_worth_it', 'pm_gastro_problems', 'pm_gastro_problems_crohns_disease_or_ulcerative_colitis', 'pm_gastro_problems_frequent_more_than_once_a_week_constipation', 'pm_gastro_problems_frequent_more_than_once_a_week_diarrhea', 'pm_gastro_problems_gastrointestinal_cancer', 'pm_gastro_problems_i_have_had_surgery_on_my_intestines', 'pm_gastro_problems_irritable_bowel_syndrome_ibs', 'pm_gastro_problems_other', 'pm_gastro_problems_unspecified', 'pm_gender', 'pm_health', 'pm_lifestyle_change', 'pm_lifestyle_change_how', 'pm_lifestyle_change_how_change_in_alcohol_or_tobacco_use_ie_starting_stopping_or_changing_amount_consumed', 'pm_lifestyle_change_how_change_in_diet_ie_taking_a_probiotic', 'pm_lifestyle_change_how_change_in_exercise', 'pm_lifestyle_change_how_change_in_physical_environment_ie_adopting_or_getting_rid_of_a_pet_cleaning_more_or_less_often', 'pm_lifestyle_change_how_change_in_use_of_nutritional_supplements_or_vitamins', 'pm_lifestyle_change_how_other', 'pm_lifestyle_change_how_unspecified', 'pm_name', 'pm_participation_reason', 'pm_participation_reason_desire_to_improve_my_health', 'pm_participation_reason_general_curiosityinterest_in_learning_about_my_microbiome', 'pm_participation_reason_i_have_gastrointestinal_problems', 'pm_participation_reason_i_have_other_microbiomerelevant_health_problems', 'pm_participation_reason_interest_in_contributing_to_science', 'pm_participation_reason_other', 'pm_participation_reason_people_in_my_family_or_social_network_have_done_it', 'pm_participation_reason_professional_interest_in_the_microbiome', 'pm_participation_reason_the_study_seemed_fun_and_entertaining', 'pm_participation_reason_unspecified', 'pm_recontact', 'pm_shared', 'pm_shared_pcp', 'pm_shared_pcp_changes', 'pm_shared_pcp_changes_what', 'pm_shared_pcp_changes_what_change_in_behaviorallifestyle_recommendations_eg_start_probiotic', 'pm_shared_pcp_changes_what_change_in_medication_ie_starting_stopping_or_changing_the_dose_of_a_prescription', 'pm_shared_pcp_changes_what_ordered_additional_labs_tests_or_procedures', 'pm_shared_pcp_changes_what_other', 'pm_shared_pcp_changes_what_referral_to_a_specialist_eg_gastroenterologist', 'pm_shared_pcp_changes_what_unspecified', 'pm_shared_who', 'pm_shared_who_colleagues', 'pm_shared_who_family_members', 'pm_shared_who_friends', 'pm_shared_who_nutritionistdietician', 'pm_shared_who_other', 'pm_shared_who_other_medical_or_health_professional', 'pm_shared_who_posteddiscussed_on_an_online_patienthealth_platform_ie_patientslikeme', 'pm_shared_who_posteddiscussed_on_data_sharing_platform_ie_open_humans', 'pm_shared_who_posteddiscussed_on_social_networking_site_ie_facebook', 'pm_shared_who_primary_care_physician', 'pm_shared_who_specialty_physician_eg_gastroenterologist', 'pm_shared_who_unspecified', 'pm_understand_results', 'pm_useful', 'pool_frequency', 'poultry_frequency', 'pregnant', 'prepared_meals_frequency', 'probiotic_frequency', 'public', 'qiita_study_id', 'race', 'ready_to_eat_meals_frequency', 'red_meat_frequency', 'roommates', 'roommates_in_study', 'salted_snacks_frequency', 'sample_type', 'scientific_name', 'seafood_frequency', 'seasonal_allergies', 'setting', 'sex', 'sibo', 'skin_condition', 'sleep_duration', 'sleep_quality', 'smoking_frequency', 'softener', 'specialized_diet_exclude_dairy', 'specialized_diet_exclude_nightshades', 'specialized_diet_exclude_refined_sugars', 'specialized_diet_fodmap', 'specialized_diet_halaal', 'specialized_diet_i_do_not_eat_a_specialized_diet', 'specialized_diet_kosher', 'specialized_diet_modified_paleo_diet', 'specialized_diet_other_restrictions_not_described_here', 'specialized_diet_paleo_diet_or_primal_diet', 'specialized_diet_raw_food_diet', 'specialized_diet_unspecified', 'specialized_diet_weston_price_or_other_low_grain_low_processed_food_diet', 'state', 'subset_age', 'subset_antibiotic_history', 'subset_bmi', 'subset_diabetes', 'subset_healthy', 'subset_ibd', 'sugar_sweetened_drink_frequency', 'sugary_sweets_frequency', 'surf_board_type', 'surf_frequency', 'surf_loal_break_frequency', 'surf_local_break', 'surf_shower_frequency', 'surf_stance', 'surf_sunscreen', 'surf_sunscreen_frequency', 'surf_travel_distance', 'surf_travel_frequency', 'surf_wax', 'surf_weetsuit', 'taxon_id', 'teethbrushing_frequency', 'thdmi_cohort', 'thyroid', 'title', 'toilet_water_access', 'tonsils_removed', 'types_of_plants', 'vegetable_frequency', 'vioscreen_a_bev', 'vioscreen_a_cal', 'vioscreen_acesupot', 'vioscreen_activity_level', 'vioscreen_add_sug', 'vioscreen_addsugar', 'vioscreen_adsugtot', 'vioscreen_age', 'vioscreen_alanine', 'vioscreen_alcohol', 'vioscreen_alcohol_servings', 'vioscreen_alphacar', 'vioscreen_alphtoce', 'vioscreen_alphtoco', 'vioscreen_arginine', 'vioscreen_ash', 'vioscreen_aspartam', 'vioscreen_aspartic', 'vioscreen_avcarb', 'vioscreen_bcodeid', 'vioscreen_betacar', 'vioscreen_betacryp', 'vioscreen_betaine', 'vioscreen_betatoco', 'vioscreen_biochana', 'vioscreen_bmi', 'vioscreen_caffeine', 'vioscreen_calcium', 'vioscreen_calcium_avg', 'vioscreen_calcium_dose', 'vioscreen_calcium_freq', 'vioscreen_calcium_from_dairy_servings', 'vioscreen_calcium_servings', 'vioscreen_calories', 'vioscreen_carbo', 'vioscreen_cholest', 'vioscreen_choline', 'vioscreen_clac9t11', 'vioscreen_clat10c12', 'vioscreen_copper', 'vioscreen_coumest', 'vioscreen_cystine', 'vioscreen_d_cheese', 'vioscreen_d_milk', 'vioscreen_d_tot_soym', 'vioscreen_d_total', 'vioscreen_d_yogurt', 'vioscreen_daidzein', 'vioscreen_database', 'vioscreen_delttoco', 'vioscreen_discfat_oil', 'vioscreen_discfat_sol', 'vioscreen_dob', 'vioscreen_eer', 'vioscreen_email', 'vioscreen_erythr', 'vioscreen_f_citmlb', 'vioscreen_f_nj_citmlb', 'vioscreen_f_nj_other', 'vioscreen_f_nj_total', 'vioscreen_f_other', 'vioscreen_f_total', 'vioscreen_fat', 'vioscreen_fiber', 'vioscreen_fibh2o', 'vioscreen_fibinso', 'vioscreen_finished', 'vioscreen_fish_servings', 'vioscreen_fol_deqv', 'vioscreen_fol_nat', 'vioscreen_fol_syn', 'vioscreen_formontn', 'vioscreen_fried_fish_servings', 'vioscreen_fried_food_servings', 'vioscreen_frt5_day', 'vioscreen_frtsumm', 'vioscreen_fructose', 'vioscreen_fruit_servings', 'vioscreen_g_nwhl', 'vioscreen_g_total', 'vioscreen_g_whl', 'vioscreen_galactos', 'vioscreen_gammtoco', 'vioscreen_gender', 'vioscreen_genistn', 'vioscreen_glac', 'vioscreen_gltc', 'vioscreen_glucose', 'vioscreen_glutamic', 'vioscreen_glycine', 'vioscreen_glycitn', 'vioscreen_grams', 'vioscreen_hei2010_dairy', 'vioscreen_hei2010_empty_calories', 'vioscreen_hei2010_fatty_acids', 'vioscreen_hei2010_fruit', 'vioscreen_hei2010_greens_beans', 'vioscreen_hei2010_protien_foods', 'vioscreen_hei2010_refined_grains', 'vioscreen_hei2010_score', 'vioscreen_hei2010_sea_foods_plant_protiens', 'vioscreen_hei2010_sodium', 'vioscreen_hei2010_veg', 'vioscreen_hei2010_whole_fruit', 'vioscreen_hei2010_whole_grains', 'vioscreen_hei_drk_g_org_veg_leg', 'vioscreen_hei_fruit', 'vioscreen_hei_grains', 'vioscreen_hei_meat_beans', 'vioscreen_hei_milk', 'vioscreen_hei_non_juice_frt', 'vioscreen_hei_oils', 'vioscreen_hei_sat_fat', 'vioscreen_hei_score', 'vioscreen_hei_sodium', 'vioscreen_hei_sol_fat_alc_add_sug', 'vioscreen_hei_veg', 'vioscreen_hei_whl_grains', 'vioscreen_height', 'vioscreen_histidin', 'vioscreen_inositol', 'vioscreen_iron', 'vioscreen_isoleuc', 'vioscreen_isomalt', 'vioscreen_joules', 'vioscreen_juice_servings', 'vioscreen_lactitol', 'vioscreen_lactose', 'vioscreen_legumes', 'vioscreen_leucine', 'vioscreen_line_gi', 'vioscreen_low_fat_dairy_serving', 'vioscreen_lutzeax', 'vioscreen_lycopene', 'vioscreen_lysine', 'vioscreen_m_egg', 'vioscreen_m_fish_hi', 'vioscreen_m_fish_lo', 'vioscreen_m_frank', 'vioscreen_m_meat', 'vioscreen_m_mpf', 'vioscreen_m_nutsd', 'vioscreen_m_organ', 'vioscreen_m_poult', 'vioscreen_m_soy', 'vioscreen_magnes', 'vioscreen_maltitol', 'vioscreen_maltose', 'vioscreen_mangan', 'vioscreen_mannitol', 'vioscreen_methhis3', 'vioscreen_methion', 'vioscreen_mfa141', 'vioscreen_mfa161', 'vioscreen_mfa181', 'vioscreen_mfa201', 'vioscreen_mfa221', 'vioscreen_mfatot', 'vioscreen_multi_calcium_avg', 'vioscreen_multi_calcium_dose', 'vioscreen_multivitamin', 'vioscreen_multivitamin_freq', 'vioscreen_natoco', 'vioscreen_nccglbr', 'vioscreen_nccglgr', 'vioscreen_niacin', 'vioscreen_niacineq', 'vioscreen_nitrogen', 'vioscreen_non_fried_fish_servings', 'vioscreen_nutrient_recommendation', 'vioscreen_omega3', 'vioscreen_oxalic', 'vioscreen_oxalicm', 'vioscreen_pantothe', 'vioscreen_pectins', 'vioscreen_pfa182', 'vioscreen_pfa183', 'vioscreen_pfa184', 'vioscreen_pfa204', 'vioscreen_pfa205', 'vioscreen_pfa225', 'vioscreen_pfa226', 'vioscreen_pfatot', 'vioscreen_phenylal', 'vioscreen_phosphor', 'vioscreen_phytic', 'vioscreen_pinitol', 'vioscreen_potass', 'vioscreen_procdate', 'vioscreen_proline', 'vioscreen_protanim', 'vioscreen_protein', 'vioscreen_protocol', 'vioscreen_protveg', 'vioscreen_questionnaire', 'vioscreen_recno', 'vioscreen_retinol', 'vioscreen_rgrain', 'vioscreen_ribofla', 'vioscreen_sacchar', 'vioscreen_salad_vegetable_servings', 'vioscreen_satoco', 'vioscreen_scf', 'vioscreen_scfv', 'vioscreen_selenium', 'vioscreen_serine', 'vioscreen_sfa100', 'vioscreen_sfa120', 'vioscreen_sfa140', 'vioscreen_sfa160', 'vioscreen_sfa170', 'vioscreen_sfa180', 'vioscreen_sfa200', 'vioscreen_sfa220', 'vioscreen_sfa40', 'vioscreen_sfa60', 'vioscreen_sfa80', 'vioscreen_sfatot', 'vioscreen_sodium', 'vioscreen_sorbitol', 'vioscreen_srvid', 'vioscreen_starch', 'vioscreen_started', 'vioscreen_subject_id', 'vioscreen_sucpoly', 'vioscreen_sucrlose', 'vioscreen_sucrose', 'vioscreen_sweet_servings', 'vioscreen_tagatose', 'vioscreen_tfa161t', 'vioscreen_tfa181t', 'vioscreen_tfa182t', 'vioscreen_tgrain', 'vioscreen_thiamin', 'vioscreen_threonin', 'vioscreen_time', 'vioscreen_totaltfa', 'vioscreen_totcla', 'vioscreen_totfolat', 'vioscreen_totsugar', 'vioscreen_tryptoph', 'vioscreen_tyrosine', 'vioscreen_user_id', 'vioscreen_v_drkgr', 'vioscreen_v_orange', 'vioscreen_v_other', 'vioscreen_v_potato', 'vioscreen_v_starcy', 'vioscreen_v_tomato', 'vioscreen_v_total', 'vioscreen_valine', 'vioscreen_veg5_day', 'vioscreen_vegetable_servings', 'vioscreen_vegsumm', 'vioscreen_visit', 'vioscreen_vita_iu', 'vioscreen_vita_rae', 'vioscreen_vita_re', 'vioscreen_vitb12', 'vioscreen_vitb6', 'vioscreen_vitc', 'vioscreen_vitd', 'vioscreen_vitd2', 'vioscreen_vitd3', 'vioscreen_vitd_iu', 'vioscreen_vite_iu', 'vioscreen_vitk', 'vioscreen_water', 'vioscreen_weight', 'vioscreen_wgrain', 'vioscreen_whole_grain_servings', 'vioscreen_xylitol', 'vioscreen_zinc', 'vitamin_b_supplement_frequency', 'vitamin_d_supplement_frequency', 'vivid_dreams', 'weekday_sleep_time', 'weekday_wake_time', 'weekend_sleep_time', 'weekend_wake_time', 'weight_cat', 'weight_change', 'weight_kg', 'weight_units', 'whole_eggs', 'whole_grain_frequency', 'counts'\n",
       "    var: 'taxonomy_0', 'taxonomy_1', 'taxonomy_2', 'taxonomy_3', 'taxonomy_4', 'taxonomy_5', 'taxonomy_6'\n",
       "    obsm: 'euc_mix_128', 'euc_mix_16', 'euc_mix_2', 'euc_mix_32', 'euc_mix_4', 'euc_mix_64', 'euc_mix_8', 'hyp_mix_128', 'hyp_mix_16', 'hyp_mix_2', 'hyp_mix_32', 'hyp_mix_4', 'hyp_mix_64', 'hyp_mix_8', 'pca_128', 'pca_16', 'pca_2', 'pca_32', 'pca_4', 'pca_64', 'pca_8', 'poi_mix_128', 'poi_mix_16', 'poi_mix_2', 'poi_mix_32', 'poi_mix_4', 'poi_mix_64', 'poi_mix_8'"
      ]
     },
     "execution_count": 25,
     "metadata": {},
     "output_type": "execute_result"
    }
   ],
   "source": [
    "# Load data\n",
    "adata = anndata.read_h5ad(\n",
    "    # \"/home/phil/americangut/data/americangut_embeddings.h5ad\"\n",
    "    \"/home/phil/americangut/data/big_table_with_embeddings.h5ad\"\n",
    ")\n",
    "adata\n",
    "\n",
    "# Add counts to big_table\n",
    "if \"counts\" not in adata.obs.columns:\n",
    "    adata_raw = anndata.read_h5ad(\n",
    "        \"/home/phil/americangut/data/americangut_raw.h5ad\"\n",
    "    )\n",
    "    counts = adata_raw.X.sum(axis=1).astype(int)\n",
    "    adata.obs[\"counts\"] = counts\n",
    "\n",
    "# Downsample to some number of samples to make things tractable:\n",
    "np.random.seed(42)\n",
    "sample_idx = np.random.choice(\n",
    "    np.arange(adata.shape[0]), size=N_SAMPLES, replace=False\n",
    ")\n",
    "adata = adata[sample_idx, :].copy()\n",
    "adata\n",
    "\n",
    "# Drop OTUs that are all zeros\n",
    "adata = adata[:, adata.X.sum(axis=0) > 0].copy()\n",
    "adata\n"
   ]
  },
  {
   "cell_type": "code",
   "execution_count": 26,
   "metadata": {},
   "outputs": [],
   "source": [
    "def tqdm_pairwise_distances(X, dist_function, **kwargs):\n",
    "    \"\"\"A wrapper for applying any distance function\"\"\"\n",
    "    # Initialize progress bar\n",
    "    n = X.shape[0]\n",
    "    pbar = tqdm(total=int(n * (n + 1) / 2))  # compute upper triangle\n",
    "\n",
    "    # Custom distance function\n",
    "    def custom_distance(x, y):\n",
    "        result = dist_function(x, y, **kwargs)\n",
    "        pbar.update()\n",
    "        return result\n",
    "\n",
    "    # Compute pairwise distances with custom function\n",
    "    dist_matrix = pairwise_distances(X, None, custom_distance)\n",
    "\n",
    "    pbar.close()\n",
    "    return dist_matrix\n"
   ]
  },
  {
   "cell_type": "code",
   "execution_count": 27,
   "metadata": {},
   "outputs": [],
   "source": [
    "# For UniFrac:\n",
    "# Load tree; iterate through all branches and print length; fix if None\n",
    "tree = TreeNode.read(\n",
    "    \"/home/phil/DATA/greengenes/data/gg_13_5_otus_99_annotated.tree\"\n",
    ")\n",
    "for i in tree.postorder(include_self=False):\n",
    "    if i.length is None:\n",
    "        print(i.name, i.length)\n",
    "        i.length = 0.0\n",
    "\n",
    "# Prune tree\n",
    "tree = tree.shear(adata.var.index.values.tolist())\n"
   ]
  },
  {
   "cell_type": "code",
   "execution_count": 28,
   "metadata": {},
   "outputs": [
    {
     "data": {
      "application/vnd.jupyter.widget-view+json": {
       "model_id": "c5368614b8234ad783fd7a53e1895133",
       "version_major": 2,
       "version_minor": 0
      },
      "text/plain": [
       "  0%|          | 0/5050 [00:00<?, ?it/s]"
      ]
     },
     "metadata": {},
     "output_type": "display_data"
    },
    {
     "data": {
      "application/vnd.jupyter.widget-view+json": {
       "model_id": "7a1380955abe4a75906559d11f4761d4",
       "version_major": 2,
       "version_minor": 0
      },
      "text/plain": [
       "  0%|          | 0/5050 [00:00<?, ?it/s]"
      ]
     },
     "metadata": {},
     "output_type": "display_data"
    }
   ],
   "source": [
    "# UniFrac, both kinds:\n",
    "\n",
    "counts_matrix = (\n",
    "    adata.X.toarray() * adata.obs[\"counts\"].values[:, None]\n",
    ").astype(int)\n",
    "\n",
    "adata.obsp[\"unweighted_unifrac\"] = tqdm_pairwise_distances(\n",
    "    counts_matrix, unweighted_unifrac, tree=tree, otu_ids=adata.var_names\n",
    ")\n",
    "\n",
    "adata.obsp[\"weighted_unifrac\"] = tqdm_pairwise_distances(\n",
    "    counts_matrix, weighted_unifrac, tree=tree, otu_ids=adata.var_names\n",
    ")\n"
   ]
  },
  {
   "cell_type": "code",
   "execution_count": 7,
   "metadata": {},
   "outputs": [
    {
     "data": {
      "application/vnd.jupyter.widget-view+json": {
       "model_id": "f9641a362ee4492991458c8e6587b4ce",
       "version_major": 2,
       "version_minor": 0
      },
      "text/plain": [
       "  0%|          | 0/5000 [00:00<?, ?it/s]"
      ]
     },
     "metadata": {},
     "output_type": "display_data"
    },
    {
     "data": {
      "application/vnd.jupyter.widget-view+json": {
       "model_id": "e491e26264984c36881953b47ca38827",
       "version_major": 2,
       "version_minor": 0
      },
      "text/plain": [
       "  0%|          | 0/5000 [00:00<?, ?it/s]"
      ]
     },
     "metadata": {},
     "output_type": "display_data"
    },
    {
     "data": {
      "application/vnd.jupyter.widget-view+json": {
       "model_id": "1d17910b85b446a59df9826ea54191fc",
       "version_major": 2,
       "version_minor": 0
      },
      "text/plain": [
       "  0%|          | 0/5000 [00:00<?, ?it/s]"
      ]
     },
     "metadata": {},
     "output_type": "display_data"
    }
   ],
   "source": [
    "# Various Beta diversities\n",
    "\n",
    "adata.obsp[\"bray_curtis\"] = tqdm_pairwise_distances(\n",
    "    adata.X.toarray(), scipy.spatial.distance.braycurtis\n",
    ")\n",
    "\n",
    "adata.obsp[\"jaccard\"] = tqdm_pairwise_distances(\n",
    "    adata.X.toarray(), scipy.spatial.distance.jaccard\n",
    ")\n",
    "\n",
    "adata.obsp[\"euclidean\"] = tqdm_pairwise_distances(\n",
    "    adata.X.toarray(), scipy.spatial.distance.euclidean\n",
    ")\n"
   ]
  },
  {
   "cell_type": "code",
   "execution_count": 8,
   "metadata": {},
   "outputs": [
    {
     "data": {
      "application/vnd.jupyter.widget-view+json": {
       "model_id": "3706895a02fa412c98c64070b20f4324",
       "version_major": 2,
       "version_minor": 0
      },
      "text/plain": [
       "  0%|          | 0/5000 [00:00<?, ?it/s]"
      ]
     },
     "metadata": {},
     "output_type": "display_data"
    },
    {
     "data": {
      "application/vnd.jupyter.widget-view+json": {
       "model_id": "bebfc9f45a554108b5d0248b17037fe8",
       "version_major": 2,
       "version_minor": 0
      },
      "text/plain": [
       "  0%|          | 0/5000 [00:00<?, ?it/s]"
      ]
     },
     "metadata": {},
     "output_type": "display_data"
    },
    {
     "data": {
      "application/vnd.jupyter.widget-view+json": {
       "model_id": "d928e798dee74207b0b2e55eef2a6c0b",
       "version_major": 2,
       "version_minor": 0
      },
      "text/plain": [
       "  0%|          | 0/5000 [00:00<?, ?it/s]"
      ]
     },
     "metadata": {},
     "output_type": "display_data"
    },
    {
     "data": {
      "application/vnd.jupyter.widget-view+json": {
       "model_id": "f2dae030ae534119aeade3df14379988",
       "version_major": 2,
       "version_minor": 0
      },
      "text/plain": [
       "  0%|          | 0/5000 [00:00<?, ?it/s]"
      ]
     },
     "metadata": {},
     "output_type": "display_data"
    },
    {
     "data": {
      "application/vnd.jupyter.widget-view+json": {
       "model_id": "0329e697e318486c9c1addf3a746fbac",
       "version_major": 2,
       "version_minor": 0
      },
      "text/plain": [
       "  0%|          | 0/5000 [00:00<?, ?it/s]"
      ]
     },
     "metadata": {},
     "output_type": "display_data"
    },
    {
     "data": {
      "application/vnd.jupyter.widget-view+json": {
       "model_id": "d5da68383880462198cfc6f74d9ee9e4",
       "version_major": 2,
       "version_minor": 0
      },
      "text/plain": [
       "  0%|          | 0/5000 [00:00<?, ?it/s]"
      ]
     },
     "metadata": {},
     "output_type": "display_data"
    },
    {
     "data": {
      "application/vnd.jupyter.widget-view+json": {
       "model_id": "2517c88b8c8b487d87fd6ae9cc79be62",
       "version_major": 2,
       "version_minor": 0
      },
      "text/plain": [
       "  0%|          | 0/5000 [00:00<?, ?it/s]"
      ]
     },
     "metadata": {},
     "output_type": "display_data"
    },
    {
     "data": {
      "application/vnd.jupyter.widget-view+json": {
       "model_id": "94f4f6bc2ea84c2ca28edac538866b92",
       "version_major": 2,
       "version_minor": 0
      },
      "text/plain": [
       "  0%|          | 0/5000 [00:00<?, ?it/s]"
      ]
     },
     "metadata": {},
     "output_type": "display_data"
    },
    {
     "data": {
      "application/vnd.jupyter.widget-view+json": {
       "model_id": "fb30f852133847a49e32f4cc889292d8",
       "version_major": 2,
       "version_minor": 0
      },
      "text/plain": [
       "  0%|          | 0/5000 [00:00<?, ?it/s]"
      ]
     },
     "metadata": {},
     "output_type": "display_data"
    },
    {
     "data": {
      "application/vnd.jupyter.widget-view+json": {
       "model_id": "087ce63d1c744815ae8928e2cdb781c6",
       "version_major": 2,
       "version_minor": 0
      },
      "text/plain": [
       "  0%|          | 0/5000 [00:00<?, ?it/s]"
      ]
     },
     "metadata": {},
     "output_type": "display_data"
    },
    {
     "data": {
      "application/vnd.jupyter.widget-view+json": {
       "model_id": "c23c1e37296f4681953f73f7f7509fca",
       "version_major": 2,
       "version_minor": 0
      },
      "text/plain": [
       "  0%|          | 0/5000 [00:00<?, ?it/s]"
      ]
     },
     "metadata": {},
     "output_type": "display_data"
    },
    {
     "data": {
      "application/vnd.jupyter.widget-view+json": {
       "model_id": "0e741d3aad5343ab8369b105cd3e9052",
       "version_major": 2,
       "version_minor": 0
      },
      "text/plain": [
       "  0%|          | 0/5000 [00:00<?, ?it/s]"
      ]
     },
     "metadata": {},
     "output_type": "display_data"
    },
    {
     "data": {
      "application/vnd.jupyter.widget-view+json": {
       "model_id": "169bc1ed5e684973b1b87768de9527da",
       "version_major": 2,
       "version_minor": 0
      },
      "text/plain": [
       "  0%|          | 0/5000 [00:00<?, ?it/s]"
      ]
     },
     "metadata": {},
     "output_type": "display_data"
    },
    {
     "data": {
      "application/vnd.jupyter.widget-view+json": {
       "model_id": "8f312e754c994680aaab718abb17d6fe",
       "version_major": 2,
       "version_minor": 0
      },
      "text/plain": [
       "  0%|          | 0/5000 [00:00<?, ?it/s]"
      ]
     },
     "metadata": {},
     "output_type": "display_data"
    },
    {
     "data": {
      "application/vnd.jupyter.widget-view+json": {
       "model_id": "3e4348f8da6c4ce9aaeb9c3c30f656f7",
       "version_major": 2,
       "version_minor": 0
      },
      "text/plain": [
       "  0%|          | 0/5000 [00:00<?, ?it/s]"
      ]
     },
     "metadata": {},
     "output_type": "display_data"
    },
    {
     "data": {
      "application/vnd.jupyter.widget-view+json": {
       "model_id": "3cedcfeca9ba4cc09ae06f32a34c46d3",
       "version_major": 2,
       "version_minor": 0
      },
      "text/plain": [
       "  0%|          | 0/5000 [00:00<?, ?it/s]"
      ]
     },
     "metadata": {},
     "output_type": "display_data"
    },
    {
     "data": {
      "application/vnd.jupyter.widget-view+json": {
       "model_id": "b886cbb483d44c7e8626589c3dce8561",
       "version_major": 2,
       "version_minor": 0
      },
      "text/plain": [
       "  0%|          | 0/5000 [00:00<?, ?it/s]"
      ]
     },
     "metadata": {},
     "output_type": "display_data"
    },
    {
     "data": {
      "application/vnd.jupyter.widget-view+json": {
       "model_id": "afb4bac0ae2f4034be762af183a28ff0",
       "version_major": 2,
       "version_minor": 0
      },
      "text/plain": [
       "  0%|          | 0/5000 [00:00<?, ?it/s]"
      ]
     },
     "metadata": {},
     "output_type": "display_data"
    },
    {
     "data": {
      "application/vnd.jupyter.widget-view+json": {
       "model_id": "5182819edaf54affbebe5d77b8df5234",
       "version_major": 2,
       "version_minor": 0
      },
      "text/plain": [
       "  0%|          | 0/5000 [00:00<?, ?it/s]"
      ]
     },
     "metadata": {},
     "output_type": "display_data"
    },
    {
     "data": {
      "application/vnd.jupyter.widget-view+json": {
       "model_id": "6c891ca7a089451b9221b8d7006fd7d6",
       "version_major": 2,
       "version_minor": 0
      },
      "text/plain": [
       "  0%|          | 0/5000 [00:00<?, ?it/s]"
      ]
     },
     "metadata": {},
     "output_type": "display_data"
    },
    {
     "data": {
      "application/vnd.jupyter.widget-view+json": {
       "model_id": "ff3f6a753c7546e38789669fa25de30a",
       "version_major": 2,
       "version_minor": 0
      },
      "text/plain": [
       "  0%|          | 0/5000 [00:00<?, ?it/s]"
      ]
     },
     "metadata": {},
     "output_type": "display_data"
    },
    {
     "data": {
      "application/vnd.jupyter.widget-view+json": {
       "model_id": "eda1cc25465545e8ba53e70494c30be3",
       "version_major": 2,
       "version_minor": 0
      },
      "text/plain": [
       "  0%|          | 0/5000 [00:00<?, ?it/s]"
      ]
     },
     "metadata": {},
     "output_type": "display_data"
    },
    {
     "data": {
      "application/vnd.jupyter.widget-view+json": {
       "model_id": "48af393412e646b690b862e6cad2ccbd",
       "version_major": 2,
       "version_minor": 0
      },
      "text/plain": [
       "  0%|          | 0/5000 [00:00<?, ?it/s]"
      ]
     },
     "metadata": {},
     "output_type": "display_data"
    },
    {
     "data": {
      "application/vnd.jupyter.widget-view+json": {
       "model_id": "4213bdf6ba9d46fcb4b7693dff11d312",
       "version_major": 2,
       "version_minor": 0
      },
      "text/plain": [
       "  0%|          | 0/5000 [00:00<?, ?it/s]"
      ]
     },
     "metadata": {},
     "output_type": "display_data"
    }
   ],
   "source": [
    "# Distance-based stuff:\n",
    "for dim in [2, 4, 8, 16, 32, 64]:  # , 128]:\n",
    "    adata.obsp[f\"euc_mix_{dim}\"] = tqdm_pairwise_distances(\n",
    "        adata.obsm[f\"euc_mix_{dim}\"], scipy.spatial.distance.euclidean\n",
    "    )\n",
    "    adata.obsp[f\"pca_{dim}\"] = tqdm_pairwise_distances(\n",
    "        adata.obsm[f\"pca_{dim}\"], scipy.spatial.distance.euclidean\n",
    "    )\n",
    "    hyp_manifold = Hyperbolic(dim=dim, default_coords_type=\"extrinsic\")\n",
    "    adata.obsp[f\"hyp_mix_{dim}\"] = tqdm_pairwise_distances(\n",
    "        adata.obsm[f\"hyp_mix_{dim}\"], hyp_manifold.metric.dist\n",
    "    )\n",
    "    poi_manifold = Hyperbolic(dim=dim, default_coords_type=\"ball\")\n",
    "    adata.obsp[f\"poi_mix_{dim}\"] = tqdm_pairwise_distances(\n",
    "        adata.obsm[f\"poi_mix_{dim}\"], poi_manifold.metric.dist\n",
    "    )\n"
   ]
  },
  {
   "cell_type": "code",
   "execution_count": 9,
   "metadata": {},
   "outputs": [
    {
     "data": {
      "application/vnd.jupyter.widget-view+json": {
       "model_id": "2d54608a95df44c3b55907346a6fba40",
       "version_major": 2,
       "version_minor": 0
      },
      "text/plain": [
       "  0%|          | 0/420 [00:00<?, ?it/s]"
      ]
     },
     "metadata": {},
     "output_type": "display_data"
    },
    {
     "name": "stderr",
     "output_type": "stream",
     "text": [
      "/home/phil/mambaforge/envs/americangut/lib/python3.11/site-packages/scipy/stats/_stats_py.py:5445: ConstantInputWarning: An input array is constant; the correlation coefficient is not defined.\n",
      "  warnings.warn(stats.ConstantInputWarning(warn_msg))\n"
     ]
    }
   ],
   "source": [
    "# Compute correlations\n",
    "\n",
    "corrs = pd.DataFrame(index=adata.obsp.keys(), columns=adata.obsp.keys())\n",
    "n = len(corrs)\n",
    "pbar = tqdm(total=int(n ** 2 / 2))\n",
    "\n",
    "for i in range(n):\n",
    "    for j in range(i, n):\n",
    "        corrs.iloc[i, j] = corrs.iloc[j, i] = scipy.stats.spearmanr(\n",
    "            adata.obsp[corrs.index[i]].flatten(),\n",
    "            adata.obsp[corrs.columns[j]].flatten(),\n",
    "        )[0]\n",
    "        pbar.update()\n"
   ]
  },
  {
   "cell_type": "code",
   "execution_count": 10,
   "metadata": {},
   "outputs": [
    {
     "data": {
      "text/plain": [
       "<seaborn.matrix.ClusterGrid at 0x7f697d8fd5d0>"
      ]
     },
     "execution_count": 10,
     "metadata": {},
     "output_type": "execute_result"
    },
    {
     "data": {
      "image/png": "[encoded data removed]",
      "text/plain": [
       "<Figure size 1000x1000 with 4 Axes>"
      ]
     },
     "metadata": {},
     "output_type": "display_data"
    }
   ],
   "source": [
    "# fig = plt.figure(figsize=(15, 15))\n",
    "# plt.matshow(\n",
    "#     corrs.astype(float), cmap=\"RdBu_r\", vmin=-1, vmax=1, fignum=fig.number\n",
    "# )\n",
    "# plt.xlabel(\"Distance metric\")\n",
    "# plt.ylabel(\"Distance metric\")\n",
    "# plt.xticks(range(len(corrs)), corrs.columns, rotation=90)\n",
    "# plt.yticks(range(len(corrs)), corrs.columns)\n",
    "# plt.colorbar()\n",
    "# plt.show()\n",
    "\n",
    "# Make a dendrogram + heatmap\n",
    "from seaborn import clustermap\n",
    "\n",
    "clustermap(\n",
    "    corrs.astype(float).dropna(axis=0, how=\"all\").dropna(axis=1, how=\"all\"),\n",
    "    cmap=\"RdBu_r\",\n",
    "    vmin=-1,\n",
    "    vmax=1,\n",
    "    figsize=(10, 10),\n",
    "    xticklabels=True,\n",
    "    yticklabels=True,\n",
    ")\n"
   ]
  },
  {
   "cell_type": "code",
   "execution_count": 11,
   "metadata": {},
   "outputs": [],
   "source": [
    "# # Head 20 = ~19 minutes for the whole thing\n",
    "# # Head 50 = ~2 hours\n",
    "# # Running this on the full table takes a long time, approx. 2 hours\n",
    "\n",
    "# # OK, that was too slow. Let's do dists separately for each study:\n",
    "# def get_dists(dist_function, embed=None, head=10, **kwargs):\n",
    "#     dists = []\n",
    "#     dir = \"/home/phil/mixture_embeddings/data/interim/mlrepo_clean/classification\"\n",
    "#     for subdir in tqdm(os.listdir(dir)):\n",
    "#         path = os.path.join(dir, subdir, \"otus.txt\")\n",
    "#         if os.path.exists(path):\n",
    "#             otu_table = pd.read_table(path, dtype={0: str})\n",
    "\n",
    "#             otu_table = otu_table.set_index(\n",
    "#                 otu_table.columns[0]\n",
    "#             ).astype(float).T\n",
    "\n",
    "#             if head is not None:\n",
    "#                 otu_table = otu_table.head(head)\n",
    "\n",
    "#             if dist_function == \"unifrac\":\n",
    "#                 sample_dists = pdist(\n",
    "#                     otu_table,\n",
    "#                     metric=unweighted_unifrac,\n",
    "#                     otu_ids=otu_table.columns,\n",
    "#                     tree=tree.shear(otu_table.columns) # Shearing is faster\n",
    "#                 )\n",
    "#             else:\n",
    "#                 sample_dists = pdist(otu_table, metric=dist_function, **kwargs)\n",
    "#             dists.append(sample_dists)\n",
    "\n",
    "#     # return np.array([x.data.flatten() for x in dists])\n",
    "#     return np.concatenate(dists)\n",
    "\n",
    "# # unifrac_dists = get_dists(\"unifrac\")\n",
    "# unifrac_dists = get_dists(\"unifrac\", head=HEAD)\n",
    "\n",
    "# # Takes more than 20 minutes to run on first OTU table...\n",
    "# np.save(f\"data/processed/distances/unifrac_dists_top{HEAD}.npy\", unifrac_dists)\n",
    "\n",
    "# Get unifrac\n"
   ]
  },
  {
   "cell_type": "code",
   "execution_count": 12,
   "metadata": {},
   "outputs": [
    {
     "data": {
      "application/vnd.jupyter.widget-view+json": {
       "model_id": "39d931b2bcb24066b22d41379422e602",
       "version_major": 2,
       "version_minor": 0
      },
      "text/plain": [
       "  0%|          | 0/19 [00:00<?, ?it/s]"
      ]
     },
     "metadata": {},
     "output_type": "display_data"
    },
    {
     "ename": "NameError",
     "evalue": "name 'HEAD' is not defined",
     "output_type": "error",
     "traceback": [
      "\u001b[0;31m---------------------------------------------------------------------------\u001b[0m",
      "\u001b[0;31mNameError\u001b[0m                                 Traceback (most recent call last)",
      "Cell \u001b[0;32mIn[12], line 11\u001b[0m\n\u001b[1;32m      7\u001b[0m otu_table \u001b[39m=\u001b[39m pd\u001b[39m.\u001b[39mread_table(path, dtype\u001b[39m=\u001b[39m{\u001b[39m0\u001b[39m: \u001b[39mstr\u001b[39m})\n\u001b[1;32m      9\u001b[0m otu_table \u001b[39m=\u001b[39m otu_table\u001b[39m.\u001b[39mset_index(otu_table\u001b[39m.\u001b[39mcolumns[\u001b[39m0\u001b[39m])\u001b[39m.\u001b[39mastype(\u001b[39mfloat\u001b[39m)\u001b[39m.\u001b[39mT\n\u001b[0;32m---> 11\u001b[0m otu_table \u001b[39m=\u001b[39m otu_table\u001b[39m.\u001b[39mhead(HEAD)\n\u001b[1;32m     13\u001b[0m sample_dists \u001b[39m=\u001b[39m beta_diversity(counts\u001b[39m=\u001b[39motu_table, metric\u001b[39m=\u001b[39m\u001b[39m\"\u001b[39m\u001b[39mbraycurtis\u001b[39m\u001b[39m\"\u001b[39m)\n\u001b[1;32m     14\u001b[0m dists\u001b[39m.\u001b[39mappend(sample_dists)\n",
      "\u001b[0;31mNameError\u001b[0m: name 'HEAD' is not defined"
     ]
    }
   ],
   "source": [
    "# Beta diversity\n",
    "dists = []\n",
    "dir = \"/home/phil/mixture_embeddings/data/interim/mlrepo_clean/classification\"\n",
    "for subdir in tqdm(os.listdir(dir)):\n",
    "    path = os.path.join(dir, subdir, \"otus.txt\")\n",
    "    if os.path.exists(path):\n",
    "        otu_table = pd.read_table(path, dtype={0: str})\n",
    "\n",
    "        otu_table = otu_table.set_index(otu_table.columns[0]).astype(float).T\n",
    "\n",
    "        otu_table = otu_table.head(HEAD)\n",
    "\n",
    "        sample_dists = beta_diversity(counts=otu_table, metric=\"braycurtis\")\n",
    "        dists.append(sample_dists)\n",
    "\n",
    "beta_diversity_dists = np.array([x.data.flatten() for x in dists])\n",
    "\n",
    "np.save(\n",
    "    f\"data/processed/distances/beta_diversity_dists_top{HEAD}.npy\",\n",
    "    beta_diversity_dists,\n",
    ")\n"
   ]
  },
  {
   "cell_type": "code",
   "execution_count": null,
   "metadata": {},
   "outputs": [
    {
     "name": "stderr",
     "output_type": "stream",
     "text": [
      "  0%|          | 0/19 [00:00<?, ?it/s]WARNING: Maximum number of iterations 1000 reached. The mean may be inaccurate\n",
      "WARNING: Maximum number of iterations 1000 reached. The mean may be inaccurate\n",
      "WARNING: Maximum number of iterations 1000 reached. The mean may be inaccurate\n",
      "WARNING: Maximum number of iterations 1000 reached. The mean may be inaccurate\n",
      "100%|██████████| 10/10 [00:01<00:00,  5.04it/s]\n",
      "  0%|          | 0/19 [00:02<?, ?it/s]\n"
     ]
    },
    {
     "ename": "ValueError",
     "evalue": "A 2-dimensional array must be passed.",
     "output_type": "error",
     "traceback": [
      "\u001b[0;31m---------------------------------------------------------------------------\u001b[0m",
      "\u001b[0;31mValueError\u001b[0m                                Traceback (most recent call last)",
      "Cell \u001b[0;32mIn[6], line 37\u001b[0m\n\u001b[1;32m     25\u001b[0m         otu_table_euc \u001b[39m=\u001b[39m mixture_embedding(\n\u001b[1;32m     26\u001b[0m             otu_table,\n\u001b[1;32m     27\u001b[0m             geometry\u001b[39m=\u001b[39m\u001b[39m\"\u001b[39m\u001b[39meuclidean\u001b[39m\u001b[39m\"\u001b[39m,\n\u001b[1;32m     28\u001b[0m             otu_embeddings\u001b[39m=\u001b[39meuc_embeddings\n\u001b[1;32m     29\u001b[0m         )\n\u001b[1;32m     31\u001b[0m         otu_table_hyp \u001b[39m=\u001b[39m mixture_embedding(\n\u001b[1;32m     32\u001b[0m             otu_table,\n\u001b[1;32m     33\u001b[0m             geometry\u001b[39m=\u001b[39m\u001b[39m\"\u001b[39m\u001b[39mhyperbolic\u001b[39m\u001b[39m\"\u001b[39m,\n\u001b[1;32m     34\u001b[0m             otu_embeddings\u001b[39m=\u001b[39mhyp_embeddings\n\u001b[1;32m     35\u001b[0m         )\n\u001b[0;32m---> 37\u001b[0m         euc_dists\u001b[39m.\u001b[39mappend(pdist(sample_dists, metric\u001b[39m=\u001b[39m\u001b[39m\"\u001b[39m\u001b[39meuclidean\u001b[39m\u001b[39m\"\u001b[39m))\n\u001b[1;32m     38\u001b[0m         hyp_dists\u001b[39m.\u001b[39mappend(pdist(sample_dists, metric\u001b[39m=\u001b[39mhyp_manifold\u001b[39m.\u001b[39m_metric\u001b[39m.\u001b[39mdist))\n\u001b[1;32m     40\u001b[0m euc_dists \u001b[39m=\u001b[39m np\u001b[39m.\u001b[39marray([x\u001b[39m.\u001b[39mflatten() \u001b[39mfor\u001b[39;00m x \u001b[39min\u001b[39;00m euc_dists])\n",
      "File \u001b[0;32m~/mambaforge/envs/americangut/lib/python3.11/site-packages/scipy/spatial/distance.py:2200\u001b[0m, in \u001b[0;36mpdist\u001b[0;34m(X, metric, out, **kwargs)\u001b[0m\n\u001b[1;32m   2198\u001b[0m s \u001b[39m=\u001b[39m X\u001b[39m.\u001b[39mshape\n\u001b[1;32m   2199\u001b[0m \u001b[39mif\u001b[39;00m \u001b[39mlen\u001b[39m(s) \u001b[39m!=\u001b[39m \u001b[39m2\u001b[39m:\n\u001b[0;32m-> 2200\u001b[0m     \u001b[39mraise\u001b[39;00m \u001b[39mValueError\u001b[39;00m(\u001b[39m'\u001b[39m\u001b[39mA 2-dimensional array must be passed.\u001b[39m\u001b[39m'\u001b[39m)\n\u001b[1;32m   2202\u001b[0m m, n \u001b[39m=\u001b[39m s\n\u001b[1;32m   2204\u001b[0m \u001b[39mif\u001b[39;00m \u001b[39mcallable\u001b[39m(metric):\n",
      "\u001b[0;31mValueError\u001b[0m: A 2-dimensional array must be passed."
     ]
    }
   ],
   "source": [
    "for size in [2, 4, 8, 16, 32, 64, 128]:\n",
    "    # Get embedding distance matrices\n",
    "    euc_embeddings = pd.read_csv(\n",
    "        f\"/home/phil/DATA/otu_embeddings/embeddings_euclidean_{size}.csv\",\n",
    "        dtype={0: str},\n",
    "    )\n",
    "    euc_embeddings = euc_embeddings.set_index(euc_embeddings.columns[0])\n",
    "\n",
    "    hyp_embeddings = pd.read_csv(\n",
    "        f\"/home/phil/DATA/otu_embeddings/embeddings_hyperbolic_{size}.csv\",\n",
    "        dtype={0: str},\n",
    "    )\n",
    "    hyp_embeddings = hyp_embeddings.set_index(hyp_embeddings.columns[0])\n",
    "\n",
    "    hyp_manifold = Hyperbolic(size, default_coords_type=\"ball\")\n",
    "\n",
    "    euc_dists = []\n",
    "    hyp_dists = []\n",
    "    dir = (\n",
    "        \"/home/phil/mixture_embeddings/data/interim/mlrepo_clean/classification\"\n",
    "    )\n",
    "    for subdir in tqdm(os.listdir(dir)):\n",
    "        path = os.path.join(dir, subdir, \"otus.txt\")\n",
    "        if os.path.exists(path):\n",
    "            otu_table = pd.read_table(path, dtype={0: str})\n",
    "\n",
    "            otu_table = (\n",
    "                otu_table.set_index(otu_table.columns[0]).astype(float).T\n",
    "            )\n",
    "\n",
    "            otu_table = otu_table.head(HEAD)\n",
    "\n",
    "            otu_table_euc = mixture_embedding(\n",
    "                otu_table, geometry=\"euclidean\", otu_embeddings=euc_embeddings\n",
    "            )\n",
    "\n",
    "            otu_table_hyp = mixture_embedding(\n",
    "                otu_table, geometry=\"hyperbolic\", otu_embeddings=hyp_embeddings\n",
    "            )\n",
    "\n",
    "            euc_dists.append(pdist(sample_dists, metric=\"euclidean\"))\n",
    "            hyp_dists.append(\n",
    "                pdist(sample_dists, metric=hyp_manifold._metric.dist)\n",
    "            )\n",
    "\n",
    "    euc_dists = np.array([x.flatten() for x in euc_dists])\n",
    "    hyp_dists = np.array([x.flatten() for x in hyp_dists])\n",
    "\n",
    "    np.save(\n",
    "        f\"data/processed/distances/euc_dists_top{HEAD}_{size}.npy\", euc_dists\n",
    "    )\n",
    "    np.save(\n",
    "        f\"data/processed/distances/euc_dists_top{HEAD}_{size}.npy\", hyp_dists\n",
    "    )\n"
   ]
  },
  {
   "cell_type": "code",
   "execution_count": null,
   "metadata": {},
   "outputs": [],
   "source": [
    "# Load all dists\n"
   ]
  },
  {
   "attachments": {},
   "cell_type": "markdown",
   "metadata": {},
   "source": []
  }
 ],
 "metadata": {
  "kernelspec": {
   "display_name": "base",
   "language": "python",
   "name": "python3"
  },
  "language_info": {
   "codemirror_mode": {
    "name": "ipython",
    "version": 3
   },
   "file_extension": ".py",
   "mimetype": "text/x-python",
   "name": "python",
   "nbconvert_exporter": "python",
   "pygments_lexer": "ipython3",
   "version": "3.11.3"
  },
  "orig_nbformat": 4,
  "vscode": {
   "interpreter": {
    "hash": "e4dc294415b14ea4c0d4d07894c031d87e01c25f832e475b95612eada6e667d4"
   }
  }
 },
 "nbformat": 4,
 "nbformat_minor": 2
}
