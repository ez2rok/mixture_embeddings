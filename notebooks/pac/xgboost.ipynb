{
 "cells": [
  {
   "cell_type": "markdown",
   "metadata": {},
   "source": [
    "# XGBoost comparison\n",
    "> Does XGBoost prefer mixture embeddings?"
   ]
  },
  {
   "cell_type": "code",
   "execution_count": 5,
   "metadata": {},
   "outputs": [
    {
     "name": "stdout",
     "output_type": "stream",
     "text": [
      "The autoreload extension is already loaded. To reload it, use:\n",
      "  %reload_ext autoreload\n"
     ]
    }
   ],
   "source": [
    "%load_ext autoreload\n",
    "%autoreload 2"
   ]
  },
  {
   "cell_type": "code",
   "execution_count": 6,
   "metadata": {},
   "outputs": [],
   "source": [
    "import os\n",
    "\n",
    "import numpy as np\n",
    "import pandas as pd\n",
    "import matplotlib.pyplot as plt\n",
    "\n",
    "import xgboost as xgb\n",
    "\n",
    "from sklearn.model_selection import train_test_split, GridSearchCV, cross_val_score\n",
    "from sklearn.metrics import accuracy_score\n",
    "from sklearn.decomposition import PCA\n",
    "\n",
    "from util import load_task, mixture_embedding"
   ]
  },
  {
   "cell_type": "code",
   "execution_count": 7,
   "metadata": {},
   "outputs": [],
   "source": [
    "N_DIM = 64"
   ]
  },
  {
   "cell_type": "code",
   "execution_count": 8,
   "metadata": {},
   "outputs": [],
   "source": [
    "# Load embeddings\n",
    "\n",
    "embed_dict = {}\n",
    "\n",
    "for size in [2, 4, 8, 16, 32, 64, 128]:\n",
    "    euc_embed = pd.read_csv(\n",
    "        f\"/home/phil/DATA/otu_embeddings/embeddings_euclidean_{size}.csv\", \n",
    "        dtype={0: str}\n",
    "    )\n",
    "    euc_embed = euc_embed.set_index(euc_embed.columns[0])\n",
    "    embed_dict[size] = euc_embed"
   ]
  },
  {
   "cell_type": "code",
   "execution_count": 9,
   "metadata": {},
   "outputs": [
    {
     "data": {
      "text/html": [
       "<div>\n",
       "<style scoped>\n",
       "    .dataframe tbody tr th:only-of-type {\n",
       "        vertical-align: middle;\n",
       "    }\n",
       "\n",
       "    .dataframe tbody tr th {\n",
       "        vertical-align: top;\n",
       "    }\n",
       "\n",
       "    .dataframe thead th {\n",
       "        text-align: right;\n",
       "    }\n",
       "</style>\n",
       "<table border=\"1\" class=\"dataframe\">\n",
       "  <thead>\n",
       "    <tr style=\"text-align: right;\">\n",
       "      <th></th>\n",
       "      <th>task</th>\n",
       "      <th>fold</th>\n",
       "      <th>raw</th>\n",
       "      <th>embed</th>\n",
       "      <th>pca</th>\n",
       "      <th>n_samples</th>\n",
       "    </tr>\n",
       "  </thead>\n",
       "  <tbody>\n",
       "    <tr>\n",
       "      <th>0</th>\n",
       "      <td>ravel_black_hispanic</td>\n",
       "      <td>0</td>\n",
       "      <td>0.500000</td>\n",
       "      <td>0.450000</td>\n",
       "      <td>0.600000</td>\n",
       "      <td>199</td>\n",
       "    </tr>\n",
       "    <tr>\n",
       "      <th>1</th>\n",
       "      <td>ravel_black_hispanic</td>\n",
       "      <td>1</td>\n",
       "      <td>0.575000</td>\n",
       "      <td>0.400000</td>\n",
       "      <td>0.500000</td>\n",
       "      <td>199</td>\n",
       "    </tr>\n",
       "    <tr>\n",
       "      <th>2</th>\n",
       "      <td>ravel_black_hispanic</td>\n",
       "      <td>2</td>\n",
       "      <td>0.450000</td>\n",
       "      <td>0.375000</td>\n",
       "      <td>0.525000</td>\n",
       "      <td>199</td>\n",
       "    </tr>\n",
       "    <tr>\n",
       "      <th>3</th>\n",
       "      <td>ravel_black_hispanic</td>\n",
       "      <td>3</td>\n",
       "      <td>0.550000</td>\n",
       "      <td>0.575000</td>\n",
       "      <td>0.625000</td>\n",
       "      <td>199</td>\n",
       "    </tr>\n",
       "    <tr>\n",
       "      <th>4</th>\n",
       "      <td>ravel_black_hispanic</td>\n",
       "      <td>4</td>\n",
       "      <td>0.615385</td>\n",
       "      <td>0.410256</td>\n",
       "      <td>0.435897</td>\n",
       "      <td>199</td>\n",
       "    </tr>\n",
       "    <tr>\n",
       "      <th>...</th>\n",
       "      <td>...</td>\n",
       "      <td>...</td>\n",
       "      <td>...</td>\n",
       "      <td>...</td>\n",
       "      <td>...</td>\n",
       "      <td>...</td>\n",
       "    </tr>\n",
       "    <tr>\n",
       "      <th>85</th>\n",
       "      <td>ravel_black_white</td>\n",
       "      <td>0</td>\n",
       "      <td>0.575000</td>\n",
       "      <td>0.575000</td>\n",
       "      <td>0.550000</td>\n",
       "      <td>200</td>\n",
       "    </tr>\n",
       "    <tr>\n",
       "      <th>86</th>\n",
       "      <td>ravel_black_white</td>\n",
       "      <td>1</td>\n",
       "      <td>0.700000</td>\n",
       "      <td>0.550000</td>\n",
       "      <td>0.675000</td>\n",
       "      <td>200</td>\n",
       "    </tr>\n",
       "    <tr>\n",
       "      <th>87</th>\n",
       "      <td>ravel_black_white</td>\n",
       "      <td>2</td>\n",
       "      <td>0.650000</td>\n",
       "      <td>0.650000</td>\n",
       "      <td>0.550000</td>\n",
       "      <td>200</td>\n",
       "    </tr>\n",
       "    <tr>\n",
       "      <th>88</th>\n",
       "      <td>ravel_black_white</td>\n",
       "      <td>3</td>\n",
       "      <td>0.475000</td>\n",
       "      <td>0.525000</td>\n",
       "      <td>0.525000</td>\n",
       "      <td>200</td>\n",
       "    </tr>\n",
       "    <tr>\n",
       "      <th>89</th>\n",
       "      <td>ravel_black_white</td>\n",
       "      <td>4</td>\n",
       "      <td>0.625000</td>\n",
       "      <td>0.500000</td>\n",
       "      <td>0.700000</td>\n",
       "      <td>200</td>\n",
       "    </tr>\n",
       "  </tbody>\n",
       "</table>\n",
       "<p>90 rows × 6 columns</p>\n",
       "</div>"
      ],
      "text/plain": [
       "                    task  fold       raw     embed       pca  n_samples\n",
       "0   ravel_black_hispanic     0  0.500000  0.450000  0.600000        199\n",
       "1   ravel_black_hispanic     1  0.575000  0.400000  0.500000        199\n",
       "2   ravel_black_hispanic     2  0.450000  0.375000  0.525000        199\n",
       "3   ravel_black_hispanic     3  0.550000  0.575000  0.625000        199\n",
       "4   ravel_black_hispanic     4  0.615385  0.410256  0.435897        199\n",
       "..                   ...   ...       ...       ...       ...        ...\n",
       "85     ravel_black_white     0  0.575000  0.575000  0.550000        200\n",
       "86     ravel_black_white     1  0.700000  0.550000  0.675000        200\n",
       "87     ravel_black_white     2  0.650000  0.650000  0.550000        200\n",
       "88     ravel_black_white     3  0.475000  0.525000  0.525000        200\n",
       "89     ravel_black_white     4  0.625000  0.500000  0.700000        200\n",
       "\n",
       "[90 rows x 6 columns]"
      ]
     },
     "execution_count": 9,
     "metadata": {},
     "output_type": "execute_result"
    }
   ],
   "source": [
    "# Preliminary experiment - we see embeddings do worse\n",
    "\n",
    "def xgboost_experiment(X, y, **kwargs):\n",
    "    model = xgb.XGBClassifier(**kwargs)\n",
    "    return cross_val_score(model, X, y, cv=5)\n",
    "\n",
    "dd = \"/home/phil/mixture_embeddings/data/interim/mlrepo_clean/classification\"\n",
    "\n",
    "results = pd.DataFrame(\n",
    "    columns=[\"task\", \"fold\", \"raw\", \"embed\", \"pca\", \"n_samples\"], dtype=float\n",
    ")\n",
    "\n",
    "for subdir in os.listdir(dd):\n",
    "    if not os.path.isdir(f\"{dd}/{subdir}\"):\n",
    "        continue\n",
    "    else:\n",
    "        X, y = load_task(dd, subdir)\n",
    "        acc = xgboost_experiment(X, y)\n",
    "\n",
    "        # Embedding\n",
    "        X_embed = mixture_embedding(X, euc_embed, geometry=\"euclidean\")\n",
    "        acc_embed = xgboost_experiment(X_embed, y)\n",
    "\n",
    "        # PCA\n",
    "        pca_dim = np.min([N_DIM, X.shape[0]])\n",
    "        pca = PCA(n_components=pca_dim)\n",
    "        X_pca = pca.fit_transform(X)\n",
    "        acc_pca = xgboost_experiment(X_pca, y)\n",
    "\n",
    "        # Push results\n",
    "        for i in range(5):\n",
    "            results.loc[len(results)] = [\n",
    "                subdir, i, acc[i], acc_embed[i], acc_pca[i], X.shape[0]\n",
    "            ]\n",
    "results"
   ]
  },
  {
   "cell_type": "code",
   "execution_count": 10,
   "metadata": {},
   "outputs": [
    {
     "data": {
      "text/plain": [
       "Text(0, 0.5, 'Accuracy')"
      ]
     },
     "execution_count": 10,
     "metadata": {},
     "output_type": "execute_result"
    },
    {
     "data": {
      "image/png": "[encoded data removed]",
      "text/plain": [
       "<Figure size 1000x1000 with 1 Axes>"
      ]
     },
     "metadata": {},
     "output_type": "display_data"
    }
   ],
   "source": [
    "results.boxplot(column=[\"raw\", \"embed\", \"pca\"], figsize=(10, 10))\n",
    "plt.xlabel(\"Type of data\")\n",
    "plt.ylabel(\"Accuracy\")"
   ]
  },
  {
   "cell_type": "code",
   "execution_count": 11,
   "metadata": {},
   "outputs": [
    {
     "name": "stderr",
     "output_type": "stream",
     "text": [
      "/home/phil/miniconda3/envs/mixture/lib/python3.11/site-packages/sklearn/model_selection/_validation.py:378: FitFailedWarning: \n",
      "40 fits failed out of a total of 80.\n",
      "The score on these train-test partitions for these parameters will be set to nan.\n",
      "If these failures are not expected, you can try to debug them by setting error_score='raise'.\n",
      "\n",
      "Below are more details about the failures:\n",
      "--------------------------------------------------------------------------------\n",
      "40 fits failed with the following error:\n",
      "Traceback (most recent call last):\n",
      "  File \"/home/phil/miniconda3/envs/mixture/lib/python3.11/site-packages/sklearn/model_selection/_validation.py\", line 686, in _fit_and_score\n",
      "    estimator.fit(X_train, y_train, **fit_params)\n",
      "  File \"/tmp/ipykernel_4022261/1994987330.py\", line 29, in fit\n",
      "    X, embed_dict[self.embed], geometry=\"euclidean\"\n",
      "       ~~~~~~~~~~^^^^^^^^^^^^\n",
      "TypeError: unhashable type: 'DataFrame'\n",
      "\n",
      "  warnings.warn(some_fits_failed_message, FitFailedWarning)\n",
      "/home/phil/miniconda3/envs/mixture/lib/python3.11/site-packages/sklearn/model_selection/_search.py:953: UserWarning: One or more of the test scores are non-finite: [0.53807692 0.53807692 0.53807692 0.53807692 0.53807692 0.53807692\n",
      " 0.53807692 0.53807692        nan        nan        nan        nan\n",
      "        nan        nan        nan        nan]\n",
      "  warnings.warn(\n"
     ]
    },
    {
     "name": "stdout",
     "output_type": "stream",
     "text": [
      "ravel_black_hispanic\t199\t0.538\t{'embed': None, 'learning_rate': 0.01, 'max_depth': 2, 'n_estimators': 10}\n"
     ]
    },
    {
     "name": "stderr",
     "output_type": "stream",
     "text": [
      "/home/phil/miniconda3/envs/mixture/lib/python3.11/site-packages/sklearn/model_selection/_validation.py:378: FitFailedWarning: \n",
      "40 fits failed out of a total of 80.\n",
      "The score on these train-test partitions for these parameters will be set to nan.\n",
      "If these failures are not expected, you can try to debug them by setting error_score='raise'.\n",
      "\n",
      "Below are more details about the failures:\n",
      "--------------------------------------------------------------------------------\n",
      "40 fits failed with the following error:\n",
      "Traceback (most recent call last):\n",
      "  File \"/home/phil/miniconda3/envs/mixture/lib/python3.11/site-packages/sklearn/model_selection/_validation.py\", line 686, in _fit_and_score\n",
      "    estimator.fit(X_train, y_train, **fit_params)\n",
      "  File \"/tmp/ipykernel_4022261/1994987330.py\", line 29, in fit\n",
      "    X, embed_dict[self.embed], geometry=\"euclidean\"\n",
      "       ~~~~~~~~~~^^^^^^^^^^^^\n",
      "TypeError: unhashable type: 'DataFrame'\n",
      "\n",
      "  warnings.warn(some_fits_failed_message, FitFailedWarning)\n",
      "/home/phil/miniconda3/envs/mixture/lib/python3.11/site-packages/sklearn/model_selection/_search.py:953: UserWarning: One or more of the test scores are non-finite: [0.75 0.75 0.75 0.75 0.75 0.75 0.75 0.75  nan  nan  nan  nan  nan  nan\n",
      "  nan  nan]\n",
      "  warnings.warn(\n"
     ]
    },
    {
     "name": "stdout",
     "output_type": "stream",
     "text": [
      "cho_control_ct_cecal\t17\t0.750\t{'embed': None, 'learning_rate': 0.01, 'max_depth': 2, 'n_estimators': 10}\n"
     ]
    },
    {
     "name": "stderr",
     "output_type": "stream",
     "text": [
      "/home/phil/miniconda3/envs/mixture/lib/python3.11/site-packages/sklearn/model_selection/_validation.py:378: FitFailedWarning: \n",
      "40 fits failed out of a total of 80.\n",
      "The score on these train-test partitions for these parameters will be set to nan.\n",
      "If these failures are not expected, you can try to debug them by setting error_score='raise'.\n",
      "\n",
      "Below are more details about the failures:\n",
      "--------------------------------------------------------------------------------\n",
      "40 fits failed with the following error:\n",
      "Traceback (most recent call last):\n",
      "  File \"/home/phil/miniconda3/envs/mixture/lib/python3.11/site-packages/sklearn/model_selection/_validation.py\", line 686, in _fit_and_score\n",
      "    estimator.fit(X_train, y_train, **fit_params)\n",
      "  File \"/tmp/ipykernel_4022261/1994987330.py\", line 29, in fit\n",
      "    X, embed_dict[self.embed], geometry=\"euclidean\"\n",
      "       ~~~~~~~~~~^^^^^^^^^^^^\n",
      "TypeError: unhashable type: 'DataFrame'\n",
      "\n",
      "  warnings.warn(some_fits_failed_message, FitFailedWarning)\n",
      "/home/phil/miniconda3/envs/mixture/lib/python3.11/site-packages/sklearn/model_selection/_search.py:953: UserWarning: One or more of the test scores are non-finite: [0.70806723 0.70806723 0.70806723 0.70806723 0.70806723 0.70806723\n",
      " 0.70806723 0.70806723        nan        nan        nan        nan\n",
      "        nan        nan        nan        nan]\n",
      "  warnings.warn(\n"
     ]
    },
    {
     "name": "stdout",
     "output_type": "stream",
     "text": [
      "kostic\t172\t0.708\t{'embed': None, 'learning_rate': 0.01, 'max_depth': 2, 'n_estimators': 10}\n"
     ]
    },
    {
     "name": "stderr",
     "output_type": "stream",
     "text": [
      "/home/phil/miniconda3/envs/mixture/lib/python3.11/site-packages/sklearn/model_selection/_validation.py:378: FitFailedWarning: \n",
      "40 fits failed out of a total of 80.\n",
      "The score on these train-test partitions for these parameters will be set to nan.\n",
      "If these failures are not expected, you can try to debug them by setting error_score='raise'.\n",
      "\n",
      "Below are more details about the failures:\n",
      "--------------------------------------------------------------------------------\n",
      "40 fits failed with the following error:\n",
      "Traceback (most recent call last):\n",
      "  File \"/home/phil/miniconda3/envs/mixture/lib/python3.11/site-packages/sklearn/model_selection/_validation.py\", line 686, in _fit_and_score\n",
      "    estimator.fit(X_train, y_train, **fit_params)\n",
      "  File \"/tmp/ipykernel_4022261/1994987330.py\", line 29, in fit\n",
      "    X, embed_dict[self.embed], geometry=\"euclidean\"\n",
      "       ~~~~~~~~~~^^^^^^^^^^^^\n",
      "TypeError: unhashable type: 'DataFrame'\n",
      "\n",
      "  warnings.warn(some_fits_failed_message, FitFailedWarning)\n",
      "/home/phil/miniconda3/envs/mixture/lib/python3.11/site-packages/sklearn/model_selection/_search.py:953: UserWarning: One or more of the test scores are non-finite: [0.85 0.85 0.85 0.85 0.85 0.85 0.85 0.85  nan  nan  nan  nan  nan  nan\n",
      "  nan  nan]\n",
      "  warnings.warn(\n"
     ]
    },
    {
     "name": "stdout",
     "output_type": "stream",
     "text": [
      "cho_penicillin_vancomycin_cecal\t20\t0.850\t{'embed': None, 'learning_rate': 0.01, 'max_depth': 2, 'n_estimators': 10}\n"
     ]
    },
    {
     "name": "stderr",
     "output_type": "stream",
     "text": [
      "/home/phil/miniconda3/envs/mixture/lib/python3.11/site-packages/sklearn/model_selection/_validation.py:378: FitFailedWarning: \n",
      "40 fits failed out of a total of 80.\n",
      "The score on these train-test partitions for these parameters will be set to nan.\n",
      "If these failures are not expected, you can try to debug them by setting error_score='raise'.\n",
      "\n",
      "Below are more details about the failures:\n",
      "--------------------------------------------------------------------------------\n",
      "40 fits failed with the following error:\n",
      "Traceback (most recent call last):\n",
      "  File \"/home/phil/miniconda3/envs/mixture/lib/python3.11/site-packages/sklearn/model_selection/_validation.py\", line 686, in _fit_and_score\n",
      "    estimator.fit(X_train, y_train, **fit_params)\n",
      "  File \"/tmp/ipykernel_4022261/1994987330.py\", line 29, in fit\n",
      "    X, embed_dict[self.embed], geometry=\"euclidean\"\n",
      "       ~~~~~~~~~~^^^^^^^^^^^^\n",
      "TypeError: unhashable type: 'DataFrame'\n",
      "\n",
      "  warnings.warn(some_fits_failed_message, FitFailedWarning)\n",
      "/home/phil/miniconda3/envs/mixture/lib/python3.11/site-packages/sklearn/model_selection/_search.py:953: UserWarning: One or more of the test scores are non-finite: [0.95 0.95 0.95 0.95 0.95 0.95 0.95 0.95  nan  nan  nan  nan  nan  nan\n",
      "  nan  nan]\n",
      "  warnings.warn(\n"
     ]
    },
    {
     "name": "stdout",
     "output_type": "stream",
     "text": [
      "cho_control_ct_fecal\t18\t0.950\t{'embed': None, 'learning_rate': 0.01, 'max_depth': 2, 'n_estimators': 10}\n"
     ]
    },
    {
     "name": "stderr",
     "output_type": "stream",
     "text": [
      "/home/phil/miniconda3/envs/mixture/lib/python3.11/site-packages/sklearn/model_selection/_validation.py:378: FitFailedWarning: \n",
      "40 fits failed out of a total of 80.\n",
      "The score on these train-test partitions for these parameters will be set to nan.\n",
      "If these failures are not expected, you can try to debug them by setting error_score='raise'.\n",
      "\n",
      "Below are more details about the failures:\n",
      "--------------------------------------------------------------------------------\n",
      "40 fits failed with the following error:\n",
      "Traceback (most recent call last):\n",
      "  File \"/home/phil/miniconda3/envs/mixture/lib/python3.11/site-packages/sklearn/model_selection/_validation.py\", line 686, in _fit_and_score\n",
      "    estimator.fit(X_train, y_train, **fit_params)\n",
      "  File \"/tmp/ipykernel_4022261/1994987330.py\", line 29, in fit\n",
      "    X, embed_dict[self.embed], geometry=\"euclidean\"\n",
      "       ~~~~~~~~~~^^^^^^^^^^^^\n",
      "TypeError: unhashable type: 'DataFrame'\n",
      "\n",
      "  warnings.warn(some_fits_failed_message, FitFailedWarning)\n",
      "/home/phil/miniconda3/envs/mixture/lib/python3.11/site-packages/sklearn/model_selection/_search.py:953: UserWarning: One or more of the test scores are non-finite: [0.80147059 0.80147059 0.80147059 0.80147059 0.80147059 0.80147059\n",
      " 0.80147059 0.80147059        nan        nan        nan        nan\n",
      "        nan        nan        nan        nan]\n",
      "  warnings.warn(\n"
     ]
    },
    {
     "name": "stdout",
     "output_type": "stream",
     "text": [
      "sokol_healthy_cd\t81\t0.801\t{'embed': None, 'learning_rate': 0.01, 'max_depth': 2, 'n_estimators': 10}\n"
     ]
    },
    {
     "name": "stderr",
     "output_type": "stream",
     "text": [
      "/home/phil/miniconda3/envs/mixture/lib/python3.11/site-packages/sklearn/model_selection/_validation.py:378: FitFailedWarning: \n",
      "40 fits failed out of a total of 80.\n",
      "The score on these train-test partitions for these parameters will be set to nan.\n",
      "If these failures are not expected, you can try to debug them by setting error_score='raise'.\n",
      "\n",
      "Below are more details about the failures:\n",
      "--------------------------------------------------------------------------------\n",
      "40 fits failed with the following error:\n",
      "Traceback (most recent call last):\n",
      "  File \"/home/phil/miniconda3/envs/mixture/lib/python3.11/site-packages/sklearn/model_selection/_validation.py\", line 686, in _fit_and_score\n",
      "    estimator.fit(X_train, y_train, **fit_params)\n",
      "  File \"/tmp/ipykernel_4022261/1994987330.py\", line 29, in fit\n",
      "    X, embed_dict[self.embed], geometry=\"euclidean\"\n",
      "       ~~~~~~~~~~^^^^^^^^^^^^\n",
      "TypeError: unhashable type: 'DataFrame'\n",
      "\n",
      "  warnings.warn(some_fits_failed_message, FitFailedWarning)\n",
      "/home/phil/miniconda3/envs/mixture/lib/python3.11/site-packages/sklearn/model_selection/_search.py:953: UserWarning: One or more of the test scores are non-finite: [0.72 0.72 0.72 0.72 0.72 0.72 0.72 0.72  nan  nan  nan  nan  nan  nan\n",
      "  nan  nan]\n",
      "  warnings.warn(\n"
     ]
    },
    {
     "name": "stdout",
     "output_type": "stream",
     "text": [
      "bacteremia\t28\t0.720\t{'embed': None, 'learning_rate': 0.01, 'max_depth': 2, 'n_estimators': 10}\n"
     ]
    },
    {
     "name": "stderr",
     "output_type": "stream",
     "text": [
      "/home/phil/miniconda3/envs/mixture/lib/python3.11/site-packages/sklearn/model_selection/_validation.py:378: FitFailedWarning: \n",
      "40 fits failed out of a total of 80.\n",
      "The score on these train-test partitions for these parameters will be set to nan.\n",
      "If these failures are not expected, you can try to debug them by setting error_score='raise'.\n",
      "\n",
      "Below are more details about the failures:\n",
      "--------------------------------------------------------------------------------\n",
      "40 fits failed with the following error:\n",
      "Traceback (most recent call last):\n",
      "  File \"/home/phil/miniconda3/envs/mixture/lib/python3.11/site-packages/sklearn/model_selection/_validation.py\", line 686, in _fit_and_score\n",
      "    estimator.fit(X_train, y_train, **fit_params)\n",
      "  File \"/tmp/ipykernel_4022261/1994987330.py\", line 29, in fit\n",
      "    X, embed_dict[self.embed], geometry=\"euclidean\"\n",
      "       ~~~~~~~~~~^^^^^^^^^^^^\n",
      "TypeError: unhashable type: 'DataFrame'\n",
      "\n",
      "  warnings.warn(some_fits_failed_message, FitFailedWarning)\n",
      "/home/phil/miniconda3/envs/mixture/lib/python3.11/site-packages/sklearn/model_selection/_search.py:953: UserWarning: One or more of the test scores are non-finite: [0.69285714 0.69285714 0.69285714 0.69285714 0.69285714 0.69285714\n",
      " 0.69285714 0.69285714        nan        nan        nan        nan\n",
      "        nan        nan        nan        nan]\n",
      "  warnings.warn(\n"
     ]
    },
    {
     "name": "stdout",
     "output_type": "stream",
     "text": [
      "gevers_ileum\t140\t0.693\t{'embed': None, 'learning_rate': 0.01, 'max_depth': 2, 'n_estimators': 10}\n"
     ]
    },
    {
     "name": "stderr",
     "output_type": "stream",
     "text": [
      "/home/phil/miniconda3/envs/mixture/lib/python3.11/site-packages/sklearn/model_selection/_validation.py:378: FitFailedWarning: \n",
      "40 fits failed out of a total of 80.\n",
      "The score on these train-test partitions for these parameters will be set to nan.\n",
      "If these failures are not expected, you can try to debug them by setting error_score='raise'.\n",
      "\n",
      "Below are more details about the failures:\n",
      "--------------------------------------------------------------------------------\n",
      "40 fits failed with the following error:\n",
      "Traceback (most recent call last):\n",
      "  File \"/home/phil/miniconda3/envs/mixture/lib/python3.11/site-packages/sklearn/model_selection/_validation.py\", line 686, in _fit_and_score\n",
      "    estimator.fit(X_train, y_train, **fit_params)\n",
      "  File \"/tmp/ipykernel_4022261/1994987330.py\", line 29, in fit\n",
      "    X, embed_dict[self.embed], geometry=\"euclidean\"\n",
      "       ~~~~~~~~~~^^^^^^^^^^^^\n",
      "TypeError: unhashable type: 'DataFrame'\n",
      "\n",
      "  warnings.warn(some_fits_failed_message, FitFailedWarning)\n",
      "/home/phil/miniconda3/envs/mixture/lib/python3.11/site-packages/sklearn/model_selection/_search.py:953: UserWarning: One or more of the test scores are non-finite: [0.73333333 0.73333333 0.73333333 0.73333333 0.73333333 0.73333333\n",
      " 0.73333333 0.73333333        nan        nan        nan        nan\n",
      "        nan        nan        nan        nan]\n",
      "  warnings.warn(\n"
     ]
    },
    {
     "name": "stdout",
     "output_type": "stream",
     "text": [
      "david\t19\t0.733\t{'embed': None, 'learning_rate': 0.01, 'max_depth': 2, 'n_estimators': 10}\n"
     ]
    },
    {
     "name": "stderr",
     "output_type": "stream",
     "text": [
      "/home/phil/miniconda3/envs/mixture/lib/python3.11/site-packages/sklearn/model_selection/_validation.py:378: FitFailedWarning: \n",
      "40 fits failed out of a total of 80.\n",
      "The score on these train-test partitions for these parameters will be set to nan.\n",
      "If these failures are not expected, you can try to debug them by setting error_score='raise'.\n",
      "\n",
      "Below are more details about the failures:\n",
      "--------------------------------------------------------------------------------\n",
      "40 fits failed with the following error:\n",
      "Traceback (most recent call last):\n",
      "  File \"/home/phil/miniconda3/envs/mixture/lib/python3.11/site-packages/sklearn/model_selection/_validation.py\", line 686, in _fit_and_score\n",
      "    estimator.fit(X_train, y_train, **fit_params)\n",
      "  File \"/tmp/ipykernel_4022261/1994987330.py\", line 29, in fit\n",
      "    X, embed_dict[self.embed], geometry=\"euclidean\"\n",
      "       ~~~~~~~~~~^^^^^^^^^^^^\n",
      "TypeError: unhashable type: 'DataFrame'\n",
      "\n",
      "  warnings.warn(some_fits_failed_message, FitFailedWarning)\n",
      "/home/phil/miniconda3/envs/mixture/lib/python3.11/site-packages/sklearn/model_selection/_search.py:953: UserWarning: One or more of the test scores are non-finite: [ 1.  1.  1.  1.  1.  1.  1.  1. nan nan nan nan nan nan nan nan]\n",
      "  warnings.warn(\n"
     ]
    },
    {
     "name": "stdout",
     "output_type": "stream",
     "text": [
      "yatsunenko_malawi_venezuela\t54\t1.000\t{'embed': None, 'learning_rate': 0.01, 'max_depth': 2, 'n_estimators': 10}\n"
     ]
    },
    {
     "name": "stderr",
     "output_type": "stream",
     "text": [
      "/home/phil/miniconda3/envs/mixture/lib/python3.11/site-packages/sklearn/model_selection/_validation.py:378: FitFailedWarning: \n",
      "40 fits failed out of a total of 80.\n",
      "The score on these train-test partitions for these parameters will be set to nan.\n",
      "If these failures are not expected, you can try to debug them by setting error_score='raise'.\n",
      "\n",
      "Below are more details about the failures:\n",
      "--------------------------------------------------------------------------------\n",
      "40 fits failed with the following error:\n",
      "Traceback (most recent call last):\n",
      "  File \"/home/phil/miniconda3/envs/mixture/lib/python3.11/site-packages/sklearn/model_selection/_validation.py\", line 686, in _fit_and_score\n",
      "    estimator.fit(X_train, y_train, **fit_params)\n",
      "  File \"/tmp/ipykernel_4022261/1994987330.py\", line 29, in fit\n",
      "    X, embed_dict[self.embed], geometry=\"euclidean\"\n",
      "       ~~~~~~~~~~^^^^^^^^^^^^\n",
      "TypeError: unhashable type: 'DataFrame'\n",
      "\n",
      "  warnings.warn(some_fits_failed_message, FitFailedWarning)\n",
      "/home/phil/miniconda3/envs/mixture/lib/python3.11/site-packages/sklearn/model_selection/_search.py:953: UserWarning: One or more of the test scores are non-finite: [0.95319693 0.95319693 0.95319693 0.95319693 0.95319693 0.95319693\n",
      " 0.95319693 0.95319693        nan        nan        nan        nan\n",
      "        nan        nan        nan        nan]\n",
      "  warnings.warn(\n"
     ]
    },
    {
     "name": "stdout",
     "output_type": "stream",
     "text": [
      "ravel_nugent\t342\t0.953\t{'embed': None, 'learning_rate': 0.01, 'max_depth': 2, 'n_estimators': 10}\n"
     ]
    },
    {
     "name": "stderr",
     "output_type": "stream",
     "text": [
      "/home/phil/miniconda3/envs/mixture/lib/python3.11/site-packages/sklearn/model_selection/_validation.py:378: FitFailedWarning: \n",
      "40 fits failed out of a total of 80.\n",
      "The score on these train-test partitions for these parameters will be set to nan.\n",
      "If these failures are not expected, you can try to debug them by setting error_score='raise'.\n",
      "\n",
      "Below are more details about the failures:\n",
      "--------------------------------------------------------------------------------\n",
      "40 fits failed with the following error:\n",
      "Traceback (most recent call last):\n",
      "  File \"/home/phil/miniconda3/envs/mixture/lib/python3.11/site-packages/sklearn/model_selection/_validation.py\", line 686, in _fit_and_score\n",
      "    estimator.fit(X_train, y_train, **fit_params)\n",
      "  File \"/tmp/ipykernel_4022261/1994987330.py\", line 29, in fit\n",
      "    X, embed_dict[self.embed], geometry=\"euclidean\"\n",
      "       ~~~~~~~~~~^^^^^^^^^^^^\n",
      "TypeError: unhashable type: 'DataFrame'\n",
      "\n",
      "  warnings.warn(some_fits_failed_message, FitFailedWarning)\n",
      "/home/phil/miniconda3/envs/mixture/lib/python3.11/site-packages/sklearn/model_selection/_search.py:953: UserWarning: One or more of the test scores are non-finite: [0.3 0.3 0.3 0.3 0.3 0.3 0.3 0.3 nan nan nan nan nan nan nan nan]\n",
      "  warnings.warn(\n"
     ]
    },
    {
     "name": "stdout",
     "output_type": "stream",
     "text": [
      "bushman_cafe\t10\t0.300\t{'embed': None, 'learning_rate': 0.01, 'max_depth': 2, 'n_estimators': 10}\n"
     ]
    },
    {
     "name": "stderr",
     "output_type": "stream",
     "text": [
      "/home/phil/miniconda3/envs/mixture/lib/python3.11/site-packages/sklearn/model_selection/_validation.py:378: FitFailedWarning: \n",
      "40 fits failed out of a total of 80.\n",
      "The score on these train-test partitions for these parameters will be set to nan.\n",
      "If these failures are not expected, you can try to debug them by setting error_score='raise'.\n",
      "\n",
      "Below are more details about the failures:\n",
      "--------------------------------------------------------------------------------\n",
      "40 fits failed with the following error:\n",
      "Traceback (most recent call last):\n",
      "  File \"/home/phil/miniconda3/envs/mixture/lib/python3.11/site-packages/sklearn/model_selection/_validation.py\", line 686, in _fit_and_score\n",
      "    estimator.fit(X_train, y_train, **fit_params)\n",
      "  File \"/tmp/ipykernel_4022261/1994987330.py\", line 29, in fit\n",
      "    X, embed_dict[self.embed], geometry=\"euclidean\"\n",
      "       ~~~~~~~~~~^^^^^^^^^^^^\n",
      "TypeError: unhashable type: 'DataFrame'\n",
      "\n",
      "  warnings.warn(some_fits_failed_message, FitFailedWarning)\n",
      "/home/phil/miniconda3/envs/mixture/lib/python3.11/site-packages/sklearn/model_selection/_search.py:953: UserWarning: One or more of the test scores are non-finite: [0.83333333 0.83333333 0.83333333 0.83333333 0.83333333 0.83333333\n",
      " 0.83333333 0.83333333        nan        nan        nan        nan\n",
      "        nan        nan        nan        nan]\n",
      "  warnings.warn(\n"
     ]
    },
    {
     "name": "stdout",
     "output_type": "stream",
     "text": [
      "cho_penicillin_vancomycin_fecal\t19\t0.833\t{'embed': None, 'learning_rate': 0.01, 'max_depth': 2, 'n_estimators': 10}\n"
     ]
    },
    {
     "name": "stderr",
     "output_type": "stream",
     "text": [
      "/home/phil/miniconda3/envs/mixture/lib/python3.11/site-packages/sklearn/model_selection/_validation.py:378: FitFailedWarning: \n",
      "40 fits failed out of a total of 80.\n",
      "The score on these train-test partitions for these parameters will be set to nan.\n",
      "If these failures are not expected, you can try to debug them by setting error_score='raise'.\n",
      "\n",
      "Below are more details about the failures:\n",
      "--------------------------------------------------------------------------------\n",
      "40 fits failed with the following error:\n",
      "Traceback (most recent call last):\n",
      "  File \"/home/phil/miniconda3/envs/mixture/lib/python3.11/site-packages/sklearn/model_selection/_validation.py\", line 686, in _fit_and_score\n",
      "    estimator.fit(X_train, y_train, **fit_params)\n",
      "  File \"/tmp/ipykernel_4022261/1994987330.py\", line 29, in fit\n",
      "    X, embed_dict[self.embed], geometry=\"euclidean\"\n",
      "       ~~~~~~~~~~^^^^^^^^^^^^\n",
      "TypeError: unhashable type: 'DataFrame'\n",
      "\n",
      "  warnings.warn(some_fits_failed_message, FitFailedWarning)\n",
      "/home/phil/miniconda3/envs/mixture/lib/python3.11/site-packages/sklearn/model_selection/_search.py:953: UserWarning: One or more of the test scores are non-finite: [0.73275862 0.73275862 0.73275862 0.73275862 0.73275862 0.73275862\n",
      " 0.73275862 0.73275862        nan        nan        nan        nan\n",
      "        nan        nan        nan        nan]\n",
      "  warnings.warn(\n"
     ]
    },
    {
     "name": "stdout",
     "output_type": "stream",
     "text": [
      "turnbaugh_obese_lean\t142\t0.733\t{'embed': None, 'learning_rate': 0.01, 'max_depth': 2, 'n_estimators': 10}\n"
     ]
    },
    {
     "name": "stderr",
     "output_type": "stream",
     "text": [
      "/home/phil/miniconda3/envs/mixture/lib/python3.11/site-packages/sklearn/model_selection/_validation.py:378: FitFailedWarning: \n",
      "40 fits failed out of a total of 80.\n",
      "The score on these train-test partitions for these parameters will be set to nan.\n",
      "If these failures are not expected, you can try to debug them by setting error_score='raise'.\n",
      "\n",
      "Below are more details about the failures:\n",
      "--------------------------------------------------------------------------------\n",
      "40 fits failed with the following error:\n",
      "Traceback (most recent call last):\n",
      "  File \"/home/phil/miniconda3/envs/mixture/lib/python3.11/site-packages/sklearn/model_selection/_validation.py\", line 686, in _fit_and_score\n",
      "    estimator.fit(X_train, y_train, **fit_params)\n",
      "  File \"/tmp/ipykernel_4022261/1994987330.py\", line 29, in fit\n",
      "    X, embed_dict[self.embed], geometry=\"euclidean\"\n",
      "       ~~~~~~~~~~^^^^^^^^^^^^\n",
      "TypeError: unhashable type: 'DataFrame'\n",
      "\n",
      "  warnings.warn(some_fits_failed_message, FitFailedWarning)\n",
      "/home/phil/miniconda3/envs/mixture/lib/python3.11/site-packages/sklearn/model_selection/_search.py:953: UserWarning: One or more of the test scores are non-finite: [0.94616756 0.94616756 0.94616756 0.94616756 0.94616756 0.94616756\n",
      " 0.94616756 0.94616756        nan        nan        nan        nan\n",
      "        nan        nan        nan        nan]\n",
      "  warnings.warn(\n"
     ]
    },
    {
     "name": "stdout",
     "output_type": "stream",
     "text": [
      "claesson\t167\t0.946\t{'embed': None, 'learning_rate': 0.01, 'max_depth': 2, 'n_estimators': 10}\n"
     ]
    },
    {
     "name": "stderr",
     "output_type": "stream",
     "text": [
      "/home/phil/miniconda3/envs/mixture/lib/python3.11/site-packages/sklearn/model_selection/_validation.py:378: FitFailedWarning: \n",
      "40 fits failed out of a total of 80.\n",
      "The score on these train-test partitions for these parameters will be set to nan.\n",
      "If these failures are not expected, you can try to debug them by setting error_score='raise'.\n",
      "\n",
      "Below are more details about the failures:\n",
      "--------------------------------------------------------------------------------\n",
      "40 fits failed with the following error:\n",
      "Traceback (most recent call last):\n",
      "  File \"/home/phil/miniconda3/envs/mixture/lib/python3.11/site-packages/sklearn/model_selection/_validation.py\", line 686, in _fit_and_score\n",
      "    estimator.fit(X_train, y_train, **fit_params)\n",
      "  File \"/tmp/ipykernel_4022261/1994987330.py\", line 29, in fit\n",
      "    X, embed_dict[self.embed], geometry=\"euclidean\"\n",
      "       ~~~~~~~~~~^^^^^^^^^^^^\n",
      "TypeError: unhashable type: 'DataFrame'\n",
      "\n",
      "  warnings.warn(some_fits_failed_message, FitFailedWarning)\n",
      "/home/phil/miniconda3/envs/mixture/lib/python3.11/site-packages/sklearn/model_selection/_search.py:953: UserWarning: One or more of the test scores are non-finite: [0.84725275 0.84725275 0.84725275 0.84725275 0.84725275 0.84725275\n",
      " 0.84725275 0.84725275        nan        nan        nan        nan\n",
      "        nan        nan        nan        nan]\n",
      "  warnings.warn(\n"
     ]
    },
    {
     "name": "stdout",
     "output_type": "stream",
     "text": [
      "sokol_healthy_uc\t66\t0.847\t{'embed': None, 'learning_rate': 0.01, 'max_depth': 2, 'n_estimators': 10}\n"
     ]
    },
    {
     "name": "stderr",
     "output_type": "stream",
     "text": [
      "/home/phil/miniconda3/envs/mixture/lib/python3.11/site-packages/sklearn/model_selection/_validation.py:378: FitFailedWarning: \n",
      "40 fits failed out of a total of 80.\n",
      "The score on these train-test partitions for these parameters will be set to nan.\n",
      "If these failures are not expected, you can try to debug them by setting error_score='raise'.\n",
      "\n",
      "Below are more details about the failures:\n",
      "--------------------------------------------------------------------------------\n",
      "40 fits failed with the following error:\n",
      "Traceback (most recent call last):\n",
      "  File \"/home/phil/miniconda3/envs/mixture/lib/python3.11/site-packages/sklearn/model_selection/_validation.py\", line 686, in _fit_and_score\n",
      "    estimator.fit(X_train, y_train, **fit_params)\n",
      "  File \"/tmp/ipykernel_4022261/1994987330.py\", line 29, in fit\n",
      "    X, embed_dict[self.embed], geometry=\"euclidean\"\n",
      "       ~~~~~~~~~~^^^^^^^^^^^^\n",
      "TypeError: unhashable type: 'DataFrame'\n",
      "\n",
      "  warnings.warn(some_fits_failed_message, FitFailedWarning)\n",
      "/home/phil/miniconda3/envs/mixture/lib/python3.11/site-packages/sklearn/model_selection/_search.py:953: UserWarning: One or more of the test scores are non-finite: [0.8 0.8 0.8 0.8 0.8 0.8 0.8 0.8 nan nan nan nan nan nan nan nan]\n",
      "  warnings.warn(\n"
     ]
    },
    {
     "name": "stdout",
     "output_type": "stream",
     "text": [
      "gevers_rectum\t160\t0.800\t{'embed': None, 'learning_rate': 0.01, 'max_depth': 2, 'n_estimators': 10}\n"
     ]
    },
    {
     "name": "stderr",
     "output_type": "stream",
     "text": [
      "/home/phil/miniconda3/envs/mixture/lib/python3.11/site-packages/sklearn/model_selection/_validation.py:378: FitFailedWarning: \n",
      "40 fits failed out of a total of 80.\n",
      "The score on these train-test partitions for these parameters will be set to nan.\n",
      "If these failures are not expected, you can try to debug them by setting error_score='raise'.\n",
      "\n",
      "Below are more details about the failures:\n",
      "--------------------------------------------------------------------------------\n",
      "40 fits failed with the following error:\n",
      "Traceback (most recent call last):\n",
      "  File \"/home/phil/miniconda3/envs/mixture/lib/python3.11/site-packages/sklearn/model_selection/_validation.py\", line 686, in _fit_and_score\n",
      "    estimator.fit(X_train, y_train, **fit_params)\n",
      "  File \"/tmp/ipykernel_4022261/1994987330.py\", line 29, in fit\n",
      "    X, embed_dict[self.embed], geometry=\"euclidean\"\n",
      "       ~~~~~~~~~~^^^^^^^^^^^^\n",
      "TypeError: unhashable type: 'DataFrame'\n",
      "\n",
      "  warnings.warn(some_fits_failed_message, FitFailedWarning)\n",
      "/home/phil/miniconda3/envs/mixture/lib/python3.11/site-packages/sklearn/model_selection/_search.py:953: UserWarning: One or more of the test scores are non-finite: [0.605 0.605 0.605 0.605 0.605 0.605 0.605 0.605   nan   nan   nan   nan\n",
      "   nan   nan   nan   nan]\n",
      "  warnings.warn(\n"
     ]
    },
    {
     "name": "stdout",
     "output_type": "stream",
     "text": [
      "ravel_black_white\t200\t0.605\t{'embed': None, 'learning_rate': 0.01, 'max_depth': 2, 'n_estimators': 10}\n"
     ]
    },
    {
     "ename": "TypeError",
     "evalue": "cannot concatenate object of type '<class 'dict'>'; only Series and DataFrame objs are valid",
     "output_type": "error",
     "traceback": [
      "\u001b[0;31m---------------------------------------------------------------------------\u001b[0m",
      "\u001b[0;31mTypeError\u001b[0m                                 Traceback (most recent call last)",
      "Cell \u001b[0;32mIn[11], line 85\u001b[0m\n\u001b[1;32m     82\u001b[0m         all_scores[\u001b[39m\"\u001b[39m\u001b[39mn_samples\u001b[39m\u001b[39m\"\u001b[39m] \u001b[39m=\u001b[39m \u001b[39mlen\u001b[39m(X)\n\u001b[1;32m     83\u001b[0m         results\u001b[39m.\u001b[39mappend(all_scores)\n\u001b[0;32m---> 85\u001b[0m results \u001b[39m=\u001b[39m pd\u001b[39m.\u001b[39mconcat(results)\n\u001b[1;32m     86\u001b[0m results\u001b[39m.\u001b[39mto_csv(\u001b[39m\"\u001b[39m\u001b[39mresults_xgb_raw.csv\u001b[39m\u001b[39m\"\u001b[39m, index\u001b[39m=\u001b[39m\u001b[39mFalse\u001b[39;00m)\n\u001b[1;32m     87\u001b[0m results\n",
      "File \u001b[0;32m~/miniconda3/envs/mixture/lib/python3.11/site-packages/pandas/core/reshape/concat.py:372\u001b[0m, in \u001b[0;36mconcat\u001b[0;34m(objs, axis, join, ignore_index, keys, levels, names, verify_integrity, sort, copy)\u001b[0m\n\u001b[1;32m    369\u001b[0m \u001b[39melif\u001b[39;00m copy \u001b[39mand\u001b[39;00m using_copy_on_write():\n\u001b[1;32m    370\u001b[0m     copy \u001b[39m=\u001b[39m \u001b[39mFalse\u001b[39;00m\n\u001b[0;32m--> 372\u001b[0m op \u001b[39m=\u001b[39m _Concatenator(\n\u001b[1;32m    373\u001b[0m     objs,\n\u001b[1;32m    374\u001b[0m     axis\u001b[39m=\u001b[39maxis,\n\u001b[1;32m    375\u001b[0m     ignore_index\u001b[39m=\u001b[39mignore_index,\n\u001b[1;32m    376\u001b[0m     join\u001b[39m=\u001b[39mjoin,\n\u001b[1;32m    377\u001b[0m     keys\u001b[39m=\u001b[39mkeys,\n\u001b[1;32m    378\u001b[0m     levels\u001b[39m=\u001b[39mlevels,\n\u001b[1;32m    379\u001b[0m     names\u001b[39m=\u001b[39mnames,\n\u001b[1;32m    380\u001b[0m     verify_integrity\u001b[39m=\u001b[39mverify_integrity,\n\u001b[1;32m    381\u001b[0m     copy\u001b[39m=\u001b[39mcopy,\n\u001b[1;32m    382\u001b[0m     sort\u001b[39m=\u001b[39msort,\n\u001b[1;32m    383\u001b[0m )\n\u001b[1;32m    385\u001b[0m \u001b[39mreturn\u001b[39;00m op\u001b[39m.\u001b[39mget_result()\n",
      "File \u001b[0;32m~/miniconda3/envs/mixture/lib/python3.11/site-packages/pandas/core/reshape/concat.py:462\u001b[0m, in \u001b[0;36m_Concatenator.__init__\u001b[0;34m(self, objs, axis, join, keys, levels, names, ignore_index, verify_integrity, copy, sort)\u001b[0m\n\u001b[1;32m    457\u001b[0m     \u001b[39mif\u001b[39;00m \u001b[39mnot\u001b[39;00m \u001b[39misinstance\u001b[39m(obj, (ABCSeries, ABCDataFrame)):\n\u001b[1;32m    458\u001b[0m         msg \u001b[39m=\u001b[39m (\n\u001b[1;32m    459\u001b[0m             \u001b[39mf\u001b[39m\u001b[39m\"\u001b[39m\u001b[39mcannot concatenate object of type \u001b[39m\u001b[39m'\u001b[39m\u001b[39m{\u001b[39;00m\u001b[39mtype\u001b[39m(obj)\u001b[39m}\u001b[39;00m\u001b[39m'\u001b[39m\u001b[39m; \u001b[39m\u001b[39m\"\u001b[39m\n\u001b[1;32m    460\u001b[0m             \u001b[39m\"\u001b[39m\u001b[39monly Series and DataFrame objs are valid\u001b[39m\u001b[39m\"\u001b[39m\n\u001b[1;32m    461\u001b[0m         )\n\u001b[0;32m--> 462\u001b[0m         \u001b[39mraise\u001b[39;00m \u001b[39mTypeError\u001b[39;00m(msg)\n\u001b[1;32m    464\u001b[0m     ndims\u001b[39m.\u001b[39madd(obj\u001b[39m.\u001b[39mndim)\n\u001b[1;32m    466\u001b[0m \u001b[39m# get the sample\u001b[39;00m\n\u001b[1;32m    467\u001b[0m \u001b[39m# want the highest ndim that we have, and must be non-empty\u001b[39;00m\n\u001b[1;32m    468\u001b[0m \u001b[39m# unless all objs are empty\u001b[39;00m\n",
      "\u001b[0;31mTypeError\u001b[0m: cannot concatenate object of type '<class 'dict'>'; only Series and DataFrame objs are valid"
     ]
    }
   ],
   "source": [
    "# Grid search: XGBoost on raw data - about 32 seconds per dataset\n",
    "\n",
    "# class XGBClassifier_embed(xgb.XGBClassifier):\n",
    "#     def __init__(self, **kwargs):\n",
    "#         embed = kwargs.pop(\"embed\", None)\n",
    "#         self.model = super(XGBClassifier_embed, self).__init__(**kwargs)\n",
    "#         self.embed = embed\n",
    "    \n",
    "#     def fit(self, X, y):\n",
    "#         if self.embed is not None:\n",
    "#             X = mixture_embedding(X, self.embed, geometry=\"euclidean\")\n",
    "#         return self.model.fit(X, y)\n",
    "\n",
    "from sklearn.base import BaseEstimator, ClassifierMixin\n",
    "from sklearn.utils.validation import check_X_y, check_is_fitted\n",
    "from sklearn.utils.multiclass import unique_labels\n",
    "\n",
    "# embed_dict = {\"euc_16\": euc_embed}\n",
    "\n",
    "class XGBClassifier_embed(BaseEstimator, ClassifierMixin):\n",
    "    def __init__(self, embed=None, xgb_params=None):\n",
    "        self.embed = embed\n",
    "        self.xgb_params = xgb_params if xgb_params is not None else {}\n",
    "        self.xgb_clf_ = xgb.XGBClassifier(**self.xgb_params)\n",
    "        \n",
    "    def fit(self, X, y):\n",
    "        if self.embed is not None:\n",
    "            X = mixture_embedding(\n",
    "                X, embed_dict[self.embed], geometry=\"euclidean\"\n",
    "            ) # assuming this method is defined\n",
    "        X, y = check_X_y(X, y)\n",
    "        self.xgb_clf_.fit(X, y)\n",
    "        self.classes_ = unique_labels(y)\n",
    "        return self\n",
    "\n",
    "    def predict(self, X):\n",
    "        check_is_fitted(self)\n",
    "        if self.embed is not None:\n",
    "            X = mixture_embedding(\n",
    "                X, embed_dict[self.embed], geometry=\"euclidean\"\n",
    "            )\n",
    "            X = X.values\n",
    "        return self.xgb_clf_.predict(X)\n",
    "\n",
    "    def get_params(self, deep=True):\n",
    "        return {'embed': self.embed, 'xgb_params': self.xgb_params}\n",
    "\n",
    "    def set_params(self, **parameters):\n",
    "        for parameter, value in parameters.items():\n",
    "            setattr(self, parameter, value)\n",
    "        return self\n",
    "\n",
    "gs = GridSearchCV(\n",
    "    XGBClassifier_embed(),\n",
    "    # xgb.XGBClassifier(),\n",
    "    param_grid={\n",
    "        \"embed\": [None, euc_embed],\n",
    "        \"max_depth\": [2, 4],\n",
    "        \"n_estimators\": [10, 50],\n",
    "        \"learning_rate\": [0.01, 0.1],\n",
    "    },\n",
    "    cv=5,\n",
    "    n_jobs=1,\n",
    "    verbose=0,\n",
    ")\n",
    "\n",
    "results = []\n",
    "for subdir in os.listdir(dd):\n",
    "    if not os.path.isdir(f\"{dd}/{subdir}\"):\n",
    "        continue\n",
    "    else:\n",
    "        X, y = load_task(dd, subdir)\n",
    "        gs.fit(X, y)\n",
    "        params_str = gs.best_params_\n",
    "        if params_str[\"embed\"] is not None:\n",
    "            params_str[\"embed\"] = params_str[\"embed\"].shape\n",
    "        print(subdir, len(X), f\"{gs.best_score_:.3f}\", gs.best_params_, sep=\"\\t\")\n",
    "\n",
    "        # Store all scores\n",
    "        all_scores = gs.cv_results_ # dict\n",
    "        all_scores[\"task\"] = subdir\n",
    "        all_scores[\"n_samples\"] = len(X)\n",
    "        results.append(all_scores)\n",
    "\n",
    "results = pd.concat(results)\n",
    "results.to_csv(\"results_xgb_raw.csv\", index=False)\n",
    "results"
   ]
  },
  {
   "cell_type": "code",
   "execution_count": null,
   "metadata": {},
   "outputs": [],
   "source": []
  }
 ],
 "metadata": {
  "kernelspec": {
   "display_name": "mixture",
   "language": "python",
   "name": "python3"
  },
  "language_info": {
   "codemirror_mode": {
    "name": "ipython",
    "version": 3
   },
   "file_extension": ".py",
   "mimetype": "text/x-python",
   "name": "python",
   "nbconvert_exporter": "python",
   "pygments_lexer": "ipython3",
   "version": "3.11.3"
  },
  "orig_nbformat": 4
 },
 "nbformat": 4,
 "nbformat_minor": 2
}
