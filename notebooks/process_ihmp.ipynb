{
 "cells": [
  {
   "cell_type": "code",
   "execution_count": 1,
   "metadata": {},
   "outputs": [],
   "source": [
    "import pandas as pd\n",
    "from src.util.data_handling.data_loader import save_as_pickle "
   ]
  },
  {
   "attachments": {},
   "cell_type": "markdown",
   "metadata": {},
   "source": [
    "# IBD Data"
   ]
  },
  {
   "cell_type": "code",
   "execution_count": 2,
   "metadata": {},
   "outputs": [],
   "source": [
    "def process_ibd(ibd_data_path, ibd_metadata_path):\n",
    "    \n",
    "    good_metadata = [\n",
    "        'sample',\n",
    "        'Participant ID',\n",
    "        'Project',\n",
    "        'External ID',\n",
    "        'date_of_receipt',\n",
    "        'ProjectSpecificID',\n",
    "        'visit_num',\n",
    "        'site_name',\n",
    "        'consent_age', \n",
    "        'diagnosis', # UC = ulcerative colitis, CD = Crohn disease; https://emedicine.medscape.com/article/179037-overview\n",
    "        'hbi', # Harvey-Bradshaw Index; https://globalrph.com/medcalcs/harvey-bradshaw-index-measuring-crohns-disease/\n",
    "        'sex',\n",
    "        'race',\n",
    "        'fecalcal', # Fecal Calprotectin Test; https://www.verywellhealth.com/how-the-fecal-calprotectin-test-is-used-in-ibd-4140079\n",
    "        'sccai', # Simple clinical colitis activity index; https://en.wikipedia.org/wiki/Simple_clinical_colitis_activity_index\n",
    "        ]\n",
    "    \n",
    "    # load data\n",
    "    ibd_data = pd.read_csv(ibd_data_path)\n",
    "    ibd_metadata = pd.read_csv(ibd_metadata_path)\n",
    "    \n",
    "    # remove participants who did not complete the study\n",
    "    mask = ibd_metadata['Did the subject withdraw from the study?'] == 'No'\n",
    "    ibd_data = ibd_data[mask]\n",
    "    ibd_metadata = ibd_metadata[mask]\n",
    "    \n",
    "    # only track interesting or good metadata\n",
    "    ibd_metadata = ibd_metadata[good_metadata]\n",
    "    ibd_metadata = ibd_metadata.fillna(0)\n",
    "\n",
    "    # rename columns\n",
    "    ibd_data.rename(columns={'sample': 'sample id'}, inplace=True) \n",
    "    ibd_metadata.rename(columns={'sample': 'sample id'}, inplace=True)\n",
    "    \n",
    "    # make sample id the index\n",
    "    ibd_data = ibd_data.set_index('sample id')\n",
    "    ibd_metadata = ibd_metadata.set_index('sample id')\n",
    "    \n",
    "    return ibd_data, ibd_metadata"
   ]
  },
  {
   "attachments": {},
   "cell_type": "markdown",
   "metadata": {},
   "source": [
    "# T2D Data"
   ]
  },
  {
   "cell_type": "code",
   "execution_count": 3,
   "metadata": {},
   "outputs": [],
   "source": [
    "def process_t2d(t2d_data_path, t2d_metadata_path):\n",
    "\n",
    "    # read files\n",
    "    t2d_data = pd.read_csv(t2d_data_path)\n",
    "    t2d_metadata = pd.read_csv(t2d_metadata_path)\n",
    "\n",
    "    # rename columns\n",
    "    t2d_data.rename(columns={'VisitID': 'sample id'}, inplace=True) \n",
    "    t2d_metadata.rename(columns={'VisitID': 'sample id'}, inplace=True) \n",
    "    \n",
    "    # make sample id the index\n",
    "    t2d_data = t2d_data.set_index('sample id')\n",
    "    t2d_metadata = t2d_metadata.set_index('sample id')\n",
    "    \n",
    "    return t2d_data, t2d_metadata"
   ]
  },
  {
   "attachments": {},
   "cell_type": "markdown",
   "metadata": {},
   "source": [
    "# MOMS"
   ]
  },
  {
   "cell_type": "code",
   "execution_count": 4,
   "metadata": {},
   "outputs": [],
   "source": [
    "def process_moms(moms_data_path, moms_metadata_path):\n",
    "    \n",
    "    good_metadata = [\n",
    "        'sample id',\n",
    "        'sample_body_site',\n",
    "        'subject_id',\n",
    "        'visit_number',\n",
    "        'sample'\n",
    "        ]\n",
    "\n",
    "    # load files\n",
    "    moms_data = pd.read_csv(moms_data_path)\n",
    "    moms_metadata = pd.read_csv(moms_metadata_path)\n",
    "\n",
    "    # select good metadata\n",
    "    moms_data = moms_data.drop(columns=['site', 'patient', 'visit'])\n",
    "    moms_data.insert(loc=0, column='sample id', value=moms_metadata['sample_id'])\n",
    "\n",
    "    sample_id = moms_metadata['sample_id']\n",
    "    moms_metadata = moms_metadata.drop(columns=['sample_id'])\n",
    "    moms_metadata.insert(0, column='sample id', value=sample_id)\n",
    "    moms_metadata = moms_metadata[good_metadata]\n",
    "    \n",
    "    # make sample id the index\n",
    "    moms_data = moms_data.set_index('sample id')\n",
    "    moms_metadata = moms_metadata.set_index('sample id')\n",
    "    \n",
    "    return moms_data, moms_metadata"
   ]
  },
  {
   "attachments": {},
   "cell_type": "markdown",
   "metadata": {},
   "source": [
    "# Save Data & Metadata"
   ]
  },
  {
   "cell_type": "code",
   "execution_count": 5,
   "metadata": {},
   "outputs": [],
   "source": [
    "def main(ihmp_dir, outdir):\n",
    "    \n",
    "    # get file paths\n",
    "    ibd_data_path = ihmp_dir + '/ibd_data.csv'\n",
    "    ibd_metadata_path = ihmp_dir + '/ibd_metadata.csv'\n",
    "    t2d_data_path = ihmp_dir + '/t2d_data.csv'\n",
    "    t2d_metadata_path = ihmp_dir + '/t2d_metadata.csv'\n",
    "    moms_data_path = ihmp_dir + '/moms_data.csv'\n",
    "    moms_metadata_path = ihmp_dir + '/moms_metadata.csv'\n",
    "    \n",
    "    # process the data\n",
    "    print('Processing ibd data...', end='\\t\\t')\n",
    "    ibd_data, ibd_metadata = process_ibd(ibd_data_path, ibd_metadata_path)\n",
    "    print('Done.')\n",
    "    \n",
    "    print('Processing t2d data...', end='\\t\\t')\n",
    "    t2d_data, t2d_metadata = process_t2d(t2d_data_path, t2d_metadata_path)\n",
    "    print('Done.')\n",
    "    \n",
    "    print('Processing moms data...', end='\\t\\t')\n",
    "    moms_data, moms_metadata = process_moms(moms_data_path, moms_metadata_path)\n",
    "    print('Done.')\n",
    "    \n",
    "    # save the data\n",
    "    name_to_object = {\n",
    "        'ibd_data': ibd_data, \n",
    "        'ibd_metadata': ibd_metadata,\n",
    "        't2d_data': t2d_data, \n",
    "        't2d_metadata': t2d_metadata,\n",
    "        'moms_data': moms_data, \n",
    "        'moms_metadata': moms_metadata\n",
    "    }\n",
    "    for name, obj in name_to_object.items():\n",
    "        save_as_pickle(obj, '{}/{}.pickle'.format(outdir, name))\n",
    "        \n",
    "    return name_to_object"
   ]
  },
  {
   "cell_type": "code",
   "execution_count": 6,
   "metadata": {},
   "outputs": [
    {
     "name": "stdout",
     "output_type": "stream",
     "text": [
      "Processing ibd data...\t\tDone.\n",
      "Processing t2d data...\t\tDone.\n",
      "Processing moms data...\t\tDone.\n"
     ]
    }
   ],
   "source": [
    "IHMP_DIR = '../data/raw/ihmp'\n",
    "OUTDIR = '../data/interim/ihmp'\n",
    "\n",
    "main(IHMP_DIR, OUTDIR)"
   ]
  }
 ],
 "metadata": {
  "kernelspec": {
   "display_name": "mixture",
   "language": "python",
   "name": "python3"
  },
  "language_info": {
   "codemirror_mode": {
    "name": "ipython",
    "version": 3
   },
   "file_extension": ".py",
   "mimetype": "text/x-python",
   "name": "python",
   "nbconvert_exporter": "python",
   "pygments_lexer": "ipython3",
   "version": "3.10.6"
  },
  "orig_nbformat": 4
 },
 "nbformat": 4,
 "nbformat_minor": 2
}
