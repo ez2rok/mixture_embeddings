{
 "cells": [
  {
   "cell_type": "code",
   "execution_count": 1,
   "metadata": {},
   "outputs": [],
   "source": [
    "import sys\n",
    "sys.path.append(\"/home/ethan/mixture_embeddings/\")"
   ]
  },
  {
   "cell_type": "code",
   "execution_count": 2,
   "metadata": {},
   "outputs": [],
   "source": [
    "import torch\n",
    "import numpy as np\n",
    "import pandas as pd\n",
    "\n",
    "from tqdm import tqdm\n",
    "\n",
    "from icecream import ic\n",
    "\n",
    "# local files\n",
    "from src.util.data_handling.string_generator import str_seq_to_num_seq, ALPHABETS\n",
    "from src.util.data_handling.data_loader import save_as_pickle, load_dataset\n",
    "from src.util.distance_functions.distance_matrix import DISTANCE_MATRIX\n",
    "from src.util.ml_and_math.loss_functions import AverageMeter\n",
    "from src.util.data_handling.closest_string_dataset import ReferenceDataset, QueryDataset\n",
    "from src.util.nearest_neighbors.bruteforce import BruteForceNearestNeighbors\n",
    "from src.util.nearest_neighbors.hnsw import HNSW"
   ]
  },
  {
   "cell_type": "code",
   "execution_count": 3,
   "metadata": {},
   "outputs": [],
   "source": [
    "def load_csr_dataset(path):\n",
    "    sequences_references, sequences_queries, labels = load_dataset(path)\n",
    "    reference_dataset = ReferenceDataset(sequences_references)\n",
    "    query_dataset = QueryDataset(sequences_queries, labels)\n",
    "    return reference_dataset, query_dataset"
   ]
  },
  {
   "cell_type": "code",
   "execution_count": 4,
   "metadata": {},
   "outputs": [],
   "source": [
    "def load_model(encoder_path):\n",
    "    \n",
    "    # model\n",
    "    encoder_model, state_dict = torch.load(encoder_path)\n",
    "    encoder_model.load_state_dict(state_dict)\n",
    "\n",
    "    # Restore best model\n",
    "    print('Loading model ' + encoder_path)\n",
    "    encoder_model.load_state_dict(state_dict)\n",
    "    encoder_model.eval()\n",
    "    \n",
    "    return encoder_model"
   ]
  },
  {
   "cell_type": "code",
   "execution_count": 5,
   "metadata": {},
   "outputs": [],
   "source": [
    "def embed_strings(loader, model, device, desc='Embedding sequences'):\n",
    "    \"\"\" Embeds the sequences of a dataset one batch at the time given an encoder \"\"\"\n",
    "    embeddings = []\n",
    "\n",
    "    for sequences in tqdm(loader, desc=desc):\n",
    "        sequences = sequences.to(device)\n",
    "        embedded = model.encode(sequences)\n",
    "        embeddings.append(embedded.cpu().detach())\n",
    "\n",
    "    embeddings = torch.cat(embeddings, axis=0)\n",
    "    return embeddings"
   ]
  },
  {
   "cell_type": "code",
   "execution_count": 6,
   "metadata": {},
   "outputs": [],
   "source": [
    "def test(query_loader, model, nn, device, num_neighbors, desc='Embedding queries'):\n",
    "    \"\"\" Given the embedding of the references, embeds and checks the performance for one batch of queries at a time \"\"\"\n",
    "    \n",
    "    # initial values\n",
    "    avg_acc = AverageMeter(len_tuple=num_neighbors)\n",
    "    nn_distances_pred = []\n",
    "    nn_idxs_pred = []\n",
    "    \n",
    "    for query_sequences, labels in tqdm(query_loader, desc=desc):\n",
    "        \n",
    "        # embed query sequences\n",
    "        query_sequences, labels = query_sequences.to(device), labels.to(device)\n",
    "        embedded_query = model.encode(query_sequences)\n",
    "\n",
    "        # compute nearest k nearest neighbors for each embedded query\n",
    "        nn_distances, nn_idxs = nn.kneighbors(embedded_query)\n",
    "        nn_distances_pred.append(nn_distances)\n",
    "        nn_idxs_pred.append(nn_idxs)\n",
    "\n",
    "        # compute top-k accuracy        \n",
    "        correct = nn_idxs.eq(labels.unsqueeze(1)).expand_as(nn_idxs)[:10]\n",
    "        rank = torch.cumsum(correct, 1)\n",
    "        acc = [torch.mean((rank[:, i]).float()) for i in range(num_neighbors)]\n",
    "        avg_acc.update(acc, query_sequences.shape[0])\n",
    "\n",
    "    avg_acc = torch.vstack(avg_acc.avg).squeeze().detach().cpu()\n",
    "    return avg_acc"
   ]
  },
  {
   "cell_type": "code",
   "execution_count": 7,
   "metadata": {},
   "outputs": [],
   "source": [
    "def closest_string_retrieval(nn_alg, encoder_path, closest_strings_path, batch_size, num_neighbors=10, no_cuda=False, seed=42, verbose=True):\n",
    "    \n",
    "    # set the device\n",
    "    cuda = not no_cuda and torch.cuda.is_available()\n",
    "    device = 'cuda' if cuda else 'cpu'\n",
    "    print('Using device:', device)\n",
    "\n",
    "    # set the random seed\n",
    "    np.random.seed(seed)\n",
    "    torch.manual_seed(seed)\n",
    "    if cuda:\n",
    "        torch.cuda.manual_seed(seed)    \n",
    "        \n",
    "    # load model\n",
    "    encoder_model = load_model(encoder_path)\n",
    "    distance_str = encoder_model.distance_str\n",
    "    distance = DISTANCE_MATRIX[distance_str]\n",
    "    \n",
    "    # load data\n",
    "    reference_dataset, query_dataset = load_csr_dataset(closest_strings_path)\n",
    "    reference_loader = torch.utils.data.DataLoader(reference_dataset, batch_size=batch_size, shuffle=False)\n",
    "    query_loader = torch.utils.data.DataLoader(query_dataset, batch_size=batch_size, shuffle=False)\n",
    "    \n",
    "    # embed reference data\n",
    "    embedded_reference = embed_strings(reference_loader, encoder_model, device, desc='Embedding references')\n",
    "    embedded_reference = embedded_reference.to(device)\n",
    "    \n",
    "    # get nearest neighbor algorithm\n",
    "    nn = None\n",
    "    if nn_alg == 'brute_force':\n",
    "        nn = BruteForceNearestNeighbors(num_neighbors, distance, device, {'scaling': encoder_model.scaling})\n",
    "    elif nn_alg == 'hnsw':\n",
    "        nn = HNSW(num_neighbors, distance_str, device)\n",
    "    else:\n",
    "        raise ValueError(\"`nn` must be in `['brute_force', 'hnsw']`. `nn` is {}\".format(nn))\n",
    "    nn.fit(embedded_reference)\n",
    "    \n",
    "    # get closest strings by embedding queries and using nearest neighbor algorithm `nn`\n",
    "    avg_acc = test(query_loader, encoder_model, nn, device, num_neighbors)\n",
    "    avg_num_comparisons = nn.num_comparisons.avg\n",
    "    \n",
    "    if verbose:\n",
    "        print('ACCURACY: Top1: {:.3f}  Top5: {:.3f}  Top10: {:.3f}'.format(avg_acc[0], avg_acc[4], avg_acc[9]))\n",
    "        print('COMPARISONS: {:.3f}'.format(avg_num_comparisons))\n",
    "    \n",
    "    return avg_acc, avg_num_comparisons"
   ]
  },
  {
   "cell_type": "code",
   "execution_count": 8,
   "metadata": {},
   "outputs": [],
   "source": [
    "def test_all(closest_strings_path='../data/interim/greengenes/closest_strings_ref500_query500.pickle', outdir='../data/processed', model_dir='../models2', batch_size=128, seed=42, no_cuda=False):\n",
    "\n",
    "    dimensions = [2, 4, 6, 8]\n",
    "    distance_strs = ['euclidean', 'hyperbolic']\n",
    "    nn_algs = ['hnsw', 'brute_force']\n",
    "    results = []\n",
    "\n",
    "    for dim in dimensions:\n",
    "        for dist_str in distance_strs:\n",
    "            for nn_alg in nn_algs:\n",
    "                encoder_path = '{}/cnn_{}_{}_model.pickle'.format(model_dir, dist_str, dim)\n",
    "                avg_acc, avg_num_comparisons = closest_string_retrieval(nn_alg, encoder_path, closest_strings_path, batch_size, seed=seed, no_cuda=no_cuda)\n",
    "                print()\n",
    "                \n",
    "                result = {\n",
    "                    'distance': dist_str, \n",
    "                    'dim': dim, \n",
    "                    'nn_alg': nn_alg,\n",
    "                    'top 1 acc': avg_acc[0].item(),\n",
    "                    'top 5 acc': avg_acc[4].item(),\n",
    "                    'top 10 acc': avg_acc[9].item(),\n",
    "                    'comparisons': avg_num_comparisons\n",
    "                    }\n",
    "                results.append(result)             \n",
    "                save_as_pickle(result, '{}/csr_results_{}_{}_{}.pickle'.format(outdir, nn_alg, dist_str, dim))\n",
    "             \n",
    "    filename = '{}/csr_results_all.pickle'.format(outdir)\n",
    "    save_as_pickle(results, filename)\n",
    "    return filename"
   ]
  },
  {
   "cell_type": "code",
   "execution_count": 15,
   "metadata": {},
   "outputs": [],
   "source": [
    "x = False\n",
    "y = 5"
   ]
  },
  {
   "cell_type": "code",
   "execution_count": 16,
   "metadata": {},
   "outputs": [
    {
     "data": {
      "text/plain": [
       "5"
      ]
     },
     "execution_count": 16,
     "metadata": {},
     "output_type": "execute_result"
    }
   ],
   "source": [
    "y += 1 & x\n",
    "y"
   ]
  },
  {
   "cell_type": "code",
   "execution_count": 9,
   "metadata": {},
   "outputs": [
    {
     "name": "stdout",
     "output_type": "stream",
     "text": [
      "Using device: cuda\n",
      "Loading model ../models2/cnn_euclidean_2_model.pickle\n"
     ]
    },
    {
     "name": "stderr",
     "output_type": "stream",
     "text": [
      "Embedding references: 100%|██████████| 4/4 [00:03<00:00,  1.09it/s]\n",
      "Building HNSW graph: 100%|██████████| 500/500 [01:06<00:00,  7.54it/s]\n",
      "Querying: 100%|██████████| 128/128 [00:20<00:00,  6.38it/s]\n",
      "Querying: 100%|██████████| 128/128 [00:20<00:00,  6.30it/s]s/it]\n",
      "Querying: 100%|██████████| 65/65 [00:10<00:00,  6.26it/s]24s/it]\n",
      "Embedding queries: 100%|██████████| 3/3 [00:50<00:00, 16.95s/it]\n"
     ]
    },
    {
     "name": "stdout",
     "output_type": "stream",
     "text": [
      "ACCURACY: Top1: 0.199  Top5: 0.460  Top10: 0.660\n",
      "COMPARISONS: 266.629\n",
      "\n",
      "Using device: cuda\n",
      "Loading model ../models2/cnn_euclidean_2_model.pickle\n"
     ]
    },
    {
     "name": "stderr",
     "output_type": "stream",
     "text": [
      "Embedding references: 100%|██████████| 4/4 [00:00<00:00, 134.04it/s]\n",
      "Embedding queries: 100%|██████████| 3/3 [00:00<00:00, 24.31it/s]\n"
     ]
    },
    {
     "name": "stdout",
     "output_type": "stream",
     "text": [
      "ACCURACY: Top1: 0.199  Top5: 0.460  Top10: 0.660\n",
      "COMPARISONS: 500.000\n",
      "\n",
      "Using device: cuda\n",
      "Loading model ../models2/cnn_hyperbolic_2_model.pickle\n"
     ]
    },
    {
     "name": "stderr",
     "output_type": "stream",
     "text": [
      "Embedding references: 100%|██████████| 4/4 [00:00<00:00, 108.60it/s]\n",
      "Building HNSW graph:  29%|██▉       | 146/500 [00:10<00:26, 13.46it/s]\n"
     ]
    },
    {
     "ename": "KeyboardInterrupt",
     "evalue": "",
     "output_type": "error",
     "traceback": [
      "\u001b[0;31m---------------------------------------------------------------------------\u001b[0m",
      "\u001b[0;31mKeyboardInterrupt\u001b[0m                         Traceback (most recent call last)",
      "\u001b[1;32m/home/ethan/mixture_embeddings/notebooks/get_embeddings_ann.ipynb Cell 9\u001b[0m in \u001b[0;36m1\n\u001b[0;32m----> <a href='vscode-notebook-cell://ssh-remote%2Baeolus/home/ethan/mixture_embeddings/notebooks/get_embeddings_ann.ipynb#X10sdnNjb2RlLXJlbW90ZQ%3D%3D?line=0'>1</a>\u001b[0m test_all()\n",
      "\u001b[1;32m/home/ethan/mixture_embeddings/notebooks/get_embeddings_ann.ipynb Cell 9\u001b[0m in \u001b[0;36m1\n\u001b[1;32m     <a href='vscode-notebook-cell://ssh-remote%2Baeolus/home/ethan/mixture_embeddings/notebooks/get_embeddings_ann.ipynb#X10sdnNjb2RlLXJlbW90ZQ%3D%3D?line=9'>10</a>\u001b[0m \u001b[39mfor\u001b[39;00m nn_alg \u001b[39min\u001b[39;00m nn_algs:\n\u001b[1;32m     <a href='vscode-notebook-cell://ssh-remote%2Baeolus/home/ethan/mixture_embeddings/notebooks/get_embeddings_ann.ipynb#X10sdnNjb2RlLXJlbW90ZQ%3D%3D?line=10'>11</a>\u001b[0m     encoder_path \u001b[39m=\u001b[39m \u001b[39m'\u001b[39m\u001b[39m{}\u001b[39;00m\u001b[39m/cnn_\u001b[39m\u001b[39m{}\u001b[39;00m\u001b[39m_\u001b[39m\u001b[39m{}\u001b[39;00m\u001b[39m_model.pickle\u001b[39m\u001b[39m'\u001b[39m\u001b[39m.\u001b[39mformat(model_dir, dist_str, dim)\n\u001b[0;32m---> <a href='vscode-notebook-cell://ssh-remote%2Baeolus/home/ethan/mixture_embeddings/notebooks/get_embeddings_ann.ipynb#X10sdnNjb2RlLXJlbW90ZQ%3D%3D?line=11'>12</a>\u001b[0m     avg_acc, avg_num_comparisons \u001b[39m=\u001b[39m closest_string_retrieval(nn_alg, encoder_path, closest_strings_path, batch_size, seed\u001b[39m=\u001b[39;49mseed, no_cuda\u001b[39m=\u001b[39;49mno_cuda)\n\u001b[1;32m     <a href='vscode-notebook-cell://ssh-remote%2Baeolus/home/ethan/mixture_embeddings/notebooks/get_embeddings_ann.ipynb#X10sdnNjb2RlLXJlbW90ZQ%3D%3D?line=12'>13</a>\u001b[0m     \u001b[39mprint\u001b[39m()\n\u001b[1;32m     <a href='vscode-notebook-cell://ssh-remote%2Baeolus/home/ethan/mixture_embeddings/notebooks/get_embeddings_ann.ipynb#X10sdnNjb2RlLXJlbW90ZQ%3D%3D?line=14'>15</a>\u001b[0m     result \u001b[39m=\u001b[39m {\n\u001b[1;32m     <a href='vscode-notebook-cell://ssh-remote%2Baeolus/home/ethan/mixture_embeddings/notebooks/get_embeddings_ann.ipynb#X10sdnNjb2RlLXJlbW90ZQ%3D%3D?line=15'>16</a>\u001b[0m         \u001b[39m'\u001b[39m\u001b[39mdistance\u001b[39m\u001b[39m'\u001b[39m: dist_str, \n\u001b[1;32m     <a href='vscode-notebook-cell://ssh-remote%2Baeolus/home/ethan/mixture_embeddings/notebooks/get_embeddings_ann.ipynb#X10sdnNjb2RlLXJlbW90ZQ%3D%3D?line=16'>17</a>\u001b[0m         \u001b[39m'\u001b[39m\u001b[39mdim\u001b[39m\u001b[39m'\u001b[39m: dim, \n\u001b[0;32m   (...)\u001b[0m\n\u001b[1;32m     <a href='vscode-notebook-cell://ssh-remote%2Baeolus/home/ethan/mixture_embeddings/notebooks/get_embeddings_ann.ipynb#X10sdnNjb2RlLXJlbW90ZQ%3D%3D?line=21'>22</a>\u001b[0m         \u001b[39m'\u001b[39m\u001b[39mcomparisons\u001b[39m\u001b[39m'\u001b[39m: avg_num_comparisons\n\u001b[1;32m     <a href='vscode-notebook-cell://ssh-remote%2Baeolus/home/ethan/mixture_embeddings/notebooks/get_embeddings_ann.ipynb#X10sdnNjb2RlLXJlbW90ZQ%3D%3D?line=22'>23</a>\u001b[0m         }\n",
      "\u001b[1;32m/home/ethan/mixture_embeddings/notebooks/get_embeddings_ann.ipynb Cell 9\u001b[0m in \u001b[0;36m3\n\u001b[1;32m     <a href='vscode-notebook-cell://ssh-remote%2Baeolus/home/ethan/mixture_embeddings/notebooks/get_embeddings_ann.ipynb#X10sdnNjb2RlLXJlbW90ZQ%3D%3D?line=33'>34</a>\u001b[0m \u001b[39melse\u001b[39;00m:\n\u001b[1;32m     <a href='vscode-notebook-cell://ssh-remote%2Baeolus/home/ethan/mixture_embeddings/notebooks/get_embeddings_ann.ipynb#X10sdnNjb2RlLXJlbW90ZQ%3D%3D?line=34'>35</a>\u001b[0m     \u001b[39mraise\u001b[39;00m \u001b[39mValueError\u001b[39;00m(\u001b[39m\"\u001b[39m\u001b[39m`nn` must be in `[\u001b[39m\u001b[39m'\u001b[39m\u001b[39mbrute_force\u001b[39m\u001b[39m'\u001b[39m\u001b[39m, \u001b[39m\u001b[39m'\u001b[39m\u001b[39mhnsw\u001b[39m\u001b[39m'\u001b[39m\u001b[39m]`. `nn` is \u001b[39m\u001b[39m{}\u001b[39;00m\u001b[39m\"\u001b[39m\u001b[39m.\u001b[39mformat(nn))\n\u001b[0;32m---> <a href='vscode-notebook-cell://ssh-remote%2Baeolus/home/ethan/mixture_embeddings/notebooks/get_embeddings_ann.ipynb#X10sdnNjb2RlLXJlbW90ZQ%3D%3D?line=35'>36</a>\u001b[0m nn\u001b[39m.\u001b[39;49mfit(embedded_reference)\n\u001b[1;32m     <a href='vscode-notebook-cell://ssh-remote%2Baeolus/home/ethan/mixture_embeddings/notebooks/get_embeddings_ann.ipynb#X10sdnNjb2RlLXJlbW90ZQ%3D%3D?line=37'>38</a>\u001b[0m \u001b[39m# get closest strings by embedding queries and using nearest neighbor algorithm `nn`\u001b[39;00m\n\u001b[1;32m     <a href='vscode-notebook-cell://ssh-remote%2Baeolus/home/ethan/mixture_embeddings/notebooks/get_embeddings_ann.ipynb#X10sdnNjb2RlLXJlbW90ZQ%3D%3D?line=38'>39</a>\u001b[0m avg_acc \u001b[39m=\u001b[39m test(query_loader, encoder_model, nn, device, num_neighbors)\n",
      "File \u001b[0;32m~/mixture_embeddings/src/util/nearest_neighbors/hnsw.py:359\u001b[0m, in \u001b[0;36mHNSW.fit\u001b[0;34m(self, X_ref)\u001b[0m\n\u001b[1;32m    357\u001b[0m \u001b[39mdef\u001b[39;00m \u001b[39mfit\u001b[39m(\u001b[39mself\u001b[39m, X_ref):\n\u001b[1;32m    358\u001b[0m     \u001b[39mfor\u001b[39;00m x \u001b[39min\u001b[39;00m tqdm(X_ref, desc\u001b[39m=\u001b[39m\u001b[39m'\u001b[39m\u001b[39mBuilding HNSW graph\u001b[39m\u001b[39m'\u001b[39m):\n\u001b[0;32m--> 359\u001b[0m         \u001b[39mself\u001b[39;49m\u001b[39m.\u001b[39;49madd(x)\n",
      "File \u001b[0;32m~/mixture_embeddings/src/util/nearest_neighbors/hnsw.py:117\u001b[0m, in \u001b[0;36mHNSW.add\u001b[0;34m(self, elem, ef)\u001b[0m\n\u001b[1;32m    114\u001b[0m level_m \u001b[39m=\u001b[39m m \u001b[39mif\u001b[39;00m layer \u001b[39mis\u001b[39;00m \u001b[39mnot\u001b[39;00m layer0 \u001b[39melse\u001b[39;00m \u001b[39mself\u001b[39m\u001b[39m.\u001b[39m_m0\n\u001b[1;32m    115\u001b[0m \u001b[39m# navigate the graph and update ep with the closest\u001b[39;00m\n\u001b[1;32m    116\u001b[0m \u001b[39m# nodes we find\u001b[39;00m\n\u001b[0;32m--> 117\u001b[0m ep \u001b[39m=\u001b[39m \u001b[39mself\u001b[39;49m\u001b[39m.\u001b[39;49m_search_graph(elem, ep, layer, ef)\n\u001b[1;32m    118\u001b[0m \u001b[39m# insert in g[idx] the best neighbors\u001b[39;00m\n\u001b[1;32m    119\u001b[0m layer[idx] \u001b[39m=\u001b[39m layer_idx \u001b[39m=\u001b[39m {}\n",
      "File \u001b[0;32m~/mixture_embeddings/src/util/nearest_neighbors/hnsw.py:261\u001b[0m, in \u001b[0;36mHNSW._search_graph\u001b[0;34m(self, q, ep, layer, ef)\u001b[0m\n\u001b[1;32m    259\u001b[0m visited\u001b[39m.\u001b[39mupdate(edges)\n\u001b[1;32m    260\u001b[0m edge_data \u001b[39m=\u001b[39m [data[e] \u001b[39mfor\u001b[39;00m e \u001b[39min\u001b[39;00m edges]\n\u001b[0;32m--> 261\u001b[0m dists \u001b[39m=\u001b[39m vectorized_distance(q, edge_data)\n\u001b[1;32m    263\u001b[0m \u001b[39mif\u001b[39;00m \u001b[39mself\u001b[39m\u001b[39m.\u001b[39mdo_count:\n\u001b[1;32m    264\u001b[0m     \u001b[39mself\u001b[39m\u001b[39m.\u001b[39mcount \u001b[39m+\u001b[39m\u001b[39m=\u001b[39m \u001b[39mlen\u001b[39m(edge_data)\n",
      "File \u001b[0;32m~/mixture_embeddings/src/util/nearest_neighbors/hnsw.py:41\u001b[0m, in \u001b[0;36mHNSW.vectorized_distance_\u001b[0;34m(self, x, ys)\u001b[0m\n\u001b[1;32m     39\u001b[0m \u001b[39mdef\u001b[39;00m \u001b[39mvectorized_distance_\u001b[39m(\u001b[39mself\u001b[39m, x, ys):\n\u001b[1;32m     40\u001b[0m     \u001b[39m# pprint.pprint([self.distance_func(x, y) for y in ys])\u001b[39;00m\n\u001b[0;32m---> 41\u001b[0m     \u001b[39mreturn\u001b[39;00m [\u001b[39mself\u001b[39m\u001b[39m.\u001b[39mdistance_func(x, y) \u001b[39mfor\u001b[39;00m y \u001b[39min\u001b[39;00m ys]\n",
      "File \u001b[0;32m~/mixture_embeddings/src/util/nearest_neighbors/hnsw.py:41\u001b[0m, in \u001b[0;36m<listcomp>\u001b[0;34m(.0)\u001b[0m\n\u001b[1;32m     39\u001b[0m \u001b[39mdef\u001b[39;00m \u001b[39mvectorized_distance_\u001b[39m(\u001b[39mself\u001b[39m, x, ys):\n\u001b[1;32m     40\u001b[0m     \u001b[39m# pprint.pprint([self.distance_func(x, y) for y in ys])\u001b[39;00m\n\u001b[0;32m---> 41\u001b[0m     \u001b[39mreturn\u001b[39;00m [\u001b[39mself\u001b[39m\u001b[39m.\u001b[39mdistance_func(x, y) \u001b[39mfor\u001b[39;00m y \u001b[39min\u001b[39;00m ys]\n",
      "\u001b[0;31mKeyboardInterrupt\u001b[0m: "
     ]
    }
   ],
   "source": [
    "test_all()"
   ]
  },
  {
   "attachments": {},
   "cell_type": "markdown",
   "metadata": {},
   "source": [
    "# Plots"
   ]
  },
  {
   "cell_type": "code",
   "execution_count": 15,
   "metadata": {},
   "outputs": [],
   "source": [
    "import plotly.express as px\n",
    "import plotly.graph_objects as go"
   ]
  },
  {
   "cell_type": "code",
   "execution_count": 12,
   "metadata": {},
   "outputs": [],
   "source": [
    "suffixes = ['euclidean_2', 'euclidean_4', 'euclidean_6', 'euclidean_8', 'hyperbolic_2', 'hyperbolic_4', 'hyperbolic_6', 'hyperbolic_8']\n",
    "nn_algs = ['hnsw', 'brute_force']\n",
    "outdir = '../data/processed'\n",
    "filenames = ['{}/csr_results_{}_{}.pickle'.format(outdir, nn_alg, suffix) for suffix in suffixes for nn_alg in nn_algs]\n",
    "results = [load_dataset(filename) for filename in filenames]"
   ]
  },
  {
   "cell_type": "code",
   "execution_count": 13,
   "metadata": {},
   "outputs": [
    {
     "data": {
      "text/html": [
       "<div>\n",
       "<style scoped>\n",
       "    .dataframe tbody tr th:only-of-type {\n",
       "        vertical-align: middle;\n",
       "    }\n",
       "\n",
       "    .dataframe tbody tr th {\n",
       "        vertical-align: top;\n",
       "    }\n",
       "\n",
       "    .dataframe thead th {\n",
       "        text-align: right;\n",
       "    }\n",
       "</style>\n",
       "<table border=\"1\" class=\"dataframe\">\n",
       "  <thead>\n",
       "    <tr style=\"text-align: right;\">\n",
       "      <th></th>\n",
       "      <th>distance</th>\n",
       "      <th>dim</th>\n",
       "      <th>nn_alg</th>\n",
       "      <th>top 1 acc</th>\n",
       "      <th>top 5 acc</th>\n",
       "      <th>top 10 acc</th>\n",
       "      <th>comparisons</th>\n",
       "    </tr>\n",
       "  </thead>\n",
       "  <tbody>\n",
       "    <tr>\n",
       "      <th>0</th>\n",
       "      <td>euclidean</td>\n",
       "      <td>2</td>\n",
       "      <td>hnsw</td>\n",
       "      <td>0.199377</td>\n",
       "      <td>0.460125</td>\n",
       "      <td>0.660125</td>\n",
       "      <td>266.239875</td>\n",
       "    </tr>\n",
       "    <tr>\n",
       "      <th>1</th>\n",
       "      <td>euclidean</td>\n",
       "      <td>2</td>\n",
       "      <td>brute_force</td>\n",
       "      <td>0.199377</td>\n",
       "      <td>0.460125</td>\n",
       "      <td>0.660125</td>\n",
       "      <td>500.000000</td>\n",
       "    </tr>\n",
       "    <tr>\n",
       "      <th>2</th>\n",
       "      <td>euclidean</td>\n",
       "      <td>4</td>\n",
       "      <td>hnsw</td>\n",
       "      <td>0.280374</td>\n",
       "      <td>0.700000</td>\n",
       "      <td>0.860125</td>\n",
       "      <td>279.968847</td>\n",
       "    </tr>\n",
       "    <tr>\n",
       "      <th>3</th>\n",
       "      <td>euclidean</td>\n",
       "      <td>4</td>\n",
       "      <td>brute_force</td>\n",
       "      <td>0.280374</td>\n",
       "      <td>0.700000</td>\n",
       "      <td>0.860125</td>\n",
       "      <td>500.000000</td>\n",
       "    </tr>\n",
       "    <tr>\n",
       "      <th>4</th>\n",
       "      <td>euclidean</td>\n",
       "      <td>6</td>\n",
       "      <td>hnsw</td>\n",
       "      <td>0.360748</td>\n",
       "      <td>0.720872</td>\n",
       "      <td>0.760748</td>\n",
       "      <td>290.277259</td>\n",
       "    </tr>\n",
       "    <tr>\n",
       "      <th>5</th>\n",
       "      <td>euclidean</td>\n",
       "      <td>6</td>\n",
       "      <td>brute_force</td>\n",
       "      <td>0.360748</td>\n",
       "      <td>0.720872</td>\n",
       "      <td>0.760748</td>\n",
       "      <td>500.000000</td>\n",
       "    </tr>\n",
       "    <tr>\n",
       "      <th>6</th>\n",
       "      <td>euclidean</td>\n",
       "      <td>8</td>\n",
       "      <td>hnsw</td>\n",
       "      <td>0.520872</td>\n",
       "      <td>0.800623</td>\n",
       "      <td>0.880374</td>\n",
       "      <td>306.529595</td>\n",
       "    </tr>\n",
       "    <tr>\n",
       "      <th>7</th>\n",
       "      <td>euclidean</td>\n",
       "      <td>8</td>\n",
       "      <td>brute_force</td>\n",
       "      <td>0.520872</td>\n",
       "      <td>0.800623</td>\n",
       "      <td>0.880374</td>\n",
       "      <td>500.000000</td>\n",
       "    </tr>\n",
       "    <tr>\n",
       "      <th>8</th>\n",
       "      <td>hyperbolic</td>\n",
       "      <td>2</td>\n",
       "      <td>hnsw</td>\n",
       "      <td>0.060125</td>\n",
       "      <td>0.160125</td>\n",
       "      <td>0.320872</td>\n",
       "      <td>236.003115</td>\n",
       "    </tr>\n",
       "    <tr>\n",
       "      <th>9</th>\n",
       "      <td>hyperbolic</td>\n",
       "      <td>2</td>\n",
       "      <td>brute_force</td>\n",
       "      <td>0.060125</td>\n",
       "      <td>0.160125</td>\n",
       "      <td>0.320872</td>\n",
       "      <td>500.000000</td>\n",
       "    </tr>\n",
       "    <tr>\n",
       "      <th>10</th>\n",
       "      <td>hyperbolic</td>\n",
       "      <td>4</td>\n",
       "      <td>hnsw</td>\n",
       "      <td>0.320872</td>\n",
       "      <td>0.580374</td>\n",
       "      <td>0.779751</td>\n",
       "      <td>283.573209</td>\n",
       "    </tr>\n",
       "    <tr>\n",
       "      <th>11</th>\n",
       "      <td>hyperbolic</td>\n",
       "      <td>4</td>\n",
       "      <td>brute_force</td>\n",
       "      <td>0.320872</td>\n",
       "      <td>0.580374</td>\n",
       "      <td>0.779751</td>\n",
       "      <td>500.000000</td>\n",
       "    </tr>\n",
       "    <tr>\n",
       "      <th>12</th>\n",
       "      <td>hyperbolic</td>\n",
       "      <td>6</td>\n",
       "      <td>hnsw</td>\n",
       "      <td>0.480374</td>\n",
       "      <td>0.760125</td>\n",
       "      <td>0.860125</td>\n",
       "      <td>281.239875</td>\n",
       "    </tr>\n",
       "    <tr>\n",
       "      <th>13</th>\n",
       "      <td>hyperbolic</td>\n",
       "      <td>6</td>\n",
       "      <td>brute_force</td>\n",
       "      <td>0.500623</td>\n",
       "      <td>0.760125</td>\n",
       "      <td>0.860125</td>\n",
       "      <td>500.000000</td>\n",
       "    </tr>\n",
       "    <tr>\n",
       "      <th>14</th>\n",
       "      <td>hyperbolic</td>\n",
       "      <td>8</td>\n",
       "      <td>hnsw</td>\n",
       "      <td>0.460748</td>\n",
       "      <td>0.780374</td>\n",
       "      <td>0.840498</td>\n",
       "      <td>290.566978</td>\n",
       "    </tr>\n",
       "    <tr>\n",
       "      <th>15</th>\n",
       "      <td>hyperbolic</td>\n",
       "      <td>8</td>\n",
       "      <td>brute_force</td>\n",
       "      <td>0.460748</td>\n",
       "      <td>0.780374</td>\n",
       "      <td>0.840498</td>\n",
       "      <td>500.000000</td>\n",
       "    </tr>\n",
       "  </tbody>\n",
       "</table>\n",
       "</div>"
      ],
      "text/plain": [
       "      distance  dim       nn_alg  top 1 acc  top 5 acc  top 10 acc  \\\n",
       "0    euclidean    2         hnsw   0.199377   0.460125    0.660125   \n",
       "1    euclidean    2  brute_force   0.199377   0.460125    0.660125   \n",
       "2    euclidean    4         hnsw   0.280374   0.700000    0.860125   \n",
       "3    euclidean    4  brute_force   0.280374   0.700000    0.860125   \n",
       "4    euclidean    6         hnsw   0.360748   0.720872    0.760748   \n",
       "5    euclidean    6  brute_force   0.360748   0.720872    0.760748   \n",
       "6    euclidean    8         hnsw   0.520872   0.800623    0.880374   \n",
       "7    euclidean    8  brute_force   0.520872   0.800623    0.880374   \n",
       "8   hyperbolic    2         hnsw   0.060125   0.160125    0.320872   \n",
       "9   hyperbolic    2  brute_force   0.060125   0.160125    0.320872   \n",
       "10  hyperbolic    4         hnsw   0.320872   0.580374    0.779751   \n",
       "11  hyperbolic    4  brute_force   0.320872   0.580374    0.779751   \n",
       "12  hyperbolic    6         hnsw   0.480374   0.760125    0.860125   \n",
       "13  hyperbolic    6  brute_force   0.500623   0.760125    0.860125   \n",
       "14  hyperbolic    8         hnsw   0.460748   0.780374    0.840498   \n",
       "15  hyperbolic    8  brute_force   0.460748   0.780374    0.840498   \n",
       "\n",
       "    comparisons  \n",
       "0    266.239875  \n",
       "1    500.000000  \n",
       "2    279.968847  \n",
       "3    500.000000  \n",
       "4    290.277259  \n",
       "5    500.000000  \n",
       "6    306.529595  \n",
       "7    500.000000  \n",
       "8    236.003115  \n",
       "9    500.000000  \n",
       "10   283.573209  \n",
       "11   500.000000  \n",
       "12   281.239875  \n",
       "13   500.000000  \n",
       "14   290.566978  \n",
       "15   500.000000  "
      ]
     },
     "execution_count": 13,
     "metadata": {},
     "output_type": "execute_result"
    }
   ],
   "source": [
    "df = pd.DataFrame(results)\n",
    "df"
   ]
  },
  {
   "cell_type": "code",
   "execution_count": 21,
   "metadata": {},
   "outputs": [],
   "source": [
    "y_text_shift = 5\n",
    "exp_offset = 3\n",
    "num_decimals = 3\n",
    "\n",
    "df = pd.DataFrame(results)\n",
    "df['top 1 acc rounded'] = df['top 1 acc'].round(3)\n",
    "df['top 1 acc exp'] = df['top 1 acc'].pow(exp_offset)\n",
    "df['comparisons shifted'] = df['comparisons'] + y_text_shift * (df['distance'] == 'euclidean')"
   ]
  },
  {
   "cell_type": "code",
   "execution_count": 22,
   "metadata": {},
   "outputs": [
    {
     "data": {
      "application/vnd.plotly.v1+json": {
       "config": {
        "plotlyServerURL": "https://plot.ly"
       },
       "data": [
        {
         "hovertemplate": "distance=euclidean<br>nn_alg=hnsw<br>dim=%{x}<br>comparisons shifted=%{y}<br>top 1 acc exp=%{marker.size}<extra></extra>",
         "legendgroup": "euclidean, hnsw",
         "marker": {
          "color": "#636efa",
          "size": [
           0.007925465567109104,
           0.02204003794677325,
           0.04694729635827826,
           0.14131674477674444
          ],
          "sizemode": "area",
          "sizeref": 0.0003532918619418611,
          "symbol": "circle"
         },
         "mode": "markers",
         "name": "euclidean, hnsw",
         "orientation": "v",
         "showlegend": true,
         "textposition": "bottom right",
         "type": "scatter",
         "x": [
          2,
          4,
          6,
          8
         ],
         "xaxis": "x",
         "y": [
          271.2398753894081,
          284.9688473520249,
          295.2772585669782,
          311.5295950155763
         ],
         "yaxis": "y"
        },
        {
         "hovertemplate": "distance=euclidean<br>nn_alg=brute_force<br>dim=%{x}<br>comparisons shifted=%{y}<br>top 1 acc exp=%{marker.size}<extra></extra>",
         "legendgroup": "euclidean, brute_force",
         "marker": {
          "color": "#636efa",
          "size": [
           0.007925465567109104,
           0.02204003794677325,
           0.04694729635827826,
           0.14131674477674444
          ],
          "sizemode": "area",
          "sizeref": 0.0003532918619418611,
          "symbol": "diamond"
         },
         "mode": "markers",
         "name": "euclidean, brute_force",
         "orientation": "v",
         "showlegend": true,
         "textposition": "bottom right",
         "type": "scatter",
         "x": [
          2,
          4,
          6,
          8
         ],
         "xaxis": "x",
         "y": [
          505,
          505,
          505,
          505
         ],
         "yaxis": "y"
        },
        {
         "hovertemplate": "distance=hyperbolic<br>nn_alg=hnsw<br>dim=%{x}<br>comparisons shifted=%{y}<br>top 1 acc exp=%{marker.size}<extra></extra>",
         "legendgroup": "hyperbolic, hnsw",
         "marker": {
          "color": "#EF553B",
          "size": [
           0.0002173485403840594,
           0.033036694597177535,
           0.11085057168045218,
           0.09781136691421126
          ],
          "sizemode": "area",
          "sizeref": 0.0003532918619418611,
          "symbol": "circle"
         },
         "mode": "markers",
         "name": "hyperbolic, hnsw",
         "orientation": "v",
         "showlegend": true,
         "textposition": "bottom right",
         "type": "scatter",
         "x": [
          2,
          4,
          6,
          8
         ],
         "xaxis": "x",
         "y": [
          236.00311526479751,
          283.5732087227414,
          281.2398753894081,
          290.56697819314644
         ],
         "yaxis": "y"
        },
        {
         "hovertemplate": "distance=hyperbolic<br>nn_alg=brute_force<br>dim=%{x}<br>comparisons shifted=%{y}<br>top 1 acc exp=%{marker.size}<extra></extra>",
         "legendgroup": "hyperbolic, brute_force",
         "marker": {
          "color": "#EF553B",
          "size": [
           0.0002173485403840594,
           0.033036694597177535,
           0.12546786803774132,
           0.09781136691421126
          ],
          "sizemode": "area",
          "sizeref": 0.0003532918619418611,
          "symbol": "diamond"
         },
         "mode": "markers",
         "name": "hyperbolic, brute_force",
         "orientation": "v",
         "showlegend": true,
         "textposition": "bottom right",
         "type": "scatter",
         "x": [
          2,
          4,
          6,
          8
         ],
         "xaxis": "x",
         "y": [
          500,
          500,
          500,
          500
         ],
         "yaxis": "y"
        },
        {
         "hovertemplate": "distance=euclidean<br>nn_alg=hnsw<br>dim=%{x}<br>comparisons shifted=%{y}<extra></extra>",
         "legendgroup": "euclidean, hnsw",
         "line": {
          "color": "#636efa",
          "dash": "solid"
         },
         "marker": {
          "symbol": "circle"
         },
         "mode": "markers+lines",
         "name": "euclidean, hnsw",
         "orientation": "v",
         "showlegend": true,
         "textposition": "bottom right",
         "type": "scatter",
         "x": [
          2,
          4,
          6,
          8
         ],
         "xaxis": "x",
         "y": [
          271.2398753894081,
          284.9688473520249,
          295.2772585669782,
          311.5295950155763
         ],
         "yaxis": "y"
        },
        {
         "hovertemplate": "distance=euclidean<br>nn_alg=brute_force<br>dim=%{x}<br>comparisons shifted=%{y}<extra></extra>",
         "legendgroup": "euclidean, brute_force",
         "line": {
          "color": "#636efa",
          "dash": "solid"
         },
         "marker": {
          "symbol": "diamond"
         },
         "mode": "markers+lines",
         "name": "euclidean, brute_force",
         "orientation": "v",
         "showlegend": true,
         "textposition": "bottom right",
         "type": "scatter",
         "x": [
          2,
          4,
          6,
          8
         ],
         "xaxis": "x",
         "y": [
          505,
          505,
          505,
          505
         ],
         "yaxis": "y"
        },
        {
         "hovertemplate": "distance=hyperbolic<br>nn_alg=hnsw<br>dim=%{x}<br>comparisons shifted=%{y}<extra></extra>",
         "legendgroup": "hyperbolic, hnsw",
         "line": {
          "color": "#EF553B",
          "dash": "solid"
         },
         "marker": {
          "symbol": "circle"
         },
         "mode": "markers+lines",
         "name": "hyperbolic, hnsw",
         "orientation": "v",
         "showlegend": true,
         "textposition": "bottom right",
         "type": "scatter",
         "x": [
          2,
          4,
          6,
          8
         ],
         "xaxis": "x",
         "y": [
          236.00311526479751,
          283.5732087227414,
          281.2398753894081,
          290.56697819314644
         ],
         "yaxis": "y"
        },
        {
         "hovertemplate": "distance=hyperbolic<br>nn_alg=brute_force<br>dim=%{x}<br>comparisons shifted=%{y}<extra></extra>",
         "legendgroup": "hyperbolic, brute_force",
         "line": {
          "color": "#EF553B",
          "dash": "solid"
         },
         "marker": {
          "symbol": "diamond"
         },
         "mode": "markers+lines",
         "name": "hyperbolic, brute_force",
         "orientation": "v",
         "showlegend": true,
         "textposition": "bottom right",
         "type": "scatter",
         "x": [
          2,
          4,
          6,
          8
         ],
         "xaxis": "x",
         "y": [
          500,
          500,
          500,
          500
         ],
         "yaxis": "y"
        }
       ],
       "layout": {
        "template": {
         "data": {
          "bar": [
           {
            "error_x": {
             "color": "#2a3f5f"
            },
            "error_y": {
             "color": "#2a3f5f"
            },
            "marker": {
             "line": {
              "color": "#E5ECF6",
              "width": 0.5
             },
             "pattern": {
              "fillmode": "overlay",
              "size": 10,
              "solidity": 0.2
             }
            },
            "type": "bar"
           }
          ],
          "barpolar": [
           {
            "marker": {
             "line": {
              "color": "#E5ECF6",
              "width": 0.5
             },
             "pattern": {
              "fillmode": "overlay",
              "size": 10,
              "solidity": 0.2
             }
            },
            "type": "barpolar"
           }
          ],
          "carpet": [
           {
            "aaxis": {
             "endlinecolor": "#2a3f5f",
             "gridcolor": "white",
             "linecolor": "white",
             "minorgridcolor": "white",
             "startlinecolor": "#2a3f5f"
            },
            "baxis": {
             "endlinecolor": "#2a3f5f",
             "gridcolor": "white",
             "linecolor": "white",
             "minorgridcolor": "white",
             "startlinecolor": "#2a3f5f"
            },
            "type": "carpet"
           }
          ],
          "choropleth": [
           {
            "colorbar": {
             "outlinewidth": 0,
             "ticks": ""
            },
            "type": "choropleth"
           }
          ],
          "contour": [
           {
            "colorbar": {
             "outlinewidth": 0,
             "ticks": ""
            },
            "colorscale": [
             [
              0,
              "#0d0887"
             ],
             [
              0.1111111111111111,
              "#46039f"
             ],
             [
              0.2222222222222222,
              "#7201a8"
             ],
             [
              0.3333333333333333,
              "#9c179e"
             ],
             [
              0.4444444444444444,
              "#bd3786"
             ],
             [
              0.5555555555555556,
              "#d8576b"
             ],
             [
              0.6666666666666666,
              "#ed7953"
             ],
             [
              0.7777777777777778,
              "#fb9f3a"
             ],
             [
              0.8888888888888888,
              "#fdca26"
             ],
             [
              1,
              "#f0f921"
             ]
            ],
            "type": "contour"
           }
          ],
          "contourcarpet": [
           {
            "colorbar": {
             "outlinewidth": 0,
             "ticks": ""
            },
            "type": "contourcarpet"
           }
          ],
          "heatmap": [
           {
            "colorbar": {
             "outlinewidth": 0,
             "ticks": ""
            },
            "colorscale": [
             [
              0,
              "#0d0887"
             ],
             [
              0.1111111111111111,
              "#46039f"
             ],
             [
              0.2222222222222222,
              "#7201a8"
             ],
             [
              0.3333333333333333,
              "#9c179e"
             ],
             [
              0.4444444444444444,
              "#bd3786"
             ],
             [
              0.5555555555555556,
              "#d8576b"
             ],
             [
              0.6666666666666666,
              "#ed7953"
             ],
             [
              0.7777777777777778,
              "#fb9f3a"
             ],
             [
              0.8888888888888888,
              "#fdca26"
             ],
             [
              1,
              "#f0f921"
             ]
            ],
            "type": "heatmap"
           }
          ],
          "heatmapgl": [
           {
            "colorbar": {
             "outlinewidth": 0,
             "ticks": ""
            },
            "colorscale": [
             [
              0,
              "#0d0887"
             ],
             [
              0.1111111111111111,
              "#46039f"
             ],
             [
              0.2222222222222222,
              "#7201a8"
             ],
             [
              0.3333333333333333,
              "#9c179e"
             ],
             [
              0.4444444444444444,
              "#bd3786"
             ],
             [
              0.5555555555555556,
              "#d8576b"
             ],
             [
              0.6666666666666666,
              "#ed7953"
             ],
             [
              0.7777777777777778,
              "#fb9f3a"
             ],
             [
              0.8888888888888888,
              "#fdca26"
             ],
             [
              1,
              "#f0f921"
             ]
            ],
            "type": "heatmapgl"
           }
          ],
          "histogram": [
           {
            "marker": {
             "pattern": {
              "fillmode": "overlay",
              "size": 10,
              "solidity": 0.2
             }
            },
            "type": "histogram"
           }
          ],
          "histogram2d": [
           {
            "colorbar": {
             "outlinewidth": 0,
             "ticks": ""
            },
            "colorscale": [
             [
              0,
              "#0d0887"
             ],
             [
              0.1111111111111111,
              "#46039f"
             ],
             [
              0.2222222222222222,
              "#7201a8"
             ],
             [
              0.3333333333333333,
              "#9c179e"
             ],
             [
              0.4444444444444444,
              "#bd3786"
             ],
             [
              0.5555555555555556,
              "#d8576b"
             ],
             [
              0.6666666666666666,
              "#ed7953"
             ],
             [
              0.7777777777777778,
              "#fb9f3a"
             ],
             [
              0.8888888888888888,
              "#fdca26"
             ],
             [
              1,
              "#f0f921"
             ]
            ],
            "type": "histogram2d"
           }
          ],
          "histogram2dcontour": [
           {
            "colorbar": {
             "outlinewidth": 0,
             "ticks": ""
            },
            "colorscale": [
             [
              0,
              "#0d0887"
             ],
             [
              0.1111111111111111,
              "#46039f"
             ],
             [
              0.2222222222222222,
              "#7201a8"
             ],
             [
              0.3333333333333333,
              "#9c179e"
             ],
             [
              0.4444444444444444,
              "#bd3786"
             ],
             [
              0.5555555555555556,
              "#d8576b"
             ],
             [
              0.6666666666666666,
              "#ed7953"
             ],
             [
              0.7777777777777778,
              "#fb9f3a"
             ],
             [
              0.8888888888888888,
              "#fdca26"
             ],
             [
              1,
              "#f0f921"
             ]
            ],
            "type": "histogram2dcontour"
           }
          ],
          "mesh3d": [
           {
            "colorbar": {
             "outlinewidth": 0,
             "ticks": ""
            },
            "type": "mesh3d"
           }
          ],
          "parcoords": [
           {
            "line": {
             "colorbar": {
              "outlinewidth": 0,
              "ticks": ""
             }
            },
            "type": "parcoords"
           }
          ],
          "pie": [
           {
            "automargin": true,
            "type": "pie"
           }
          ],
          "scatter": [
           {
            "fillpattern": {
             "fillmode": "overlay",
             "size": 10,
             "solidity": 0.2
            },
            "type": "scatter"
           }
          ],
          "scatter3d": [
           {
            "line": {
             "colorbar": {
              "outlinewidth": 0,
              "ticks": ""
             }
            },
            "marker": {
             "colorbar": {
              "outlinewidth": 0,
              "ticks": ""
             }
            },
            "type": "scatter3d"
           }
          ],
          "scattercarpet": [
           {
            "marker": {
             "colorbar": {
              "outlinewidth": 0,
              "ticks": ""
             }
            },
            "type": "scattercarpet"
           }
          ],
          "scattergeo": [
           {
            "marker": {
             "colorbar": {
              "outlinewidth": 0,
              "ticks": ""
             }
            },
            "type": "scattergeo"
           }
          ],
          "scattergl": [
           {
            "marker": {
             "colorbar": {
              "outlinewidth": 0,
              "ticks": ""
             }
            },
            "type": "scattergl"
           }
          ],
          "scattermapbox": [
           {
            "marker": {
             "colorbar": {
              "outlinewidth": 0,
              "ticks": ""
             }
            },
            "type": "scattermapbox"
           }
          ],
          "scatterpolar": [
           {
            "marker": {
             "colorbar": {
              "outlinewidth": 0,
              "ticks": ""
             }
            },
            "type": "scatterpolar"
           }
          ],
          "scatterpolargl": [
           {
            "marker": {
             "colorbar": {
              "outlinewidth": 0,
              "ticks": ""
             }
            },
            "type": "scatterpolargl"
           }
          ],
          "scatterternary": [
           {
            "marker": {
             "colorbar": {
              "outlinewidth": 0,
              "ticks": ""
             }
            },
            "type": "scatterternary"
           }
          ],
          "surface": [
           {
            "colorbar": {
             "outlinewidth": 0,
             "ticks": ""
            },
            "colorscale": [
             [
              0,
              "#0d0887"
             ],
             [
              0.1111111111111111,
              "#46039f"
             ],
             [
              0.2222222222222222,
              "#7201a8"
             ],
             [
              0.3333333333333333,
              "#9c179e"
             ],
             [
              0.4444444444444444,
              "#bd3786"
             ],
             [
              0.5555555555555556,
              "#d8576b"
             ],
             [
              0.6666666666666666,
              "#ed7953"
             ],
             [
              0.7777777777777778,
              "#fb9f3a"
             ],
             [
              0.8888888888888888,
              "#fdca26"
             ],
             [
              1,
              "#f0f921"
             ]
            ],
            "type": "surface"
           }
          ],
          "table": [
           {
            "cells": {
             "fill": {
              "color": "#EBF0F8"
             },
             "line": {
              "color": "white"
             }
            },
            "header": {
             "fill": {
              "color": "#C8D4E3"
             },
             "line": {
              "color": "white"
             }
            },
            "type": "table"
           }
          ]
         },
         "layout": {
          "annotationdefaults": {
           "arrowcolor": "#2a3f5f",
           "arrowhead": 0,
           "arrowwidth": 1
          },
          "autotypenumbers": "strict",
          "coloraxis": {
           "colorbar": {
            "outlinewidth": 0,
            "ticks": ""
           }
          },
          "colorscale": {
           "diverging": [
            [
             0,
             "#8e0152"
            ],
            [
             0.1,
             "#c51b7d"
            ],
            [
             0.2,
             "#de77ae"
            ],
            [
             0.3,
             "#f1b6da"
            ],
            [
             0.4,
             "#fde0ef"
            ],
            [
             0.5,
             "#f7f7f7"
            ],
            [
             0.6,
             "#e6f5d0"
            ],
            [
             0.7,
             "#b8e186"
            ],
            [
             0.8,
             "#7fbc41"
            ],
            [
             0.9,
             "#4d9221"
            ],
            [
             1,
             "#276419"
            ]
           ],
           "sequential": [
            [
             0,
             "#0d0887"
            ],
            [
             0.1111111111111111,
             "#46039f"
            ],
            [
             0.2222222222222222,
             "#7201a8"
            ],
            [
             0.3333333333333333,
             "#9c179e"
            ],
            [
             0.4444444444444444,
             "#bd3786"
            ],
            [
             0.5555555555555556,
             "#d8576b"
            ],
            [
             0.6666666666666666,
             "#ed7953"
            ],
            [
             0.7777777777777778,
             "#fb9f3a"
            ],
            [
             0.8888888888888888,
             "#fdca26"
            ],
            [
             1,
             "#f0f921"
            ]
           ],
           "sequentialminus": [
            [
             0,
             "#0d0887"
            ],
            [
             0.1111111111111111,
             "#46039f"
            ],
            [
             0.2222222222222222,
             "#7201a8"
            ],
            [
             0.3333333333333333,
             "#9c179e"
            ],
            [
             0.4444444444444444,
             "#bd3786"
            ],
            [
             0.5555555555555556,
             "#d8576b"
            ],
            [
             0.6666666666666666,
             "#ed7953"
            ],
            [
             0.7777777777777778,
             "#fb9f3a"
            ],
            [
             0.8888888888888888,
             "#fdca26"
            ],
            [
             1,
             "#f0f921"
            ]
           ]
          },
          "colorway": [
           "#636efa",
           "#EF553B",
           "#00cc96",
           "#ab63fa",
           "#FFA15A",
           "#19d3f3",
           "#FF6692",
           "#B6E880",
           "#FF97FF",
           "#FECB52"
          ],
          "font": {
           "color": "#2a3f5f"
          },
          "geo": {
           "bgcolor": "white",
           "lakecolor": "white",
           "landcolor": "#E5ECF6",
           "showlakes": true,
           "showland": true,
           "subunitcolor": "white"
          },
          "hoverlabel": {
           "align": "left"
          },
          "hovermode": "closest",
          "mapbox": {
           "style": "light"
          },
          "paper_bgcolor": "white",
          "plot_bgcolor": "#E5ECF6",
          "polar": {
           "angularaxis": {
            "gridcolor": "white",
            "linecolor": "white",
            "ticks": ""
           },
           "bgcolor": "#E5ECF6",
           "radialaxis": {
            "gridcolor": "white",
            "linecolor": "white",
            "ticks": ""
           }
          },
          "scene": {
           "xaxis": {
            "backgroundcolor": "#E5ECF6",
            "gridcolor": "white",
            "gridwidth": 2,
            "linecolor": "white",
            "showbackground": true,
            "ticks": "",
            "zerolinecolor": "white"
           },
           "yaxis": {
            "backgroundcolor": "#E5ECF6",
            "gridcolor": "white",
            "gridwidth": 2,
            "linecolor": "white",
            "showbackground": true,
            "ticks": "",
            "zerolinecolor": "white"
           },
           "zaxis": {
            "backgroundcolor": "#E5ECF6",
            "gridcolor": "white",
            "gridwidth": 2,
            "linecolor": "white",
            "showbackground": true,
            "ticks": "",
            "zerolinecolor": "white"
           }
          },
          "shapedefaults": {
           "line": {
            "color": "#2a3f5f"
           }
          },
          "ternary": {
           "aaxis": {
            "gridcolor": "white",
            "linecolor": "white",
            "ticks": ""
           },
           "baxis": {
            "gridcolor": "white",
            "linecolor": "white",
            "ticks": ""
           },
           "bgcolor": "#E5ECF6",
           "caxis": {
            "gridcolor": "white",
            "linecolor": "white",
            "ticks": ""
           }
          },
          "title": {
           "x": 0.05
          },
          "xaxis": {
           "automargin": true,
           "gridcolor": "white",
           "linecolor": "white",
           "ticks": "",
           "title": {
            "standoff": 15
           },
           "zerolinecolor": "white",
           "zerolinewidth": 2
          },
          "yaxis": {
           "automargin": true,
           "gridcolor": "white",
           "linecolor": "white",
           "ticks": "",
           "title": {
            "standoff": 15
           },
           "zerolinecolor": "white",
           "zerolinewidth": 2
          }
         }
        },
        "title": {
         "text": "Nearest Neighbor Search in Hyperbolic and Euclidean Space",
         "x": 0.5,
         "xanchor": "center"
        },
        "xaxis": {
         "title": {
          "text": "Embedding Dimensions"
         }
        },
        "yaxis": {
         "title": {
          "text": "Number of Comparisons (per query per dimension)"
         }
        }
       }
      },
      "text/html": [
       "<div>                            <div id=\"2ff2c94f-e602-40c9-a06c-fe5dd73fd9d6\" class=\"plotly-graph-div\" style=\"height:525px; width:100%;\"></div>            <script type=\"text/javascript\">                require([\"plotly\"], function(Plotly) {                    window.PLOTLYENV=window.PLOTLYENV || {};                                    if (document.getElementById(\"2ff2c94f-e602-40c9-a06c-fe5dd73fd9d6\")) {                    Plotly.newPlot(                        \"2ff2c94f-e602-40c9-a06c-fe5dd73fd9d6\",                        [{\"hovertemplate\":\"distance=euclidean<br>nn_alg=hnsw<br>dim=%{x}<br>comparisons shifted=%{y}<br>top 1 acc exp=%{marker.size}<extra></extra>\",\"legendgroup\":\"euclidean, hnsw\",\"marker\":{\"color\":\"#636efa\",\"size\":[0.007925465567109104,0.02204003794677325,0.04694729635827826,0.14131674477674444],\"sizemode\":\"area\",\"sizeref\":0.0003532918619418611,\"symbol\":\"circle\"},\"mode\":\"markers\",\"name\":\"euclidean, hnsw\",\"orientation\":\"v\",\"showlegend\":true,\"x\":[2,4,6,8],\"xaxis\":\"x\",\"y\":[271.2398753894081,284.9688473520249,295.2772585669782,311.5295950155763],\"yaxis\":\"y\",\"type\":\"scatter\",\"textposition\":\"bottom right\"},{\"hovertemplate\":\"distance=euclidean<br>nn_alg=brute_force<br>dim=%{x}<br>comparisons shifted=%{y}<br>top 1 acc exp=%{marker.size}<extra></extra>\",\"legendgroup\":\"euclidean, brute_force\",\"marker\":{\"color\":\"#636efa\",\"size\":[0.007925465567109104,0.02204003794677325,0.04694729635827826,0.14131674477674444],\"sizemode\":\"area\",\"sizeref\":0.0003532918619418611,\"symbol\":\"diamond\"},\"mode\":\"markers\",\"name\":\"euclidean, brute_force\",\"orientation\":\"v\",\"showlegend\":true,\"x\":[2,4,6,8],\"xaxis\":\"x\",\"y\":[505.0,505.0,505.0,505.0],\"yaxis\":\"y\",\"type\":\"scatter\",\"textposition\":\"bottom right\"},{\"hovertemplate\":\"distance=hyperbolic<br>nn_alg=hnsw<br>dim=%{x}<br>comparisons shifted=%{y}<br>top 1 acc exp=%{marker.size}<extra></extra>\",\"legendgroup\":\"hyperbolic, hnsw\",\"marker\":{\"color\":\"#EF553B\",\"size\":[0.0002173485403840594,0.033036694597177535,0.11085057168045218,0.09781136691421126],\"sizemode\":\"area\",\"sizeref\":0.0003532918619418611,\"symbol\":\"circle\"},\"mode\":\"markers\",\"name\":\"hyperbolic, hnsw\",\"orientation\":\"v\",\"showlegend\":true,\"x\":[2,4,6,8],\"xaxis\":\"x\",\"y\":[236.00311526479751,283.5732087227414,281.2398753894081,290.56697819314644],\"yaxis\":\"y\",\"type\":\"scatter\",\"textposition\":\"bottom right\"},{\"hovertemplate\":\"distance=hyperbolic<br>nn_alg=brute_force<br>dim=%{x}<br>comparisons shifted=%{y}<br>top 1 acc exp=%{marker.size}<extra></extra>\",\"legendgroup\":\"hyperbolic, brute_force\",\"marker\":{\"color\":\"#EF553B\",\"size\":[0.0002173485403840594,0.033036694597177535,0.12546786803774132,0.09781136691421126],\"sizemode\":\"area\",\"sizeref\":0.0003532918619418611,\"symbol\":\"diamond\"},\"mode\":\"markers\",\"name\":\"hyperbolic, brute_force\",\"orientation\":\"v\",\"showlegend\":true,\"x\":[2,4,6,8],\"xaxis\":\"x\",\"y\":[500.0,500.0,500.0,500.0],\"yaxis\":\"y\",\"type\":\"scatter\",\"textposition\":\"bottom right\"},{\"hovertemplate\":\"distance=euclidean<br>nn_alg=hnsw<br>dim=%{x}<br>comparisons shifted=%{y}<extra></extra>\",\"legendgroup\":\"euclidean, hnsw\",\"line\":{\"color\":\"#636efa\",\"dash\":\"solid\"},\"marker\":{\"symbol\":\"circle\"},\"mode\":\"markers+lines\",\"name\":\"euclidean, hnsw\",\"orientation\":\"v\",\"showlegend\":true,\"x\":[2,4,6,8],\"xaxis\":\"x\",\"y\":[271.2398753894081,284.9688473520249,295.2772585669782,311.5295950155763],\"yaxis\":\"y\",\"type\":\"scatter\",\"textposition\":\"bottom right\"},{\"hovertemplate\":\"distance=euclidean<br>nn_alg=brute_force<br>dim=%{x}<br>comparisons shifted=%{y}<extra></extra>\",\"legendgroup\":\"euclidean, brute_force\",\"line\":{\"color\":\"#636efa\",\"dash\":\"solid\"},\"marker\":{\"symbol\":\"diamond\"},\"mode\":\"markers+lines\",\"name\":\"euclidean, brute_force\",\"orientation\":\"v\",\"showlegend\":true,\"x\":[2,4,6,8],\"xaxis\":\"x\",\"y\":[505.0,505.0,505.0,505.0],\"yaxis\":\"y\",\"type\":\"scatter\",\"textposition\":\"bottom right\"},{\"hovertemplate\":\"distance=hyperbolic<br>nn_alg=hnsw<br>dim=%{x}<br>comparisons shifted=%{y}<extra></extra>\",\"legendgroup\":\"hyperbolic, hnsw\",\"line\":{\"color\":\"#EF553B\",\"dash\":\"solid\"},\"marker\":{\"symbol\":\"circle\"},\"mode\":\"markers+lines\",\"name\":\"hyperbolic, hnsw\",\"orientation\":\"v\",\"showlegend\":true,\"x\":[2,4,6,8],\"xaxis\":\"x\",\"y\":[236.00311526479751,283.5732087227414,281.2398753894081,290.56697819314644],\"yaxis\":\"y\",\"type\":\"scatter\",\"textposition\":\"bottom right\"},{\"hovertemplate\":\"distance=hyperbolic<br>nn_alg=brute_force<br>dim=%{x}<br>comparisons shifted=%{y}<extra></extra>\",\"legendgroup\":\"hyperbolic, brute_force\",\"line\":{\"color\":\"#EF553B\",\"dash\":\"solid\"},\"marker\":{\"symbol\":\"diamond\"},\"mode\":\"markers+lines\",\"name\":\"hyperbolic, brute_force\",\"orientation\":\"v\",\"showlegend\":true,\"x\":[2,4,6,8],\"xaxis\":\"x\",\"y\":[500.0,500.0,500.0,500.0],\"yaxis\":\"y\",\"type\":\"scatter\",\"textposition\":\"bottom right\"}],                        {\"template\":{\"data\":{\"histogram2dcontour\":[{\"type\":\"histogram2dcontour\",\"colorbar\":{\"outlinewidth\":0,\"ticks\":\"\"},\"colorscale\":[[0.0,\"#0d0887\"],[0.1111111111111111,\"#46039f\"],[0.2222222222222222,\"#7201a8\"],[0.3333333333333333,\"#9c179e\"],[0.4444444444444444,\"#bd3786\"],[0.5555555555555556,\"#d8576b\"],[0.6666666666666666,\"#ed7953\"],[0.7777777777777778,\"#fb9f3a\"],[0.8888888888888888,\"#fdca26\"],[1.0,\"#f0f921\"]]}],\"choropleth\":[{\"type\":\"choropleth\",\"colorbar\":{\"outlinewidth\":0,\"ticks\":\"\"}}],\"histogram2d\":[{\"type\":\"histogram2d\",\"colorbar\":{\"outlinewidth\":0,\"ticks\":\"\"},\"colorscale\":[[0.0,\"#0d0887\"],[0.1111111111111111,\"#46039f\"],[0.2222222222222222,\"#7201a8\"],[0.3333333333333333,\"#9c179e\"],[0.4444444444444444,\"#bd3786\"],[0.5555555555555556,\"#d8576b\"],[0.6666666666666666,\"#ed7953\"],[0.7777777777777778,\"#fb9f3a\"],[0.8888888888888888,\"#fdca26\"],[1.0,\"#f0f921\"]]}],\"heatmap\":[{\"type\":\"heatmap\",\"colorbar\":{\"outlinewidth\":0,\"ticks\":\"\"},\"colorscale\":[[0.0,\"#0d0887\"],[0.1111111111111111,\"#46039f\"],[0.2222222222222222,\"#7201a8\"],[0.3333333333333333,\"#9c179e\"],[0.4444444444444444,\"#bd3786\"],[0.5555555555555556,\"#d8576b\"],[0.6666666666666666,\"#ed7953\"],[0.7777777777777778,\"#fb9f3a\"],[0.8888888888888888,\"#fdca26\"],[1.0,\"#f0f921\"]]}],\"heatmapgl\":[{\"type\":\"heatmapgl\",\"colorbar\":{\"outlinewidth\":0,\"ticks\":\"\"},\"colorscale\":[[0.0,\"#0d0887\"],[0.1111111111111111,\"#46039f\"],[0.2222222222222222,\"#7201a8\"],[0.3333333333333333,\"#9c179e\"],[0.4444444444444444,\"#bd3786\"],[0.5555555555555556,\"#d8576b\"],[0.6666666666666666,\"#ed7953\"],[0.7777777777777778,\"#fb9f3a\"],[0.8888888888888888,\"#fdca26\"],[1.0,\"#f0f921\"]]}],\"contourcarpet\":[{\"type\":\"contourcarpet\",\"colorbar\":{\"outlinewidth\":0,\"ticks\":\"\"}}],\"contour\":[{\"type\":\"contour\",\"colorbar\":{\"outlinewidth\":0,\"ticks\":\"\"},\"colorscale\":[[0.0,\"#0d0887\"],[0.1111111111111111,\"#46039f\"],[0.2222222222222222,\"#7201a8\"],[0.3333333333333333,\"#9c179e\"],[0.4444444444444444,\"#bd3786\"],[0.5555555555555556,\"#d8576b\"],[0.6666666666666666,\"#ed7953\"],[0.7777777777777778,\"#fb9f3a\"],[0.8888888888888888,\"#fdca26\"],[1.0,\"#f0f921\"]]}],\"surface\":[{\"type\":\"surface\",\"colorbar\":{\"outlinewidth\":0,\"ticks\":\"\"},\"colorscale\":[[0.0,\"#0d0887\"],[0.1111111111111111,\"#46039f\"],[0.2222222222222222,\"#7201a8\"],[0.3333333333333333,\"#9c179e\"],[0.4444444444444444,\"#bd3786\"],[0.5555555555555556,\"#d8576b\"],[0.6666666666666666,\"#ed7953\"],[0.7777777777777778,\"#fb9f3a\"],[0.8888888888888888,\"#fdca26\"],[1.0,\"#f0f921\"]]}],\"mesh3d\":[{\"type\":\"mesh3d\",\"colorbar\":{\"outlinewidth\":0,\"ticks\":\"\"}}],\"scatter\":[{\"fillpattern\":{\"fillmode\":\"overlay\",\"size\":10,\"solidity\":0.2},\"type\":\"scatter\"}],\"parcoords\":[{\"type\":\"parcoords\",\"line\":{\"colorbar\":{\"outlinewidth\":0,\"ticks\":\"\"}}}],\"scatterpolargl\":[{\"type\":\"scatterpolargl\",\"marker\":{\"colorbar\":{\"outlinewidth\":0,\"ticks\":\"\"}}}],\"bar\":[{\"error_x\":{\"color\":\"#2a3f5f\"},\"error_y\":{\"color\":\"#2a3f5f\"},\"marker\":{\"line\":{\"color\":\"#E5ECF6\",\"width\":0.5},\"pattern\":{\"fillmode\":\"overlay\",\"size\":10,\"solidity\":0.2}},\"type\":\"bar\"}],\"scattergeo\":[{\"type\":\"scattergeo\",\"marker\":{\"colorbar\":{\"outlinewidth\":0,\"ticks\":\"\"}}}],\"scatterpolar\":[{\"type\":\"scatterpolar\",\"marker\":{\"colorbar\":{\"outlinewidth\":0,\"ticks\":\"\"}}}],\"histogram\":[{\"marker\":{\"pattern\":{\"fillmode\":\"overlay\",\"size\":10,\"solidity\":0.2}},\"type\":\"histogram\"}],\"scattergl\":[{\"type\":\"scattergl\",\"marker\":{\"colorbar\":{\"outlinewidth\":0,\"ticks\":\"\"}}}],\"scatter3d\":[{\"type\":\"scatter3d\",\"line\":{\"colorbar\":{\"outlinewidth\":0,\"ticks\":\"\"}},\"marker\":{\"colorbar\":{\"outlinewidth\":0,\"ticks\":\"\"}}}],\"scattermapbox\":[{\"type\":\"scattermapbox\",\"marker\":{\"colorbar\":{\"outlinewidth\":0,\"ticks\":\"\"}}}],\"scatterternary\":[{\"type\":\"scatterternary\",\"marker\":{\"colorbar\":{\"outlinewidth\":0,\"ticks\":\"\"}}}],\"scattercarpet\":[{\"type\":\"scattercarpet\",\"marker\":{\"colorbar\":{\"outlinewidth\":0,\"ticks\":\"\"}}}],\"carpet\":[{\"aaxis\":{\"endlinecolor\":\"#2a3f5f\",\"gridcolor\":\"white\",\"linecolor\":\"white\",\"minorgridcolor\":\"white\",\"startlinecolor\":\"#2a3f5f\"},\"baxis\":{\"endlinecolor\":\"#2a3f5f\",\"gridcolor\":\"white\",\"linecolor\":\"white\",\"minorgridcolor\":\"white\",\"startlinecolor\":\"#2a3f5f\"},\"type\":\"carpet\"}],\"table\":[{\"cells\":{\"fill\":{\"color\":\"#EBF0F8\"},\"line\":{\"color\":\"white\"}},\"header\":{\"fill\":{\"color\":\"#C8D4E3\"},\"line\":{\"color\":\"white\"}},\"type\":\"table\"}],\"barpolar\":[{\"marker\":{\"line\":{\"color\":\"#E5ECF6\",\"width\":0.5},\"pattern\":{\"fillmode\":\"overlay\",\"size\":10,\"solidity\":0.2}},\"type\":\"barpolar\"}],\"pie\":[{\"automargin\":true,\"type\":\"pie\"}]},\"layout\":{\"autotypenumbers\":\"strict\",\"colorway\":[\"#636efa\",\"#EF553B\",\"#00cc96\",\"#ab63fa\",\"#FFA15A\",\"#19d3f3\",\"#FF6692\",\"#B6E880\",\"#FF97FF\",\"#FECB52\"],\"font\":{\"color\":\"#2a3f5f\"},\"hovermode\":\"closest\",\"hoverlabel\":{\"align\":\"left\"},\"paper_bgcolor\":\"white\",\"plot_bgcolor\":\"#E5ECF6\",\"polar\":{\"bgcolor\":\"#E5ECF6\",\"angularaxis\":{\"gridcolor\":\"white\",\"linecolor\":\"white\",\"ticks\":\"\"},\"radialaxis\":{\"gridcolor\":\"white\",\"linecolor\":\"white\",\"ticks\":\"\"}},\"ternary\":{\"bgcolor\":\"#E5ECF6\",\"aaxis\":{\"gridcolor\":\"white\",\"linecolor\":\"white\",\"ticks\":\"\"},\"baxis\":{\"gridcolor\":\"white\",\"linecolor\":\"white\",\"ticks\":\"\"},\"caxis\":{\"gridcolor\":\"white\",\"linecolor\":\"white\",\"ticks\":\"\"}},\"coloraxis\":{\"colorbar\":{\"outlinewidth\":0,\"ticks\":\"\"}},\"colorscale\":{\"sequential\":[[0.0,\"#0d0887\"],[0.1111111111111111,\"#46039f\"],[0.2222222222222222,\"#7201a8\"],[0.3333333333333333,\"#9c179e\"],[0.4444444444444444,\"#bd3786\"],[0.5555555555555556,\"#d8576b\"],[0.6666666666666666,\"#ed7953\"],[0.7777777777777778,\"#fb9f3a\"],[0.8888888888888888,\"#fdca26\"],[1.0,\"#f0f921\"]],\"sequentialminus\":[[0.0,\"#0d0887\"],[0.1111111111111111,\"#46039f\"],[0.2222222222222222,\"#7201a8\"],[0.3333333333333333,\"#9c179e\"],[0.4444444444444444,\"#bd3786\"],[0.5555555555555556,\"#d8576b\"],[0.6666666666666666,\"#ed7953\"],[0.7777777777777778,\"#fb9f3a\"],[0.8888888888888888,\"#fdca26\"],[1.0,\"#f0f921\"]],\"diverging\":[[0,\"#8e0152\"],[0.1,\"#c51b7d\"],[0.2,\"#de77ae\"],[0.3,\"#f1b6da\"],[0.4,\"#fde0ef\"],[0.5,\"#f7f7f7\"],[0.6,\"#e6f5d0\"],[0.7,\"#b8e186\"],[0.8,\"#7fbc41\"],[0.9,\"#4d9221\"],[1,\"#276419\"]]},\"xaxis\":{\"gridcolor\":\"white\",\"linecolor\":\"white\",\"ticks\":\"\",\"title\":{\"standoff\":15},\"zerolinecolor\":\"white\",\"automargin\":true,\"zerolinewidth\":2},\"yaxis\":{\"gridcolor\":\"white\",\"linecolor\":\"white\",\"ticks\":\"\",\"title\":{\"standoff\":15},\"zerolinecolor\":\"white\",\"automargin\":true,\"zerolinewidth\":2},\"scene\":{\"xaxis\":{\"backgroundcolor\":\"#E5ECF6\",\"gridcolor\":\"white\",\"linecolor\":\"white\",\"showbackground\":true,\"ticks\":\"\",\"zerolinecolor\":\"white\",\"gridwidth\":2},\"yaxis\":{\"backgroundcolor\":\"#E5ECF6\",\"gridcolor\":\"white\",\"linecolor\":\"white\",\"showbackground\":true,\"ticks\":\"\",\"zerolinecolor\":\"white\",\"gridwidth\":2},\"zaxis\":{\"backgroundcolor\":\"#E5ECF6\",\"gridcolor\":\"white\",\"linecolor\":\"white\",\"showbackground\":true,\"ticks\":\"\",\"zerolinecolor\":\"white\",\"gridwidth\":2}},\"shapedefaults\":{\"line\":{\"color\":\"#2a3f5f\"}},\"annotationdefaults\":{\"arrowcolor\":\"#2a3f5f\",\"arrowhead\":0,\"arrowwidth\":1},\"geo\":{\"bgcolor\":\"white\",\"landcolor\":\"#E5ECF6\",\"subunitcolor\":\"white\",\"showland\":true,\"showlakes\":true,\"lakecolor\":\"white\"},\"title\":{\"x\":0.05},\"mapbox\":{\"style\":\"light\"}}},\"title\":{\"text\":\"Nearest Neighbor Search in Hyperbolic and Euclidean Space\",\"xanchor\":\"center\",\"x\":0.5},\"xaxis\":{\"title\":{\"text\":\"Embedding Dimensions\"}},\"yaxis\":{\"title\":{\"text\":\"Number of Comparisons (per query per dimension)\"}}},                        {\"responsive\": true}                    ).then(function(){\n",
       "                            \n",
       "var gd = document.getElementById('2ff2c94f-e602-40c9-a06c-fe5dd73fd9d6');\n",
       "var x = new MutationObserver(function (mutations, observer) {{\n",
       "        var display = window.getComputedStyle(gd).display;\n",
       "        if (!display || display === 'none') {{\n",
       "            console.log([gd, 'removed!']);\n",
       "            Plotly.purge(gd);\n",
       "            observer.disconnect();\n",
       "        }}\n",
       "}});\n",
       "\n",
       "// Listen for the removal of the full notebook cells\n",
       "var notebookContainer = gd.closest('#notebook-container');\n",
       "if (notebookContainer) {{\n",
       "    x.observe(notebookContainer, {childList: true});\n",
       "}}\n",
       "\n",
       "// Listen for the clearing of the current output cell\n",
       "var outputEl = gd.closest('.output');\n",
       "if (outputEl) {{\n",
       "    x.observe(outputEl, {childList: true});\n",
       "}}\n",
       "\n",
       "                        })                };                });            </script>        </div>"
      ]
     },
     "metadata": {},
     "output_type": "display_data"
    }
   ],
   "source": [
    "fig1 = px.scatter(df, x='dim', y='comparisons shifted', color='distance', size='top 1 acc exp', symbol='nn_alg')\n",
    "fig2 = px.line(df, x=\"dim\", y=\"comparisons shifted\", color='distance', symbol='nn_alg')\n",
    "fig = go.Figure(data = fig1.data + fig2.data)\n",
    "\n",
    "fig.update_traces(textposition=\"bottom right\")\n",
    "fig.update_layout(title={'text': 'Nearest Neighbor Search in Hyperbolic and Euclidean Space', 'xanchor': 'center', 'x':0.5})\n",
    "fig.update_xaxes(title=\"Embedding Dimensions\")\n",
    "fig.update_yaxes(title=\"Number of Comparisons (per query per dimension)\")\n",
    "\n",
    "fig.show()"
   ]
  },
  {
   "cell_type": "code",
   "execution_count": 40,
   "metadata": {},
   "outputs": [
    {
     "data": {
      "text/html": [
       "<div>\n",
       "<style scoped>\n",
       "    .dataframe tbody tr th:only-of-type {\n",
       "        vertical-align: middle;\n",
       "    }\n",
       "\n",
       "    .dataframe tbody tr th {\n",
       "        vertical-align: top;\n",
       "    }\n",
       "\n",
       "    .dataframe thead th {\n",
       "        text-align: right;\n",
       "    }\n",
       "</style>\n",
       "<table border=\"1\" class=\"dataframe\">\n",
       "  <thead>\n",
       "    <tr style=\"text-align: right;\">\n",
       "      <th></th>\n",
       "      <th>distance</th>\n",
       "      <th>dim</th>\n",
       "      <th>nn_alg</th>\n",
       "      <th>top 1 acc</th>\n",
       "      <th>top 5 acc</th>\n",
       "      <th>top 10 acc</th>\n",
       "      <th>comparisons</th>\n",
       "      <th>dim + nn_alg</th>\n",
       "      <th>top 1 acc rounded</th>\n",
       "    </tr>\n",
       "  </thead>\n",
       "  <tbody>\n",
       "    <tr>\n",
       "      <th>0</th>\n",
       "      <td>euclidean</td>\n",
       "      <td>2</td>\n",
       "      <td>hnsw</td>\n",
       "      <td>0.199377</td>\n",
       "      <td>0.460125</td>\n",
       "      <td>0.660125</td>\n",
       "      <td>266.239875</td>\n",
       "      <td>2_hnsw</td>\n",
       "      <td>0.199</td>\n",
       "    </tr>\n",
       "    <tr>\n",
       "      <th>1</th>\n",
       "      <td>euclidean</td>\n",
       "      <td>2</td>\n",
       "      <td>brute_force</td>\n",
       "      <td>0.199377</td>\n",
       "      <td>0.460125</td>\n",
       "      <td>0.660125</td>\n",
       "      <td>500.000000</td>\n",
       "      <td>2_brute_force</td>\n",
       "      <td>0.199</td>\n",
       "    </tr>\n",
       "    <tr>\n",
       "      <th>2</th>\n",
       "      <td>euclidean</td>\n",
       "      <td>4</td>\n",
       "      <td>hnsw</td>\n",
       "      <td>0.280374</td>\n",
       "      <td>0.700000</td>\n",
       "      <td>0.860125</td>\n",
       "      <td>279.968847</td>\n",
       "      <td>4_hnsw</td>\n",
       "      <td>0.280</td>\n",
       "    </tr>\n",
       "    <tr>\n",
       "      <th>3</th>\n",
       "      <td>euclidean</td>\n",
       "      <td>4</td>\n",
       "      <td>brute_force</td>\n",
       "      <td>0.280374</td>\n",
       "      <td>0.700000</td>\n",
       "      <td>0.860125</td>\n",
       "      <td>500.000000</td>\n",
       "      <td>4_brute_force</td>\n",
       "      <td>0.280</td>\n",
       "    </tr>\n",
       "    <tr>\n",
       "      <th>4</th>\n",
       "      <td>euclidean</td>\n",
       "      <td>6</td>\n",
       "      <td>hnsw</td>\n",
       "      <td>0.360748</td>\n",
       "      <td>0.720872</td>\n",
       "      <td>0.760748</td>\n",
       "      <td>290.277259</td>\n",
       "      <td>6_hnsw</td>\n",
       "      <td>0.361</td>\n",
       "    </tr>\n",
       "    <tr>\n",
       "      <th>5</th>\n",
       "      <td>euclidean</td>\n",
       "      <td>6</td>\n",
       "      <td>brute_force</td>\n",
       "      <td>0.360748</td>\n",
       "      <td>0.720872</td>\n",
       "      <td>0.760748</td>\n",
       "      <td>500.000000</td>\n",
       "      <td>6_brute_force</td>\n",
       "      <td>0.361</td>\n",
       "    </tr>\n",
       "    <tr>\n",
       "      <th>6</th>\n",
       "      <td>euclidean</td>\n",
       "      <td>8</td>\n",
       "      <td>hnsw</td>\n",
       "      <td>0.520872</td>\n",
       "      <td>0.800623</td>\n",
       "      <td>0.880374</td>\n",
       "      <td>306.529595</td>\n",
       "      <td>8_hnsw</td>\n",
       "      <td>0.521</td>\n",
       "    </tr>\n",
       "    <tr>\n",
       "      <th>7</th>\n",
       "      <td>euclidean</td>\n",
       "      <td>8</td>\n",
       "      <td>brute_force</td>\n",
       "      <td>0.520872</td>\n",
       "      <td>0.800623</td>\n",
       "      <td>0.880374</td>\n",
       "      <td>500.000000</td>\n",
       "      <td>8_brute_force</td>\n",
       "      <td>0.521</td>\n",
       "    </tr>\n",
       "    <tr>\n",
       "      <th>8</th>\n",
       "      <td>hyperbolic</td>\n",
       "      <td>2</td>\n",
       "      <td>hnsw</td>\n",
       "      <td>0.060125</td>\n",
       "      <td>0.160125</td>\n",
       "      <td>0.320872</td>\n",
       "      <td>236.003115</td>\n",
       "      <td>2_hnsw</td>\n",
       "      <td>0.060</td>\n",
       "    </tr>\n",
       "    <tr>\n",
       "      <th>9</th>\n",
       "      <td>hyperbolic</td>\n",
       "      <td>2</td>\n",
       "      <td>brute_force</td>\n",
       "      <td>0.060125</td>\n",
       "      <td>0.160125</td>\n",
       "      <td>0.320872</td>\n",
       "      <td>500.000000</td>\n",
       "      <td>2_brute_force</td>\n",
       "      <td>0.060</td>\n",
       "    </tr>\n",
       "    <tr>\n",
       "      <th>10</th>\n",
       "      <td>hyperbolic</td>\n",
       "      <td>4</td>\n",
       "      <td>hnsw</td>\n",
       "      <td>0.320872</td>\n",
       "      <td>0.580374</td>\n",
       "      <td>0.779751</td>\n",
       "      <td>283.573209</td>\n",
       "      <td>4_hnsw</td>\n",
       "      <td>0.321</td>\n",
       "    </tr>\n",
       "    <tr>\n",
       "      <th>11</th>\n",
       "      <td>hyperbolic</td>\n",
       "      <td>4</td>\n",
       "      <td>brute_force</td>\n",
       "      <td>0.320872</td>\n",
       "      <td>0.580374</td>\n",
       "      <td>0.779751</td>\n",
       "      <td>500.000000</td>\n",
       "      <td>4_brute_force</td>\n",
       "      <td>0.321</td>\n",
       "    </tr>\n",
       "    <tr>\n",
       "      <th>12</th>\n",
       "      <td>hyperbolic</td>\n",
       "      <td>6</td>\n",
       "      <td>hnsw</td>\n",
       "      <td>0.480374</td>\n",
       "      <td>0.760125</td>\n",
       "      <td>0.860125</td>\n",
       "      <td>281.239875</td>\n",
       "      <td>6_hnsw</td>\n",
       "      <td>0.480</td>\n",
       "    </tr>\n",
       "    <tr>\n",
       "      <th>13</th>\n",
       "      <td>hyperbolic</td>\n",
       "      <td>6</td>\n",
       "      <td>brute_force</td>\n",
       "      <td>0.500623</td>\n",
       "      <td>0.760125</td>\n",
       "      <td>0.860125</td>\n",
       "      <td>500.000000</td>\n",
       "      <td>6_brute_force</td>\n",
       "      <td>0.501</td>\n",
       "    </tr>\n",
       "    <tr>\n",
       "      <th>14</th>\n",
       "      <td>hyperbolic</td>\n",
       "      <td>8</td>\n",
       "      <td>hnsw</td>\n",
       "      <td>0.460748</td>\n",
       "      <td>0.780374</td>\n",
       "      <td>0.840498</td>\n",
       "      <td>290.566978</td>\n",
       "      <td>8_hnsw</td>\n",
       "      <td>0.461</td>\n",
       "    </tr>\n",
       "    <tr>\n",
       "      <th>15</th>\n",
       "      <td>hyperbolic</td>\n",
       "      <td>8</td>\n",
       "      <td>brute_force</td>\n",
       "      <td>0.460748</td>\n",
       "      <td>0.780374</td>\n",
       "      <td>0.840498</td>\n",
       "      <td>500.000000</td>\n",
       "      <td>8_brute_force</td>\n",
       "      <td>0.461</td>\n",
       "    </tr>\n",
       "  </tbody>\n",
       "</table>\n",
       "</div>"
      ],
      "text/plain": [
       "      distance  dim       nn_alg  top 1 acc  top 5 acc  top 10 acc  \\\n",
       "0    euclidean    2         hnsw   0.199377   0.460125    0.660125   \n",
       "1    euclidean    2  brute_force   0.199377   0.460125    0.660125   \n",
       "2    euclidean    4         hnsw   0.280374   0.700000    0.860125   \n",
       "3    euclidean    4  brute_force   0.280374   0.700000    0.860125   \n",
       "4    euclidean    6         hnsw   0.360748   0.720872    0.760748   \n",
       "5    euclidean    6  brute_force   0.360748   0.720872    0.760748   \n",
       "6    euclidean    8         hnsw   0.520872   0.800623    0.880374   \n",
       "7    euclidean    8  brute_force   0.520872   0.800623    0.880374   \n",
       "8   hyperbolic    2         hnsw   0.060125   0.160125    0.320872   \n",
       "9   hyperbolic    2  brute_force   0.060125   0.160125    0.320872   \n",
       "10  hyperbolic    4         hnsw   0.320872   0.580374    0.779751   \n",
       "11  hyperbolic    4  brute_force   0.320872   0.580374    0.779751   \n",
       "12  hyperbolic    6         hnsw   0.480374   0.760125    0.860125   \n",
       "13  hyperbolic    6  brute_force   0.500623   0.760125    0.860125   \n",
       "14  hyperbolic    8         hnsw   0.460748   0.780374    0.840498   \n",
       "15  hyperbolic    8  brute_force   0.460748   0.780374    0.840498   \n",
       "\n",
       "    comparisons   dim + nn_alg  top 1 acc rounded  \n",
       "0    266.239875         2_hnsw              0.199  \n",
       "1    500.000000  2_brute_force              0.199  \n",
       "2    279.968847         4_hnsw              0.280  \n",
       "3    500.000000  4_brute_force              0.280  \n",
       "4    290.277259         6_hnsw              0.361  \n",
       "5    500.000000  6_brute_force              0.361  \n",
       "6    306.529595         8_hnsw              0.521  \n",
       "7    500.000000  8_brute_force              0.521  \n",
       "8    236.003115         2_hnsw              0.060  \n",
       "9    500.000000  2_brute_force              0.060  \n",
       "10   283.573209         4_hnsw              0.321  \n",
       "11   500.000000  4_brute_force              0.321  \n",
       "12   281.239875         6_hnsw              0.480  \n",
       "13   500.000000  6_brute_force              0.501  \n",
       "14   290.566978         8_hnsw              0.461  \n",
       "15   500.000000  8_brute_force              0.461  "
      ]
     },
     "execution_count": 40,
     "metadata": {},
     "output_type": "execute_result"
    }
   ],
   "source": [
    "df['dim + nn_alg'] = df[['dim', 'nn_alg']].apply(lambda row: '_'.join(row.values.astype(str)), axis=1)\n",
    "df['top 1 acc rounded'] = df['top 1 acc'].round(3)\n",
    "df"
   ]
  },
  {
   "cell_type": "code",
   "execution_count": 41,
   "metadata": {},
   "outputs": [
    {
     "data": {
      "application/vnd.plotly.v1+json": {
       "config": {
        "plotlyServerURL": "https://plot.ly"
       },
       "data": [
        {
         "alignmentgroup": "True",
         "hovertemplate": "distance=euclidean<br>dim + nn_alg=%{x}<br>top 1 acc=%{y}<br>top 1 acc rounded=%{text}<extra></extra>",
         "legendgroup": "euclidean",
         "marker": {
          "color": "#636efa",
          "pattern": {
           "shape": ""
          }
         },
         "name": "euclidean",
         "offsetgroup": "euclidean",
         "orientation": "v",
         "showlegend": true,
         "text": [
          0.199,
          0.199,
          0.28,
          0.28,
          0.361,
          0.361,
          0.521,
          0.521
         ],
         "textposition": "auto",
         "type": "bar",
         "x": [
          "2_hnsw",
          "2_brute_force",
          "4_hnsw",
          "4_brute_force",
          "6_hnsw",
          "6_brute_force",
          "8_hnsw",
          "8_brute_force"
         ],
         "xaxis": "x",
         "y": [
          0.1993769407272339,
          0.1993769407272339,
          0.28037381172180176,
          0.28037381172180176,
          0.36074766516685486,
          0.36074766516685486,
          0.5208722352981567,
          0.5208722352981567
         ],
         "yaxis": "y"
        },
        {
         "alignmentgroup": "True",
         "hovertemplate": "distance=hyperbolic<br>dim + nn_alg=%{x}<br>top 1 acc=%{y}<br>top 1 acc rounded=%{text}<extra></extra>",
         "legendgroup": "hyperbolic",
         "marker": {
          "color": "#EF553B",
          "pattern": {
           "shape": ""
          }
         },
         "name": "hyperbolic",
         "offsetgroup": "hyperbolic",
         "orientation": "v",
         "showlegend": true,
         "text": [
          0.06,
          0.06,
          0.321,
          0.321,
          0.48,
          0.501,
          0.461,
          0.461
         ],
         "textposition": "auto",
         "type": "bar",
         "x": [
          "2_hnsw",
          "2_brute_force",
          "4_hnsw",
          "4_brute_force",
          "6_hnsw",
          "6_brute_force",
          "8_hnsw",
          "8_brute_force"
         ],
         "xaxis": "x",
         "y": [
          0.060124605894088745,
          0.060124605894088745,
          0.3208722770214081,
          0.3208722770214081,
          0.4803737998008728,
          0.5006230473518372,
          0.460747629404068,
          0.460747629404068
         ],
         "yaxis": "y"
        }
       ],
       "layout": {
        "barmode": "group",
        "legend": {
         "title": {
          "text": "distance"
         },
         "tracegroupgap": 0
        },
        "margin": {
         "t": 60
        },
        "template": {
         "data": {
          "bar": [
           {
            "error_x": {
             "color": "#2a3f5f"
            },
            "error_y": {
             "color": "#2a3f5f"
            },
            "marker": {
             "line": {
              "color": "#E5ECF6",
              "width": 0.5
             },
             "pattern": {
              "fillmode": "overlay",
              "size": 10,
              "solidity": 0.2
             }
            },
            "type": "bar"
           }
          ],
          "barpolar": [
           {
            "marker": {
             "line": {
              "color": "#E5ECF6",
              "width": 0.5
             },
             "pattern": {
              "fillmode": "overlay",
              "size": 10,
              "solidity": 0.2
             }
            },
            "type": "barpolar"
           }
          ],
          "carpet": [
           {
            "aaxis": {
             "endlinecolor": "#2a3f5f",
             "gridcolor": "white",
             "linecolor": "white",
             "minorgridcolor": "white",
             "startlinecolor": "#2a3f5f"
            },
            "baxis": {
             "endlinecolor": "#2a3f5f",
             "gridcolor": "white",
             "linecolor": "white",
             "minorgridcolor": "white",
             "startlinecolor": "#2a3f5f"
            },
            "type": "carpet"
           }
          ],
          "choropleth": [
           {
            "colorbar": {
             "outlinewidth": 0,
             "ticks": ""
            },
            "type": "choropleth"
           }
          ],
          "contour": [
           {
            "colorbar": {
             "outlinewidth": 0,
             "ticks": ""
            },
            "colorscale": [
             [
              0,
              "#0d0887"
             ],
             [
              0.1111111111111111,
              "#46039f"
             ],
             [
              0.2222222222222222,
              "#7201a8"
             ],
             [
              0.3333333333333333,
              "#9c179e"
             ],
             [
              0.4444444444444444,
              "#bd3786"
             ],
             [
              0.5555555555555556,
              "#d8576b"
             ],
             [
              0.6666666666666666,
              "#ed7953"
             ],
             [
              0.7777777777777778,
              "#fb9f3a"
             ],
             [
              0.8888888888888888,
              "#fdca26"
             ],
             [
              1,
              "#f0f921"
             ]
            ],
            "type": "contour"
           }
          ],
          "contourcarpet": [
           {
            "colorbar": {
             "outlinewidth": 0,
             "ticks": ""
            },
            "type": "contourcarpet"
           }
          ],
          "heatmap": [
           {
            "colorbar": {
             "outlinewidth": 0,
             "ticks": ""
            },
            "colorscale": [
             [
              0,
              "#0d0887"
             ],
             [
              0.1111111111111111,
              "#46039f"
             ],
             [
              0.2222222222222222,
              "#7201a8"
             ],
             [
              0.3333333333333333,
              "#9c179e"
             ],
             [
              0.4444444444444444,
              "#bd3786"
             ],
             [
              0.5555555555555556,
              "#d8576b"
             ],
             [
              0.6666666666666666,
              "#ed7953"
             ],
             [
              0.7777777777777778,
              "#fb9f3a"
             ],
             [
              0.8888888888888888,
              "#fdca26"
             ],
             [
              1,
              "#f0f921"
             ]
            ],
            "type": "heatmap"
           }
          ],
          "heatmapgl": [
           {
            "colorbar": {
             "outlinewidth": 0,
             "ticks": ""
            },
            "colorscale": [
             [
              0,
              "#0d0887"
             ],
             [
              0.1111111111111111,
              "#46039f"
             ],
             [
              0.2222222222222222,
              "#7201a8"
             ],
             [
              0.3333333333333333,
              "#9c179e"
             ],
             [
              0.4444444444444444,
              "#bd3786"
             ],
             [
              0.5555555555555556,
              "#d8576b"
             ],
             [
              0.6666666666666666,
              "#ed7953"
             ],
             [
              0.7777777777777778,
              "#fb9f3a"
             ],
             [
              0.8888888888888888,
              "#fdca26"
             ],
             [
              1,
              "#f0f921"
             ]
            ],
            "type": "heatmapgl"
           }
          ],
          "histogram": [
           {
            "marker": {
             "pattern": {
              "fillmode": "overlay",
              "size": 10,
              "solidity": 0.2
             }
            },
            "type": "histogram"
           }
          ],
          "histogram2d": [
           {
            "colorbar": {
             "outlinewidth": 0,
             "ticks": ""
            },
            "colorscale": [
             [
              0,
              "#0d0887"
             ],
             [
              0.1111111111111111,
              "#46039f"
             ],
             [
              0.2222222222222222,
              "#7201a8"
             ],
             [
              0.3333333333333333,
              "#9c179e"
             ],
             [
              0.4444444444444444,
              "#bd3786"
             ],
             [
              0.5555555555555556,
              "#d8576b"
             ],
             [
              0.6666666666666666,
              "#ed7953"
             ],
             [
              0.7777777777777778,
              "#fb9f3a"
             ],
             [
              0.8888888888888888,
              "#fdca26"
             ],
             [
              1,
              "#f0f921"
             ]
            ],
            "type": "histogram2d"
           }
          ],
          "histogram2dcontour": [
           {
            "colorbar": {
             "outlinewidth": 0,
             "ticks": ""
            },
            "colorscale": [
             [
              0,
              "#0d0887"
             ],
             [
              0.1111111111111111,
              "#46039f"
             ],
             [
              0.2222222222222222,
              "#7201a8"
             ],
             [
              0.3333333333333333,
              "#9c179e"
             ],
             [
              0.4444444444444444,
              "#bd3786"
             ],
             [
              0.5555555555555556,
              "#d8576b"
             ],
             [
              0.6666666666666666,
              "#ed7953"
             ],
             [
              0.7777777777777778,
              "#fb9f3a"
             ],
             [
              0.8888888888888888,
              "#fdca26"
             ],
             [
              1,
              "#f0f921"
             ]
            ],
            "type": "histogram2dcontour"
           }
          ],
          "mesh3d": [
           {
            "colorbar": {
             "outlinewidth": 0,
             "ticks": ""
            },
            "type": "mesh3d"
           }
          ],
          "parcoords": [
           {
            "line": {
             "colorbar": {
              "outlinewidth": 0,
              "ticks": ""
             }
            },
            "type": "parcoords"
           }
          ],
          "pie": [
           {
            "automargin": true,
            "type": "pie"
           }
          ],
          "scatter": [
           {
            "fillpattern": {
             "fillmode": "overlay",
             "size": 10,
             "solidity": 0.2
            },
            "type": "scatter"
           }
          ],
          "scatter3d": [
           {
            "line": {
             "colorbar": {
              "outlinewidth": 0,
              "ticks": ""
             }
            },
            "marker": {
             "colorbar": {
              "outlinewidth": 0,
              "ticks": ""
             }
            },
            "type": "scatter3d"
           }
          ],
          "scattercarpet": [
           {
            "marker": {
             "colorbar": {
              "outlinewidth": 0,
              "ticks": ""
             }
            },
            "type": "scattercarpet"
           }
          ],
          "scattergeo": [
           {
            "marker": {
             "colorbar": {
              "outlinewidth": 0,
              "ticks": ""
             }
            },
            "type": "scattergeo"
           }
          ],
          "scattergl": [
           {
            "marker": {
             "colorbar": {
              "outlinewidth": 0,
              "ticks": ""
             }
            },
            "type": "scattergl"
           }
          ],
          "scattermapbox": [
           {
            "marker": {
             "colorbar": {
              "outlinewidth": 0,
              "ticks": ""
             }
            },
            "type": "scattermapbox"
           }
          ],
          "scatterpolar": [
           {
            "marker": {
             "colorbar": {
              "outlinewidth": 0,
              "ticks": ""
             }
            },
            "type": "scatterpolar"
           }
          ],
          "scatterpolargl": [
           {
            "marker": {
             "colorbar": {
              "outlinewidth": 0,
              "ticks": ""
             }
            },
            "type": "scatterpolargl"
           }
          ],
          "scatterternary": [
           {
            "marker": {
             "colorbar": {
              "outlinewidth": 0,
              "ticks": ""
             }
            },
            "type": "scatterternary"
           }
          ],
          "surface": [
           {
            "colorbar": {
             "outlinewidth": 0,
             "ticks": ""
            },
            "colorscale": [
             [
              0,
              "#0d0887"
             ],
             [
              0.1111111111111111,
              "#46039f"
             ],
             [
              0.2222222222222222,
              "#7201a8"
             ],
             [
              0.3333333333333333,
              "#9c179e"
             ],
             [
              0.4444444444444444,
              "#bd3786"
             ],
             [
              0.5555555555555556,
              "#d8576b"
             ],
             [
              0.6666666666666666,
              "#ed7953"
             ],
             [
              0.7777777777777778,
              "#fb9f3a"
             ],
             [
              0.8888888888888888,
              "#fdca26"
             ],
             [
              1,
              "#f0f921"
             ]
            ],
            "type": "surface"
           }
          ],
          "table": [
           {
            "cells": {
             "fill": {
              "color": "#EBF0F8"
             },
             "line": {
              "color": "white"
             }
            },
            "header": {
             "fill": {
              "color": "#C8D4E3"
             },
             "line": {
              "color": "white"
             }
            },
            "type": "table"
           }
          ]
         },
         "layout": {
          "annotationdefaults": {
           "arrowcolor": "#2a3f5f",
           "arrowhead": 0,
           "arrowwidth": 1
          },
          "autotypenumbers": "strict",
          "coloraxis": {
           "colorbar": {
            "outlinewidth": 0,
            "ticks": ""
           }
          },
          "colorscale": {
           "diverging": [
            [
             0,
             "#8e0152"
            ],
            [
             0.1,
             "#c51b7d"
            ],
            [
             0.2,
             "#de77ae"
            ],
            [
             0.3,
             "#f1b6da"
            ],
            [
             0.4,
             "#fde0ef"
            ],
            [
             0.5,
             "#f7f7f7"
            ],
            [
             0.6,
             "#e6f5d0"
            ],
            [
             0.7,
             "#b8e186"
            ],
            [
             0.8,
             "#7fbc41"
            ],
            [
             0.9,
             "#4d9221"
            ],
            [
             1,
             "#276419"
            ]
           ],
           "sequential": [
            [
             0,
             "#0d0887"
            ],
            [
             0.1111111111111111,
             "#46039f"
            ],
            [
             0.2222222222222222,
             "#7201a8"
            ],
            [
             0.3333333333333333,
             "#9c179e"
            ],
            [
             0.4444444444444444,
             "#bd3786"
            ],
            [
             0.5555555555555556,
             "#d8576b"
            ],
            [
             0.6666666666666666,
             "#ed7953"
            ],
            [
             0.7777777777777778,
             "#fb9f3a"
            ],
            [
             0.8888888888888888,
             "#fdca26"
            ],
            [
             1,
             "#f0f921"
            ]
           ],
           "sequentialminus": [
            [
             0,
             "#0d0887"
            ],
            [
             0.1111111111111111,
             "#46039f"
            ],
            [
             0.2222222222222222,
             "#7201a8"
            ],
            [
             0.3333333333333333,
             "#9c179e"
            ],
            [
             0.4444444444444444,
             "#bd3786"
            ],
            [
             0.5555555555555556,
             "#d8576b"
            ],
            [
             0.6666666666666666,
             "#ed7953"
            ],
            [
             0.7777777777777778,
             "#fb9f3a"
            ],
            [
             0.8888888888888888,
             "#fdca26"
            ],
            [
             1,
             "#f0f921"
            ]
           ]
          },
          "colorway": [
           "#636efa",
           "#EF553B",
           "#00cc96",
           "#ab63fa",
           "#FFA15A",
           "#19d3f3",
           "#FF6692",
           "#B6E880",
           "#FF97FF",
           "#FECB52"
          ],
          "font": {
           "color": "#2a3f5f"
          },
          "geo": {
           "bgcolor": "white",
           "lakecolor": "white",
           "landcolor": "#E5ECF6",
           "showlakes": true,
           "showland": true,
           "subunitcolor": "white"
          },
          "hoverlabel": {
           "align": "left"
          },
          "hovermode": "closest",
          "mapbox": {
           "style": "light"
          },
          "paper_bgcolor": "white",
          "plot_bgcolor": "#E5ECF6",
          "polar": {
           "angularaxis": {
            "gridcolor": "white",
            "linecolor": "white",
            "ticks": ""
           },
           "bgcolor": "#E5ECF6",
           "radialaxis": {
            "gridcolor": "white",
            "linecolor": "white",
            "ticks": ""
           }
          },
          "scene": {
           "xaxis": {
            "backgroundcolor": "#E5ECF6",
            "gridcolor": "white",
            "gridwidth": 2,
            "linecolor": "white",
            "showbackground": true,
            "ticks": "",
            "zerolinecolor": "white"
           },
           "yaxis": {
            "backgroundcolor": "#E5ECF6",
            "gridcolor": "white",
            "gridwidth": 2,
            "linecolor": "white",
            "showbackground": true,
            "ticks": "",
            "zerolinecolor": "white"
           },
           "zaxis": {
            "backgroundcolor": "#E5ECF6",
            "gridcolor": "white",
            "gridwidth": 2,
            "linecolor": "white",
            "showbackground": true,
            "ticks": "",
            "zerolinecolor": "white"
           }
          },
          "shapedefaults": {
           "line": {
            "color": "#2a3f5f"
           }
          },
          "ternary": {
           "aaxis": {
            "gridcolor": "white",
            "linecolor": "white",
            "ticks": ""
           },
           "baxis": {
            "gridcolor": "white",
            "linecolor": "white",
            "ticks": ""
           },
           "bgcolor": "#E5ECF6",
           "caxis": {
            "gridcolor": "white",
            "linecolor": "white",
            "ticks": ""
           }
          },
          "title": {
           "x": 0.05
          },
          "xaxis": {
           "automargin": true,
           "gridcolor": "white",
           "linecolor": "white",
           "ticks": "",
           "title": {
            "standoff": 15
           },
           "zerolinecolor": "white",
           "zerolinewidth": 2
          },
          "yaxis": {
           "automargin": true,
           "gridcolor": "white",
           "linecolor": "white",
           "ticks": "",
           "title": {
            "standoff": 15
           },
           "zerolinecolor": "white",
           "zerolinewidth": 2
          }
         }
        },
        "title": {
         "text": "Top 1% Accuracy for Predicting Nearest Neighbor",
         "x": 0.5,
         "xanchor": "center"
        },
        "xaxis": {
         "anchor": "y",
         "domain": [
          0,
          1
         ],
         "title": {
          "text": "dim + nn_alg"
         }
        },
        "yaxis": {
         "anchor": "x",
         "domain": [
          0,
          1
         ],
         "title": {
          "text": "top 1 acc"
         }
        }
       }
      },
      "text/html": [
       "<div>                            <div id=\"2169286d-d870-4814-9795-18aabda17a58\" class=\"plotly-graph-div\" style=\"height:525px; width:100%;\"></div>            <script type=\"text/javascript\">                require([\"plotly\"], function(Plotly) {                    window.PLOTLYENV=window.PLOTLYENV || {};                                    if (document.getElementById(\"2169286d-d870-4814-9795-18aabda17a58\")) {                    Plotly.newPlot(                        \"2169286d-d870-4814-9795-18aabda17a58\",                        [{\"alignmentgroup\":\"True\",\"hovertemplate\":\"distance=euclidean<br>dim + nn_alg=%{x}<br>top 1 acc=%{y}<br>top 1 acc rounded=%{text}<extra></extra>\",\"legendgroup\":\"euclidean\",\"marker\":{\"color\":\"#636efa\",\"pattern\":{\"shape\":\"\"}},\"name\":\"euclidean\",\"offsetgroup\":\"euclidean\",\"orientation\":\"v\",\"showlegend\":true,\"text\":[0.199,0.199,0.28,0.28,0.361,0.361,0.521,0.521],\"textposition\":\"auto\",\"x\":[\"2_hnsw\",\"2_brute_force\",\"4_hnsw\",\"4_brute_force\",\"6_hnsw\",\"6_brute_force\",\"8_hnsw\",\"8_brute_force\"],\"xaxis\":\"x\",\"y\":[0.1993769407272339,0.1993769407272339,0.28037381172180176,0.28037381172180176,0.36074766516685486,0.36074766516685486,0.5208722352981567,0.5208722352981567],\"yaxis\":\"y\",\"type\":\"bar\"},{\"alignmentgroup\":\"True\",\"hovertemplate\":\"distance=hyperbolic<br>dim + nn_alg=%{x}<br>top 1 acc=%{y}<br>top 1 acc rounded=%{text}<extra></extra>\",\"legendgroup\":\"hyperbolic\",\"marker\":{\"color\":\"#EF553B\",\"pattern\":{\"shape\":\"\"}},\"name\":\"hyperbolic\",\"offsetgroup\":\"hyperbolic\",\"orientation\":\"v\",\"showlegend\":true,\"text\":[0.06,0.06,0.321,0.321,0.48,0.501,0.461,0.461],\"textposition\":\"auto\",\"x\":[\"2_hnsw\",\"2_brute_force\",\"4_hnsw\",\"4_brute_force\",\"6_hnsw\",\"6_brute_force\",\"8_hnsw\",\"8_brute_force\"],\"xaxis\":\"x\",\"y\":[0.060124605894088745,0.060124605894088745,0.3208722770214081,0.3208722770214081,0.4803737998008728,0.5006230473518372,0.460747629404068,0.460747629404068],\"yaxis\":\"y\",\"type\":\"bar\"}],                        {\"template\":{\"data\":{\"histogram2dcontour\":[{\"type\":\"histogram2dcontour\",\"colorbar\":{\"outlinewidth\":0,\"ticks\":\"\"},\"colorscale\":[[0.0,\"#0d0887\"],[0.1111111111111111,\"#46039f\"],[0.2222222222222222,\"#7201a8\"],[0.3333333333333333,\"#9c179e\"],[0.4444444444444444,\"#bd3786\"],[0.5555555555555556,\"#d8576b\"],[0.6666666666666666,\"#ed7953\"],[0.7777777777777778,\"#fb9f3a\"],[0.8888888888888888,\"#fdca26\"],[1.0,\"#f0f921\"]]}],\"choropleth\":[{\"type\":\"choropleth\",\"colorbar\":{\"outlinewidth\":0,\"ticks\":\"\"}}],\"histogram2d\":[{\"type\":\"histogram2d\",\"colorbar\":{\"outlinewidth\":0,\"ticks\":\"\"},\"colorscale\":[[0.0,\"#0d0887\"],[0.1111111111111111,\"#46039f\"],[0.2222222222222222,\"#7201a8\"],[0.3333333333333333,\"#9c179e\"],[0.4444444444444444,\"#bd3786\"],[0.5555555555555556,\"#d8576b\"],[0.6666666666666666,\"#ed7953\"],[0.7777777777777778,\"#fb9f3a\"],[0.8888888888888888,\"#fdca26\"],[1.0,\"#f0f921\"]]}],\"heatmap\":[{\"type\":\"heatmap\",\"colorbar\":{\"outlinewidth\":0,\"ticks\":\"\"},\"colorscale\":[[0.0,\"#0d0887\"],[0.1111111111111111,\"#46039f\"],[0.2222222222222222,\"#7201a8\"],[0.3333333333333333,\"#9c179e\"],[0.4444444444444444,\"#bd3786\"],[0.5555555555555556,\"#d8576b\"],[0.6666666666666666,\"#ed7953\"],[0.7777777777777778,\"#fb9f3a\"],[0.8888888888888888,\"#fdca26\"],[1.0,\"#f0f921\"]]}],\"heatmapgl\":[{\"type\":\"heatmapgl\",\"colorbar\":{\"outlinewidth\":0,\"ticks\":\"\"},\"colorscale\":[[0.0,\"#0d0887\"],[0.1111111111111111,\"#46039f\"],[0.2222222222222222,\"#7201a8\"],[0.3333333333333333,\"#9c179e\"],[0.4444444444444444,\"#bd3786\"],[0.5555555555555556,\"#d8576b\"],[0.6666666666666666,\"#ed7953\"],[0.7777777777777778,\"#fb9f3a\"],[0.8888888888888888,\"#fdca26\"],[1.0,\"#f0f921\"]]}],\"contourcarpet\":[{\"type\":\"contourcarpet\",\"colorbar\":{\"outlinewidth\":0,\"ticks\":\"\"}}],\"contour\":[{\"type\":\"contour\",\"colorbar\":{\"outlinewidth\":0,\"ticks\":\"\"},\"colorscale\":[[0.0,\"#0d0887\"],[0.1111111111111111,\"#46039f\"],[0.2222222222222222,\"#7201a8\"],[0.3333333333333333,\"#9c179e\"],[0.4444444444444444,\"#bd3786\"],[0.5555555555555556,\"#d8576b\"],[0.6666666666666666,\"#ed7953\"],[0.7777777777777778,\"#fb9f3a\"],[0.8888888888888888,\"#fdca26\"],[1.0,\"#f0f921\"]]}],\"surface\":[{\"type\":\"surface\",\"colorbar\":{\"outlinewidth\":0,\"ticks\":\"\"},\"colorscale\":[[0.0,\"#0d0887\"],[0.1111111111111111,\"#46039f\"],[0.2222222222222222,\"#7201a8\"],[0.3333333333333333,\"#9c179e\"],[0.4444444444444444,\"#bd3786\"],[0.5555555555555556,\"#d8576b\"],[0.6666666666666666,\"#ed7953\"],[0.7777777777777778,\"#fb9f3a\"],[0.8888888888888888,\"#fdca26\"],[1.0,\"#f0f921\"]]}],\"mesh3d\":[{\"type\":\"mesh3d\",\"colorbar\":{\"outlinewidth\":0,\"ticks\":\"\"}}],\"scatter\":[{\"fillpattern\":{\"fillmode\":\"overlay\",\"size\":10,\"solidity\":0.2},\"type\":\"scatter\"}],\"parcoords\":[{\"type\":\"parcoords\",\"line\":{\"colorbar\":{\"outlinewidth\":0,\"ticks\":\"\"}}}],\"scatterpolargl\":[{\"type\":\"scatterpolargl\",\"marker\":{\"colorbar\":{\"outlinewidth\":0,\"ticks\":\"\"}}}],\"bar\":[{\"error_x\":{\"color\":\"#2a3f5f\"},\"error_y\":{\"color\":\"#2a3f5f\"},\"marker\":{\"line\":{\"color\":\"#E5ECF6\",\"width\":0.5},\"pattern\":{\"fillmode\":\"overlay\",\"size\":10,\"solidity\":0.2}},\"type\":\"bar\"}],\"scattergeo\":[{\"type\":\"scattergeo\",\"marker\":{\"colorbar\":{\"outlinewidth\":0,\"ticks\":\"\"}}}],\"scatterpolar\":[{\"type\":\"scatterpolar\",\"marker\":{\"colorbar\":{\"outlinewidth\":0,\"ticks\":\"\"}}}],\"histogram\":[{\"marker\":{\"pattern\":{\"fillmode\":\"overlay\",\"size\":10,\"solidity\":0.2}},\"type\":\"histogram\"}],\"scattergl\":[{\"type\":\"scattergl\",\"marker\":{\"colorbar\":{\"outlinewidth\":0,\"ticks\":\"\"}}}],\"scatter3d\":[{\"type\":\"scatter3d\",\"line\":{\"colorbar\":{\"outlinewidth\":0,\"ticks\":\"\"}},\"marker\":{\"colorbar\":{\"outlinewidth\":0,\"ticks\":\"\"}}}],\"scattermapbox\":[{\"type\":\"scattermapbox\",\"marker\":{\"colorbar\":{\"outlinewidth\":0,\"ticks\":\"\"}}}],\"scatterternary\":[{\"type\":\"scatterternary\",\"marker\":{\"colorbar\":{\"outlinewidth\":0,\"ticks\":\"\"}}}],\"scattercarpet\":[{\"type\":\"scattercarpet\",\"marker\":{\"colorbar\":{\"outlinewidth\":0,\"ticks\":\"\"}}}],\"carpet\":[{\"aaxis\":{\"endlinecolor\":\"#2a3f5f\",\"gridcolor\":\"white\",\"linecolor\":\"white\",\"minorgridcolor\":\"white\",\"startlinecolor\":\"#2a3f5f\"},\"baxis\":{\"endlinecolor\":\"#2a3f5f\",\"gridcolor\":\"white\",\"linecolor\":\"white\",\"minorgridcolor\":\"white\",\"startlinecolor\":\"#2a3f5f\"},\"type\":\"carpet\"}],\"table\":[{\"cells\":{\"fill\":{\"color\":\"#EBF0F8\"},\"line\":{\"color\":\"white\"}},\"header\":{\"fill\":{\"color\":\"#C8D4E3\"},\"line\":{\"color\":\"white\"}},\"type\":\"table\"}],\"barpolar\":[{\"marker\":{\"line\":{\"color\":\"#E5ECF6\",\"width\":0.5},\"pattern\":{\"fillmode\":\"overlay\",\"size\":10,\"solidity\":0.2}},\"type\":\"barpolar\"}],\"pie\":[{\"automargin\":true,\"type\":\"pie\"}]},\"layout\":{\"autotypenumbers\":\"strict\",\"colorway\":[\"#636efa\",\"#EF553B\",\"#00cc96\",\"#ab63fa\",\"#FFA15A\",\"#19d3f3\",\"#FF6692\",\"#B6E880\",\"#FF97FF\",\"#FECB52\"],\"font\":{\"color\":\"#2a3f5f\"},\"hovermode\":\"closest\",\"hoverlabel\":{\"align\":\"left\"},\"paper_bgcolor\":\"white\",\"plot_bgcolor\":\"#E5ECF6\",\"polar\":{\"bgcolor\":\"#E5ECF6\",\"angularaxis\":{\"gridcolor\":\"white\",\"linecolor\":\"white\",\"ticks\":\"\"},\"radialaxis\":{\"gridcolor\":\"white\",\"linecolor\":\"white\",\"ticks\":\"\"}},\"ternary\":{\"bgcolor\":\"#E5ECF6\",\"aaxis\":{\"gridcolor\":\"white\",\"linecolor\":\"white\",\"ticks\":\"\"},\"baxis\":{\"gridcolor\":\"white\",\"linecolor\":\"white\",\"ticks\":\"\"},\"caxis\":{\"gridcolor\":\"white\",\"linecolor\":\"white\",\"ticks\":\"\"}},\"coloraxis\":{\"colorbar\":{\"outlinewidth\":0,\"ticks\":\"\"}},\"colorscale\":{\"sequential\":[[0.0,\"#0d0887\"],[0.1111111111111111,\"#46039f\"],[0.2222222222222222,\"#7201a8\"],[0.3333333333333333,\"#9c179e\"],[0.4444444444444444,\"#bd3786\"],[0.5555555555555556,\"#d8576b\"],[0.6666666666666666,\"#ed7953\"],[0.7777777777777778,\"#fb9f3a\"],[0.8888888888888888,\"#fdca26\"],[1.0,\"#f0f921\"]],\"sequentialminus\":[[0.0,\"#0d0887\"],[0.1111111111111111,\"#46039f\"],[0.2222222222222222,\"#7201a8\"],[0.3333333333333333,\"#9c179e\"],[0.4444444444444444,\"#bd3786\"],[0.5555555555555556,\"#d8576b\"],[0.6666666666666666,\"#ed7953\"],[0.7777777777777778,\"#fb9f3a\"],[0.8888888888888888,\"#fdca26\"],[1.0,\"#f0f921\"]],\"diverging\":[[0,\"#8e0152\"],[0.1,\"#c51b7d\"],[0.2,\"#de77ae\"],[0.3,\"#f1b6da\"],[0.4,\"#fde0ef\"],[0.5,\"#f7f7f7\"],[0.6,\"#e6f5d0\"],[0.7,\"#b8e186\"],[0.8,\"#7fbc41\"],[0.9,\"#4d9221\"],[1,\"#276419\"]]},\"xaxis\":{\"gridcolor\":\"white\",\"linecolor\":\"white\",\"ticks\":\"\",\"title\":{\"standoff\":15},\"zerolinecolor\":\"white\",\"automargin\":true,\"zerolinewidth\":2},\"yaxis\":{\"gridcolor\":\"white\",\"linecolor\":\"white\",\"ticks\":\"\",\"title\":{\"standoff\":15},\"zerolinecolor\":\"white\",\"automargin\":true,\"zerolinewidth\":2},\"scene\":{\"xaxis\":{\"backgroundcolor\":\"#E5ECF6\",\"gridcolor\":\"white\",\"linecolor\":\"white\",\"showbackground\":true,\"ticks\":\"\",\"zerolinecolor\":\"white\",\"gridwidth\":2},\"yaxis\":{\"backgroundcolor\":\"#E5ECF6\",\"gridcolor\":\"white\",\"linecolor\":\"white\",\"showbackground\":true,\"ticks\":\"\",\"zerolinecolor\":\"white\",\"gridwidth\":2},\"zaxis\":{\"backgroundcolor\":\"#E5ECF6\",\"gridcolor\":\"white\",\"linecolor\":\"white\",\"showbackground\":true,\"ticks\":\"\",\"zerolinecolor\":\"white\",\"gridwidth\":2}},\"shapedefaults\":{\"line\":{\"color\":\"#2a3f5f\"}},\"annotationdefaults\":{\"arrowcolor\":\"#2a3f5f\",\"arrowhead\":0,\"arrowwidth\":1},\"geo\":{\"bgcolor\":\"white\",\"landcolor\":\"#E5ECF6\",\"subunitcolor\":\"white\",\"showland\":true,\"showlakes\":true,\"lakecolor\":\"white\"},\"title\":{\"x\":0.05},\"mapbox\":{\"style\":\"light\"}}},\"xaxis\":{\"anchor\":\"y\",\"domain\":[0.0,1.0],\"title\":{\"text\":\"dim + nn_alg\"}},\"yaxis\":{\"anchor\":\"x\",\"domain\":[0.0,1.0],\"title\":{\"text\":\"top 1 acc\"}},\"legend\":{\"title\":{\"text\":\"distance\"},\"tracegroupgap\":0},\"margin\":{\"t\":60},\"barmode\":\"group\",\"title\":{\"text\":\"Top 1% Accuracy for Predicting Nearest Neighbor\",\"xanchor\":\"center\",\"x\":0.5}},                        {\"responsive\": true}                    ).then(function(){\n",
       "                            \n",
       "var gd = document.getElementById('2169286d-d870-4814-9795-18aabda17a58');\n",
       "var x = new MutationObserver(function (mutations, observer) {{\n",
       "        var display = window.getComputedStyle(gd).display;\n",
       "        if (!display || display === 'none') {{\n",
       "            console.log([gd, 'removed!']);\n",
       "            Plotly.purge(gd);\n",
       "            observer.disconnect();\n",
       "        }}\n",
       "}});\n",
       "\n",
       "// Listen for the removal of the full notebook cells\n",
       "var notebookContainer = gd.closest('#notebook-container');\n",
       "if (notebookContainer) {{\n",
       "    x.observe(notebookContainer, {childList: true});\n",
       "}}\n",
       "\n",
       "// Listen for the clearing of the current output cell\n",
       "var outputEl = gd.closest('.output');\n",
       "if (outputEl) {{\n",
       "    x.observe(outputEl, {childList: true});\n",
       "}}\n",
       "\n",
       "                        })                };                });            </script>        </div>"
      ]
     },
     "metadata": {},
     "output_type": "display_data"
    }
   ],
   "source": [
    "fig = px.bar(df, x='dim + nn_alg', y='top 1 acc', color='distance', barmode=\"group\", text='top 1 acc rounded')\n",
    "fig.update_layout(title={'text': 'Top 1% Accuracy for Predicting Nearest Neighbor', 'xanchor': 'center', 'x':0.5})\n",
    "fig"
   ]
  },
  {
   "attachments": {},
   "cell_type": "markdown",
   "metadata": {},
   "source": [
    "# Plots"
   ]
  },
  {
   "cell_type": "code",
   "execution_count": 9,
   "metadata": {},
   "outputs": [],
   "source": [
    "# suffixes = ['euclidean_2', 'euclidean_4', 'euclidean_6', 'euclidean_8', 'hyperbolic_2', 'hyperbolic_4', 'hyperbolic_6']\n",
    "# outdir = '../data/processed'\n",
    "# filenames = ['{}/csr_results_{}.pickle'.format(outdir, suffix) for suffix in suffixes]\n",
    "# results = [load_dataset(filename) for filename in filenames]"
   ]
  },
  {
   "cell_type": "code",
   "execution_count": 10,
   "metadata": {},
   "outputs": [
    {
     "ename": "NameError",
     "evalue": "name 'results' is not defined",
     "output_type": "error",
     "traceback": [
      "\u001b[0;31m---------------------------------------------------------------------------\u001b[0m",
      "\u001b[0;31mNameError\u001b[0m                                 Traceback (most recent call last)",
      "\u001b[1;32m/home/ethan/mixture_embeddings/notebooks/get_embeddings_ann.ipynb Cell 13\u001b[0m in \u001b[0;36m5\n\u001b[1;32m      <a href='vscode-notebook-cell://ssh-remote%2Baeolus/home/ethan/mixture_embeddings/notebooks/get_embeddings_ann.ipynb#X13sdnNjb2RlLXJlbW90ZQ%3D%3D?line=1'>2</a>\u001b[0m exp_offset \u001b[39m=\u001b[39m \u001b[39m3\u001b[39m\n\u001b[1;32m      <a href='vscode-notebook-cell://ssh-remote%2Baeolus/home/ethan/mixture_embeddings/notebooks/get_embeddings_ann.ipynb#X13sdnNjb2RlLXJlbW90ZQ%3D%3D?line=2'>3</a>\u001b[0m num_decimals \u001b[39m=\u001b[39m \u001b[39m3\u001b[39m\n\u001b[0;32m----> <a href='vscode-notebook-cell://ssh-remote%2Baeolus/home/ethan/mixture_embeddings/notebooks/get_embeddings_ann.ipynb#X13sdnNjb2RlLXJlbW90ZQ%3D%3D?line=4'>5</a>\u001b[0m df \u001b[39m=\u001b[39m pd\u001b[39m.\u001b[39mDataFrame(results)\n\u001b[1;32m      <a href='vscode-notebook-cell://ssh-remote%2Baeolus/home/ethan/mixture_embeddings/notebooks/get_embeddings_ann.ipynb#X13sdnNjb2RlLXJlbW90ZQ%3D%3D?line=5'>6</a>\u001b[0m df[\u001b[39m'\u001b[39m\u001b[39mtop 1 acc rounded\u001b[39m\u001b[39m'\u001b[39m] \u001b[39m=\u001b[39m df[\u001b[39m'\u001b[39m\u001b[39mtop 1 acc\u001b[39m\u001b[39m'\u001b[39m]\u001b[39m.\u001b[39mround(\u001b[39m3\u001b[39m)\n\u001b[1;32m      <a href='vscode-notebook-cell://ssh-remote%2Baeolus/home/ethan/mixture_embeddings/notebooks/get_embeddings_ann.ipynb#X13sdnNjb2RlLXJlbW90ZQ%3D%3D?line=6'>7</a>\u001b[0m df[\u001b[39m'\u001b[39m\u001b[39mtop 1 acc exp\u001b[39m\u001b[39m'\u001b[39m] \u001b[39m=\u001b[39m df[\u001b[39m'\u001b[39m\u001b[39mtop 1 acc\u001b[39m\u001b[39m'\u001b[39m]\u001b[39m.\u001b[39mpow(exp_offset)\n",
      "\u001b[0;31mNameError\u001b[0m: name 'results' is not defined"
     ]
    }
   ],
   "source": [
    "y_text_shift = 1\n",
    "exp_offset = 3\n",
    "num_decimals = 3\n",
    "\n",
    "df = pd.DataFrame(results)\n",
    "df['top 1 acc rounded'] = df['top 1 acc'].round(3)\n",
    "df['top 1 acc exp'] = df['top 1 acc'].pow(exp_offset)\n",
    "df['comparisons shifted'] = df['comparisons'] + y_text_shift * (df['distance'] == 'euclidean')\n",
    "\n",
    "df"
   ]
  },
  {
   "cell_type": "code",
   "execution_count": null,
   "metadata": {},
   "outputs": [],
   "source": [
    "import plotly.express as px\n",
    "import plotly.graph_objects as go"
   ]
  },
  {
   "cell_type": "code",
   "execution_count": null,
   "metadata": {},
   "outputs": [],
   "source": [
    "fig1 = px.scatter(df, x='dim', y='comparisons shifted', color='distance', size='top 1 acc exp', symbol='nn_alg', text='top 1 acc rounded')\n",
    "fig2 = px.line(df, x=\"dim\", y=\"comparisons shifted\", color='distance')\n",
    "fig = go.Figure(data = fig1.data + fig2.data)\n",
    "\n",
    "fig.update_traces(textposition=\"bottom right\")\n",
    "fig.update_layout(title={'text': 'Nearest Neighbor Search in Hyperbolic and Euclidean Space', 'xanchor': 'center', 'x':0.5})\n",
    "fig.update_xaxes(title=\"Embedding Dimensions\")\n",
    "fig.update_yaxes(title=\"Number of Comparisons (per query per dimension)\")\n",
    "\n",
    "fig.show()"
   ]
  },
  {
   "cell_type": "code",
   "execution_count": null,
   "metadata": {},
   "outputs": [],
   "source": []
  }
 ],
 "metadata": {
  "kernelspec": {
   "display_name": "mixture",
   "language": "python",
   "name": "python3"
  },
  "language_info": {
   "codemirror_mode": {
    "name": "ipython",
    "version": 3
   },
   "file_extension": ".py",
   "mimetype": "text/x-python",
   "name": "python",
   "nbconvert_exporter": "python",
   "pygments_lexer": "ipython3",
   "version": "3.10.6"
  },
  "orig_nbformat": 4
 },
 "nbformat": 4,
 "nbformat_minor": 2
}
