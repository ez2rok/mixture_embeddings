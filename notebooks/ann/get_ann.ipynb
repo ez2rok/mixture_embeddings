{
 "cells": [
  {
   "cell_type": "code",
   "execution_count": 1,
   "metadata": {},
   "outputs": [],
   "source": [
    "import sys\n",
    "sys.path.append(\"/home/ethan/mixture_embeddings/\")"
   ]
  },
  {
   "cell_type": "code",
   "execution_count": 2,
   "metadata": {},
   "outputs": [
    {
     "name": "stderr",
     "output_type": "stream",
     "text": [
      "INFO: Using numpy backend\n"
     ]
    }
   ],
   "source": [
    "import torch\n",
    "import numpy as np\n",
    "import pandas as pd\n",
    "\n",
    "from tqdm import tqdm\n",
    "\n",
    "from icecream import ic\n",
    "\n",
    "# local files\n",
    "from src.util.data_handling.string_generator import str_seq_to_num_seq, ALPHABETS\n",
    "from src.util.data_handling.data_loader import save_as_pickle, load_dataset\n",
    "from src.util.distance_functions.distance_matrix import DISTANCE_MATRIX\n",
    "from src.util.nearest_neighbors.bruteforce import BruteForceNearestNeighbors\n",
    "from src.util.nearest_neighbors.hnsw import HNSW\n",
    "from src.embeddings.embeddings import get_otu_embeddings, embed_strings, load_model"
   ]
  },
  {
   "cell_type": "code",
   "execution_count": null,
   "metadata": {},
   "outputs": [],
   "source": [
    "# set the device\n",
    "device = 'cuda' if torch.cuda.is_available() else 'cpu'\n",
    "print('Using device:', device)"
   ]
  },
  {
   "cell_type": "code",
   "execution_count": 3,
   "metadata": {},
   "outputs": [],
   "source": [
    "csr_data_path = '../data/interim/greengenes/closest_strings_ref500_query500.pickle'\n",
    "references, queries, labels = load_dataset(csr_data_path)"
   ]
  },
  {
   "cell_type": "code",
   "execution_count": 4,
   "metadata": {},
   "outputs": [
    {
     "name": "stdout",
     "output_type": "stream",
     "text": [
      "Using device: cuda\n",
      "Loading model ../models2/cnn_euclidean_128_model.pickle\n"
     ]
    },
    {
     "name": "stderr",
     "output_type": "stream",
     "text": [
      "Embedding sequences: 100%|██████████| 4/4 [00:02<00:00,  1.46it/s]\n"
     ]
    },
    {
     "name": "stdout",
     "output_type": "stream",
     "text": [
      "Using device: cuda\n",
      "Loading model ../models2/cnn_euclidean_128_model.pickle\n"
     ]
    },
    {
     "name": "stderr",
     "output_type": "stream",
     "text": [
      "Embedding sequences: 100%|██████████| 3/3 [00:00<00:00, 64.09it/s]\n"
     ]
    }
   ],
   "source": [
    "batch_size = 128\n",
    "no_cuda = False\n",
    "seed = 42\n",
    "encoder_path = '../models2/cnn_euclidean_128_model.pickle'\n",
    "reference_dataloader = get_otu_embeddings(references, encoder_path, batch_size, seed=seed, no_cuda=no_cuda)\n",
    "query_dataloader = get_otu_embeddings(queries, encoder_path, batch_size, seed=seed, no_cuda=no_cuda, labels=labels)"
   ]
  },
  {
   "cell_type": "code",
   "execution_count": null,
   "metadata": {},
   "outputs": [],
   "source": [
    "# load model\n",
    "encoder_model = load_model(encoder_path)\n",
    "\n",
    "# embed reference data\n",
    "embedded_reference = embed_strings(reference_dataloader, encoder_model, device, desc='Embedding references')\n",
    "embedded_reference = embedded_reference.to(device)"
   ]
  },
  {
   "cell_type": "code",
   "execution_count": null,
   "metadata": {},
   "outputs": [],
   "source": [
    "def closest_string_retrieval(nn_alg, encoder_path, closest_strings_path, batch_size, num_neighbors=10, no_cuda=False, seed=42, verbose=True):\n",
    "    \n",
    "    # set the device\n",
    "    cuda = not no_cuda and torch.cuda.is_available()\n",
    "    device = 'cuda' if cuda else 'cpu'\n",
    "    print('Using device:', device)\n",
    "\n",
    "    # set the random seed\n",
    "    np.random.seed(seed)\n",
    "    torch.manual_seed(seed)\n",
    "    if cuda:\n",
    "        torch.cuda.manual_seed(seed)    \n",
    "        \n",
    "    # load model\n",
    "    encoder_model = load_model(encoder_path)\n",
    "    distance_str = encoder_model.distance_str\n",
    "    distance = DISTANCE_MATRIX[distance_str]\n",
    "    \n",
    "    # load data\n",
    "    reference_dataset, query_dataset = load_csr_dataset(closest_strings_path)\n",
    "    reference_loader = torch.utils.data.DataLoader(reference_dataset, batch_size=batch_size, shuffle=False)\n",
    "    query_loader = torch.utils.data.DataLoader(query_dataset, batch_size=batch_size, shuffle=False)\n",
    "    \n",
    "    # embed reference data\n",
    "    embedded_reference = embed_strings(reference_loader, encoder_model, device, desc='Embedding references')\n",
    "    embedded_reference = embedded_reference.to(device)\n",
    "    \n",
    "    # get nearest neighbor algorithm\n",
    "    nn = None\n",
    "    if nn_alg == 'brute_force':\n",
    "        nn = BruteForceNearestNeighbors(num_neighbors, distance, device, {'scaling': encoder_model.scaling})\n",
    "    elif nn_alg == 'hnsw':\n",
    "        nn = HNSW(num_neighbors, distance_str, device)\n",
    "    else:\n",
    "        raise ValueError(\"`nn` must be in `['brute_force', 'hnsw']`. `nn` is {}\".format(nn))\n",
    "    nn.fit(embedded_reference)\n",
    "    \n",
    "    # get closest strings by embedding queries and using nearest neighbor algorithm `nn`\n",
    "    avg_acc = test(query_loader, encoder_model, nn, device, num_neighbors)\n",
    "    avg_num_comparisons = nn.num_comparisons.avg\n",
    "    \n",
    "    if verbose:\n",
    "        print('ACCURACY: Top1: {:.3f}  Top5: {:.3f}  Top10: {:.3f}'.format(avg_acc[0], avg_acc[4], avg_acc[9]))\n",
    "        print('COMPARISONS: {:.3f}'.format(avg_num_comparisons))\n",
    "    \n",
    "    return avg_acc, avg_num_comparisons"
   ]
  }
 ],
 "metadata": {
  "kernelspec": {
   "display_name": "mixture2",
   "language": "python",
   "name": "python3"
  },
  "language_info": {
   "codemirror_mode": {
    "name": "ipython",
    "version": 3
   },
   "file_extension": ".py",
   "mimetype": "text/x-python",
   "name": "python",
   "nbconvert_exporter": "python",
   "pygments_lexer": "ipython3",
   "version": "3.9.16"
  },
  "orig_nbformat": 4
 },
 "nbformat": 4,
 "nbformat_minor": 2
}
